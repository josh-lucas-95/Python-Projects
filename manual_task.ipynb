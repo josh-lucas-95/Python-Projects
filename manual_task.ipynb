{
 "cells": [
  {
   "cell_type": "code",
   "execution_count": 1,
   "id": "1d2a3b9a-7de3-4cf7-addd-7f30bc9fffe1",
   "metadata": {},
   "outputs": [],
   "source": [
    "#Bring in needed packages\n",
    "import datetime as dt\n",
    "import pandas as pd\n",
    "from pandas.tseries.offsets import MonthBegin\n",
    "\n",
    "import numpy as np\n",
    "import sqlite3\n",
    "\n",
    "import plotly.express as px\n",
    "from plotly.offline import plot, iplot, init_notebook_mode\n",
    "from IPython.display import HTML\n",
    "\n",
    "\n",
    "\n"
   ]
  },
  {
   "cell_type": "markdown",
   "id": "56af005f-017b-4abf-b0f6-a1c5332a8a7d",
   "metadata": {},
   "source": [
    "# First step exploration of Data and understanding datasets"
   ]
  },
  {
   "cell_type": "code",
   "execution_count": 2,
   "id": "7c503794-5c36-424b-bdd3-448328fc8317",
   "metadata": {},
   "outputs": [
    {
     "name": "stdout",
     "output_type": "stream",
     "text": [
      "(1140762, 2)\n",
      "Index(['CUSTOMER_ID', 'CUSTOMER_COUNTRY'], dtype='object')\n",
      "['ac4a2a81ecd58d11bca0e61bde3e97be' '2eb3649a35b9d70ccb3946071af5b3f9'\n",
      " '15992886b448e1ef51fa3b720aa0b3f6' ... '6c49cbc86f5be6840f3677292b9b5792'\n",
      " 'c2c0a9da18b6174bc3a5542f9924eac6' '69657de3bb507332b794d849c2720645']\n",
      "['Brazil' 'United Kingdom']\n",
      "1140762\n",
      "1140762\n"
     ]
    }
   ],
   "source": [
    "#Explore Customers dataset first\n",
    "\n",
    "customers = pd.read_csv('~/Downloads/customer.csv')\n",
    "\n",
    "print(customers.shape)\n",
    "print(customers.columns)\n",
    "for column in customers.columns:\n",
    "    print(customers[column].unique())\n",
    "\n",
    "print(customers['CUSTOMER_ID'].nunique())\n",
    "print(customers['CUSTOMER_ID'].count())\n",
    "\n",
    "#Only two columns - customer id and location.\n",
    "#All customer_ids are unique meaning we can join without issue\n",
    "#Location only two values"
   ]
  },
  {
   "cell_type": "code",
   "execution_count": 3,
   "id": "5c2a7cf1-c123-449d-baec-bf36287f9dea",
   "metadata": {},
   "outputs": [
    {
     "name": "stdout",
     "output_type": "stream",
     "text": [
      "(1140762, 2)\n",
      "Index(['CUSTOMER_ID', 'TAXONOMY_BUSINESS_CATEGORY_GROUP'], dtype='object')\n",
      "['dd146dbb03461a8ddeebf963ba64d3ee' '0ea8c224af27adc74f8e3f33ea4772aa'\n",
      " '4f165c207a10975490983d33e0d0ae52' ... '7ef07baaf55a52a9323c4ba8c04fdb93'\n",
      " '7b7036bb0ff1403076ac07069f485a06' 'c299b916facbf5c32a8656c5561c8c3c']\n",
      "['Hair Loss Group' 'Weight Loss Group' 'ED Group' 'Other Group'\n",
      " 'Sleep Group' 'TRT Group' nan 'Mental Health Group']\n",
      "1140762\n",
      "1140762\n"
     ]
    }
   ],
   "source": [
    "#Explore orders dataset next\n",
    "\n",
    "orders = pd.read_csv('~/Downloads/acq_order.csv')\n",
    "\n",
    "print(orders.shape)\n",
    "print(orders.columns)\n",
    "for column in orders.columns:\n",
    "    print(orders[column].unique())\n",
    "\n",
    "print(orders['CUSTOMER_ID'].nunique())\n",
    "print(orders['CUSTOMER_ID'].count())\n",
    "    \n",
    "\n",
    "#Only two columns - customer id and product. \n",
    "#Customer_id unique again allowing easy joins\n",
    "#Product has 7 options and Null Values"
   ]
  },
  {
   "cell_type": "code",
   "execution_count": 4,
   "id": "df101f99-5bf0-431d-a177-04b18de664c9",
   "metadata": {},
   "outputs": [
    {
     "name": "stdout",
     "output_type": "stream",
     "text": [
      "(7714042, 5)\n",
      "Index(['CUSTOMER_ID', 'SUBSCRIPTION_ID', 'FROM_DATE', 'TO_DATE', 'IS_ACTIVE'], dtype='object')\n",
      "                        CUSTOMER_ID                   SUBSCRIPTION_ID  \\\n",
      "0  02f7baf8fd6e0e64ab7fc8086f00d5dc  7a7a6010aab8af7c9be39a147318e308   \n",
      "1  ee15e5624c52047c366f4d78e16a9d38  659d310612ed7c9eccc044588bea158a   \n",
      "2  e5c1744e18ee06806b928a7b9129435f  9c4adb609c4f74bb8b0594550d6ef58a   \n",
      "3  ff10fa8b46156b3429369cbe66f3f1c4  05cb0e9f3d4dd6cd64c5b4f6383f553f   \n",
      "4  970eb7cd09ad84016491cb75d9eeb5f9  93f52fc53bde4ada81365d7c2acb0735   \n",
      "\n",
      "    FROM_DATE     TO_DATE  IS_ACTIVE  \n",
      "0  2023-12-29  2023-10-31       True  \n",
      "1  2023-06-03  2023-10-22       True  \n",
      "2  2023-04-25  2023-07-25       True  \n",
      "3  2022-02-06  2022-05-07       True  \n",
      "4  2020-04-02  2020-05-08       True  \n",
      "618618\n",
      "7714042\n"
     ]
    }
   ],
   "source": [
    "#Explore activity last\n",
    "\n",
    "activity = pd.read_csv('~/Downloads/activity.csv')\n",
    "\n",
    "print(activity.shape)\n",
    "print(activity.columns)\n",
    "# for column in activity.columns:\n",
    "#     print(activity[column].unique())\n",
    "\n",
    "print(activity.head())\n",
    "\n",
    "\n",
    "print(activity['CUSTOMER_ID'].nunique())\n",
    "print(activity['CUSTOMER_ID'].count())\n",
    "\n",
    "#Five columns - snapshot table showing the from_date and to_date of a particular subscription\n",
    "#Customers can have multiple products within a certain time period\n",
    "    \n"
   ]
  },
  {
   "cell_type": "code",
   "execution_count": 5,
   "id": "cd32b8bb-f597-471d-a357-b1d1f4a81471",
   "metadata": {},
   "outputs": [
    {
     "name": "stdout",
     "output_type": "stream",
     "text": [
      "                              CUSTOMER_ID                   SUBSCRIPTION_ID  \\\n",
      "4146061  211dcf4d9fd0a7693bfe8651fa66482c  0000104cd168386a335ba6bf6e32219d   \n",
      "3697419  211dcf4d9fd0a7693bfe8651fa66482c  0000104cd168386a335ba6bf6e32219d   \n",
      "7288391  211dcf4d9fd0a7693bfe8651fa66482c  0000104cd168386a335ba6bf6e32219d   \n",
      "2188191  211dcf4d9fd0a7693bfe8651fa66482c  0000104cd168386a335ba6bf6e32219d   \n",
      "497399   211dcf4d9fd0a7693bfe8651fa66482c  0000104cd168386a335ba6bf6e32219d   \n",
      "965849   211dcf4d9fd0a7693bfe8651fa66482c  0000104cd168386a335ba6bf6e32219d   \n",
      "4511074  211dcf4d9fd0a7693bfe8651fa66482c  0000104cd168386a335ba6bf6e32219d   \n",
      "103238   211dcf4d9fd0a7693bfe8651fa66482c  0000104cd168386a335ba6bf6e32219d   \n",
      "375876   211dcf4d9fd0a7693bfe8651fa66482c  0000104cd168386a335ba6bf6e32219d   \n",
      "5343358  211dcf4d9fd0a7693bfe8651fa66482c  0000104cd168386a335ba6bf6e32219d   \n",
      "502998   211dcf4d9fd0a7693bfe8651fa66482c  0000104cd168386a335ba6bf6e32219d   \n",
      "7426457  211dcf4d9fd0a7693bfe8651fa66482c  0000104cd168386a335ba6bf6e32219d   \n",
      "1028098  211dcf4d9fd0a7693bfe8651fa66482c  0000104cd168386a335ba6bf6e32219d   \n",
      "\n",
      "          FROM_DATE     TO_DATE  IS_ACTIVE  \n",
      "4146061  2023-05-20  2023-10-31       True  \n",
      "3697419  2023-11-01  2023-11-09       True  \n",
      "7288391  2023-11-09  2023-11-14       True  \n",
      "2188191  2023-11-14  2023-12-16       True  \n",
      "497399   2023-12-16  2024-02-07       True  \n",
      "965849   2024-02-07  2024-02-14       True  \n",
      "4511074  2024-02-14  2024-02-14       True  \n",
      "103238   2024-02-14  2024-02-16       True  \n",
      "375876   2024-02-16  2024-02-16      False  \n",
      "5343358  2024-02-16  2024-03-03       True  \n",
      "502998   2024-03-03  2024-03-10       True  \n",
      "7426457  2024-03-10  2024-05-06       True  \n",
      "1028098  2024-05-06         NaN      False  \n"
     ]
    }
   ],
   "source": [
    "#Explore activity for a user with lots of rows. \n",
    "frequent_users = activity.IS_ACTIVE.value_counts() > 1\n",
    "# print(frequent_users)\n",
    "\n",
    "\n",
    "## It looks like a single subscription_id can appear multiple times on the same day. \n",
    "## It's clear that the activity dataset needs some cleaning.\n",
    "\n",
    "print(activity[activity['SUBSCRIPTION_ID'] =='0000104cd168386a335ba6bf6e32219d'].sort_values(['FROM_DATE', 'TO_DATE']))\n",
    "\n",
    "## Sort by from_date, to_date \n",
    "## Check if next day is more than current day and drop if so.\n",
    "## "
   ]
  },
  {
   "cell_type": "markdown",
   "id": "db252a29-8345-4f0e-8e71-dddcbc5073dc",
   "metadata": {},
   "source": [
    "# Data Cleansing \n",
    "\n",
    "### We need to do a few steps to clean up the activity data so that it can be joined easily\n",
    "### Remove any records which occur on the same day - we will take the latest data for each day \n",
    "### Once multiple records for same day we can join to customers/orders to get product and region splits\n",
    "### These would be the final tables as saved in the warehouse - cleaned and each showing a particular purpose. One for activity and one for customers. I will then join them together and create the measures we need in the next step."
   ]
  },
  {
   "cell_type": "code",
   "execution_count": 6,
   "id": "e52b528d-a1bb-4d9c-8fd9-a790dfa7226d",
   "metadata": {},
   "outputs": [
    {
     "data": {
      "text/html": [
       "<div>\n",
       "<style scoped>\n",
       "    .dataframe tbody tr th:only-of-type {\n",
       "        vertical-align: middle;\n",
       "    }\n",
       "\n",
       "    .dataframe tbody tr th {\n",
       "        vertical-align: top;\n",
       "    }\n",
       "\n",
       "    .dataframe thead th {\n",
       "        text-align: right;\n",
       "    }\n",
       "</style>\n",
       "<table border=\"1\" class=\"dataframe\">\n",
       "  <thead>\n",
       "    <tr style=\"text-align: right;\">\n",
       "      <th></th>\n",
       "      <th>CUSTOMER_ID</th>\n",
       "      <th>SUBSCRIPTION_ID</th>\n",
       "      <th>FROM_DATE</th>\n",
       "      <th>TO_DATE</th>\n",
       "      <th>IS_ACTIVE</th>\n",
       "      <th>SHIFTED_FROM_DATE</th>\n",
       "    </tr>\n",
       "  </thead>\n",
       "  <tbody>\n",
       "    <tr>\n",
       "      <th>6825551</th>\n",
       "      <td>b2414c169b65b7d486a36170d0721cbc</td>\n",
       "      <td>2848c23f79860a09ad62084f730e43ef</td>\n",
       "      <td>2024-02-15</td>\n",
       "      <td>2024-02-16</td>\n",
       "      <td>False</td>\n",
       "      <td>2024-02-16</td>\n",
       "    </tr>\n",
       "    <tr>\n",
       "      <th>1591618</th>\n",
       "      <td>b2414c169b65b7d486a36170d0721cbc</td>\n",
       "      <td>2848c23f79860a09ad62084f730e43ef</td>\n",
       "      <td>2024-02-16</td>\n",
       "      <td>2024-02-17</td>\n",
       "      <td>False</td>\n",
       "      <td>2024-02-17</td>\n",
       "    </tr>\n",
       "    <tr>\n",
       "      <th>7683659</th>\n",
       "      <td>b2414c169b65b7d486a36170d0721cbc</td>\n",
       "      <td>2848c23f79860a09ad62084f730e43ef</td>\n",
       "      <td>2024-02-17</td>\n",
       "      <td>2024-02-18</td>\n",
       "      <td>False</td>\n",
       "      <td>2024-02-18</td>\n",
       "    </tr>\n",
       "    <tr>\n",
       "      <th>420689</th>\n",
       "      <td>b2414c169b65b7d486a36170d0721cbc</td>\n",
       "      <td>2848c23f79860a09ad62084f730e43ef</td>\n",
       "      <td>2024-02-18</td>\n",
       "      <td>2024-02-19</td>\n",
       "      <td>False</td>\n",
       "      <td>2024-02-19</td>\n",
       "    </tr>\n",
       "    <tr>\n",
       "      <th>2412655</th>\n",
       "      <td>b2414c169b65b7d486a36170d0721cbc</td>\n",
       "      <td>2848c23f79860a09ad62084f730e43ef</td>\n",
       "      <td>2024-02-19</td>\n",
       "      <td>2024-02-20</td>\n",
       "      <td>False</td>\n",
       "      <td>2024-02-20</td>\n",
       "    </tr>\n",
       "  </tbody>\n",
       "</table>\n",
       "</div>"
      ],
      "text/plain": [
       "                              CUSTOMER_ID                   SUBSCRIPTION_ID  \\\n",
       "6825551  b2414c169b65b7d486a36170d0721cbc  2848c23f79860a09ad62084f730e43ef   \n",
       "1591618  b2414c169b65b7d486a36170d0721cbc  2848c23f79860a09ad62084f730e43ef   \n",
       "7683659  b2414c169b65b7d486a36170d0721cbc  2848c23f79860a09ad62084f730e43ef   \n",
       "420689   b2414c169b65b7d486a36170d0721cbc  2848c23f79860a09ad62084f730e43ef   \n",
       "2412655  b2414c169b65b7d486a36170d0721cbc  2848c23f79860a09ad62084f730e43ef   \n",
       "\n",
       "          FROM_DATE     TO_DATE  IS_ACTIVE SHIFTED_FROM_DATE  \n",
       "6825551  2024-02-15  2024-02-16      False        2024-02-16  \n",
       "1591618  2024-02-16  2024-02-17      False        2024-02-17  \n",
       "7683659  2024-02-17  2024-02-18      False        2024-02-18  \n",
       "420689   2024-02-18  2024-02-19      False        2024-02-19  \n",
       "2412655  2024-02-19  2024-02-20      False        2024-02-20  "
      ]
     },
     "execution_count": 6,
     "metadata": {},
     "output_type": "execute_result"
    }
   ],
   "source": [
    "# # Order by start_date/to_date so that dataset is orderered correctly\n",
    "activity = activity.sort_values(['FROM_DATE', 'TO_DATE'])\n",
    "\n",
    "# # Do a lead function to get the next FROM_DATE over the subscription_id\n",
    "activity['SHIFTED_FROM_DATE'] = activity.groupby('SUBSCRIPTION_ID')['FROM_DATE'].shift(-1)\n",
    "\n",
    "# # Drop records that start on same date as next row \n",
    "activity_dropped =activity[activity['FROM_DATE'] != activity['SHIFTED_FROM_DATE']]\n",
    "\n",
    "activity_dropped[activity_dropped['SUBSCRIPTION_ID'] == '2848c23f79860a09ad62084f730e43ef'].head()\n"
   ]
  },
  {
   "cell_type": "code",
   "execution_count": 7,
   "id": "ce330d57-3f90-4eba-8728-6dd3dec9c1d3",
   "metadata": {},
   "outputs": [
    {
     "name": "stderr",
     "output_type": "stream",
     "text": [
      "/var/folders/3w/9mjb7xvj25g6gp3jvgwgtp400000gn/T/ipykernel_4256/1441145782.py:3: SettingWithCopyWarning:\n",
      "\n",
      "\n",
      "A value is trying to be set on a copy of a slice from a DataFrame.\n",
      "Try using .loc[row_indexer,col_indexer] = value instead\n",
      "\n",
      "See the caveats in the documentation: https://pandas.pydata.org/pandas-docs/stable/user_guide/indexing.html#returning-a-view-versus-a-copy\n",
      "\n",
      "/var/folders/3w/9mjb7xvj25g6gp3jvgwgtp400000gn/T/ipykernel_4256/1441145782.py:5: SettingWithCopyWarning:\n",
      "\n",
      "\n",
      "A value is trying to be set on a copy of a slice from a DataFrame.\n",
      "Try using .loc[row_indexer,col_indexer] = value instead\n",
      "\n",
      "See the caveats in the documentation: https://pandas.pydata.org/pandas-docs/stable/user_guide/indexing.html#returning-a-view-versus-a-copy\n",
      "\n",
      "/var/folders/3w/9mjb7xvj25g6gp3jvgwgtp400000gn/T/ipykernel_4256/1441145782.py:10: SettingWithCopyWarning:\n",
      "\n",
      "\n",
      "A value is trying to be set on a copy of a slice from a DataFrame.\n",
      "Try using .loc[row_indexer,col_indexer] = value instead\n",
      "\n",
      "See the caveats in the documentation: https://pandas.pydata.org/pandas-docs/stable/user_guide/indexing.html#returning-a-view-versus-a-copy\n",
      "\n",
      "/var/folders/3w/9mjb7xvj25g6gp3jvgwgtp400000gn/T/ipykernel_4256/1441145782.py:14: SettingWithCopyWarning:\n",
      "\n",
      "\n",
      "A value is trying to be set on a copy of a slice from a DataFrame.\n",
      "Try using .loc[row_indexer,col_indexer] = value instead\n",
      "\n",
      "See the caveats in the documentation: https://pandas.pydata.org/pandas-docs/stable/user_guide/indexing.html#returning-a-view-versus-a-copy\n",
      "\n"
     ]
    }
   ],
   "source": [
    "## Now we should reduce the rows to only those where theres actually a valid change \n",
    "\n",
    "activity_dropped['SHIFTED_IS_ACTIVE'] = activity_dropped.groupby('SUBSCRIPTION_ID')['IS_ACTIVE'].shift(1)\n",
    "\n",
    "activity_dropped['CHANGE_FLAG'] = activity_dropped['IS_ACTIVE'] != activity_dropped['SHIFTED_IS_ACTIVE']\n",
    "\n",
    "activity_cleaned = activity_dropped[(activity_dropped['CHANGE_FLAG'])]\n",
    "\n",
    "# Replace original to_date with lead function \n",
    "activity_cleaned['TO_DATE'] = activity_cleaned.groupby('SUBSCRIPTION_ID')['FROM_DATE'].shift(-1)\n",
    "\n",
    "# Replace NULL to_date with current_date \n",
    "current_date  = dt.datetime.today().strftime('%Y-%m-%d')\n",
    "activity_cleaned['TO_DATE'] = activity_cleaned['TO_DATE'].fillna(current_date)\n",
    "\n",
    "activity_final = activity_cleaned.drop(columns = ['SHIFTED_FROM_DATE', 'SHIFTED_IS_ACTIVE', 'CHANGE_FLAG'])\n",
    "\n",
    "activity_final.to_csv('activity_cleaned.csv')\n"
   ]
  },
  {
   "cell_type": "code",
   "execution_count": 8,
   "id": "804ce905-419a-467c-8a3e-9c522caf262c",
   "metadata": {},
   "outputs": [],
   "source": [
    "## Create customer table with enhanced metrics \n",
    "\n",
    "customers_enhanced = customers.join(orders.set_index('CUSTOMER_ID'), on='CUSTOMER_ID', how='left')\n",
    "\n",
    "# Get other dimensions for customers table from orders table \n",
    "customer_join_date = activity_final.groupby('CUSTOMER_ID').FROM_DATE.agg('min')\n",
    "customers_enhanced = customers_enhanced.join(customer_join_date, on='CUSTOMER_ID', how='left')\n",
    "\n",
    "customer_subscription_count = activity_final.groupby('CUSTOMER_ID').SUBSCRIPTION_ID.agg(pd.Series.nunique)\n",
    "customers_enhanced = customers_enhanced.join(customer_subscription_count, on='CUSTOMER_ID', how='left')\n",
    "\n",
    "\n",
    "customers_enhanced = customers_enhanced.rename(columns={\"FROM_DATE\": \"CUSTOMER_FIRST_ACTIVE_DATE\",\"SUBSCRIPTION_ID\": \"CUSTOMER_SUBSCRIPTION_COUNT\"} )\n",
    "\n",
    "customers_enhanced.to_csv('customers_enhanced_dimension_table.csv')\n"
   ]
  },
  {
   "cell_type": "code",
   "execution_count": 9,
   "id": "2d04a481-0f09-410d-85ca-e461a9ef3b02",
   "metadata": {},
   "outputs": [],
   "source": [
    "# Finally create a date table which can be used in BI layer for joining purposes. \n",
    "\n",
    "earliest_customer_join_date = activity_final['FROM_DATE'].agg('min')\n",
    "date_range = pd.DataFrame({'CALENDAR_MONTH':pd.date_range(start=earliest_customer_join_date,end='2024-08-01', freq='MS')})\n",
    "date_range['NEXT_CALENDAR_MONTH'] = date_range['CALENDAR_MONTH'].shift(-1)\n",
    "date_range.to_csv('date_table.csv')\n"
   ]
  },
  {
   "cell_type": "markdown",
   "id": "617a4588-aa5e-4c9e-80a1-c317a99c9caa",
   "metadata": {},
   "source": [
    "# Creating BI Visualisation Layer\n",
    "\n",
    "### Here we join together the cleaned tables and create a view for reporting purposes"
   ]
  },
  {
   "cell_type": "code",
   "execution_count": 10,
   "id": "471e4377-7f1b-4dba-ac6e-ca4f5d9286e6",
   "metadata": {},
   "outputs": [
    {
     "data": {
      "text/plain": [
       "<sqlite3.Cursor at 0x2fc25ebc0>"
      ]
     },
     "execution_count": 10,
     "metadata": {},
     "output_type": "execute_result"
    }
   ],
   "source": [
    "#Joining on the day is causing memory issues so we will have to do a monthly view\n",
    "\n",
    "activity_final['TO_DATE_MONTH'] = pd.to_datetime(activity_final['TO_DATE']) - pd.offsets.MonthEnd(0) - MonthBegin(1)\n",
    "activity_final['FROM_DATE_MONTH'] = pd.to_datetime(activity_final['FROM_DATE']) - pd.offsets.MonthEnd(0)  - MonthBegin(1)\n",
    "customers_enhanced['CUSTOMER_FIRST_ACTIVE_MONTH'] = pd.to_datetime(customers_enhanced['CUSTOMER_FIRST_ACTIVE_DATE']) - pd.offsets.MonthEnd(0)  - MonthBegin(1)\n",
    "\n",
    "\n",
    "\n",
    "#Make the db in memory\n",
    "conn = sqlite3.connect(':memory:')\n",
    "#write the tables\n",
    "date_range.to_sql('date_range', conn, index=False)\n",
    "activity_final.to_sql('activity', conn, index=False)\n",
    "customers_enhanced.to_sql('customers', conn, index=False)\n",
    "\n",
    "sql2 = \"CREATE INDEX todate_idx ON activity (TO_DATE);\"\n",
    "conn.execute(sql2)\n",
    "sql3 = \"CREATE INDEX fromdate_idx ON activity (FROM_DATE);\"\n",
    "conn.execute(sql3)\n",
    "\n"
   ]
  },
  {
   "cell_type": "code",
   "execution_count": null,
   "id": "6011149a-b98e-4d6e-aa19-bdb9137dd94a",
   "metadata": {},
   "outputs": [],
   "source": [
    "#Joining on day is causing memory issues so lets aggregate to weekly performance.\n",
    "sqlcode = '''\n",
    "   SELECT\n",
    "       activity.*\n",
    "       , customers.TAXONOMY_BUSINESS_CATEGORY_GROUP\n",
    "       , customers.CUSTOMER_FIRST_ACTIVE_MONTH\n",
    "       , customers.CUSTOMER_SUBSCRIPTION_COUNT\n",
    "   FROM activity\n",
    "   LEFT JOIN customers \n",
    "       ON activity.customer_id = customers.customer_id\n",
    "    WHERE IS_ACTIVE\n",
    "'''\n",
    "\n",
    "test_table = pd.read_sql_query(sqlcode, conn)\n",
    "test_table\n",
    "test_table.to_sql('activity_filtered', conn, index=False)"
   ]
  },
  {
   "cell_type": "code",
   "execution_count": null,
   "id": "852a4c1b-d098-4e74-9c1e-f17bbc625648",
   "metadata": {},
   "outputs": [],
   "source": [
    "sqlcode = '''\n",
    "    WITH activity_filtered_further AS (\n",
    "        SELECT \n",
    "            TO_DATE_MONTH\n",
    "            , FROM_DATE_MONTH\n",
    "            , TAXONOMY_BUSINESS_CATEGORY_GROUP\n",
    "            , CUSTOMER_FIRST_ACTIVE_MONTH\n",
    "            , CUSTOMER_ID\n",
    "        FROM activity_filtered\n",
    "        GROUP BY 1,2,3,4,5\n",
    "    )\n",
    "    SELECT\n",
    "       date_range.CALENDAR_MONTH\n",
    "       , TAXONOMY_BUSINESS_CATEGORY_GROUP\n",
    "       , CUSTOMER_FIRST_ACTIVE_MONTH\n",
    "       , CUSTOMER_ID\n",
    "   FROM date_range\n",
    "   LEFT JOIN activity_filtered_further \n",
    "       -- gives people active over month\n",
    "        ON (date_range.CALENDAR_MONTH <= activity_filtered_further.TO_DATE_MONTH\n",
    "        AND date_range.CALENDAR_MONTH >= activity_filtered_further.FROM_DATE_MONTH) \n",
    "    GROUP BY 1,2,3,4\n",
    "      '''\n",
    "\n",
    "\n",
    "final_table = pd.read_sql_query(sqlcode, conn)\n",
    "final_table\n"
   ]
  },
  {
   "cell_type": "code",
   "execution_count": null,
   "id": "440b83e3-8c98-4346-b389-7edf65637bd8",
   "metadata": {},
   "outputs": [],
   "source": [
    "# Get month difference for charts\n",
    "final_table['MONTH_DIFFERENCE'] = round((pd.to_datetime(final_table.CALENDAR_MONTH) - pd.to_datetime(final_table.CUSTOMER_FIRST_ACTIVE_MONTH)) / np.timedelta64(1, 'D')/30)\n",
    "final_table"
   ]
  },
  {
   "cell_type": "code",
   "execution_count": null,
   "id": "f507c086-9a4c-43db-9d22-a0878a2eb9d6",
   "metadata": {},
   "outputs": [],
   "source": [
    "##Draw some retention curves for easy analysis across products\n",
    "\n",
    "taxonomy_grouping = final_table.groupby(by=[\"TAXONOMY_BUSINESS_CATEGORY_GROUP\", \"MONTH_DIFFERENCE\"], dropna=False).CUSTOMER_ID.nunique()\n",
    "taxonomy_grouping = taxonomy_grouping.reset_index()\n",
    "# taxonomy_grouping\n",
    "fig = px.line(taxonomy_grouping, x=\"MONTH_DIFFERENCE\", y=\"CUSTOMER_ID\", color='TAXONOMY_BUSINESS_CATEGORY_GROUP')\n",
    "# Save the figure locally\n",
    "fig.write_html(\"my_visualization.html\")\n",
    "# Show the figure\n",
    "HTML(filename=\"my_visualization.html\")\n",
    "\n",
    "\n",
    "taxonomy_grouping['Percentage_Retained'] = taxonomy_grouping['CUSTOMER_ID'] / taxonomy_grouping.groupby('TAXONOMY_BUSINESS_CATEGORY_GROUP')['CUSTOMER_ID'].transform('max')\n",
    "fig = px.line(taxonomy_grouping, x=\"MONTH_DIFFERENCE\", y=\"Percentage_Retained\", color='TAXONOMY_BUSINESS_CATEGORY_GROUP' , title=\"Retention Curves by Month with % of Total\")\n",
    "fig.update_layout(yaxis_tickformat=\".2%\")\n",
    "# Save the figure locally\n",
    "fig.write_html(\"my_visualization.html\")\n",
    "# Show the figure\n",
    "HTML(filename=\"my_visualization.html\")\n"
   ]
  },
  {
   "cell_type": "code",
   "execution_count": null,
   "id": "22f935e7-6e15-4fe8-aeca-a9b25b1558fe",
   "metadata": {},
   "outputs": [],
   "source": [
    "# Lets have a look at \n",
    "\n",
    "month_grouping = final_table.groupby(by=[\"CUSTOMER_FIRST_ACTIVE_MONTH\", \"MONTH_DIFFERENCE\"], dropna=False).CUSTOMER_ID.nunique()\n",
    "month_grouping = month_grouping.reset_index()\n",
    "fig = px.line(month_grouping, x=\"MONTH_DIFFERENCE\", y=\"CUSTOMER_ID\", color='CUSTOMER_FIRST_ACTIVE_MONTH')\n",
    "fig.show()\n"
   ]
  },
  {
   "cell_type": "code",
   "execution_count": null,
   "id": "2bf9a02a-0920-42f7-84c2-71bd7382c0f4",
   "metadata": {},
   "outputs": [],
   "source": [
    "\n",
    "##Draw some retention curves for easy analysis across cohorts\n",
    "\n",
    "## Just show last year for cleaner retention curves \n",
    "month_grouping = month_grouping[month_grouping['CUSTOMER_FIRST_ACTIVE_MONTH'] >= '2023-08-01 00:00:00']\n",
    "fig = px.line(month_grouping, x=\"MONTH_DIFFERENCE\", y=\"CUSTOMER_ID\", color='CUSTOMER_FIRST_ACTIVE_MONTH', title=\"Retention Curves by Month with Customer Count\")\n",
    "# Save the figure locally\n",
    "fig.write_html(\"my_visualization.html\")\n",
    "# Show the figure\n",
    "HTML(filename=\"my_visualization.html\")\n",
    "\n",
    "\n",
    "month_grouping['Percentage_Retained'] = month_grouping['CUSTOMER_ID'] / month_grouping.groupby('CUSTOMER_FIRST_ACTIVE_MONTH')['CUSTOMER_ID'].transform('max')\n",
    "fig = px.line(month_grouping, x=\"MONTH_DIFFERENCE\", y=\"Percentage_Retained\", color='CUSTOMER_FIRST_ACTIVE_MONTH' , title=\"Retention Curves by Month with % of Total\")\n",
    "fig.update_layout(yaxis_tickformat=\".2%\")# Save the figure locally\n",
    "fig.write_html(\"my_visualization.html\")\n",
    "# Show the figure\n",
    "HTML(filename=\"my_visualization.html\")\n"
   ]
  },
  {
   "cell_type": "code",
   "execution_count": null,
   "id": "40ec03ed-05b6-40dc-a286-13b44b50939c",
   "metadata": {},
   "outputs": [],
   "source": []
  }
 ],
 "metadata": {
  "kernelspec": {
   "display_name": "Python 3 (ipykernel)",
   "language": "python",
   "name": "python3"
  },
  "language_info": {
   "codemirror_mode": {
    "name": "ipython",
    "version": 3
   },
   "file_extension": ".py",
   "mimetype": "text/x-python",
   "name": "python",
   "nbconvert_exporter": "python",
   "pygments_lexer": "ipython3",
   "version": "3.12.1"
  }
 },
 "nbformat": 4,
 "nbformat_minor": 5
}
