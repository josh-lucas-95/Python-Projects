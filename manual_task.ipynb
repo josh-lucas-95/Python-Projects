{
 "cells": [
  {
   "cell_type": "code",
   "execution_count": 31,
   "id": "1d2a3b9a-7de3-4cf7-addd-7f30bc9fffe1",
   "metadata": {},
   "outputs": [],
   "source": [
    "#Bring in needed packages\n",
    "import datetime as dt\n",
    "import pandas as pd\n",
    "from pandas.tseries.offsets import MonthBegin\n",
    "\n",
    "import numpy as np\n",
    "import sqlite3\n",
    "\n",
    "import plotly.express as px\n",
    "\n",
    "\n"
   ]
  },
  {
   "cell_type": "markdown",
   "id": "56af005f-017b-4abf-b0f6-a1c5332a8a7d",
   "metadata": {},
   "source": [
    "# First step exploration of Data and understanding datasets"
   ]
  },
  {
   "cell_type": "code",
   "execution_count": 98,
   "id": "7c503794-5c36-424b-bdd3-448328fc8317",
   "metadata": {},
   "outputs": [
    {
     "name": "stdout",
     "output_type": "stream",
     "text": [
      "(1140762, 2)\n",
      "Index(['CUSTOMER_ID', 'CUSTOMER_COUNTRY'], dtype='object')\n",
      "['ac4a2a81ecd58d11bca0e61bde3e97be' '2eb3649a35b9d70ccb3946071af5b3f9'\n",
      " '15992886b448e1ef51fa3b720aa0b3f6' ... '6c49cbc86f5be6840f3677292b9b5792'\n",
      " 'c2c0a9da18b6174bc3a5542f9924eac6' '69657de3bb507332b794d849c2720645']\n",
      "['Brazil' 'United Kingdom']\n",
      "1140762\n",
      "1140762\n"
     ]
    }
   ],
   "source": [
    "#Explore Customers dataset first\n",
    "\n",
    "customers = pd.read_csv('~/Downloads/customer.csv')\n",
    "\n",
    "print(customers.shape)\n",
    "print(customers.columns)\n",
    "for column in customers.columns:\n",
    "    print(customers[column].unique())\n",
    "\n",
    "print(customers['CUSTOMER_ID'].nunique())\n",
    "print(customers['CUSTOMER_ID'].count())\n",
    "\n",
    "#Only two columns - customer id and location.\n",
    "#All customer_ids are unique meaning we can join without issue\n",
    "#Location only two values"
   ]
  },
  {
   "cell_type": "code",
   "execution_count": 99,
   "id": "5c2a7cf1-c123-449d-baec-bf36287f9dea",
   "metadata": {},
   "outputs": [
    {
     "name": "stdout",
     "output_type": "stream",
     "text": [
      "(1140762, 2)\n",
      "Index(['CUSTOMER_ID', 'TAXONOMY_BUSINESS_CATEGORY_GROUP'], dtype='object')\n",
      "['dd146dbb03461a8ddeebf963ba64d3ee' '0ea8c224af27adc74f8e3f33ea4772aa'\n",
      " '4f165c207a10975490983d33e0d0ae52' ... '7ef07baaf55a52a9323c4ba8c04fdb93'\n",
      " '7b7036bb0ff1403076ac07069f485a06' 'c299b916facbf5c32a8656c5561c8c3c']\n",
      "['Hair Loss Group' 'Weight Loss Group' 'ED Group' 'Other Group'\n",
      " 'Sleep Group' 'TRT Group' nan 'Mental Health Group']\n",
      "1140762\n",
      "1140762\n"
     ]
    }
   ],
   "source": [
    "#Explore orders dataset next\n",
    "\n",
    "orders = pd.read_csv('~/Downloads/acq_order.csv')\n",
    "\n",
    "print(orders.shape)\n",
    "print(orders.columns)\n",
    "for column in orders.columns:\n",
    "    print(orders[column].unique())\n",
    "\n",
    "print(orders['CUSTOMER_ID'].nunique())\n",
    "print(orders['CUSTOMER_ID'].count())\n",
    "    \n",
    "\n",
    "#Only two columns - customer id and product. \n",
    "#Customer_id unique again allowing easy joins\n",
    "#Product has 7 options and Null Values"
   ]
  },
  {
   "cell_type": "code",
   "execution_count": 100,
   "id": "df101f99-5bf0-431d-a177-04b18de664c9",
   "metadata": {},
   "outputs": [
    {
     "name": "stdout",
     "output_type": "stream",
     "text": [
      "(7714042, 5)\n",
      "Index(['CUSTOMER_ID', 'SUBSCRIPTION_ID', 'FROM_DATE', 'TO_DATE', 'IS_ACTIVE'], dtype='object')\n",
      "                        CUSTOMER_ID                   SUBSCRIPTION_ID  \\\n",
      "0  02f7baf8fd6e0e64ab7fc8086f00d5dc  7a7a6010aab8af7c9be39a147318e308   \n",
      "1  ee15e5624c52047c366f4d78e16a9d38  659d310612ed7c9eccc044588bea158a   \n",
      "2  e5c1744e18ee06806b928a7b9129435f  9c4adb609c4f74bb8b0594550d6ef58a   \n",
      "3  ff10fa8b46156b3429369cbe66f3f1c4  05cb0e9f3d4dd6cd64c5b4f6383f553f   \n",
      "4  970eb7cd09ad84016491cb75d9eeb5f9  93f52fc53bde4ada81365d7c2acb0735   \n",
      "\n",
      "    FROM_DATE     TO_DATE  IS_ACTIVE  \n",
      "0  2023-12-29  2023-10-31       True  \n",
      "1  2023-06-03  2023-10-22       True  \n",
      "2  2023-04-25  2023-07-25       True  \n",
      "3  2022-02-06  2022-05-07       True  \n",
      "4  2020-04-02  2020-05-08       True  \n",
      "618618\n",
      "7714042\n"
     ]
    }
   ],
   "source": [
    "#Explore activity last\n",
    "\n",
    "activity = pd.read_csv('~/Downloads/activity.csv')\n",
    "\n",
    "print(activity.shape)\n",
    "print(activity.columns)\n",
    "# for column in activity.columns:\n",
    "#     print(activity[column].unique())\n",
    "\n",
    "print(activity.head())\n",
    "\n",
    "\n",
    "print(activity['CUSTOMER_ID'].nunique())\n",
    "print(activity['CUSTOMER_ID'].count())\n",
    "\n",
    "#Five columns - snapshot table showing the from_date and to_date of a particular subscription\n",
    "#Customers can have multiple products within a certain time period\n",
    "    \n"
   ]
  },
  {
   "cell_type": "code",
   "execution_count": 101,
   "id": "cd32b8bb-f597-471d-a357-b1d1f4a81471",
   "metadata": {},
   "outputs": [
    {
     "name": "stdout",
     "output_type": "stream",
     "text": [
      "                              CUSTOMER_ID                   SUBSCRIPTION_ID  \\\n",
      "4146061  211dcf4d9fd0a7693bfe8651fa66482c  0000104cd168386a335ba6bf6e32219d   \n",
      "3697419  211dcf4d9fd0a7693bfe8651fa66482c  0000104cd168386a335ba6bf6e32219d   \n",
      "7288391  211dcf4d9fd0a7693bfe8651fa66482c  0000104cd168386a335ba6bf6e32219d   \n",
      "2188191  211dcf4d9fd0a7693bfe8651fa66482c  0000104cd168386a335ba6bf6e32219d   \n",
      "497399   211dcf4d9fd0a7693bfe8651fa66482c  0000104cd168386a335ba6bf6e32219d   \n",
      "965849   211dcf4d9fd0a7693bfe8651fa66482c  0000104cd168386a335ba6bf6e32219d   \n",
      "4511074  211dcf4d9fd0a7693bfe8651fa66482c  0000104cd168386a335ba6bf6e32219d   \n",
      "103238   211dcf4d9fd0a7693bfe8651fa66482c  0000104cd168386a335ba6bf6e32219d   \n",
      "375876   211dcf4d9fd0a7693bfe8651fa66482c  0000104cd168386a335ba6bf6e32219d   \n",
      "5343358  211dcf4d9fd0a7693bfe8651fa66482c  0000104cd168386a335ba6bf6e32219d   \n",
      "502998   211dcf4d9fd0a7693bfe8651fa66482c  0000104cd168386a335ba6bf6e32219d   \n",
      "7426457  211dcf4d9fd0a7693bfe8651fa66482c  0000104cd168386a335ba6bf6e32219d   \n",
      "1028098  211dcf4d9fd0a7693bfe8651fa66482c  0000104cd168386a335ba6bf6e32219d   \n",
      "\n",
      "          FROM_DATE     TO_DATE  IS_ACTIVE  \n",
      "4146061  2023-05-20  2023-10-31       True  \n",
      "3697419  2023-11-01  2023-11-09       True  \n",
      "7288391  2023-11-09  2023-11-14       True  \n",
      "2188191  2023-11-14  2023-12-16       True  \n",
      "497399   2023-12-16  2024-02-07       True  \n",
      "965849   2024-02-07  2024-02-14       True  \n",
      "4511074  2024-02-14  2024-02-14       True  \n",
      "103238   2024-02-14  2024-02-16       True  \n",
      "375876   2024-02-16  2024-02-16      False  \n",
      "5343358  2024-02-16  2024-03-03       True  \n",
      "502998   2024-03-03  2024-03-10       True  \n",
      "7426457  2024-03-10  2024-05-06       True  \n",
      "1028098  2024-05-06         NaN      False  \n"
     ]
    }
   ],
   "source": [
    "#Explore activity for a user with lots of rows. \n",
    "frequent_users = activity.IS_ACTIVE.value_counts() > 1\n",
    "# print(frequent_users)\n",
    "\n",
    "\n",
    "## It looks like a single subscription_id can appear multiple times on the same day. \n",
    "## It's clear that the activity dataset needs some cleaning.\n",
    "\n",
    "print(activity[activity['SUBSCRIPTION_ID'] =='0000104cd168386a335ba6bf6e32219d'].sort_values(['FROM_DATE', 'TO_DATE']))\n",
    "\n",
    "## Sort by from_date, to_date \n",
    "## Check if next day is more than current day and drop if so."
   ]
  },
  {
   "cell_type": "markdown",
   "id": "db252a29-8345-4f0e-8e71-dddcbc5073dc",
   "metadata": {},
   "source": [
    "# Data Cleansing \n",
    "\n",
    "### We need to do a few steps to clean up the activity data so that it can be joined easily\n",
    "### Remove any records which occur on the same day - we will take the latest data for each day \n",
    "### Once multiple records for same day we can join to customers/orders to get product and region splits\n",
    "### These would be the final tables as saved in the warehouse - cleaned and each showing a particular purpose. One for activity and one for customers. I will then join them together and create the measures we need in the next step."
   ]
  },
  {
   "cell_type": "code",
   "execution_count": 102,
   "id": "e52b528d-a1bb-4d9c-8fd9-a790dfa7226d",
   "metadata": {},
   "outputs": [
    {
     "data": {
      "text/html": [
       "<div>\n",
       "<style scoped>\n",
       "    .dataframe tbody tr th:only-of-type {\n",
       "        vertical-align: middle;\n",
       "    }\n",
       "\n",
       "    .dataframe tbody tr th {\n",
       "        vertical-align: top;\n",
       "    }\n",
       "\n",
       "    .dataframe thead th {\n",
       "        text-align: right;\n",
       "    }\n",
       "</style>\n",
       "<table border=\"1\" class=\"dataframe\">\n",
       "  <thead>\n",
       "    <tr style=\"text-align: right;\">\n",
       "      <th></th>\n",
       "      <th>CUSTOMER_ID</th>\n",
       "      <th>SUBSCRIPTION_ID</th>\n",
       "      <th>FROM_DATE</th>\n",
       "      <th>TO_DATE</th>\n",
       "      <th>IS_ACTIVE</th>\n",
       "      <th>SHIFTED_FROM_DATE</th>\n",
       "    </tr>\n",
       "  </thead>\n",
       "  <tbody>\n",
       "    <tr>\n",
       "      <th>6825551</th>\n",
       "      <td>b2414c169b65b7d486a36170d0721cbc</td>\n",
       "      <td>2848c23f79860a09ad62084f730e43ef</td>\n",
       "      <td>2024-02-15</td>\n",
       "      <td>2024-02-16</td>\n",
       "      <td>False</td>\n",
       "      <td>2024-02-16</td>\n",
       "    </tr>\n",
       "    <tr>\n",
       "      <th>1591618</th>\n",
       "      <td>b2414c169b65b7d486a36170d0721cbc</td>\n",
       "      <td>2848c23f79860a09ad62084f730e43ef</td>\n",
       "      <td>2024-02-16</td>\n",
       "      <td>2024-02-17</td>\n",
       "      <td>False</td>\n",
       "      <td>2024-02-17</td>\n",
       "    </tr>\n",
       "    <tr>\n",
       "      <th>7683659</th>\n",
       "      <td>b2414c169b65b7d486a36170d0721cbc</td>\n",
       "      <td>2848c23f79860a09ad62084f730e43ef</td>\n",
       "      <td>2024-02-17</td>\n",
       "      <td>2024-02-18</td>\n",
       "      <td>False</td>\n",
       "      <td>2024-02-18</td>\n",
       "    </tr>\n",
       "    <tr>\n",
       "      <th>420689</th>\n",
       "      <td>b2414c169b65b7d486a36170d0721cbc</td>\n",
       "      <td>2848c23f79860a09ad62084f730e43ef</td>\n",
       "      <td>2024-02-18</td>\n",
       "      <td>2024-02-19</td>\n",
       "      <td>False</td>\n",
       "      <td>2024-02-19</td>\n",
       "    </tr>\n",
       "    <tr>\n",
       "      <th>2412655</th>\n",
       "      <td>b2414c169b65b7d486a36170d0721cbc</td>\n",
       "      <td>2848c23f79860a09ad62084f730e43ef</td>\n",
       "      <td>2024-02-19</td>\n",
       "      <td>2024-02-20</td>\n",
       "      <td>False</td>\n",
       "      <td>2024-02-20</td>\n",
       "    </tr>\n",
       "  </tbody>\n",
       "</table>\n",
       "</div>"
      ],
      "text/plain": [
       "                              CUSTOMER_ID                   SUBSCRIPTION_ID  \\\n",
       "6825551  b2414c169b65b7d486a36170d0721cbc  2848c23f79860a09ad62084f730e43ef   \n",
       "1591618  b2414c169b65b7d486a36170d0721cbc  2848c23f79860a09ad62084f730e43ef   \n",
       "7683659  b2414c169b65b7d486a36170d0721cbc  2848c23f79860a09ad62084f730e43ef   \n",
       "420689   b2414c169b65b7d486a36170d0721cbc  2848c23f79860a09ad62084f730e43ef   \n",
       "2412655  b2414c169b65b7d486a36170d0721cbc  2848c23f79860a09ad62084f730e43ef   \n",
       "\n",
       "          FROM_DATE     TO_DATE  IS_ACTIVE SHIFTED_FROM_DATE  \n",
       "6825551  2024-02-15  2024-02-16      False        2024-02-16  \n",
       "1591618  2024-02-16  2024-02-17      False        2024-02-17  \n",
       "7683659  2024-02-17  2024-02-18      False        2024-02-18  \n",
       "420689   2024-02-18  2024-02-19      False        2024-02-19  \n",
       "2412655  2024-02-19  2024-02-20      False        2024-02-20  "
      ]
     },
     "execution_count": 102,
     "metadata": {},
     "output_type": "execute_result"
    }
   ],
   "source": [
    "# # Order by start_date/to_date so that dataset is orderered correctly\n",
    "activity = activity.sort_values(['FROM_DATE', 'TO_DATE'])\n",
    "\n",
    "# # Do a lead function to get the next FROM_DATE over the subscription_id\n",
    "activity['SHIFTED_FROM_DATE'] = activity.groupby('SUBSCRIPTION_ID')['FROM_DATE'].shift(-1)\n",
    "\n",
    "# # Drop records that start on same date as next row \n",
    "activity_dropped =activity[activity['FROM_DATE'] != activity['SHIFTED_FROM_DATE']]\n",
    "\n",
    "activity_dropped[activity_dropped['SUBSCRIPTION_ID'] == '2848c23f79860a09ad62084f730e43ef'].head()\n"
   ]
  },
  {
   "cell_type": "code",
   "execution_count": 103,
   "id": "ce330d57-3f90-4eba-8728-6dd3dec9c1d3",
   "metadata": {},
   "outputs": [
    {
     "name": "stderr",
     "output_type": "stream",
     "text": [
      "/var/folders/3w/9mjb7xvj25g6gp3jvgwgtp400000gn/T/ipykernel_2416/1441145782.py:3: SettingWithCopyWarning:\n",
      "\n",
      "\n",
      "A value is trying to be set on a copy of a slice from a DataFrame.\n",
      "Try using .loc[row_indexer,col_indexer] = value instead\n",
      "\n",
      "See the caveats in the documentation: https://pandas.pydata.org/pandas-docs/stable/user_guide/indexing.html#returning-a-view-versus-a-copy\n",
      "\n",
      "/var/folders/3w/9mjb7xvj25g6gp3jvgwgtp400000gn/T/ipykernel_2416/1441145782.py:5: SettingWithCopyWarning:\n",
      "\n",
      "\n",
      "A value is trying to be set on a copy of a slice from a DataFrame.\n",
      "Try using .loc[row_indexer,col_indexer] = value instead\n",
      "\n",
      "See the caveats in the documentation: https://pandas.pydata.org/pandas-docs/stable/user_guide/indexing.html#returning-a-view-versus-a-copy\n",
      "\n",
      "/var/folders/3w/9mjb7xvj25g6gp3jvgwgtp400000gn/T/ipykernel_2416/1441145782.py:10: SettingWithCopyWarning:\n",
      "\n",
      "\n",
      "A value is trying to be set on a copy of a slice from a DataFrame.\n",
      "Try using .loc[row_indexer,col_indexer] = value instead\n",
      "\n",
      "See the caveats in the documentation: https://pandas.pydata.org/pandas-docs/stable/user_guide/indexing.html#returning-a-view-versus-a-copy\n",
      "\n",
      "/var/folders/3w/9mjb7xvj25g6gp3jvgwgtp400000gn/T/ipykernel_2416/1441145782.py:14: SettingWithCopyWarning:\n",
      "\n",
      "\n",
      "A value is trying to be set on a copy of a slice from a DataFrame.\n",
      "Try using .loc[row_indexer,col_indexer] = value instead\n",
      "\n",
      "See the caveats in the documentation: https://pandas.pydata.org/pandas-docs/stable/user_guide/indexing.html#returning-a-view-versus-a-copy\n",
      "\n"
     ]
    }
   ],
   "source": [
    "## Now we should reduce the rows to only those where theres actually a valid change \n",
    "\n",
    "activity_dropped['SHIFTED_IS_ACTIVE'] = activity_dropped.groupby('SUBSCRIPTION_ID')['IS_ACTIVE'].shift(1)\n",
    "\n",
    "activity_dropped['CHANGE_FLAG'] = activity_dropped['IS_ACTIVE'] != activity_dropped['SHIFTED_IS_ACTIVE']\n",
    "\n",
    "activity_cleaned = activity_dropped[(activity_dropped['CHANGE_FLAG'])]\n",
    "\n",
    "# Replace original to_date with lead function \n",
    "activity_cleaned['TO_DATE'] = activity_cleaned.groupby('SUBSCRIPTION_ID')['FROM_DATE'].shift(-1)\n",
    "\n",
    "# Replace NULL to_date with current_date \n",
    "current_date  = dt.datetime.today().strftime('%Y-%m-%d')\n",
    "activity_cleaned['TO_DATE'] = activity_cleaned['TO_DATE'].fillna(current_date)\n",
    "\n",
    "activity_final = activity_cleaned.drop(columns = ['SHIFTED_FROM_DATE', 'SHIFTED_IS_ACTIVE', 'CHANGE_FLAG'])\n",
    "\n",
    "activity_final.to_csv('activity_cleaned.csv')\n"
   ]
  },
  {
   "cell_type": "code",
   "execution_count": 104,
   "id": "804ce905-419a-467c-8a3e-9c522caf262c",
   "metadata": {},
   "outputs": [],
   "source": [
    "## Create customer table with enhanced metrics \n",
    "\n",
    "customers_enhanced = customers.join(orders.set_index('CUSTOMER_ID'), on='CUSTOMER_ID', how='left')\n",
    "\n",
    "# Get other dimensions for customers table from orders table \n",
    "customer_join_date = activity_final.groupby('CUSTOMER_ID').FROM_DATE.agg('min')\n",
    "customers_enhanced = customers_enhanced.join(customer_join_date, on='CUSTOMER_ID', how='left')\n",
    "\n",
    "customer_subscription_count = activity_final.groupby('CUSTOMER_ID').SUBSCRIPTION_ID.agg(pd.Series.nunique)\n",
    "customers_enhanced = customers_enhanced.join(customer_subscription_count, on='CUSTOMER_ID', how='left')\n",
    "\n",
    "\n",
    "customers_enhanced = customers_enhanced.rename(columns={\"FROM_DATE\": \"CUSTOMER_FIRST_ACTIVE_DATE\",\"SUBSCRIPTION_ID\": \"CUSTOMER_SUBSCRIPTION_COUNT\"} )\n",
    "\n",
    "customers_enhanced.to_csv('customers_enhanced_dimension_table.csv')\n"
   ]
  },
  {
   "cell_type": "code",
   "execution_count": 106,
   "id": "2d04a481-0f09-410d-85ca-e461a9ef3b02",
   "metadata": {},
   "outputs": [],
   "source": [
    "# Finally create a date table which can be used in BI layer for joining purposes. \n",
    "\n",
    "earliest_customer_join_date = activity_final['FROM_DATE'].agg('min')\n",
    "date_range = pd.DataFrame({'CALENDAR_MONTH':pd.date_range(start=earliest_customer_join_date,end='2024-08-01', freq='MS')})\n",
    "date_range['NEXT_CALENDAR_MONTH'] = date_range['CALENDAR_MONTH'].shift(-1)\n",
    "date_range.to_csv('date_table.csv')\n"
   ]
  },
  {
   "cell_type": "markdown",
   "id": "617a4588-aa5e-4c9e-80a1-c317a99c9caa",
   "metadata": {},
   "source": [
    "# Creating BI Visualisation Layer\n",
    "\n",
    "### Here we join together the cleaned tables and create a view for reporting purposes\n",
    "\n",
    "### I attempted a few different versions of this and kept running into memory issues. \n",
    "### For performance purposes I have aggregated things to a monthly granularity but this could also be viewed at a weekly/daily level depending on business requirements. "
   ]
  },
  {
   "cell_type": "code",
   "execution_count": 107,
   "id": "471e4377-7f1b-4dba-ac6e-ca4f5d9286e6",
   "metadata": {},
   "outputs": [
    {
     "data": {
      "text/plain": [
       "<sqlite3.Cursor at 0x3248d6340>"
      ]
     },
     "execution_count": 107,
     "metadata": {},
     "output_type": "execute_result"
    }
   ],
   "source": [
    "\n",
    "\n",
    "#Joining on the day is causing memory issues so we will have to do a monthly view\n",
    "\n",
    "activity_final['TO_DATE_MONTH'] = pd.to_datetime(activity_final['TO_DATE']) - pd.offsets.MonthEnd(0) - MonthBegin(1)\n",
    "activity_final['FROM_DATE_MONTH'] = pd.to_datetime(activity_final['FROM_DATE']) - pd.offsets.MonthEnd(0)  - MonthBegin(1)\n",
    "customers_enhanced['CUSTOMER_FIRST_ACTIVE_MONTH'] = pd.to_datetime(customers_enhanced['CUSTOMER_FIRST_ACTIVE_DATE']) - pd.offsets.MonthEnd(0)  - MonthBegin(1)\n",
    "\n",
    "\n",
    "#Using sqllite databases as it is easier to join than using pandas as I did in the data cleaning process\n",
    "#Make the db in memory\n",
    "conn = sqlite3.connect(':memory:')\n",
    "#write the tables\n",
    "date_range.to_sql('date_range', conn, index=False)\n",
    "activity_final.to_sql('activity', conn, index=False)\n",
    "customers_enhanced.to_sql('customers', conn, index=False)\n",
    "\n",
    "sql2 = \"CREATE INDEX todate_idx ON activity (TO_DATE);\"\n",
    "conn.execute(sql2)\n",
    "sql3 = \"CREATE INDEX fromdate_idx ON activity (FROM_DATE);\"\n",
    "conn.execute(sql3)\n",
    "\n"
   ]
  },
  {
   "cell_type": "code",
   "execution_count": 108,
   "id": "6011149a-b98e-4d6e-aa19-bdb9137dd94a",
   "metadata": {},
   "outputs": [
    {
     "data": {
      "text/plain": [
       "1563940"
      ]
     },
     "execution_count": 108,
     "metadata": {},
     "output_type": "execute_result"
    }
   ],
   "source": [
    "#We can now join our customers_enhanced dataset to activity\n",
    "#We know that the customer_id is unique in customers so this can be a simple left join\n",
    "#We can also filter down the dataset to just where people are active to reduce row counts for processing\n",
    "\n",
    "sqlcode = '''\n",
    "   SELECT\n",
    "       activity.*\n",
    "       , customers.TAXONOMY_BUSINESS_CATEGORY_GROUP\n",
    "       , customers.CUSTOMER_FIRST_ACTIVE_MONTH\n",
    "       , customers.CUSTOMER_SUBSCRIPTION_COUNT\n",
    "   FROM activity\n",
    "   LEFT JOIN customers \n",
    "       ON activity.customer_id = customers.customer_id\n",
    "    WHERE IS_ACTIVE\n",
    "'''\n",
    "\n",
    "test_table = pd.read_sql_query(sqlcode, conn)\n",
    "test_table\n",
    "test_table.to_sql('activity_filtered', conn, index=False)"
   ]
  },
  {
   "cell_type": "code",
   "execution_count": 110,
   "id": "852a4c1b-d098-4e74-9c1e-f17bbc625648",
   "metadata": {},
   "outputs": [
    {
     "data": {
      "text/html": [
       "<div>\n",
       "<style scoped>\n",
       "    .dataframe tbody tr th:only-of-type {\n",
       "        vertical-align: middle;\n",
       "    }\n",
       "\n",
       "    .dataframe tbody tr th {\n",
       "        vertical-align: top;\n",
       "    }\n",
       "\n",
       "    .dataframe thead th {\n",
       "        text-align: right;\n",
       "    }\n",
       "</style>\n",
       "<table border=\"1\" class=\"dataframe\">\n",
       "  <thead>\n",
       "    <tr style=\"text-align: right;\">\n",
       "      <th></th>\n",
       "      <th>CALENDAR_MONTH</th>\n",
       "      <th>TAXONOMY_BUSINESS_CATEGORY_GROUP</th>\n",
       "      <th>CUSTOMER_FIRST_ACTIVE_MONTH</th>\n",
       "      <th>CUSTOMER_ID</th>\n",
       "    </tr>\n",
       "  </thead>\n",
       "  <tbody>\n",
       "    <tr>\n",
       "      <th>0</th>\n",
       "      <td>2019-02-01 00:00:00</td>\n",
       "      <td>ED Group</td>\n",
       "      <td>2019-01-01 00:00:00</td>\n",
       "      <td>006f52e9102a8d3be2fe5614f42ba989</td>\n",
       "    </tr>\n",
       "    <tr>\n",
       "      <th>1</th>\n",
       "      <td>2019-02-01 00:00:00</td>\n",
       "      <td>ED Group</td>\n",
       "      <td>2019-01-01 00:00:00</td>\n",
       "      <td>019d385eb67632a7e958e23f24bd07d7</td>\n",
       "    </tr>\n",
       "    <tr>\n",
       "      <th>2</th>\n",
       "      <td>2019-02-01 00:00:00</td>\n",
       "      <td>ED Group</td>\n",
       "      <td>2019-01-01 00:00:00</td>\n",
       "      <td>04ecb1fa28506ccb6f72b12c0245ddbc</td>\n",
       "    </tr>\n",
       "    <tr>\n",
       "      <th>3</th>\n",
       "      <td>2019-02-01 00:00:00</td>\n",
       "      <td>ED Group</td>\n",
       "      <td>2019-01-01 00:00:00</td>\n",
       "      <td>06409663226af2f3114485aa4e0a23b4</td>\n",
       "    </tr>\n",
       "    <tr>\n",
       "      <th>4</th>\n",
       "      <td>2019-02-01 00:00:00</td>\n",
       "      <td>ED Group</td>\n",
       "      <td>2019-01-01 00:00:00</td>\n",
       "      <td>07563a3fe3bbe7e3ba84431ad9d055af</td>\n",
       "    </tr>\n",
       "    <tr>\n",
       "      <th>...</th>\n",
       "      <td>...</td>\n",
       "      <td>...</td>\n",
       "      <td>...</td>\n",
       "      <td>...</td>\n",
       "    </tr>\n",
       "    <tr>\n",
       "      <th>9413507</th>\n",
       "      <td>2024-07-01 00:00:00</td>\n",
       "      <td>Weight Loss Group</td>\n",
       "      <td>2024-06-01 00:00:00</td>\n",
       "      <td>ffcae5c25d262384ebbbfa4ee386223e</td>\n",
       "    </tr>\n",
       "    <tr>\n",
       "      <th>9413508</th>\n",
       "      <td>2024-07-01 00:00:00</td>\n",
       "      <td>Weight Loss Group</td>\n",
       "      <td>2024-06-01 00:00:00</td>\n",
       "      <td>ffd2797fb1a6170b584f826542538e1f</td>\n",
       "    </tr>\n",
       "    <tr>\n",
       "      <th>9413509</th>\n",
       "      <td>2024-07-01 00:00:00</td>\n",
       "      <td>Weight Loss Group</td>\n",
       "      <td>2024-06-01 00:00:00</td>\n",
       "      <td>ffe6208cf542a6207e7deca1fdcfb1b7</td>\n",
       "    </tr>\n",
       "    <tr>\n",
       "      <th>9413510</th>\n",
       "      <td>2024-07-01 00:00:00</td>\n",
       "      <td>Weight Loss Group</td>\n",
       "      <td>2024-06-01 00:00:00</td>\n",
       "      <td>ffea619e047b4b186fc7ce46fa1ed2eb</td>\n",
       "    </tr>\n",
       "    <tr>\n",
       "      <th>9413511</th>\n",
       "      <td>2024-08-01 00:00:00</td>\n",
       "      <td>None</td>\n",
       "      <td>None</td>\n",
       "      <td>None</td>\n",
       "    </tr>\n",
       "  </tbody>\n",
       "</table>\n",
       "<p>9413512 rows × 4 columns</p>\n",
       "</div>"
      ],
      "text/plain": [
       "              CALENDAR_MONTH TAXONOMY_BUSINESS_CATEGORY_GROUP  \\\n",
       "0        2019-02-01 00:00:00                         ED Group   \n",
       "1        2019-02-01 00:00:00                         ED Group   \n",
       "2        2019-02-01 00:00:00                         ED Group   \n",
       "3        2019-02-01 00:00:00                         ED Group   \n",
       "4        2019-02-01 00:00:00                         ED Group   \n",
       "...                      ...                              ...   \n",
       "9413507  2024-07-01 00:00:00                Weight Loss Group   \n",
       "9413508  2024-07-01 00:00:00                Weight Loss Group   \n",
       "9413509  2024-07-01 00:00:00                Weight Loss Group   \n",
       "9413510  2024-07-01 00:00:00                Weight Loss Group   \n",
       "9413511  2024-08-01 00:00:00                             None   \n",
       "\n",
       "        CUSTOMER_FIRST_ACTIVE_MONTH                       CUSTOMER_ID  \n",
       "0               2019-01-01 00:00:00  006f52e9102a8d3be2fe5614f42ba989  \n",
       "1               2019-01-01 00:00:00  019d385eb67632a7e958e23f24bd07d7  \n",
       "2               2019-01-01 00:00:00  04ecb1fa28506ccb6f72b12c0245ddbc  \n",
       "3               2019-01-01 00:00:00  06409663226af2f3114485aa4e0a23b4  \n",
       "4               2019-01-01 00:00:00  07563a3fe3bbe7e3ba84431ad9d055af  \n",
       "...                             ...                               ...  \n",
       "9413507         2024-06-01 00:00:00  ffcae5c25d262384ebbbfa4ee386223e  \n",
       "9413508         2024-06-01 00:00:00  ffd2797fb1a6170b584f826542538e1f  \n",
       "9413509         2024-06-01 00:00:00  ffe6208cf542a6207e7deca1fdcfb1b7  \n",
       "9413510         2024-06-01 00:00:00  ffea619e047b4b186fc7ce46fa1ed2eb  \n",
       "9413511                        None                              None  \n",
       "\n",
       "[9413512 rows x 4 columns]"
      ]
     },
     "execution_count": 110,
     "metadata": {},
     "output_type": "execute_result"
    }
   ],
   "source": [
    "## Create the final table where we combine both the Customer data with activity\n",
    "## We can group this up so that we are simply counting per customer per month. I wanted to try this at the subscription level also but was running\n",
    "## into memory issues.\n",
    "\n",
    "sqlcode = '''\n",
    "    WITH activity_filtered_further AS (\n",
    "        SELECT \n",
    "            TO_DATE_MONTH\n",
    "            , FROM_DATE_MONTH\n",
    "            , TAXONOMY_BUSINESS_CATEGORY_GROUP\n",
    "            , CUSTOMER_FIRST_ACTIVE_MONTH\n",
    "            , CUSTOMER_ID\n",
    "        FROM activity_filtered\n",
    "        GROUP BY 1,2,3,4,5\n",
    "    )\n",
    "    SELECT\n",
    "       date_range.CALENDAR_MONTH\n",
    "       , TAXONOMY_BUSINESS_CATEGORY_GROUP\n",
    "       , CUSTOMER_FIRST_ACTIVE_MONTH\n",
    "       , CUSTOMER_ID\n",
    "   FROM date_range\n",
    "   LEFT JOIN activity_filtered_further \n",
    "       -- gives people active over month\n",
    "        ON (date_range.CALENDAR_MONTH <= activity_filtered_further.TO_DATE_MONTH\n",
    "        AND date_range.CALENDAR_MONTH >= activity_filtered_further.FROM_DATE_MONTH) \n",
    "    GROUP BY 1,2,3,4\n",
    "      '''\n",
    "\n",
    "\n",
    "final_table = pd.read_sql_query(sqlcode, conn)\n",
    "final_table\n"
   ]
  },
  {
   "cell_type": "code",
   "execution_count": 111,
   "id": "440b83e3-8c98-4346-b389-7edf65637bd8",
   "metadata": {},
   "outputs": [
    {
     "data": {
      "text/html": [
       "<div>\n",
       "<style scoped>\n",
       "    .dataframe tbody tr th:only-of-type {\n",
       "        vertical-align: middle;\n",
       "    }\n",
       "\n",
       "    .dataframe tbody tr th {\n",
       "        vertical-align: top;\n",
       "    }\n",
       "\n",
       "    .dataframe thead th {\n",
       "        text-align: right;\n",
       "    }\n",
       "</style>\n",
       "<table border=\"1\" class=\"dataframe\">\n",
       "  <thead>\n",
       "    <tr style=\"text-align: right;\">\n",
       "      <th></th>\n",
       "      <th>CALENDAR_MONTH</th>\n",
       "      <th>TAXONOMY_BUSINESS_CATEGORY_GROUP</th>\n",
       "      <th>CUSTOMER_FIRST_ACTIVE_MONTH</th>\n",
       "      <th>CUSTOMER_ID</th>\n",
       "      <th>MONTH_DIFFERENCE</th>\n",
       "    </tr>\n",
       "  </thead>\n",
       "  <tbody>\n",
       "    <tr>\n",
       "      <th>0</th>\n",
       "      <td>2019-02-01 00:00:00</td>\n",
       "      <td>ED Group</td>\n",
       "      <td>2019-01-01 00:00:00</td>\n",
       "      <td>006f52e9102a8d3be2fe5614f42ba989</td>\n",
       "      <td>1.0</td>\n",
       "    </tr>\n",
       "    <tr>\n",
       "      <th>1</th>\n",
       "      <td>2019-02-01 00:00:00</td>\n",
       "      <td>ED Group</td>\n",
       "      <td>2019-01-01 00:00:00</td>\n",
       "      <td>019d385eb67632a7e958e23f24bd07d7</td>\n",
       "      <td>1.0</td>\n",
       "    </tr>\n",
       "    <tr>\n",
       "      <th>2</th>\n",
       "      <td>2019-02-01 00:00:00</td>\n",
       "      <td>ED Group</td>\n",
       "      <td>2019-01-01 00:00:00</td>\n",
       "      <td>04ecb1fa28506ccb6f72b12c0245ddbc</td>\n",
       "      <td>1.0</td>\n",
       "    </tr>\n",
       "    <tr>\n",
       "      <th>3</th>\n",
       "      <td>2019-02-01 00:00:00</td>\n",
       "      <td>ED Group</td>\n",
       "      <td>2019-01-01 00:00:00</td>\n",
       "      <td>06409663226af2f3114485aa4e0a23b4</td>\n",
       "      <td>1.0</td>\n",
       "    </tr>\n",
       "    <tr>\n",
       "      <th>4</th>\n",
       "      <td>2019-02-01 00:00:00</td>\n",
       "      <td>ED Group</td>\n",
       "      <td>2019-01-01 00:00:00</td>\n",
       "      <td>07563a3fe3bbe7e3ba84431ad9d055af</td>\n",
       "      <td>1.0</td>\n",
       "    </tr>\n",
       "    <tr>\n",
       "      <th>...</th>\n",
       "      <td>...</td>\n",
       "      <td>...</td>\n",
       "      <td>...</td>\n",
       "      <td>...</td>\n",
       "      <td>...</td>\n",
       "    </tr>\n",
       "    <tr>\n",
       "      <th>9413507</th>\n",
       "      <td>2024-07-01 00:00:00</td>\n",
       "      <td>Weight Loss Group</td>\n",
       "      <td>2024-06-01 00:00:00</td>\n",
       "      <td>ffcae5c25d262384ebbbfa4ee386223e</td>\n",
       "      <td>1.0</td>\n",
       "    </tr>\n",
       "    <tr>\n",
       "      <th>9413508</th>\n",
       "      <td>2024-07-01 00:00:00</td>\n",
       "      <td>Weight Loss Group</td>\n",
       "      <td>2024-06-01 00:00:00</td>\n",
       "      <td>ffd2797fb1a6170b584f826542538e1f</td>\n",
       "      <td>1.0</td>\n",
       "    </tr>\n",
       "    <tr>\n",
       "      <th>9413509</th>\n",
       "      <td>2024-07-01 00:00:00</td>\n",
       "      <td>Weight Loss Group</td>\n",
       "      <td>2024-06-01 00:00:00</td>\n",
       "      <td>ffe6208cf542a6207e7deca1fdcfb1b7</td>\n",
       "      <td>1.0</td>\n",
       "    </tr>\n",
       "    <tr>\n",
       "      <th>9413510</th>\n",
       "      <td>2024-07-01 00:00:00</td>\n",
       "      <td>Weight Loss Group</td>\n",
       "      <td>2024-06-01 00:00:00</td>\n",
       "      <td>ffea619e047b4b186fc7ce46fa1ed2eb</td>\n",
       "      <td>1.0</td>\n",
       "    </tr>\n",
       "    <tr>\n",
       "      <th>9413511</th>\n",
       "      <td>2024-08-01 00:00:00</td>\n",
       "      <td>None</td>\n",
       "      <td>None</td>\n",
       "      <td>None</td>\n",
       "      <td>NaN</td>\n",
       "    </tr>\n",
       "  </tbody>\n",
       "</table>\n",
       "<p>9413512 rows × 5 columns</p>\n",
       "</div>"
      ],
      "text/plain": [
       "              CALENDAR_MONTH TAXONOMY_BUSINESS_CATEGORY_GROUP  \\\n",
       "0        2019-02-01 00:00:00                         ED Group   \n",
       "1        2019-02-01 00:00:00                         ED Group   \n",
       "2        2019-02-01 00:00:00                         ED Group   \n",
       "3        2019-02-01 00:00:00                         ED Group   \n",
       "4        2019-02-01 00:00:00                         ED Group   \n",
       "...                      ...                              ...   \n",
       "9413507  2024-07-01 00:00:00                Weight Loss Group   \n",
       "9413508  2024-07-01 00:00:00                Weight Loss Group   \n",
       "9413509  2024-07-01 00:00:00                Weight Loss Group   \n",
       "9413510  2024-07-01 00:00:00                Weight Loss Group   \n",
       "9413511  2024-08-01 00:00:00                             None   \n",
       "\n",
       "        CUSTOMER_FIRST_ACTIVE_MONTH                       CUSTOMER_ID  \\\n",
       "0               2019-01-01 00:00:00  006f52e9102a8d3be2fe5614f42ba989   \n",
       "1               2019-01-01 00:00:00  019d385eb67632a7e958e23f24bd07d7   \n",
       "2               2019-01-01 00:00:00  04ecb1fa28506ccb6f72b12c0245ddbc   \n",
       "3               2019-01-01 00:00:00  06409663226af2f3114485aa4e0a23b4   \n",
       "4               2019-01-01 00:00:00  07563a3fe3bbe7e3ba84431ad9d055af   \n",
       "...                             ...                               ...   \n",
       "9413507         2024-06-01 00:00:00  ffcae5c25d262384ebbbfa4ee386223e   \n",
       "9413508         2024-06-01 00:00:00  ffd2797fb1a6170b584f826542538e1f   \n",
       "9413509         2024-06-01 00:00:00  ffe6208cf542a6207e7deca1fdcfb1b7   \n",
       "9413510         2024-06-01 00:00:00  ffea619e047b4b186fc7ce46fa1ed2eb   \n",
       "9413511                        None                              None   \n",
       "\n",
       "         MONTH_DIFFERENCE  \n",
       "0                     1.0  \n",
       "1                     1.0  \n",
       "2                     1.0  \n",
       "3                     1.0  \n",
       "4                     1.0  \n",
       "...                   ...  \n",
       "9413507               1.0  \n",
       "9413508               1.0  \n",
       "9413509               1.0  \n",
       "9413510               1.0  \n",
       "9413511               NaN  \n",
       "\n",
       "[9413512 rows x 5 columns]"
      ]
     },
     "execution_count": 111,
     "metadata": {},
     "output_type": "execute_result"
    }
   ],
   "source": [
    "# Get month difference for charts\n",
    "final_table['MONTH_DIFFERENCE'] = round((pd.to_datetime(final_table.CALENDAR_MONTH) - pd.to_datetime(final_table.CUSTOMER_FIRST_ACTIVE_MONTH)) / np.timedelta64(1, 'D')/30)\n",
    "final_table"
   ]
  },
  {
   "cell_type": "code",
   "execution_count": 113,
   "id": "f507c086-9a4c-43db-9d22-a0878a2eb9d6",
   "metadata": {},
   "outputs": [
    {
     "name": "stderr",
     "output_type": "stream",
     "text": [
      "/Users/josh/.local/share/virtualenvs/Python_Projects-sX2dV-qo/lib/python3.12/site-packages/plotly/express/_core.py:2065: FutureWarning:\n",
      "\n",
      "When grouping with a length-1 list-like, you will need to pass a length-1 tuple to get_group in a future version of pandas. Pass `(name,)` instead of `name` to silence this warning.\n",
      "\n"
     ]
    },
    {
     "data": {
      "application/vnd.plotly.v1+json": {
       "config": {
        "plotlyServerURL": "https://plot.ly"
       },
       "data": [
        {
         "hovertemplate": "TAXONOMY_BUSINESS_CATEGORY_GROUP=ED Group<br>MONTH_DIFFERENCE=%{x}<br>CUSTOMER_ID=%{y}<extra></extra>",
         "legendgroup": "ED Group",
         "line": {
          "color": "#636efa",
          "dash": "solid"
         },
         "marker": {
          "symbol": "circle"
         },
         "mode": "lines",
         "name": "ED Group",
         "orientation": "v",
         "showlegend": true,
         "type": "scatter",
         "x": [
          0,
          1,
          2,
          3,
          4,
          5,
          6,
          7,
          8,
          9,
          10,
          11,
          12,
          13,
          14,
          15,
          16,
          17,
          18,
          19,
          20,
          21,
          22,
          23,
          24,
          25,
          26,
          27,
          28,
          29,
          30,
          31,
          32,
          33,
          34,
          35,
          36,
          37,
          38,
          39,
          40,
          41,
          42,
          43,
          44,
          45,
          46,
          47,
          48,
          49,
          50,
          51,
          52,
          53,
          54,
          55,
          56,
          57,
          58,
          59,
          60,
          61,
          62,
          63,
          64,
          65,
          66,
          67
         ],
         "xaxis": "x",
         "y": [
          93050,
          93061,
          91894,
          90845,
          88444,
          86779,
          85341,
          83500,
          81591,
          80269,
          79021,
          78051,
          77091,
          75809,
          74220,
          73070,
          72024,
          71035,
          69399,
          67551,
          66373,
          64869,
          63393,
          61322,
          59296,
          57407,
          55179,
          53070,
          50661,
          48384,
          45839,
          28101,
          41718,
          30612,
          37945,
          12641,
          35887,
          23742,
          32659,
          27786,
          29282,
          27770,
          26613,
          25678,
          24605,
          23852,
          23166,
          22397,
          21142,
          20039,
          19478,
          18280,
          17026,
          15715,
          13745,
          10300,
          7123,
          4294,
          1937,
          1113,
          855,
          772,
          624,
          442,
          287,
          162,
          55,
          7
         ],
         "yaxis": "y"
        },
        {
         "hovertemplate": "TAXONOMY_BUSINESS_CATEGORY_GROUP=Hair Loss Group<br>MONTH_DIFFERENCE=%{x}<br>CUSTOMER_ID=%{y}<extra></extra>",
         "legendgroup": "Hair Loss Group",
         "line": {
          "color": "#EF553B",
          "dash": "solid"
         },
         "marker": {
          "symbol": "circle"
         },
         "mode": "lines",
         "name": "Hair Loss Group",
         "orientation": "v",
         "showlegend": true,
         "type": "scatter",
         "x": [
          0,
          1,
          2,
          3,
          4,
          5,
          6,
          7,
          8,
          9,
          10,
          11,
          12,
          13,
          14,
          15,
          16,
          17,
          18,
          19,
          20,
          21,
          22,
          23,
          24,
          25,
          26,
          27,
          28,
          29,
          30,
          31,
          32,
          33,
          34,
          35,
          36,
          37,
          38,
          39,
          40,
          41,
          42,
          43,
          44,
          45,
          46,
          47,
          48,
          49,
          50,
          51,
          52,
          53,
          54,
          55,
          56,
          57,
          58,
          59,
          60,
          61,
          62,
          63,
          64,
          65,
          66,
          67
         ],
         "xaxis": "x",
         "y": [
          420361,
          419496,
          399038,
          375620,
          344157,
          324902,
          306534,
          281998,
          260748,
          244282,
          229661,
          216146,
          203050,
          188211,
          173694,
          160357,
          146981,
          135306,
          125633,
          115011,
          104833,
          94658,
          86082,
          76814,
          68444,
          61107,
          54782,
          49225,
          42819,
          37507,
          32749,
          25933,
          23243,
          14997,
          16698,
          6292,
          13995,
          5103,
          10169,
          7741,
          7867,
          6860,
          5961,
          5104,
          4209,
          3323,
          2772,
          2379,
          2124,
          1891,
          1615,
          1238,
          1042,
          862,
          720,
          563,
          493,
          388,
          252,
          145,
          84,
          70,
          53,
          35,
          24,
          16,
          7,
          3
         ],
         "yaxis": "y"
        },
        {
         "hovertemplate": "TAXONOMY_BUSINESS_CATEGORY_GROUP=Mental Health Group<br>MONTH_DIFFERENCE=%{x}<br>CUSTOMER_ID=%{y}<extra></extra>",
         "legendgroup": "Mental Health Group",
         "line": {
          "color": "#00cc96",
          "dash": "solid"
         },
         "marker": {
          "symbol": "circle"
         },
         "mode": "lines",
         "name": "Mental Health Group",
         "orientation": "v",
         "showlegend": true,
         "type": "scatter",
         "x": [
          0,
          1,
          2,
          3,
          4,
          5,
          6,
          7,
          8,
          9,
          10,
          11,
          12,
          13,
          14,
          15,
          16
         ],
         "xaxis": "x",
         "y": [
          2,
          2,
          2,
          2,
          2,
          2,
          2,
          2,
          2,
          2,
          2,
          2,
          2,
          2,
          2,
          2,
          1
         ],
         "yaxis": "y"
        },
        {
         "hovertemplate": "TAXONOMY_BUSINESS_CATEGORY_GROUP=Other Group<br>MONTH_DIFFERENCE=%{x}<br>CUSTOMER_ID=%{y}<extra></extra>",
         "legendgroup": "Other Group",
         "line": {
          "color": "#ab63fa",
          "dash": "solid"
         },
         "marker": {
          "symbol": "circle"
         },
         "mode": "lines",
         "name": "Other Group",
         "orientation": "v",
         "showlegend": true,
         "type": "scatter",
         "x": [
          0,
          1,
          2,
          3,
          4,
          5,
          6,
          7,
          8,
          9,
          10,
          11,
          12,
          13,
          14,
          15,
          16,
          17,
          18,
          19,
          20,
          21,
          22,
          23,
          24,
          25,
          26,
          27,
          28,
          29,
          30,
          31,
          32,
          33,
          34,
          35,
          36,
          37,
          38,
          39,
          40,
          41,
          42,
          43,
          44,
          45,
          46,
          47,
          48,
          49,
          50,
          51,
          52,
          53,
          54,
          55,
          56,
          57,
          58,
          59,
          60,
          61
         ],
         "xaxis": "x",
         "y": [
          8910,
          8748,
          8218,
          7902,
          7654,
          7441,
          7275,
          7091,
          6977,
          6871,
          6763,
          6628,
          6509,
          6381,
          6276,
          6201,
          6101,
          6008,
          5913,
          5823,
          5722,
          5589,
          5468,
          5203,
          4899,
          4545,
          4245,
          3922,
          3562,
          3175,
          2813,
          2260,
          1975,
          1228,
          1258,
          413,
          1021,
          418,
          700,
          516,
          504,
          418,
          373,
          314,
          263,
          220,
          191,
          177,
          159,
          141,
          116,
          95,
          63,
          45,
          24,
          11,
          8,
          6,
          5,
          4,
          3,
          1
         ],
         "yaxis": "y"
        },
        {
         "hovertemplate": "TAXONOMY_BUSINESS_CATEGORY_GROUP=Sleep Group<br>MONTH_DIFFERENCE=%{x}<br>CUSTOMER_ID=%{y}<extra></extra>",
         "legendgroup": "Sleep Group",
         "line": {
          "color": "#FFA15A",
          "dash": "solid"
         },
         "marker": {
          "symbol": "circle"
         },
         "mode": "lines",
         "name": "Sleep Group",
         "orientation": "v",
         "showlegend": true,
         "type": "scatter",
         "x": [
          0,
          1,
          2,
          3,
          4,
          5,
          6,
          7,
          8,
          9,
          10,
          11,
          12,
          13,
          14,
          15,
          16,
          17,
          18,
          19,
          20,
          21,
          22,
          23,
          24,
          25,
          26,
          27,
          28,
          29,
          30,
          31,
          32,
          33,
          34,
          35,
          36,
          37,
          38,
          39,
          40,
          41,
          42,
          43,
          44,
          45
         ],
         "xaxis": "x",
         "y": [
          2657,
          2651,
          2619,
          2571,
          2530,
          2494,
          2474,
          2451,
          2408,
          2380,
          2346,
          2318,
          2306,
          2278,
          2242,
          2207,
          2161,
          2135,
          2108,
          2038,
          1945,
          1801,
          1570,
          1417,
          1337,
          1162,
          1074,
          1034,
          942,
          826,
          703,
          538,
          476,
          252,
          241,
          63,
          182,
          92,
          106,
          72,
          48,
          28,
          14,
          10,
          5,
          1
         ],
         "yaxis": "y"
        },
        {
         "hovertemplate": "TAXONOMY_BUSINESS_CATEGORY_GROUP=TRT Group<br>MONTH_DIFFERENCE=%{x}<br>CUSTOMER_ID=%{y}<extra></extra>",
         "legendgroup": "TRT Group",
         "line": {
          "color": "#19d3f3",
          "dash": "solid"
         },
         "marker": {
          "symbol": "circle"
         },
         "mode": "lines",
         "name": "TRT Group",
         "orientation": "v",
         "showlegend": true,
         "type": "scatter",
         "x": [
          0,
          1,
          2,
          3,
          4,
          5,
          6,
          7,
          8,
          9,
          10,
          11,
          12,
          13,
          14,
          15
         ],
         "xaxis": "x",
         "y": [
          1187,
          1188,
          779,
          434,
          235,
          116,
          67,
          43,
          35,
          29,
          24,
          17,
          13,
          8,
          5,
          1
         ],
         "yaxis": "y"
        },
        {
         "hovertemplate": "TAXONOMY_BUSINESS_CATEGORY_GROUP=Weight Loss Group<br>MONTH_DIFFERENCE=%{x}<br>CUSTOMER_ID=%{y}<extra></extra>",
         "legendgroup": "Weight Loss Group",
         "line": {
          "color": "#FF6692",
          "dash": "solid"
         },
         "marker": {
          "symbol": "circle"
         },
         "mode": "lines",
         "name": "Weight Loss Group",
         "orientation": "v",
         "showlegend": true,
         "type": "scatter",
         "x": [
          0,
          1,
          2,
          3,
          4,
          5,
          6,
          7,
          8,
          9,
          10,
          11,
          12,
          13,
          14,
          15,
          16,
          17,
          18,
          19,
          20,
          21,
          22,
          23,
          24,
          25
         ],
         "xaxis": "x",
         "y": [
          46256,
          45024,
          35541,
          29228,
          24940,
          20175,
          17086,
          14480,
          12471,
          9418,
          7074,
          4922,
          3811,
          2801,
          1780,
          1298,
          977,
          576,
          311,
          156,
          91,
          57,
          25,
          21,
          14,
          9
         ],
         "yaxis": "y"
        }
       ],
       "layout": {
        "autosize": true,
        "legend": {
         "title": {
          "text": "TAXONOMY_BUSINESS_CATEGORY_GROUP"
         },
         "tracegroupgap": 0
        },
        "margin": {
         "t": 60
        },
        "template": {
         "data": {
          "bar": [
           {
            "error_x": {
             "color": "#2a3f5f"
            },
            "error_y": {
             "color": "#2a3f5f"
            },
            "marker": {
             "line": {
              "color": "#E5ECF6",
              "width": 0.5
             },
             "pattern": {
              "fillmode": "overlay",
              "size": 10,
              "solidity": 0.2
             }
            },
            "type": "bar"
           }
          ],
          "barpolar": [
           {
            "marker": {
             "line": {
              "color": "#E5ECF6",
              "width": 0.5
             },
             "pattern": {
              "fillmode": "overlay",
              "size": 10,
              "solidity": 0.2
             }
            },
            "type": "barpolar"
           }
          ],
          "carpet": [
           {
            "aaxis": {
             "endlinecolor": "#2a3f5f",
             "gridcolor": "white",
             "linecolor": "white",
             "minorgridcolor": "white",
             "startlinecolor": "#2a3f5f"
            },
            "baxis": {
             "endlinecolor": "#2a3f5f",
             "gridcolor": "white",
             "linecolor": "white",
             "minorgridcolor": "white",
             "startlinecolor": "#2a3f5f"
            },
            "type": "carpet"
           }
          ],
          "choropleth": [
           {
            "colorbar": {
             "outlinewidth": 0,
             "ticks": ""
            },
            "type": "choropleth"
           }
          ],
          "contour": [
           {
            "colorbar": {
             "outlinewidth": 0,
             "ticks": ""
            },
            "colorscale": [
             [
              0,
              "#0d0887"
             ],
             [
              0.1111111111111111,
              "#46039f"
             ],
             [
              0.2222222222222222,
              "#7201a8"
             ],
             [
              0.3333333333333333,
              "#9c179e"
             ],
             [
              0.4444444444444444,
              "#bd3786"
             ],
             [
              0.5555555555555556,
              "#d8576b"
             ],
             [
              0.6666666666666666,
              "#ed7953"
             ],
             [
              0.7777777777777778,
              "#fb9f3a"
             ],
             [
              0.8888888888888888,
              "#fdca26"
             ],
             [
              1,
              "#f0f921"
             ]
            ],
            "type": "contour"
           }
          ],
          "contourcarpet": [
           {
            "colorbar": {
             "outlinewidth": 0,
             "ticks": ""
            },
            "type": "contourcarpet"
           }
          ],
          "heatmap": [
           {
            "colorbar": {
             "outlinewidth": 0,
             "ticks": ""
            },
            "colorscale": [
             [
              0,
              "#0d0887"
             ],
             [
              0.1111111111111111,
              "#46039f"
             ],
             [
              0.2222222222222222,
              "#7201a8"
             ],
             [
              0.3333333333333333,
              "#9c179e"
             ],
             [
              0.4444444444444444,
              "#bd3786"
             ],
             [
              0.5555555555555556,
              "#d8576b"
             ],
             [
              0.6666666666666666,
              "#ed7953"
             ],
             [
              0.7777777777777778,
              "#fb9f3a"
             ],
             [
              0.8888888888888888,
              "#fdca26"
             ],
             [
              1,
              "#f0f921"
             ]
            ],
            "type": "heatmap"
           }
          ],
          "heatmapgl": [
           {
            "colorbar": {
             "outlinewidth": 0,
             "ticks": ""
            },
            "colorscale": [
             [
              0,
              "#0d0887"
             ],
             [
              0.1111111111111111,
              "#46039f"
             ],
             [
              0.2222222222222222,
              "#7201a8"
             ],
             [
              0.3333333333333333,
              "#9c179e"
             ],
             [
              0.4444444444444444,
              "#bd3786"
             ],
             [
              0.5555555555555556,
              "#d8576b"
             ],
             [
              0.6666666666666666,
              "#ed7953"
             ],
             [
              0.7777777777777778,
              "#fb9f3a"
             ],
             [
              0.8888888888888888,
              "#fdca26"
             ],
             [
              1,
              "#f0f921"
             ]
            ],
            "type": "heatmapgl"
           }
          ],
          "histogram": [
           {
            "marker": {
             "pattern": {
              "fillmode": "overlay",
              "size": 10,
              "solidity": 0.2
             }
            },
            "type": "histogram"
           }
          ],
          "histogram2d": [
           {
            "colorbar": {
             "outlinewidth": 0,
             "ticks": ""
            },
            "colorscale": [
             [
              0,
              "#0d0887"
             ],
             [
              0.1111111111111111,
              "#46039f"
             ],
             [
              0.2222222222222222,
              "#7201a8"
             ],
             [
              0.3333333333333333,
              "#9c179e"
             ],
             [
              0.4444444444444444,
              "#bd3786"
             ],
             [
              0.5555555555555556,
              "#d8576b"
             ],
             [
              0.6666666666666666,
              "#ed7953"
             ],
             [
              0.7777777777777778,
              "#fb9f3a"
             ],
             [
              0.8888888888888888,
              "#fdca26"
             ],
             [
              1,
              "#f0f921"
             ]
            ],
            "type": "histogram2d"
           }
          ],
          "histogram2dcontour": [
           {
            "colorbar": {
             "outlinewidth": 0,
             "ticks": ""
            },
            "colorscale": [
             [
              0,
              "#0d0887"
             ],
             [
              0.1111111111111111,
              "#46039f"
             ],
             [
              0.2222222222222222,
              "#7201a8"
             ],
             [
              0.3333333333333333,
              "#9c179e"
             ],
             [
              0.4444444444444444,
              "#bd3786"
             ],
             [
              0.5555555555555556,
              "#d8576b"
             ],
             [
              0.6666666666666666,
              "#ed7953"
             ],
             [
              0.7777777777777778,
              "#fb9f3a"
             ],
             [
              0.8888888888888888,
              "#fdca26"
             ],
             [
              1,
              "#f0f921"
             ]
            ],
            "type": "histogram2dcontour"
           }
          ],
          "mesh3d": [
           {
            "colorbar": {
             "outlinewidth": 0,
             "ticks": ""
            },
            "type": "mesh3d"
           }
          ],
          "parcoords": [
           {
            "line": {
             "colorbar": {
              "outlinewidth": 0,
              "ticks": ""
             }
            },
            "type": "parcoords"
           }
          ],
          "pie": [
           {
            "automargin": true,
            "type": "pie"
           }
          ],
          "scatter": [
           {
            "fillpattern": {
             "fillmode": "overlay",
             "size": 10,
             "solidity": 0.2
            },
            "type": "scatter"
           }
          ],
          "scatter3d": [
           {
            "line": {
             "colorbar": {
              "outlinewidth": 0,
              "ticks": ""
             }
            },
            "marker": {
             "colorbar": {
              "outlinewidth": 0,
              "ticks": ""
             }
            },
            "type": "scatter3d"
           }
          ],
          "scattercarpet": [
           {
            "marker": {
             "colorbar": {
              "outlinewidth": 0,
              "ticks": ""
             }
            },
            "type": "scattercarpet"
           }
          ],
          "scattergeo": [
           {
            "marker": {
             "colorbar": {
              "outlinewidth": 0,
              "ticks": ""
             }
            },
            "type": "scattergeo"
           }
          ],
          "scattergl": [
           {
            "marker": {
             "colorbar": {
              "outlinewidth": 0,
              "ticks": ""
             }
            },
            "type": "scattergl"
           }
          ],
          "scattermapbox": [
           {
            "marker": {
             "colorbar": {
              "outlinewidth": 0,
              "ticks": ""
             }
            },
            "type": "scattermapbox"
           }
          ],
          "scatterpolar": [
           {
            "marker": {
             "colorbar": {
              "outlinewidth": 0,
              "ticks": ""
             }
            },
            "type": "scatterpolar"
           }
          ],
          "scatterpolargl": [
           {
            "marker": {
             "colorbar": {
              "outlinewidth": 0,
              "ticks": ""
             }
            },
            "type": "scatterpolargl"
           }
          ],
          "scatterternary": [
           {
            "marker": {
             "colorbar": {
              "outlinewidth": 0,
              "ticks": ""
             }
            },
            "type": "scatterternary"
           }
          ],
          "surface": [
           {
            "colorbar": {
             "outlinewidth": 0,
             "ticks": ""
            },
            "colorscale": [
             [
              0,
              "#0d0887"
             ],
             [
              0.1111111111111111,
              "#46039f"
             ],
             [
              0.2222222222222222,
              "#7201a8"
             ],
             [
              0.3333333333333333,
              "#9c179e"
             ],
             [
              0.4444444444444444,
              "#bd3786"
             ],
             [
              0.5555555555555556,
              "#d8576b"
             ],
             [
              0.6666666666666666,
              "#ed7953"
             ],
             [
              0.7777777777777778,
              "#fb9f3a"
             ],
             [
              0.8888888888888888,
              "#fdca26"
             ],
             [
              1,
              "#f0f921"
             ]
            ],
            "type": "surface"
           }
          ],
          "table": [
           {
            "cells": {
             "fill": {
              "color": "#EBF0F8"
             },
             "line": {
              "color": "white"
             }
            },
            "header": {
             "fill": {
              "color": "#C8D4E3"
             },
             "line": {
              "color": "white"
             }
            },
            "type": "table"
           }
          ]
         },
         "layout": {
          "annotationdefaults": {
           "arrowcolor": "#2a3f5f",
           "arrowhead": 0,
           "arrowwidth": 1
          },
          "autotypenumbers": "strict",
          "coloraxis": {
           "colorbar": {
            "outlinewidth": 0,
            "ticks": ""
           }
          },
          "colorscale": {
           "diverging": [
            [
             0,
             "#8e0152"
            ],
            [
             0.1,
             "#c51b7d"
            ],
            [
             0.2,
             "#de77ae"
            ],
            [
             0.3,
             "#f1b6da"
            ],
            [
             0.4,
             "#fde0ef"
            ],
            [
             0.5,
             "#f7f7f7"
            ],
            [
             0.6,
             "#e6f5d0"
            ],
            [
             0.7,
             "#b8e186"
            ],
            [
             0.8,
             "#7fbc41"
            ],
            [
             0.9,
             "#4d9221"
            ],
            [
             1,
             "#276419"
            ]
           ],
           "sequential": [
            [
             0,
             "#0d0887"
            ],
            [
             0.1111111111111111,
             "#46039f"
            ],
            [
             0.2222222222222222,
             "#7201a8"
            ],
            [
             0.3333333333333333,
             "#9c179e"
            ],
            [
             0.4444444444444444,
             "#bd3786"
            ],
            [
             0.5555555555555556,
             "#d8576b"
            ],
            [
             0.6666666666666666,
             "#ed7953"
            ],
            [
             0.7777777777777778,
             "#fb9f3a"
            ],
            [
             0.8888888888888888,
             "#fdca26"
            ],
            [
             1,
             "#f0f921"
            ]
           ],
           "sequentialminus": [
            [
             0,
             "#0d0887"
            ],
            [
             0.1111111111111111,
             "#46039f"
            ],
            [
             0.2222222222222222,
             "#7201a8"
            ],
            [
             0.3333333333333333,
             "#9c179e"
            ],
            [
             0.4444444444444444,
             "#bd3786"
            ],
            [
             0.5555555555555556,
             "#d8576b"
            ],
            [
             0.6666666666666666,
             "#ed7953"
            ],
            [
             0.7777777777777778,
             "#fb9f3a"
            ],
            [
             0.8888888888888888,
             "#fdca26"
            ],
            [
             1,
             "#f0f921"
            ]
           ]
          },
          "colorway": [
           "#636efa",
           "#EF553B",
           "#00cc96",
           "#ab63fa",
           "#FFA15A",
           "#19d3f3",
           "#FF6692",
           "#B6E880",
           "#FF97FF",
           "#FECB52"
          ],
          "font": {
           "color": "#2a3f5f"
          },
          "geo": {
           "bgcolor": "white",
           "lakecolor": "white",
           "landcolor": "#E5ECF6",
           "showlakes": true,
           "showland": true,
           "subunitcolor": "white"
          },
          "hoverlabel": {
           "align": "left"
          },
          "hovermode": "closest",
          "mapbox": {
           "style": "light"
          },
          "paper_bgcolor": "white",
          "plot_bgcolor": "#E5ECF6",
          "polar": {
           "angularaxis": {
            "gridcolor": "white",
            "linecolor": "white",
            "ticks": ""
           },
           "bgcolor": "#E5ECF6",
           "radialaxis": {
            "gridcolor": "white",
            "linecolor": "white",
            "ticks": ""
           }
          },
          "scene": {
           "xaxis": {
            "backgroundcolor": "#E5ECF6",
            "gridcolor": "white",
            "gridwidth": 2,
            "linecolor": "white",
            "showbackground": true,
            "ticks": "",
            "zerolinecolor": "white"
           },
           "yaxis": {
            "backgroundcolor": "#E5ECF6",
            "gridcolor": "white",
            "gridwidth": 2,
            "linecolor": "white",
            "showbackground": true,
            "ticks": "",
            "zerolinecolor": "white"
           },
           "zaxis": {
            "backgroundcolor": "#E5ECF6",
            "gridcolor": "white",
            "gridwidth": 2,
            "linecolor": "white",
            "showbackground": true,
            "ticks": "",
            "zerolinecolor": "white"
           }
          },
          "shapedefaults": {
           "line": {
            "color": "#2a3f5f"
           }
          },
          "ternary": {
           "aaxis": {
            "gridcolor": "white",
            "linecolor": "white",
            "ticks": ""
           },
           "baxis": {
            "gridcolor": "white",
            "linecolor": "white",
            "ticks": ""
           },
           "bgcolor": "#E5ECF6",
           "caxis": {
            "gridcolor": "white",
            "linecolor": "white",
            "ticks": ""
           }
          },
          "title": {
           "x": 0.05
          },
          "xaxis": {
           "automargin": true,
           "gridcolor": "white",
           "linecolor": "white",
           "ticks": "",
           "title": {
            "standoff": 15
           },
           "zerolinecolor": "white",
           "zerolinewidth": 2
          },
          "yaxis": {
           "automargin": true,
           "gridcolor": "white",
           "linecolor": "white",
           "ticks": "",
           "title": {
            "standoff": 15
           },
           "zerolinecolor": "white",
           "zerolinewidth": 2
          }
         }
        },
        "xaxis": {
         "anchor": "y",
         "autorange": true,
         "domain": [
          0,
          1
         ],
         "range": [
          0,
          67
         ],
         "title": {
          "text": "MONTH_DIFFERENCE"
         },
         "type": "linear"
        },
        "yaxis": {
         "anchor": "x",
         "autorange": true,
         "domain": [
          0,
          1
         ],
         "range": [
          -23352.333333333332,
          443714.3333333333
         ],
         "title": {
          "text": "CUSTOMER_ID"
         },
         "type": "linear"
        }
       }
      },
      "image/png": "[encoded data removed]",
      "text/html": [
       "<div>                            <div id=\"95cca7d6-dc1a-4c04-bef9-098f6747e5dd\" class=\"plotly-graph-div\" style=\"height:525px; width:100%;\"></div>            <script type=\"text/javascript\">                require([\"plotly\"], function(Plotly) {                    window.PLOTLYENV=window.PLOTLYENV || {};                                    if (document.getElementById(\"95cca7d6-dc1a-4c04-bef9-098f6747e5dd\")) {                    Plotly.newPlot(                        \"95cca7d6-dc1a-4c04-bef9-098f6747e5dd\",                        [{\"hovertemplate\":\"TAXONOMY_BUSINESS_CATEGORY_GROUP=ED Group\\u003cbr\\u003eMONTH_DIFFERENCE=%{x}\\u003cbr\\u003eCUSTOMER_ID=%{y}\\u003cextra\\u003e\\u003c\\u002fextra\\u003e\",\"legendgroup\":\"ED Group\",\"line\":{\"color\":\"#636efa\",\"dash\":\"solid\"},\"marker\":{\"symbol\":\"circle\"},\"mode\":\"lines\",\"name\":\"ED Group\",\"orientation\":\"v\",\"showlegend\":true,\"x\":[0.0,1.0,2.0,3.0,4.0,5.0,6.0,7.0,8.0,9.0,10.0,11.0,12.0,13.0,14.0,15.0,16.0,17.0,18.0,19.0,20.0,21.0,22.0,23.0,24.0,25.0,26.0,27.0,28.0,29.0,30.0,31.0,32.0,33.0,34.0,35.0,36.0,37.0,38.0,39.0,40.0,41.0,42.0,43.0,44.0,45.0,46.0,47.0,48.0,49.0,50.0,51.0,52.0,53.0,54.0,55.0,56.0,57.0,58.0,59.0,60.0,61.0,62.0,63.0,64.0,65.0,66.0,67.0],\"xaxis\":\"x\",\"y\":[93050,93061,91894,90845,88444,86779,85341,83500,81591,80269,79021,78051,77091,75809,74220,73070,72024,71035,69399,67551,66373,64869,63393,61322,59296,57407,55179,53070,50661,48384,45839,28101,41718,30612,37945,12641,35887,23742,32659,27786,29282,27770,26613,25678,24605,23852,23166,22397,21142,20039,19478,18280,17026,15715,13745,10300,7123,4294,1937,1113,855,772,624,442,287,162,55,7],\"yaxis\":\"y\",\"type\":\"scatter\"},{\"hovertemplate\":\"TAXONOMY_BUSINESS_CATEGORY_GROUP=Hair Loss Group\\u003cbr\\u003eMONTH_DIFFERENCE=%{x}\\u003cbr\\u003eCUSTOMER_ID=%{y}\\u003cextra\\u003e\\u003c\\u002fextra\\u003e\",\"legendgroup\":\"Hair Loss Group\",\"line\":{\"color\":\"#EF553B\",\"dash\":\"solid\"},\"marker\":{\"symbol\":\"circle\"},\"mode\":\"lines\",\"name\":\"Hair Loss Group\",\"orientation\":\"v\",\"showlegend\":true,\"x\":[0.0,1.0,2.0,3.0,4.0,5.0,6.0,7.0,8.0,9.0,10.0,11.0,12.0,13.0,14.0,15.0,16.0,17.0,18.0,19.0,20.0,21.0,22.0,23.0,24.0,25.0,26.0,27.0,28.0,29.0,30.0,31.0,32.0,33.0,34.0,35.0,36.0,37.0,38.0,39.0,40.0,41.0,42.0,43.0,44.0,45.0,46.0,47.0,48.0,49.0,50.0,51.0,52.0,53.0,54.0,55.0,56.0,57.0,58.0,59.0,60.0,61.0,62.0,63.0,64.0,65.0,66.0,67.0],\"xaxis\":\"x\",\"y\":[420361,419496,399038,375620,344157,324902,306534,281998,260748,244282,229661,216146,203050,188211,173694,160357,146981,135306,125633,115011,104833,94658,86082,76814,68444,61107,54782,49225,42819,37507,32749,25933,23243,14997,16698,6292,13995,5103,10169,7741,7867,6860,5961,5104,4209,3323,2772,2379,2124,1891,1615,1238,1042,862,720,563,493,388,252,145,84,70,53,35,24,16,7,3],\"yaxis\":\"y\",\"type\":\"scatter\"},{\"hovertemplate\":\"TAXONOMY_BUSINESS_CATEGORY_GROUP=Mental Health Group\\u003cbr\\u003eMONTH_DIFFERENCE=%{x}\\u003cbr\\u003eCUSTOMER_ID=%{y}\\u003cextra\\u003e\\u003c\\u002fextra\\u003e\",\"legendgroup\":\"Mental Health Group\",\"line\":{\"color\":\"#00cc96\",\"dash\":\"solid\"},\"marker\":{\"symbol\":\"circle\"},\"mode\":\"lines\",\"name\":\"Mental Health Group\",\"orientation\":\"v\",\"showlegend\":true,\"x\":[0.0,1.0,2.0,3.0,4.0,5.0,6.0,7.0,8.0,9.0,10.0,11.0,12.0,13.0,14.0,15.0,16.0],\"xaxis\":\"x\",\"y\":[2,2,2,2,2,2,2,2,2,2,2,2,2,2,2,2,1],\"yaxis\":\"y\",\"type\":\"scatter\"},{\"hovertemplate\":\"TAXONOMY_BUSINESS_CATEGORY_GROUP=Other Group\\u003cbr\\u003eMONTH_DIFFERENCE=%{x}\\u003cbr\\u003eCUSTOMER_ID=%{y}\\u003cextra\\u003e\\u003c\\u002fextra\\u003e\",\"legendgroup\":\"Other Group\",\"line\":{\"color\":\"#ab63fa\",\"dash\":\"solid\"},\"marker\":{\"symbol\":\"circle\"},\"mode\":\"lines\",\"name\":\"Other Group\",\"orientation\":\"v\",\"showlegend\":true,\"x\":[0.0,1.0,2.0,3.0,4.0,5.0,6.0,7.0,8.0,9.0,10.0,11.0,12.0,13.0,14.0,15.0,16.0,17.0,18.0,19.0,20.0,21.0,22.0,23.0,24.0,25.0,26.0,27.0,28.0,29.0,30.0,31.0,32.0,33.0,34.0,35.0,36.0,37.0,38.0,39.0,40.0,41.0,42.0,43.0,44.0,45.0,46.0,47.0,48.0,49.0,50.0,51.0,52.0,53.0,54.0,55.0,56.0,57.0,58.0,59.0,60.0,61.0],\"xaxis\":\"x\",\"y\":[8910,8748,8218,7902,7654,7441,7275,7091,6977,6871,6763,6628,6509,6381,6276,6201,6101,6008,5913,5823,5722,5589,5468,5203,4899,4545,4245,3922,3562,3175,2813,2260,1975,1228,1258,413,1021,418,700,516,504,418,373,314,263,220,191,177,159,141,116,95,63,45,24,11,8,6,5,4,3,1],\"yaxis\":\"y\",\"type\":\"scatter\"},{\"hovertemplate\":\"TAXONOMY_BUSINESS_CATEGORY_GROUP=Sleep Group\\u003cbr\\u003eMONTH_DIFFERENCE=%{x}\\u003cbr\\u003eCUSTOMER_ID=%{y}\\u003cextra\\u003e\\u003c\\u002fextra\\u003e\",\"legendgroup\":\"Sleep Group\",\"line\":{\"color\":\"#FFA15A\",\"dash\":\"solid\"},\"marker\":{\"symbol\":\"circle\"},\"mode\":\"lines\",\"name\":\"Sleep Group\",\"orientation\":\"v\",\"showlegend\":true,\"x\":[0.0,1.0,2.0,3.0,4.0,5.0,6.0,7.0,8.0,9.0,10.0,11.0,12.0,13.0,14.0,15.0,16.0,17.0,18.0,19.0,20.0,21.0,22.0,23.0,24.0,25.0,26.0,27.0,28.0,29.0,30.0,31.0,32.0,33.0,34.0,35.0,36.0,37.0,38.0,39.0,40.0,41.0,42.0,43.0,44.0,45.0],\"xaxis\":\"x\",\"y\":[2657,2651,2619,2571,2530,2494,2474,2451,2408,2380,2346,2318,2306,2278,2242,2207,2161,2135,2108,2038,1945,1801,1570,1417,1337,1162,1074,1034,942,826,703,538,476,252,241,63,182,92,106,72,48,28,14,10,5,1],\"yaxis\":\"y\",\"type\":\"scatter\"},{\"hovertemplate\":\"TAXONOMY_BUSINESS_CATEGORY_GROUP=TRT Group\\u003cbr\\u003eMONTH_DIFFERENCE=%{x}\\u003cbr\\u003eCUSTOMER_ID=%{y}\\u003cextra\\u003e\\u003c\\u002fextra\\u003e\",\"legendgroup\":\"TRT Group\",\"line\":{\"color\":\"#19d3f3\",\"dash\":\"solid\"},\"marker\":{\"symbol\":\"circle\"},\"mode\":\"lines\",\"name\":\"TRT Group\",\"orientation\":\"v\",\"showlegend\":true,\"x\":[0.0,1.0,2.0,3.0,4.0,5.0,6.0,7.0,8.0,9.0,10.0,11.0,12.0,13.0,14.0,15.0],\"xaxis\":\"x\",\"y\":[1187,1188,779,434,235,116,67,43,35,29,24,17,13,8,5,1],\"yaxis\":\"y\",\"type\":\"scatter\"},{\"hovertemplate\":\"TAXONOMY_BUSINESS_CATEGORY_GROUP=Weight Loss Group\\u003cbr\\u003eMONTH_DIFFERENCE=%{x}\\u003cbr\\u003eCUSTOMER_ID=%{y}\\u003cextra\\u003e\\u003c\\u002fextra\\u003e\",\"legendgroup\":\"Weight Loss Group\",\"line\":{\"color\":\"#FF6692\",\"dash\":\"solid\"},\"marker\":{\"symbol\":\"circle\"},\"mode\":\"lines\",\"name\":\"Weight Loss Group\",\"orientation\":\"v\",\"showlegend\":true,\"x\":[0.0,1.0,2.0,3.0,4.0,5.0,6.0,7.0,8.0,9.0,10.0,11.0,12.0,13.0,14.0,15.0,16.0,17.0,18.0,19.0,20.0,21.0,22.0,23.0,24.0,25.0],\"xaxis\":\"x\",\"y\":[46256,45024,35541,29228,24940,20175,17086,14480,12471,9418,7074,4922,3811,2801,1780,1298,977,576,311,156,91,57,25,21,14,9],\"yaxis\":\"y\",\"type\":\"scatter\"}],                        {\"template\":{\"data\":{\"histogram2dcontour\":[{\"type\":\"histogram2dcontour\",\"colorbar\":{\"outlinewidth\":0,\"ticks\":\"\"},\"colorscale\":[[0.0,\"#0d0887\"],[0.1111111111111111,\"#46039f\"],[0.2222222222222222,\"#7201a8\"],[0.3333333333333333,\"#9c179e\"],[0.4444444444444444,\"#bd3786\"],[0.5555555555555556,\"#d8576b\"],[0.6666666666666666,\"#ed7953\"],[0.7777777777777778,\"#fb9f3a\"],[0.8888888888888888,\"#fdca26\"],[1.0,\"#f0f921\"]]}],\"choropleth\":[{\"type\":\"choropleth\",\"colorbar\":{\"outlinewidth\":0,\"ticks\":\"\"}}],\"histogram2d\":[{\"type\":\"histogram2d\",\"colorbar\":{\"outlinewidth\":0,\"ticks\":\"\"},\"colorscale\":[[0.0,\"#0d0887\"],[0.1111111111111111,\"#46039f\"],[0.2222222222222222,\"#7201a8\"],[0.3333333333333333,\"#9c179e\"],[0.4444444444444444,\"#bd3786\"],[0.5555555555555556,\"#d8576b\"],[0.6666666666666666,\"#ed7953\"],[0.7777777777777778,\"#fb9f3a\"],[0.8888888888888888,\"#fdca26\"],[1.0,\"#f0f921\"]]}],\"heatmap\":[{\"type\":\"heatmap\",\"colorbar\":{\"outlinewidth\":0,\"ticks\":\"\"},\"colorscale\":[[0.0,\"#0d0887\"],[0.1111111111111111,\"#46039f\"],[0.2222222222222222,\"#7201a8\"],[0.3333333333333333,\"#9c179e\"],[0.4444444444444444,\"#bd3786\"],[0.5555555555555556,\"#d8576b\"],[0.6666666666666666,\"#ed7953\"],[0.7777777777777778,\"#fb9f3a\"],[0.8888888888888888,\"#fdca26\"],[1.0,\"#f0f921\"]]}],\"heatmapgl\":[{\"type\":\"heatmapgl\",\"colorbar\":{\"outlinewidth\":0,\"ticks\":\"\"},\"colorscale\":[[0.0,\"#0d0887\"],[0.1111111111111111,\"#46039f\"],[0.2222222222222222,\"#7201a8\"],[0.3333333333333333,\"#9c179e\"],[0.4444444444444444,\"#bd3786\"],[0.5555555555555556,\"#d8576b\"],[0.6666666666666666,\"#ed7953\"],[0.7777777777777778,\"#fb9f3a\"],[0.8888888888888888,\"#fdca26\"],[1.0,\"#f0f921\"]]}],\"contourcarpet\":[{\"type\":\"contourcarpet\",\"colorbar\":{\"outlinewidth\":0,\"ticks\":\"\"}}],\"contour\":[{\"type\":\"contour\",\"colorbar\":{\"outlinewidth\":0,\"ticks\":\"\"},\"colorscale\":[[0.0,\"#0d0887\"],[0.1111111111111111,\"#46039f\"],[0.2222222222222222,\"#7201a8\"],[0.3333333333333333,\"#9c179e\"],[0.4444444444444444,\"#bd3786\"],[0.5555555555555556,\"#d8576b\"],[0.6666666666666666,\"#ed7953\"],[0.7777777777777778,\"#fb9f3a\"],[0.8888888888888888,\"#fdca26\"],[1.0,\"#f0f921\"]]}],\"surface\":[{\"type\":\"surface\",\"colorbar\":{\"outlinewidth\":0,\"ticks\":\"\"},\"colorscale\":[[0.0,\"#0d0887\"],[0.1111111111111111,\"#46039f\"],[0.2222222222222222,\"#7201a8\"],[0.3333333333333333,\"#9c179e\"],[0.4444444444444444,\"#bd3786\"],[0.5555555555555556,\"#d8576b\"],[0.6666666666666666,\"#ed7953\"],[0.7777777777777778,\"#fb9f3a\"],[0.8888888888888888,\"#fdca26\"],[1.0,\"#f0f921\"]]}],\"mesh3d\":[{\"type\":\"mesh3d\",\"colorbar\":{\"outlinewidth\":0,\"ticks\":\"\"}}],\"scatter\":[{\"fillpattern\":{\"fillmode\":\"overlay\",\"size\":10,\"solidity\":0.2},\"type\":\"scatter\"}],\"parcoords\":[{\"type\":\"parcoords\",\"line\":{\"colorbar\":{\"outlinewidth\":0,\"ticks\":\"\"}}}],\"scatterpolargl\":[{\"type\":\"scatterpolargl\",\"marker\":{\"colorbar\":{\"outlinewidth\":0,\"ticks\":\"\"}}}],\"bar\":[{\"error_x\":{\"color\":\"#2a3f5f\"},\"error_y\":{\"color\":\"#2a3f5f\"},\"marker\":{\"line\":{\"color\":\"#E5ECF6\",\"width\":0.5},\"pattern\":{\"fillmode\":\"overlay\",\"size\":10,\"solidity\":0.2}},\"type\":\"bar\"}],\"scattergeo\":[{\"type\":\"scattergeo\",\"marker\":{\"colorbar\":{\"outlinewidth\":0,\"ticks\":\"\"}}}],\"scatterpolar\":[{\"type\":\"scatterpolar\",\"marker\":{\"colorbar\":{\"outlinewidth\":0,\"ticks\":\"\"}}}],\"histogram\":[{\"marker\":{\"pattern\":{\"fillmode\":\"overlay\",\"size\":10,\"solidity\":0.2}},\"type\":\"histogram\"}],\"scattergl\":[{\"type\":\"scattergl\",\"marker\":{\"colorbar\":{\"outlinewidth\":0,\"ticks\":\"\"}}}],\"scatter3d\":[{\"type\":\"scatter3d\",\"line\":{\"colorbar\":{\"outlinewidth\":0,\"ticks\":\"\"}},\"marker\":{\"colorbar\":{\"outlinewidth\":0,\"ticks\":\"\"}}}],\"scattermapbox\":[{\"type\":\"scattermapbox\",\"marker\":{\"colorbar\":{\"outlinewidth\":0,\"ticks\":\"\"}}}],\"scatterternary\":[{\"type\":\"scatterternary\",\"marker\":{\"colorbar\":{\"outlinewidth\":0,\"ticks\":\"\"}}}],\"scattercarpet\":[{\"type\":\"scattercarpet\",\"marker\":{\"colorbar\":{\"outlinewidth\":0,\"ticks\":\"\"}}}],\"carpet\":[{\"aaxis\":{\"endlinecolor\":\"#2a3f5f\",\"gridcolor\":\"white\",\"linecolor\":\"white\",\"minorgridcolor\":\"white\",\"startlinecolor\":\"#2a3f5f\"},\"baxis\":{\"endlinecolor\":\"#2a3f5f\",\"gridcolor\":\"white\",\"linecolor\":\"white\",\"minorgridcolor\":\"white\",\"startlinecolor\":\"#2a3f5f\"},\"type\":\"carpet\"}],\"table\":[{\"cells\":{\"fill\":{\"color\":\"#EBF0F8\"},\"line\":{\"color\":\"white\"}},\"header\":{\"fill\":{\"color\":\"#C8D4E3\"},\"line\":{\"color\":\"white\"}},\"type\":\"table\"}],\"barpolar\":[{\"marker\":{\"line\":{\"color\":\"#E5ECF6\",\"width\":0.5},\"pattern\":{\"fillmode\":\"overlay\",\"size\":10,\"solidity\":0.2}},\"type\":\"barpolar\"}],\"pie\":[{\"automargin\":true,\"type\":\"pie\"}]},\"layout\":{\"autotypenumbers\":\"strict\",\"colorway\":[\"#636efa\",\"#EF553B\",\"#00cc96\",\"#ab63fa\",\"#FFA15A\",\"#19d3f3\",\"#FF6692\",\"#B6E880\",\"#FF97FF\",\"#FECB52\"],\"font\":{\"color\":\"#2a3f5f\"},\"hovermode\":\"closest\",\"hoverlabel\":{\"align\":\"left\"},\"paper_bgcolor\":\"white\",\"plot_bgcolor\":\"#E5ECF6\",\"polar\":{\"bgcolor\":\"#E5ECF6\",\"angularaxis\":{\"gridcolor\":\"white\",\"linecolor\":\"white\",\"ticks\":\"\"},\"radialaxis\":{\"gridcolor\":\"white\",\"linecolor\":\"white\",\"ticks\":\"\"}},\"ternary\":{\"bgcolor\":\"#E5ECF6\",\"aaxis\":{\"gridcolor\":\"white\",\"linecolor\":\"white\",\"ticks\":\"\"},\"baxis\":{\"gridcolor\":\"white\",\"linecolor\":\"white\",\"ticks\":\"\"},\"caxis\":{\"gridcolor\":\"white\",\"linecolor\":\"white\",\"ticks\":\"\"}},\"coloraxis\":{\"colorbar\":{\"outlinewidth\":0,\"ticks\":\"\"}},\"colorscale\":{\"sequential\":[[0.0,\"#0d0887\"],[0.1111111111111111,\"#46039f\"],[0.2222222222222222,\"#7201a8\"],[0.3333333333333333,\"#9c179e\"],[0.4444444444444444,\"#bd3786\"],[0.5555555555555556,\"#d8576b\"],[0.6666666666666666,\"#ed7953\"],[0.7777777777777778,\"#fb9f3a\"],[0.8888888888888888,\"#fdca26\"],[1.0,\"#f0f921\"]],\"sequentialminus\":[[0.0,\"#0d0887\"],[0.1111111111111111,\"#46039f\"],[0.2222222222222222,\"#7201a8\"],[0.3333333333333333,\"#9c179e\"],[0.4444444444444444,\"#bd3786\"],[0.5555555555555556,\"#d8576b\"],[0.6666666666666666,\"#ed7953\"],[0.7777777777777778,\"#fb9f3a\"],[0.8888888888888888,\"#fdca26\"],[1.0,\"#f0f921\"]],\"diverging\":[[0,\"#8e0152\"],[0.1,\"#c51b7d\"],[0.2,\"#de77ae\"],[0.3,\"#f1b6da\"],[0.4,\"#fde0ef\"],[0.5,\"#f7f7f7\"],[0.6,\"#e6f5d0\"],[0.7,\"#b8e186\"],[0.8,\"#7fbc41\"],[0.9,\"#4d9221\"],[1,\"#276419\"]]},\"xaxis\":{\"gridcolor\":\"white\",\"linecolor\":\"white\",\"ticks\":\"\",\"title\":{\"standoff\":15},\"zerolinecolor\":\"white\",\"automargin\":true,\"zerolinewidth\":2},\"yaxis\":{\"gridcolor\":\"white\",\"linecolor\":\"white\",\"ticks\":\"\",\"title\":{\"standoff\":15},\"zerolinecolor\":\"white\",\"automargin\":true,\"zerolinewidth\":2},\"scene\":{\"xaxis\":{\"backgroundcolor\":\"#E5ECF6\",\"gridcolor\":\"white\",\"linecolor\":\"white\",\"showbackground\":true,\"ticks\":\"\",\"zerolinecolor\":\"white\",\"gridwidth\":2},\"yaxis\":{\"backgroundcolor\":\"#E5ECF6\",\"gridcolor\":\"white\",\"linecolor\":\"white\",\"showbackground\":true,\"ticks\":\"\",\"zerolinecolor\":\"white\",\"gridwidth\":2},\"zaxis\":{\"backgroundcolor\":\"#E5ECF6\",\"gridcolor\":\"white\",\"linecolor\":\"white\",\"showbackground\":true,\"ticks\":\"\",\"zerolinecolor\":\"white\",\"gridwidth\":2}},\"shapedefaults\":{\"line\":{\"color\":\"#2a3f5f\"}},\"annotationdefaults\":{\"arrowcolor\":\"#2a3f5f\",\"arrowhead\":0,\"arrowwidth\":1},\"geo\":{\"bgcolor\":\"white\",\"landcolor\":\"#E5ECF6\",\"subunitcolor\":\"white\",\"showland\":true,\"showlakes\":true,\"lakecolor\":\"white\"},\"title\":{\"x\":0.05},\"mapbox\":{\"style\":\"light\"}}},\"xaxis\":{\"anchor\":\"y\",\"domain\":[0.0,1.0],\"title\":{\"text\":\"MONTH_DIFFERENCE\"}},\"yaxis\":{\"anchor\":\"x\",\"domain\":[0.0,1.0],\"title\":{\"text\":\"CUSTOMER_ID\"}},\"legend\":{\"title\":{\"text\":\"TAXONOMY_BUSINESS_CATEGORY_GROUP\"},\"tracegroupgap\":0},\"margin\":{\"t\":60}},                        {\"responsive\": true}                    ).then(function(){\n",
       "                            \n",
       "var gd = document.getElementById('95cca7d6-dc1a-4c04-bef9-098f6747e5dd');\n",
       "var x = new MutationObserver(function (mutations, observer) {{\n",
       "        var display = window.getComputedStyle(gd).display;\n",
       "        if (!display || display === 'none') {{\n",
       "            console.log([gd, 'removed!']);\n",
       "            Plotly.purge(gd);\n",
       "            observer.disconnect();\n",
       "        }}\n",
       "}});\n",
       "\n",
       "// Listen for the removal of the full notebook cells\n",
       "var notebookContainer = gd.closest('#notebook-container');\n",
       "if (notebookContainer) {{\n",
       "    x.observe(notebookContainer, {childList: true});\n",
       "}}\n",
       "\n",
       "// Listen for the clearing of the current output cell\n",
       "var outputEl = gd.closest('.output');\n",
       "if (outputEl) {{\n",
       "    x.observe(outputEl, {childList: true});\n",
       "}}\n",
       "\n",
       "                        })                };                });            </script>        </div>"
      ]
     },
     "metadata": {},
     "output_type": "display_data"
    }
   ],
   "source": [
    "##Draw some retention curves for easy analysis across products\n",
    "\n",
    "taxonomy_grouping = final_table.groupby(by=[\"TAXONOMY_BUSINESS_CATEGORY_GROUP\", \"MONTH_DIFFERENCE\"], dropna=False).CUSTOMER_ID.nunique()\n",
    "taxonomy_grouping = taxonomy_grouping.reset_index()\n",
    "# taxonomy_grouping\n",
    "fig = px.line(taxonomy_grouping, x=\"MONTH_DIFFERENCE\", y=\"CUSTOMER_ID\", color='TAXONOMY_BUSINESS_CATEGORY_GROUP')\n",
    "fig.show()\n"
   ]
  },
  {
   "cell_type": "code",
   "execution_count": 122,
   "id": "22f935e7-6e15-4fe8-aeca-a9b25b1558fe",
   "metadata": {},
   "outputs": [
    {
     "name": "stderr",
     "output_type": "stream",
     "text": [
      "/Users/josh/.local/share/virtualenvs/Python_Projects-sX2dV-qo/lib/python3.12/site-packages/plotly/express/_core.py:2065: FutureWarning:\n",
      "\n",
      "When grouping with a length-1 list-like, you will need to pass a length-1 tuple to get_group in a future version of pandas. Pass `(name,)` instead of `name` to silence this warning.\n",
      "\n"
     ]
    },
    {
     "data": {
      "application/vnd.plotly.v1+json": {
       "config": {
        "plotlyServerURL": "https://plot.ly"
       },
       "data": [
        {
         "hovertemplate": "CUSTOMER_FIRST_ACTIVE_MONTH=2019-01-01 00:00:00<br>MONTH_DIFFERENCE=%{x}<br>CUSTOMER_ID=%{y}<extra></extra>",
         "legendgroup": "2019-01-01 00:00:00",
         "line": {
          "color": "#636efa",
          "dash": "solid"
         },
         "marker": {
          "symbol": "circle"
         },
         "mode": "lines",
         "name": "2019-01-01 00:00:00",
         "showlegend": true,
         "type": "scattergl",
         "x": [
          1,
          2,
          3,
          4,
          5,
          6,
          7,
          8,
          9,
          10,
          11,
          12,
          13,
          14,
          15,
          16,
          17,
          18,
          19,
          20,
          21,
          22,
          23,
          24,
          25,
          26,
          27,
          28,
          29,
          30,
          31,
          32,
          33,
          34,
          36,
          37,
          38,
          40,
          41,
          42,
          43,
          44,
          45,
          46,
          47,
          48,
          49,
          50,
          51,
          52,
          53,
          54,
          55,
          56,
          57,
          58,
          59,
          60,
          61,
          62,
          63,
          64,
          65,
          66,
          67
         ],
         "xaxis": "x",
         "y": [
          206,
          206,
          206,
          206,
          206,
          206,
          206,
          206,
          206,
          206,
          206,
          206,
          206,
          206,
          206,
          206,
          206,
          206,
          206,
          206,
          206,
          206,
          206,
          206,
          206,
          206,
          206,
          206,
          206,
          206,
          206,
          206,
          206,
          206,
          206,
          206,
          206,
          206,
          206,
          206,
          206,
          206,
          206,
          206,
          206,
          206,
          206,
          206,
          206,
          206,
          206,
          206,
          206,
          206,
          206,
          206,
          206,
          13,
          12,
          10,
          9,
          11,
          11,
          12,
          10
         ],
         "yaxis": "y"
        },
        {
         "hovertemplate": "CUSTOMER_FIRST_ACTIVE_MONTH=2019-02-01 00:00:00<br>MONTH_DIFFERENCE=%{x}<br>CUSTOMER_ID=%{y}<extra></extra>",
         "legendgroup": "2019-02-01 00:00:00",
         "line": {
          "color": "#EF553B",
          "dash": "solid"
         },
         "marker": {
          "symbol": "circle"
         },
         "mode": "lines",
         "name": "2019-02-01 00:00:00",
         "showlegend": true,
         "type": "scattergl",
         "x": [
          0,
          1,
          2,
          3,
          4,
          5,
          6,
          7,
          8,
          9,
          10,
          11,
          12,
          13,
          14,
          15,
          16,
          17,
          18,
          19,
          20,
          21,
          22,
          23,
          24,
          25,
          26,
          27,
          28,
          29,
          30,
          31,
          32,
          33,
          34,
          36,
          37,
          38,
          40,
          41,
          42,
          43,
          44,
          45,
          46,
          47,
          48,
          49,
          50,
          51,
          52,
          53,
          54,
          55,
          56,
          57,
          58,
          59,
          60,
          61,
          62,
          63,
          64,
          65,
          66
         ],
         "xaxis": "x",
         "y": [
          838,
          838,
          838,
          838,
          838,
          838,
          838,
          838,
          838,
          838,
          838,
          838,
          838,
          838,
          838,
          838,
          838,
          838,
          838,
          838,
          838,
          838,
          838,
          838,
          838,
          838,
          838,
          838,
          838,
          838,
          838,
          838,
          838,
          838,
          838,
          838,
          838,
          838,
          838,
          838,
          838,
          838,
          838,
          838,
          838,
          838,
          838,
          838,
          838,
          838,
          838,
          838,
          838,
          838,
          838,
          838,
          838,
          60,
          59,
          59,
          56,
          56,
          55,
          56,
          50
         ],
         "yaxis": "y"
        },
        {
         "hovertemplate": "CUSTOMER_FIRST_ACTIVE_MONTH=2019-03-01 00:00:00<br>MONTH_DIFFERENCE=%{x}<br>CUSTOMER_ID=%{y}<extra></extra>",
         "legendgroup": "2019-03-01 00:00:00",
         "line": {
          "color": "#00cc96",
          "dash": "solid"
         },
         "marker": {
          "symbol": "circle"
         },
         "mode": "lines",
         "name": "2019-03-01 00:00:00",
         "showlegend": true,
         "type": "scattergl",
         "x": [
          0,
          1,
          2,
          3,
          4,
          5,
          6,
          7,
          8,
          9,
          10,
          11,
          12,
          13,
          14,
          15,
          16,
          17,
          18,
          19,
          20,
          21,
          22,
          23,
          24,
          25,
          26,
          27,
          28,
          29,
          30,
          32,
          33,
          34,
          35,
          36,
          37,
          38,
          39,
          40,
          41,
          42,
          43,
          44,
          45,
          46,
          47,
          48,
          49,
          50,
          51,
          52,
          53,
          54,
          55,
          56,
          57,
          58,
          59,
          60,
          61,
          62,
          63,
          64,
          65
         ],
         "xaxis": "x",
         "y": [
          2572,
          2572,
          2572,
          2572,
          2572,
          2572,
          2572,
          2572,
          2572,
          2572,
          2572,
          2572,
          2572,
          2572,
          2572,
          2572,
          2572,
          2572,
          2572,
          2572,
          2572,
          2572,
          2572,
          2572,
          2572,
          2572,
          2572,
          2572,
          2572,
          2572,
          2572,
          2572,
          2572,
          2572,
          2572,
          2572,
          2572,
          2572,
          2572,
          2572,
          2572,
          2572,
          2572,
          2572,
          2572,
          2572,
          2572,
          2572,
          2572,
          2572,
          2572,
          2572,
          2572,
          2572,
          2572,
          2572,
          2572,
          159,
          158,
          142,
          144,
          141,
          135,
          126,
          111
         ],
         "yaxis": "y"
        },
        {
         "hovertemplate": "CUSTOMER_FIRST_ACTIVE_MONTH=2019-04-01 00:00:00<br>MONTH_DIFFERENCE=%{x}<br>CUSTOMER_ID=%{y}<extra></extra>",
         "legendgroup": "2019-04-01 00:00:00",
         "line": {
          "color": "#ab63fa",
          "dash": "solid"
         },
         "marker": {
          "symbol": "circle"
         },
         "mode": "lines",
         "name": "2019-04-01 00:00:00",
         "showlegend": true,
         "type": "scattergl",
         "x": [
          0,
          1,
          2,
          3,
          4,
          5,
          6,
          7,
          8,
          9,
          10,
          11,
          12,
          13,
          14,
          15,
          16,
          17,
          18,
          19,
          20,
          21,
          22,
          23,
          24,
          25,
          26,
          27,
          28,
          29,
          30,
          32,
          34,
          35,
          36,
          37,
          38,
          39,
          40,
          41,
          42,
          43,
          44,
          45,
          46,
          47,
          48,
          49,
          50,
          51,
          52,
          53,
          54,
          55,
          56,
          57,
          58,
          59,
          60,
          61,
          62,
          63,
          64
         ],
         "xaxis": "x",
         "y": [
          3000,
          3000,
          3000,
          3000,
          3000,
          3000,
          3000,
          3000,
          3000,
          3000,
          3000,
          3000,
          3000,
          3000,
          3000,
          3000,
          3000,
          3000,
          3000,
          3000,
          3000,
          3000,
          3000,
          3000,
          3000,
          3000,
          3000,
          3000,
          3000,
          3000,
          3000,
          3000,
          3000,
          3000,
          3000,
          3000,
          3000,
          3000,
          3000,
          3000,
          3000,
          3000,
          3000,
          3000,
          3000,
          3000,
          3000,
          3000,
          3000,
          3000,
          3000,
          3000,
          3000,
          3000,
          3000,
          145,
          138,
          142,
          154,
          144,
          137,
          145,
          119
         ],
         "yaxis": "y"
        },
        {
         "hovertemplate": "CUSTOMER_FIRST_ACTIVE_MONTH=2019-05-01 00:00:00<br>MONTH_DIFFERENCE=%{x}<br>CUSTOMER_ID=%{y}<extra></extra>",
         "legendgroup": "2019-05-01 00:00:00",
         "line": {
          "color": "#FFA15A",
          "dash": "solid"
         },
         "marker": {
          "symbol": "circle"
         },
         "mode": "lines",
         "name": "2019-05-01 00:00:00",
         "showlegend": true,
         "type": "scattergl",
         "x": [
          0,
          1,
          2,
          3,
          4,
          5,
          6,
          7,
          8,
          9,
          10,
          11,
          12,
          13,
          14,
          15,
          16,
          17,
          18,
          19,
          20,
          21,
          22,
          23,
          24,
          25,
          26,
          27,
          28,
          29,
          30,
          32,
          33,
          34,
          36,
          37,
          38,
          39,
          40,
          41,
          42,
          43,
          44,
          45,
          46,
          47,
          48,
          49,
          50,
          51,
          52,
          53,
          54,
          55,
          56,
          57,
          58,
          59,
          60,
          61,
          62,
          63
         ],
         "xaxis": "x",
         "y": [
          3301,
          3301,
          3301,
          3301,
          3301,
          3301,
          3301,
          3301,
          3301,
          3301,
          3301,
          3301,
          3301,
          3301,
          3301,
          3301,
          3301,
          3301,
          3301,
          3301,
          3301,
          3301,
          3301,
          3301,
          3301,
          3301,
          3301,
          3301,
          3301,
          3301,
          3301,
          3301,
          3301,
          3301,
          3301,
          3301,
          3301,
          3301,
          3301,
          3301,
          3301,
          3301,
          3301,
          3301,
          3301,
          3301,
          3301,
          3301,
          3301,
          3301,
          3301,
          3301,
          3301,
          3301,
          165,
          169,
          170,
          166,
          156,
          161,
          157,
          132
         ],
         "yaxis": "y"
        },
        {
         "hovertemplate": "CUSTOMER_FIRST_ACTIVE_MONTH=2019-06-01 00:00:00<br>MONTH_DIFFERENCE=%{x}<br>CUSTOMER_ID=%{y}<extra></extra>",
         "legendgroup": "2019-06-01 00:00:00",
         "line": {
          "color": "#19d3f3",
          "dash": "solid"
         },
         "marker": {
          "symbol": "circle"
         },
         "mode": "lines",
         "name": "2019-06-01 00:00:00",
         "showlegend": true,
         "type": "scattergl",
         "x": [
          0,
          1,
          2,
          3,
          4,
          5,
          6,
          7,
          8,
          9,
          10,
          11,
          12,
          13,
          14,
          15,
          16,
          17,
          18,
          19,
          20,
          21,
          22,
          23,
          24,
          25,
          26,
          27,
          28,
          29,
          30,
          32,
          33,
          34,
          36,
          37,
          38,
          39,
          40,
          41,
          42,
          43,
          44,
          45,
          46,
          47,
          48,
          49,
          50,
          51,
          52,
          53,
          54,
          55,
          56,
          57,
          58,
          59,
          60,
          61,
          62
         ],
         "xaxis": "x",
         "y": [
          3754,
          3754,
          3754,
          3754,
          3754,
          3754,
          3754,
          3754,
          3754,
          3754,
          3754,
          3754,
          3754,
          3754,
          3754,
          3754,
          3754,
          3754,
          3754,
          3754,
          3754,
          3754,
          3754,
          3754,
          3754,
          3754,
          3754,
          3754,
          3754,
          3754,
          3754,
          3754,
          3754,
          3754,
          3754,
          3754,
          3754,
          3754,
          3754,
          3754,
          3754,
          3754,
          3754,
          3754,
          3754,
          3754,
          3754,
          3754,
          3754,
          3754,
          3754,
          3754,
          3754,
          219,
          222,
          221,
          215,
          198,
          198,
          196,
          176
         ],
         "yaxis": "y"
        },
        {
         "hovertemplate": "CUSTOMER_FIRST_ACTIVE_MONTH=2019-07-01 00:00:00<br>MONTH_DIFFERENCE=%{x}<br>CUSTOMER_ID=%{y}<extra></extra>",
         "legendgroup": "2019-07-01 00:00:00",
         "line": {
          "color": "#FF6692",
          "dash": "solid"
         },
         "marker": {
          "symbol": "circle"
         },
         "mode": "lines",
         "name": "2019-07-01 00:00:00",
         "showlegend": true,
         "type": "scattergl",
         "x": [
          0,
          1,
          2,
          3,
          4,
          5,
          6,
          7,
          8,
          9,
          10,
          11,
          12,
          13,
          14,
          15,
          16,
          17,
          18,
          19,
          20,
          21,
          22,
          23,
          24,
          25,
          26,
          27,
          28,
          29,
          30,
          32,
          34,
          36,
          37,
          38,
          39,
          40,
          41,
          42,
          43,
          44,
          45,
          46,
          47,
          48,
          49,
          50,
          51,
          52,
          53,
          54,
          55,
          56,
          57,
          58,
          59,
          60,
          61
         ],
         "xaxis": "x",
         "y": [
          2157,
          2157,
          2157,
          2157,
          2157,
          2157,
          2157,
          2157,
          2157,
          2157,
          2157,
          2157,
          2157,
          2157,
          2157,
          2157,
          2157,
          2157,
          2157,
          2157,
          2157,
          2157,
          2157,
          2157,
          2157,
          2157,
          2157,
          2157,
          2157,
          2157,
          2157,
          2157,
          2157,
          2157,
          2157,
          2157,
          2157,
          2157,
          2157,
          2157,
          2157,
          2157,
          2157,
          2157,
          2157,
          2157,
          2157,
          2157,
          2157,
          2157,
          2157,
          155,
          163,
          151,
          146,
          145,
          135,
          140,
          127
         ],
         "yaxis": "y"
        },
        {
         "hovertemplate": "CUSTOMER_FIRST_ACTIVE_MONTH=2019-08-01 00:00:00<br>MONTH_DIFFERENCE=%{x}<br>CUSTOMER_ID=%{y}<extra></extra>",
         "legendgroup": "2019-08-01 00:00:00",
         "line": {
          "color": "#B6E880",
          "dash": "solid"
         },
         "marker": {
          "symbol": "circle"
         },
         "mode": "lines",
         "name": "2019-08-01 00:00:00",
         "showlegend": true,
         "type": "scattergl",
         "x": [
          0,
          1,
          2,
          3,
          4,
          5,
          6,
          7,
          8,
          9,
          10,
          11,
          12,
          13,
          14,
          15,
          16,
          17,
          18,
          19,
          20,
          21,
          22,
          23,
          24,
          25,
          26,
          27,
          28,
          29,
          30,
          31,
          32,
          33,
          34,
          36,
          37,
          38,
          39,
          40,
          41,
          42,
          43,
          44,
          45,
          46,
          47,
          48,
          49,
          50,
          51,
          52,
          53,
          54,
          55,
          56,
          57,
          58,
          59,
          60
         ],
         "xaxis": "x",
         "y": [
          1433,
          1433,
          1433,
          1433,
          1433,
          1433,
          1433,
          1433,
          1433,
          1433,
          1433,
          1433,
          1433,
          1433,
          1433,
          1433,
          1433,
          1433,
          1433,
          1433,
          1433,
          1433,
          1433,
          1433,
          1433,
          1433,
          1433,
          1433,
          1433,
          1433,
          1433,
          1433,
          1433,
          1433,
          1433,
          1433,
          1433,
          1433,
          1433,
          1433,
          1433,
          1433,
          1433,
          1433,
          1433,
          1433,
          1433,
          1433,
          1433,
          1433,
          1433,
          1433,
          102,
          96,
          95,
          93,
          88,
          92,
          94,
          80
         ],
         "yaxis": "y"
        },
        {
         "hovertemplate": "CUSTOMER_FIRST_ACTIVE_MONTH=2019-09-01 00:00:00<br>MONTH_DIFFERENCE=%{x}<br>CUSTOMER_ID=%{y}<extra></extra>",
         "legendgroup": "2019-09-01 00:00:00",
         "line": {
          "color": "#FF97FF",
          "dash": "solid"
         },
         "marker": {
          "symbol": "circle"
         },
         "mode": "lines",
         "name": "2019-09-01 00:00:00",
         "showlegend": true,
         "type": "scattergl",
         "x": [
          0,
          1,
          2,
          3,
          4,
          5,
          6,
          7,
          8,
          9,
          10,
          11,
          12,
          13,
          14,
          15,
          16,
          17,
          18,
          19,
          20,
          21,
          22,
          23,
          24,
          25,
          26,
          27,
          28,
          29,
          30,
          31,
          32,
          33,
          34,
          36,
          37,
          38,
          39,
          40,
          41,
          42,
          43,
          44,
          45,
          46,
          47,
          48,
          49,
          50,
          51,
          52,
          53,
          54,
          55,
          56,
          57,
          58,
          59
         ],
         "xaxis": "x",
         "y": [
          1439,
          1439,
          1439,
          1439,
          1439,
          1439,
          1439,
          1439,
          1439,
          1439,
          1439,
          1439,
          1439,
          1439,
          1439,
          1439,
          1439,
          1439,
          1439,
          1439,
          1439,
          1439,
          1439,
          1439,
          1439,
          1439,
          1439,
          1439,
          1439,
          1439,
          1439,
          1439,
          1439,
          1439,
          1439,
          1439,
          1439,
          1439,
          1439,
          1439,
          1439,
          1439,
          1439,
          1439,
          1439,
          1439,
          1439,
          1439,
          1439,
          1439,
          1439,
          126,
          123,
          113,
          114,
          109,
          114,
          121,
          103
         ],
         "yaxis": "y"
        },
        {
         "hovertemplate": "CUSTOMER_FIRST_ACTIVE_MONTH=2019-10-01 00:00:00<br>MONTH_DIFFERENCE=%{x}<br>CUSTOMER_ID=%{y}<extra></extra>",
         "legendgroup": "2019-10-01 00:00:00",
         "line": {
          "color": "#FECB52",
          "dash": "solid"
         },
         "marker": {
          "symbol": "circle"
         },
         "mode": "lines",
         "name": "2019-10-01 00:00:00",
         "showlegend": true,
         "type": "scattergl",
         "x": [
          0,
          1,
          2,
          3,
          4,
          5,
          6,
          7,
          8,
          9,
          10,
          11,
          12,
          13,
          14,
          15,
          16,
          17,
          18,
          19,
          20,
          21,
          22,
          23,
          24,
          25,
          26,
          27,
          28,
          29,
          30,
          31,
          32,
          33,
          34,
          36,
          37,
          38,
          39,
          40,
          41,
          42,
          43,
          44,
          45,
          46,
          47,
          48,
          49,
          50,
          51,
          52,
          53,
          54,
          55,
          56,
          57,
          58
         ],
         "xaxis": "x",
         "y": [
          1562,
          1562,
          1562,
          1562,
          1562,
          1562,
          1562,
          1562,
          1562,
          1562,
          1562,
          1562,
          1562,
          1562,
          1562,
          1562,
          1562,
          1562,
          1562,
          1562,
          1562,
          1562,
          1562,
          1562,
          1562,
          1562,
          1562,
          1562,
          1562,
          1562,
          1562,
          1562,
          1562,
          1562,
          1562,
          1562,
          1562,
          1562,
          1562,
          1562,
          1562,
          1562,
          1562,
          1562,
          1562,
          1562,
          1562,
          1562,
          1562,
          1562,
          135,
          143,
          141,
          133,
          122,
          120,
          123,
          110
         ],
         "yaxis": "y"
        },
        {
         "hovertemplate": "CUSTOMER_FIRST_ACTIVE_MONTH=2019-11-01 00:00:00<br>MONTH_DIFFERENCE=%{x}<br>CUSTOMER_ID=%{y}<extra></extra>",
         "legendgroup": "2019-11-01 00:00:00",
         "line": {
          "color": "#636efa",
          "dash": "solid"
         },
         "marker": {
          "symbol": "circle"
         },
         "mode": "lines",
         "name": "2019-11-01 00:00:00",
         "showlegend": true,
         "type": "scattergl",
         "x": [
          0,
          1,
          2,
          3,
          4,
          5,
          6,
          7,
          8,
          9,
          10,
          11,
          12,
          13,
          14,
          15,
          16,
          17,
          18,
          19,
          20,
          21,
          22,
          23,
          24,
          25,
          26,
          27,
          28,
          29,
          30,
          31,
          32,
          33,
          34,
          36,
          37,
          38,
          39,
          40,
          41,
          42,
          43,
          44,
          45,
          46,
          47,
          48,
          49,
          50,
          51,
          52,
          53,
          54,
          55,
          56,
          57
         ],
         "xaxis": "x",
         "y": [
          789,
          789,
          789,
          789,
          789,
          789,
          789,
          789,
          789,
          789,
          789,
          789,
          789,
          789,
          789,
          789,
          789,
          789,
          789,
          789,
          789,
          789,
          789,
          789,
          789,
          789,
          789,
          789,
          789,
          789,
          789,
          789,
          789,
          789,
          789,
          789,
          789,
          789,
          789,
          789,
          789,
          789,
          789,
          789,
          789,
          789,
          789,
          789,
          789,
          80,
          80,
          79,
          81,
          79,
          76,
          77,
          67
         ],
         "yaxis": "y"
        },
        {
         "hovertemplate": "CUSTOMER_FIRST_ACTIVE_MONTH=2019-12-01 00:00:00<br>MONTH_DIFFERENCE=%{x}<br>CUSTOMER_ID=%{y}<extra></extra>",
         "legendgroup": "2019-12-01 00:00:00",
         "line": {
          "color": "#EF553B",
          "dash": "solid"
         },
         "marker": {
          "symbol": "circle"
         },
         "mode": "lines",
         "name": "2019-12-01 00:00:00",
         "showlegend": true,
         "type": "scattergl",
         "x": [
          0,
          1,
          2,
          3,
          4,
          5,
          6,
          7,
          8,
          9,
          10,
          11,
          12,
          13,
          14,
          15,
          16,
          17,
          18,
          19,
          20,
          21,
          22,
          23,
          24,
          25,
          26,
          27,
          28,
          29,
          30,
          31,
          32,
          34,
          36,
          37,
          38,
          39,
          40,
          41,
          42,
          43,
          44,
          45,
          46,
          47,
          48,
          49,
          50,
          51,
          52,
          53,
          54,
          55,
          56
         ],
         "xaxis": "x",
         "y": [
          1231,
          1231,
          1231,
          1231,
          1231,
          1231,
          1231,
          1231,
          1231,
          1231,
          1231,
          1231,
          1231,
          1231,
          1231,
          1231,
          1231,
          1231,
          1231,
          1231,
          1231,
          1231,
          1231,
          1231,
          1231,
          1231,
          1231,
          1231,
          1231,
          1231,
          1231,
          1231,
          1231,
          1231,
          1231,
          1231,
          1231,
          1231,
          1231,
          1231,
          1231,
          1231,
          1231,
          1231,
          1231,
          1231,
          1231,
          98,
          96,
          85,
          88,
          86,
          84,
          83,
          72
         ],
         "yaxis": "y"
        },
        {
         "hovertemplate": "CUSTOMER_FIRST_ACTIVE_MONTH=2020-01-01 00:00:00<br>MONTH_DIFFERENCE=%{x}<br>CUSTOMER_ID=%{y}<extra></extra>",
         "legendgroup": "2020-01-01 00:00:00",
         "line": {
          "color": "#00cc96",
          "dash": "solid"
         },
         "marker": {
          "symbol": "circle"
         },
         "mode": "lines",
         "name": "2020-01-01 00:00:00",
         "showlegend": true,
         "type": "scattergl",
         "x": [
          0,
          1,
          2,
          3,
          4,
          5,
          6,
          7,
          8,
          9,
          10,
          11,
          12,
          13,
          14,
          15,
          16,
          17,
          18,
          19,
          20,
          21,
          22,
          23,
          24,
          25,
          26,
          27,
          28,
          29,
          30,
          31,
          32,
          33,
          34,
          36,
          37,
          38,
          40,
          41,
          42,
          43,
          44,
          45,
          46,
          47,
          48,
          49,
          50,
          51,
          52,
          53,
          54,
          55
         ],
         "xaxis": "x",
         "y": [
          1390,
          1390,
          1390,
          1390,
          1390,
          1390,
          1390,
          1390,
          1390,
          1390,
          1390,
          1390,
          1390,
          1390,
          1390,
          1390,
          1390,
          1390,
          1390,
          1390,
          1390,
          1390,
          1390,
          1390,
          1390,
          1390,
          1390,
          1390,
          1390,
          1390,
          1390,
          1390,
          1390,
          1390,
          1390,
          1390,
          1390,
          1390,
          1390,
          1390,
          1390,
          1390,
          1390,
          1390,
          1390,
          1390,
          122,
          120,
          117,
          118,
          116,
          116,
          114,
          104
         ],
         "yaxis": "y"
        },
        {
         "hovertemplate": "CUSTOMER_FIRST_ACTIVE_MONTH=2020-02-01 00:00:00<br>MONTH_DIFFERENCE=%{x}<br>CUSTOMER_ID=%{y}<extra></extra>",
         "legendgroup": "2020-02-01 00:00:00",
         "line": {
          "color": "#ab63fa",
          "dash": "solid"
         },
         "marker": {
          "symbol": "circle"
         },
         "mode": "lines",
         "name": "2020-02-01 00:00:00",
         "showlegend": true,
         "type": "scattergl",
         "x": [
          0,
          1,
          2,
          3,
          4,
          5,
          6,
          7,
          8,
          9,
          10,
          11,
          12,
          13,
          14,
          15,
          16,
          17,
          18,
          19,
          20,
          21,
          22,
          23,
          24,
          25,
          26,
          27,
          28,
          29,
          30,
          31,
          32,
          33,
          34,
          36,
          37,
          38,
          40,
          41,
          42,
          43,
          44,
          45,
          46,
          47,
          48,
          49,
          50,
          51,
          52,
          53,
          54
         ],
         "xaxis": "x",
         "y": [
          1070,
          1070,
          1070,
          1070,
          1070,
          1070,
          1070,
          1070,
          1070,
          1070,
          1070,
          1070,
          1070,
          1070,
          1070,
          1070,
          1070,
          1070,
          1070,
          1070,
          1070,
          1070,
          1070,
          1070,
          1070,
          1070,
          1070,
          1070,
          1070,
          1070,
          1070,
          1070,
          1070,
          1070,
          1070,
          1070,
          1070,
          1070,
          1070,
          1070,
          1070,
          1070,
          1070,
          1070,
          1070,
          113,
          108,
          105,
          108,
          95,
          98,
          99,
          89
         ],
         "yaxis": "y"
        },
        {
         "hovertemplate": "CUSTOMER_FIRST_ACTIVE_MONTH=2020-03-01 00:00:00<br>MONTH_DIFFERENCE=%{x}<br>CUSTOMER_ID=%{y}<extra></extra>",
         "legendgroup": "2020-03-01 00:00:00",
         "line": {
          "color": "#FFA15A",
          "dash": "solid"
         },
         "marker": {
          "symbol": "circle"
         },
         "mode": "lines",
         "name": "2020-03-01 00:00:00",
         "showlegend": true,
         "type": "scattergl",
         "x": [
          0,
          1,
          2,
          3,
          4,
          5,
          6,
          7,
          8,
          9,
          10,
          11,
          12,
          13,
          14,
          15,
          16,
          17,
          18,
          19,
          20,
          21,
          22,
          23,
          24,
          25,
          26,
          27,
          28,
          29,
          30,
          31,
          32,
          34,
          35,
          36,
          38,
          39,
          40,
          41,
          42,
          43,
          44,
          45,
          46,
          47,
          48,
          49,
          50,
          51,
          52,
          53
         ],
         "xaxis": "x",
         "y": [
          1079,
          1079,
          1079,
          1079,
          1079,
          1079,
          1079,
          1079,
          1079,
          1079,
          1079,
          1079,
          1079,
          1079,
          1079,
          1079,
          1079,
          1079,
          1079,
          1079,
          1079,
          1079,
          1079,
          1079,
          1079,
          1079,
          1079,
          1079,
          1079,
          1079,
          1079,
          1079,
          1079,
          1079,
          1079,
          1079,
          1079,
          1079,
          1079,
          1079,
          1079,
          1079,
          1079,
          1079,
          134,
          131,
          130,
          128,
          127,
          125,
          115,
          102
         ],
         "yaxis": "y"
        },
        {
         "hovertemplate": "CUSTOMER_FIRST_ACTIVE_MONTH=2020-04-01 00:00:00<br>MONTH_DIFFERENCE=%{x}<br>CUSTOMER_ID=%{y}<extra></extra>",
         "legendgroup": "2020-04-01 00:00:00",
         "line": {
          "color": "#19d3f3",
          "dash": "solid"
         },
         "marker": {
          "symbol": "circle"
         },
         "mode": "lines",
         "name": "2020-04-01 00:00:00",
         "showlegend": true,
         "type": "scattergl",
         "x": [
          0,
          1,
          2,
          3,
          4,
          5,
          6,
          7,
          8,
          9,
          10,
          11,
          12,
          13,
          14,
          15,
          16,
          17,
          18,
          19,
          20,
          21,
          22,
          23,
          24,
          25,
          26,
          27,
          28,
          29,
          30,
          31,
          32,
          34,
          35,
          36,
          38,
          39,
          40,
          41,
          42,
          43,
          44,
          45,
          46,
          47,
          48,
          49,
          50,
          51,
          52
         ],
         "xaxis": "x",
         "y": [
          1507,
          1507,
          1507,
          1507,
          1507,
          1507,
          1507,
          1507,
          1507,
          1507,
          1507,
          1507,
          1507,
          1507,
          1507,
          1507,
          1507,
          1507,
          1507,
          1507,
          1507,
          1507,
          1507,
          1507,
          1507,
          1507,
          1507,
          1507,
          1507,
          1507,
          1507,
          1507,
          1507,
          1507,
          1507,
          1507,
          1507,
          1507,
          1507,
          1507,
          1507,
          1507,
          1507,
          188,
          175,
          185,
          184,
          182,
          184,
          173,
          161
         ],
         "yaxis": "y"
        },
        {
         "hovertemplate": "CUSTOMER_FIRST_ACTIVE_MONTH=2020-05-01 00:00:00<br>MONTH_DIFFERENCE=%{x}<br>CUSTOMER_ID=%{y}<extra></extra>",
         "legendgroup": "2020-05-01 00:00:00",
         "line": {
          "color": "#FF6692",
          "dash": "solid"
         },
         "marker": {
          "symbol": "circle"
         },
         "mode": "lines",
         "name": "2020-05-01 00:00:00",
         "showlegend": true,
         "type": "scattergl",
         "x": [
          0,
          1,
          2,
          3,
          4,
          5,
          6,
          7,
          8,
          9,
          10,
          11,
          12,
          13,
          14,
          15,
          16,
          17,
          18,
          19,
          20,
          21,
          22,
          23,
          24,
          25,
          26,
          27,
          28,
          29,
          30,
          31,
          32,
          34,
          36,
          38,
          39,
          40,
          41,
          42,
          43,
          44,
          45,
          46,
          47,
          48,
          49,
          50,
          51
         ],
         "xaxis": "x",
         "y": [
          1681,
          1681,
          1681,
          1681,
          1681,
          1681,
          1681,
          1681,
          1681,
          1681,
          1681,
          1681,
          1681,
          1681,
          1681,
          1681,
          1681,
          1681,
          1681,
          1681,
          1681,
          1681,
          1681,
          1681,
          1681,
          1681,
          1681,
          1681,
          1681,
          1681,
          1681,
          1681,
          1681,
          1681,
          1681,
          1681,
          1681,
          1681,
          1681,
          1681,
          1681,
          198,
          202,
          190,
          192,
          179,
          172,
          168,
          159
         ],
         "yaxis": "y"
        },
        {
         "hovertemplate": "CUSTOMER_FIRST_ACTIVE_MONTH=2020-06-01 00:00:00<br>MONTH_DIFFERENCE=%{x}<br>CUSTOMER_ID=%{y}<extra></extra>",
         "legendgroup": "2020-06-01 00:00:00",
         "line": {
          "color": "#B6E880",
          "dash": "solid"
         },
         "marker": {
          "symbol": "circle"
         },
         "mode": "lines",
         "name": "2020-06-01 00:00:00",
         "showlegend": true,
         "type": "scattergl",
         "x": [
          0,
          1,
          2,
          3,
          4,
          5,
          6,
          7,
          8,
          9,
          10,
          11,
          12,
          13,
          14,
          15,
          16,
          17,
          18,
          19,
          20,
          21,
          22,
          23,
          24,
          25,
          26,
          27,
          28,
          29,
          30,
          31,
          32,
          33,
          34,
          35,
          36,
          38,
          39,
          40,
          41,
          42,
          43,
          44,
          45,
          46,
          47,
          48,
          49,
          50
         ],
         "xaxis": "x",
         "y": [
          1446,
          1446,
          1446,
          1446,
          1446,
          1446,
          1446,
          1446,
          1446,
          1446,
          1446,
          1446,
          1446,
          1446,
          1446,
          1446,
          1446,
          1446,
          1446,
          1446,
          1446,
          1446,
          1446,
          1446,
          1446,
          1446,
          1446,
          1446,
          1446,
          1446,
          1446,
          1446,
          1446,
          1446,
          1446,
          1446,
          1446,
          1446,
          1446,
          1446,
          1446,
          1446,
          169,
          170,
          167,
          157,
          159,
          155,
          147,
          133
         ],
         "yaxis": "y"
        },
        {
         "hovertemplate": "CUSTOMER_FIRST_ACTIVE_MONTH=2020-07-01 00:00:00<br>MONTH_DIFFERENCE=%{x}<br>CUSTOMER_ID=%{y}<extra></extra>",
         "legendgroup": "2020-07-01 00:00:00",
         "line": {
          "color": "#FF97FF",
          "dash": "solid"
         },
         "marker": {
          "symbol": "circle"
         },
         "mode": "lines",
         "name": "2020-07-01 00:00:00",
         "showlegend": true,
         "type": "scattergl",
         "x": [
          0,
          1,
          2,
          3,
          4,
          5,
          6,
          7,
          8,
          9,
          10,
          11,
          12,
          13,
          14,
          15,
          16,
          17,
          18,
          19,
          20,
          21,
          22,
          23,
          24,
          25,
          26,
          27,
          28,
          29,
          30,
          32,
          33,
          34,
          36,
          38,
          39,
          40,
          41,
          42,
          43,
          44,
          45,
          46,
          47,
          48,
          49
         ],
         "xaxis": "x",
         "y": [
          1673,
          1673,
          1673,
          1673,
          1673,
          1673,
          1673,
          1673,
          1673,
          1673,
          1673,
          1673,
          1673,
          1673,
          1673,
          1673,
          1673,
          1673,
          1673,
          1673,
          1673,
          1673,
          1673,
          1673,
          1673,
          1673,
          1673,
          1673,
          1673,
          1673,
          1673,
          1673,
          1673,
          1673,
          1673,
          1673,
          1673,
          1673,
          1673,
          202,
          198,
          189,
          186,
          182,
          178,
          168,
          149
         ],
         "yaxis": "y"
        },
        {
         "hovertemplate": "CUSTOMER_FIRST_ACTIVE_MONTH=2020-08-01 00:00:00<br>MONTH_DIFFERENCE=%{x}<br>CUSTOMER_ID=%{y}<extra></extra>",
         "legendgroup": "2020-08-01 00:00:00",
         "line": {
          "color": "#FECB52",
          "dash": "solid"
         },
         "marker": {
          "symbol": "circle"
         },
         "mode": "lines",
         "name": "2020-08-01 00:00:00",
         "showlegend": true,
         "type": "scattergl",
         "x": [
          0,
          1,
          2,
          3,
          4,
          5,
          6,
          7,
          8,
          9,
          10,
          11,
          12,
          13,
          14,
          15,
          16,
          17,
          18,
          19,
          20,
          21,
          22,
          23,
          24,
          25,
          26,
          27,
          28,
          29,
          30,
          31,
          32,
          33,
          34,
          35,
          36,
          38,
          39,
          40,
          41,
          42,
          43,
          44,
          45,
          46,
          47,
          48
         ],
         "xaxis": "x",
         "y": [
          2040,
          2040,
          2040,
          2040,
          2040,
          2040,
          2040,
          2040,
          2040,
          2040,
          2040,
          2040,
          2040,
          2040,
          2040,
          2040,
          2040,
          2040,
          2040,
          2040,
          2040,
          2040,
          2040,
          2040,
          2040,
          2040,
          2040,
          2040,
          2040,
          2040,
          2040,
          2040,
          2040,
          2040,
          2040,
          2040,
          2040,
          2040,
          2040,
          2040,
          225,
          226,
          222,
          216,
          203,
          207,
          198,
          184
         ],
         "yaxis": "y"
        },
        {
         "hovertemplate": "CUSTOMER_FIRST_ACTIVE_MONTH=2020-09-01 00:00:00<br>MONTH_DIFFERENCE=%{x}<br>CUSTOMER_ID=%{y}<extra></extra>",
         "legendgroup": "2020-09-01 00:00:00",
         "line": {
          "color": "#636efa",
          "dash": "solid"
         },
         "marker": {
          "symbol": "circle"
         },
         "mode": "lines",
         "name": "2020-09-01 00:00:00",
         "showlegend": true,
         "type": "scattergl",
         "x": [
          0,
          1,
          2,
          3,
          4,
          5,
          6,
          7,
          8,
          9,
          10,
          11,
          12,
          13,
          14,
          15,
          16,
          17,
          18,
          19,
          20,
          21,
          22,
          23,
          24,
          25,
          26,
          27,
          28,
          29,
          30,
          31,
          32,
          33,
          34,
          35,
          36,
          38,
          39,
          40,
          41,
          42,
          43,
          44,
          45,
          46,
          47
         ],
         "xaxis": "x",
         "y": [
          2319,
          2319,
          2319,
          2319,
          2319,
          2319,
          2319,
          2319,
          2319,
          2319,
          2319,
          2319,
          2319,
          2319,
          2319,
          2319,
          2319,
          2319,
          2319,
          2319,
          2319,
          2319,
          2319,
          2319,
          2319,
          2319,
          2319,
          2319,
          2319,
          2319,
          2319,
          2319,
          2319,
          2319,
          2319,
          2319,
          2319,
          2319,
          2319,
          263,
          272,
          266,
          260,
          258,
          245,
          242,
          222
         ],
         "yaxis": "y"
        },
        {
         "hovertemplate": "CUSTOMER_FIRST_ACTIVE_MONTH=2020-10-01 00:00:00<br>MONTH_DIFFERENCE=%{x}<br>CUSTOMER_ID=%{y}<extra></extra>",
         "legendgroup": "2020-10-01 00:00:00",
         "line": {
          "color": "#EF553B",
          "dash": "solid"
         },
         "marker": {
          "symbol": "circle"
         },
         "mode": "lines",
         "name": "2020-10-01 00:00:00",
         "showlegend": true,
         "type": "scattergl",
         "x": [
          0,
          1,
          2,
          3,
          4,
          5,
          6,
          7,
          8,
          9,
          10,
          11,
          12,
          13,
          14,
          15,
          16,
          17,
          18,
          19,
          20,
          21,
          22,
          23,
          24,
          25,
          26,
          27,
          28,
          29,
          30,
          31,
          32,
          33,
          34,
          36,
          38,
          39,
          40,
          41,
          42,
          43,
          44,
          45,
          46
         ],
         "xaxis": "x",
         "y": [
          2230,
          2230,
          2230,
          2230,
          2230,
          2230,
          2230,
          2230,
          2230,
          2230,
          2230,
          2230,
          2230,
          2230,
          2230,
          2230,
          2230,
          2230,
          2230,
          2230,
          2230,
          2230,
          2230,
          2230,
          2230,
          2230,
          2230,
          2230,
          2230,
          2230,
          2230,
          2230,
          2230,
          2230,
          2230,
          2230,
          2230,
          269,
          254,
          248,
          247,
          227,
          221,
          222,
          198
         ],
         "yaxis": "y"
        },
        {
         "hovertemplate": "CUSTOMER_FIRST_ACTIVE_MONTH=2020-11-01 00:00:00<br>MONTH_DIFFERENCE=%{x}<br>CUSTOMER_ID=%{y}<extra></extra>",
         "legendgroup": "2020-11-01 00:00:00",
         "line": {
          "color": "#00cc96",
          "dash": "solid"
         },
         "marker": {
          "symbol": "circle"
         },
         "mode": "lines",
         "name": "2020-11-01 00:00:00",
         "showlegend": true,
         "type": "scattergl",
         "x": [
          0,
          1,
          2,
          3,
          4,
          5,
          6,
          7,
          8,
          9,
          10,
          11,
          12,
          13,
          14,
          15,
          16,
          17,
          18,
          19,
          20,
          21,
          22,
          23,
          24,
          25,
          26,
          27,
          28,
          29,
          30,
          31,
          32,
          33,
          34,
          35,
          36,
          38,
          39,
          40,
          41,
          42,
          43,
          44,
          45
         ],
         "xaxis": "x",
         "y": [
          2729,
          2729,
          2729,
          2729,
          2729,
          2729,
          2729,
          2729,
          2729,
          2729,
          2729,
          2729,
          2729,
          2729,
          2729,
          2729,
          2729,
          2729,
          2729,
          2729,
          2729,
          2729,
          2729,
          2729,
          2729,
          2729,
          2729,
          2729,
          2729,
          2729,
          2729,
          2729,
          2729,
          2729,
          2729,
          2729,
          2729,
          329,
          320,
          304,
          293,
          288,
          282,
          275,
          262
         ],
         "yaxis": "y"
        },
        {
         "hovertemplate": "CUSTOMER_FIRST_ACTIVE_MONTH=2020-12-01 00:00:00<br>MONTH_DIFFERENCE=%{x}<br>CUSTOMER_ID=%{y}<extra></extra>",
         "legendgroup": "2020-12-01 00:00:00",
         "line": {
          "color": "#ab63fa",
          "dash": "solid"
         },
         "marker": {
          "symbol": "circle"
         },
         "mode": "lines",
         "name": "2020-12-01 00:00:00",
         "showlegend": true,
         "type": "scattergl",
         "x": [
          0,
          1,
          2,
          3,
          4,
          5,
          6,
          7,
          8,
          9,
          10,
          11,
          12,
          13,
          14,
          15,
          16,
          17,
          18,
          19,
          20,
          21,
          22,
          23,
          24,
          25,
          26,
          27,
          28,
          29,
          30,
          31,
          32,
          33,
          34,
          36,
          38,
          39,
          40,
          41,
          42,
          43,
          44
         ],
         "xaxis": "x",
         "y": [
          3321,
          3321,
          3321,
          3321,
          3321,
          3321,
          3321,
          3321,
          3321,
          3321,
          3321,
          3321,
          3321,
          3321,
          3321,
          3321,
          3321,
          3321,
          3321,
          3321,
          3321,
          3321,
          3321,
          3321,
          3321,
          3321,
          3321,
          3321,
          3321,
          3321,
          3321,
          3321,
          3321,
          3321,
          3321,
          3321,
          388,
          379,
          366,
          357,
          352,
          346,
          327
         ],
         "yaxis": "y"
        },
        {
         "hovertemplate": "CUSTOMER_FIRST_ACTIVE_MONTH=2021-01-01 00:00:00<br>MONTH_DIFFERENCE=%{x}<br>CUSTOMER_ID=%{y}<extra></extra>",
         "legendgroup": "2021-01-01 00:00:00",
         "line": {
          "color": "#FFA15A",
          "dash": "solid"
         },
         "marker": {
          "symbol": "circle"
         },
         "mode": "lines",
         "name": "2021-01-01 00:00:00",
         "showlegend": true,
         "type": "scattergl",
         "x": [
          0,
          1,
          2,
          3,
          4,
          5,
          6,
          7,
          8,
          9,
          10,
          11,
          12,
          13,
          14,
          15,
          16,
          17,
          18,
          19,
          20,
          21,
          22,
          23,
          24,
          25,
          26,
          27,
          28,
          29,
          30,
          31,
          32,
          33,
          34,
          35,
          36,
          38,
          40,
          41,
          42,
          43
         ],
         "xaxis": "x",
         "y": [
          4442,
          4442,
          4442,
          4442,
          4442,
          4442,
          4442,
          4442,
          4442,
          4442,
          4442,
          4442,
          4442,
          4442,
          4442,
          4442,
          4442,
          4442,
          4442,
          4442,
          4442,
          4442,
          4442,
          4442,
          4442,
          4442,
          4442,
          4442,
          4442,
          4442,
          4442,
          4442,
          4442,
          4442,
          4442,
          595,
          574,
          599,
          542,
          540,
          533,
          495
         ],
         "yaxis": "y"
        },
        {
         "hovertemplate": "CUSTOMER_FIRST_ACTIVE_MONTH=2021-02-01 00:00:00<br>MONTH_DIFFERENCE=%{x}<br>CUSTOMER_ID=%{y}<extra></extra>",
         "legendgroup": "2021-02-01 00:00:00",
         "line": {
          "color": "#19d3f3",
          "dash": "solid"
         },
         "marker": {
          "symbol": "circle"
         },
         "mode": "lines",
         "name": "2021-02-01 00:00:00",
         "showlegend": true,
         "type": "scattergl",
         "x": [
          0,
          1,
          2,
          3,
          4,
          5,
          6,
          7,
          8,
          9,
          10,
          11,
          12,
          13,
          14,
          15,
          16,
          17,
          18,
          19,
          20,
          21,
          22,
          23,
          24,
          25,
          26,
          27,
          28,
          29,
          30,
          31,
          32,
          33,
          34,
          35,
          36,
          37,
          38,
          40,
          41,
          42
         ],
         "xaxis": "x",
         "y": [
          4543,
          4543,
          4543,
          4543,
          4543,
          4543,
          4543,
          4543,
          4543,
          4543,
          4543,
          4543,
          4543,
          4543,
          4543,
          4543,
          4543,
          4543,
          4543,
          4543,
          4543,
          4543,
          4543,
          4543,
          4543,
          4543,
          4543,
          4543,
          4543,
          4543,
          4543,
          4543,
          4543,
          4543,
          571,
          562,
          540,
          534,
          526,
          533,
          533,
          495
         ],
         "yaxis": "y"
        },
        {
         "hovertemplate": "CUSTOMER_FIRST_ACTIVE_MONTH=2021-03-01 00:00:00<br>MONTH_DIFFERENCE=%{x}<br>CUSTOMER_ID=%{y}<extra></extra>",
         "legendgroup": "2021-03-01 00:00:00",
         "line": {
          "color": "#FF6692",
          "dash": "solid"
         },
         "marker": {
          "symbol": "circle"
         },
         "mode": "lines",
         "name": "2021-03-01 00:00:00",
         "showlegend": true,
         "type": "scattergl",
         "x": [
          0,
          1,
          2,
          3,
          4,
          5,
          6,
          7,
          8,
          9,
          10,
          11,
          12,
          13,
          14,
          15,
          16,
          17,
          18,
          19,
          20,
          21,
          22,
          23,
          24,
          25,
          26,
          27,
          28,
          29,
          30,
          31,
          32,
          34,
          35,
          36,
          37,
          38,
          39,
          40,
          41
         ],
         "xaxis": "x",
         "y": [
          5466,
          5466,
          5466,
          5466,
          5466,
          5466,
          5466,
          5466,
          5466,
          5466,
          5466,
          5466,
          5466,
          5466,
          5466,
          5466,
          5466,
          5466,
          5466,
          5466,
          5466,
          5466,
          5466,
          5466,
          5466,
          5466,
          5466,
          5466,
          5466,
          5466,
          5466,
          5466,
          5466,
          702,
          704,
          678,
          677,
          654,
          634,
          626,
          585
         ],
         "yaxis": "y"
        },
        {
         "hovertemplate": "CUSTOMER_FIRST_ACTIVE_MONTH=2021-04-01 00:00:00<br>MONTH_DIFFERENCE=%{x}<br>CUSTOMER_ID=%{y}<extra></extra>",
         "legendgroup": "2021-04-01 00:00:00",
         "line": {
          "color": "#B6E880",
          "dash": "solid"
         },
         "marker": {
          "symbol": "circle"
         },
         "mode": "lines",
         "name": "2021-04-01 00:00:00",
         "showlegend": true,
         "type": "scattergl",
         "x": [
          0,
          1,
          2,
          3,
          4,
          5,
          6,
          7,
          8,
          9,
          10,
          11,
          12,
          13,
          14,
          15,
          16,
          17,
          18,
          19,
          20,
          21,
          22,
          23,
          24,
          25,
          26,
          27,
          28,
          29,
          30,
          31,
          32,
          34,
          35,
          36,
          37,
          38,
          39,
          40
         ],
         "xaxis": "x",
         "y": [
          6316,
          6316,
          6316,
          6316,
          6316,
          6316,
          6316,
          6316,
          6316,
          6316,
          6316,
          6316,
          6316,
          6316,
          6316,
          6316,
          6316,
          6316,
          6316,
          6316,
          6316,
          6316,
          6316,
          6316,
          6316,
          6316,
          6316,
          6316,
          6316,
          6316,
          6316,
          6316,
          908,
          892,
          866,
          871,
          850,
          829,
          813,
          754
         ],
         "yaxis": "y"
        },
        {
         "hovertemplate": "CUSTOMER_FIRST_ACTIVE_MONTH=2021-05-01 00:00:00<br>MONTH_DIFFERENCE=%{x}<br>CUSTOMER_ID=%{y}<extra></extra>",
         "legendgroup": "2021-05-01 00:00:00",
         "line": {
          "color": "#FF97FF",
          "dash": "solid"
         },
         "marker": {
          "symbol": "circle"
         },
         "mode": "lines",
         "name": "2021-05-01 00:00:00",
         "showlegend": true,
         "type": "scattergl",
         "x": [
          0,
          1,
          2,
          3,
          4,
          5,
          6,
          7,
          8,
          9,
          10,
          11,
          12,
          13,
          14,
          15,
          16,
          17,
          18,
          19,
          20,
          21,
          22,
          23,
          24,
          25,
          26,
          27,
          28,
          29,
          30,
          31,
          32,
          34,
          36,
          37,
          38,
          39
         ],
         "xaxis": "x",
         "y": [
          6868,
          6868,
          6868,
          6868,
          6868,
          6868,
          6868,
          6868,
          6868,
          6868,
          6868,
          6868,
          6868,
          6868,
          6868,
          6868,
          6868,
          6868,
          6868,
          6868,
          6868,
          6868,
          6868,
          6868,
          6868,
          6868,
          6868,
          6868,
          6868,
          6868,
          6868,
          951,
          941,
          960,
          883,
          874,
          860,
          816
         ],
         "yaxis": "y"
        },
        {
         "hovertemplate": "CUSTOMER_FIRST_ACTIVE_MONTH=2021-06-01 00:00:00<br>MONTH_DIFFERENCE=%{x}<br>CUSTOMER_ID=%{y}<extra></extra>",
         "legendgroup": "2021-06-01 00:00:00",
         "line": {
          "color": "#FECB52",
          "dash": "solid"
         },
         "marker": {
          "symbol": "circle"
         },
         "mode": "lines",
         "name": "2021-06-01 00:00:00",
         "showlegend": true,
         "type": "scattergl",
         "x": [
          0,
          1,
          2,
          3,
          4,
          5,
          6,
          7,
          8,
          9,
          10,
          11,
          12,
          13,
          14,
          15,
          16,
          17,
          18,
          19,
          20,
          21,
          22,
          23,
          24,
          25,
          26,
          27,
          28,
          29,
          30,
          31,
          32,
          33,
          34,
          36,
          37,
          38
         ],
         "xaxis": "x",
         "y": [
          7047,
          7047,
          7047,
          7047,
          7047,
          7047,
          7047,
          7047,
          7047,
          7047,
          7047,
          7047,
          7047,
          7047,
          7047,
          7047,
          7047,
          7047,
          7047,
          7047,
          7047,
          7047,
          7047,
          7047,
          7047,
          7047,
          7047,
          7047,
          7047,
          7047,
          995,
          991,
          958,
          943,
          914,
          915,
          916,
          843
         ],
         "yaxis": "y"
        },
        {
         "hovertemplate": "CUSTOMER_FIRST_ACTIVE_MONTH=2021-07-01 00:00:00<br>MONTH_DIFFERENCE=%{x}<br>CUSTOMER_ID=%{y}<extra></extra>",
         "legendgroup": "2021-07-01 00:00:00",
         "line": {
          "color": "#636efa",
          "dash": "solid"
         },
         "marker": {
          "symbol": "circle"
         },
         "mode": "lines",
         "name": "2021-07-01 00:00:00",
         "showlegend": true,
         "type": "scattergl",
         "x": [
          0,
          1,
          2,
          3,
          4,
          5,
          6,
          7,
          8,
          9,
          10,
          11,
          12,
          13,
          14,
          15,
          16,
          17,
          18,
          19,
          20,
          21,
          22,
          23,
          24,
          25,
          26,
          27,
          28,
          29,
          30,
          32,
          34,
          36,
          37
         ],
         "xaxis": "x",
         "y": [
          7125,
          7125,
          7125,
          7125,
          7125,
          7125,
          7125,
          7125,
          7125,
          7125,
          7125,
          7125,
          7125,
          7125,
          7125,
          7125,
          7125,
          7125,
          7125,
          7125,
          7125,
          7125,
          7125,
          7125,
          7125,
          7125,
          7125,
          7125,
          7125,
          1026,
          1005,
          1048,
          1017,
          932,
          860
         ],
         "yaxis": "y"
        },
        {
         "hovertemplate": "CUSTOMER_FIRST_ACTIVE_MONTH=2021-08-01 00:00:00<br>MONTH_DIFFERENCE=%{x}<br>CUSTOMER_ID=%{y}<extra></extra>",
         "legendgroup": "2021-08-01 00:00:00",
         "line": {
          "color": "#EF553B",
          "dash": "solid"
         },
         "marker": {
          "symbol": "circle"
         },
         "mode": "lines",
         "name": "2021-08-01 00:00:00",
         "showlegend": true,
         "type": "scattergl",
         "x": [
          0,
          1,
          2,
          3,
          4,
          5,
          6,
          7,
          8,
          9,
          10,
          11,
          12,
          13,
          14,
          15,
          16,
          17,
          18,
          19,
          20,
          21,
          22,
          23,
          24,
          25,
          26,
          27,
          28,
          29,
          30,
          31,
          32,
          33,
          34,
          36
         ],
         "xaxis": "x",
         "y": [
          8428,
          8428,
          8428,
          8428,
          8428,
          8428,
          8428,
          8428,
          8428,
          8428,
          8428,
          8428,
          8428,
          8428,
          8428,
          8428,
          8428,
          8428,
          8428,
          8428,
          8428,
          8428,
          8428,
          8428,
          8428,
          8428,
          8428,
          8428,
          1264,
          1260,
          1216,
          1201,
          1174,
          1151,
          1129,
          1037
         ],
         "yaxis": "y"
        },
        {
         "hovertemplate": "CUSTOMER_FIRST_ACTIVE_MONTH=2021-09-01 00:00:00<br>MONTH_DIFFERENCE=%{x}<br>CUSTOMER_ID=%{y}<extra></extra>",
         "legendgroup": "2021-09-01 00:00:00",
         "line": {
          "color": "#00cc96",
          "dash": "solid"
         },
         "marker": {
          "symbol": "circle"
         },
         "mode": "lines",
         "name": "2021-09-01 00:00:00",
         "showlegend": true,
         "type": "scattergl",
         "x": [
          0,
          1,
          2,
          3,
          4,
          5,
          6,
          7,
          8,
          9,
          10,
          11,
          12,
          13,
          14,
          15,
          16,
          17,
          18,
          19,
          20,
          21,
          22,
          23,
          24,
          25,
          26,
          27,
          28,
          29,
          30,
          31,
          32,
          33,
          34
         ],
         "xaxis": "x",
         "y": [
          6827,
          6827,
          6827,
          6827,
          6827,
          6827,
          6827,
          6827,
          6827,
          6827,
          6827,
          6827,
          6827,
          6827,
          6827,
          6827,
          6827,
          6827,
          6827,
          6827,
          6827,
          6827,
          6827,
          6827,
          6827,
          6827,
          6827,
          1057,
          1050,
          1023,
          1031,
          987,
          971,
          959,
          892
         ],
         "yaxis": "y"
        },
        {
         "hovertemplate": "CUSTOMER_FIRST_ACTIVE_MONTH=2021-10-01 00:00:00<br>MONTH_DIFFERENCE=%{x}<br>CUSTOMER_ID=%{y}<extra></extra>",
         "legendgroup": "2021-10-01 00:00:00",
         "line": {
          "color": "#ab63fa",
          "dash": "solid"
         },
         "marker": {
          "symbol": "circle"
         },
         "mode": "lines",
         "name": "2021-10-01 00:00:00",
         "showlegend": true,
         "type": "scattergl",
         "x": [
          0,
          1,
          2,
          3,
          4,
          5,
          6,
          7,
          8,
          9,
          10,
          11,
          12,
          13,
          14,
          15,
          16,
          17,
          18,
          19,
          20,
          21,
          22,
          23,
          24,
          25,
          26,
          27,
          28,
          29,
          30,
          31,
          32,
          33
         ],
         "xaxis": "x",
         "y": [
          7861,
          7861,
          7861,
          7861,
          7861,
          7861,
          7861,
          7861,
          7861,
          7861,
          7861,
          7861,
          7861,
          7861,
          7861,
          7861,
          7861,
          7861,
          7861,
          7861,
          7861,
          7861,
          7861,
          7861,
          7861,
          7861,
          1293,
          1275,
          1228,
          1224,
          1197,
          1169,
          1168,
          1064
         ],
         "yaxis": "y"
        },
        {
         "hovertemplate": "CUSTOMER_FIRST_ACTIVE_MONTH=2021-11-01 00:00:00<br>MONTH_DIFFERENCE=%{x}<br>CUSTOMER_ID=%{y}<extra></extra>",
         "legendgroup": "2021-11-01 00:00:00",
         "line": {
          "color": "#FFA15A",
          "dash": "solid"
         },
         "marker": {
          "symbol": "circle"
         },
         "mode": "lines",
         "name": "2021-11-01 00:00:00",
         "showlegend": true,
         "type": "scattergl",
         "x": [
          0,
          1,
          2,
          3,
          4,
          5,
          6,
          7,
          8,
          9,
          10,
          11,
          12,
          13,
          14,
          15,
          16,
          17,
          18,
          19,
          20,
          21,
          22,
          23,
          24,
          25,
          26,
          27,
          28,
          29,
          30,
          31,
          32
         ],
         "xaxis": "x",
         "y": [
          8206,
          8206,
          8206,
          8206,
          8206,
          8206,
          8206,
          8206,
          8206,
          8206,
          8206,
          8206,
          8206,
          8206,
          8206,
          8206,
          8206,
          8206,
          8206,
          8206,
          8206,
          8206,
          8206,
          8206,
          8206,
          1495,
          1471,
          1410,
          1381,
          1325,
          1296,
          1276,
          1177
         ],
         "yaxis": "y"
        },
        {
         "hovertemplate": "CUSTOMER_FIRST_ACTIVE_MONTH=2021-12-01 00:00:00<br>MONTH_DIFFERENCE=%{x}<br>CUSTOMER_ID=%{y}<extra></extra>",
         "legendgroup": "2021-12-01 00:00:00",
         "line": {
          "color": "#19d3f3",
          "dash": "solid"
         },
         "marker": {
          "symbol": "circle"
         },
         "mode": "lines",
         "name": "2021-12-01 00:00:00",
         "showlegend": true,
         "type": "scattergl",
         "x": [
          0,
          1,
          2,
          3,
          4,
          5,
          6,
          7,
          8,
          9,
          10,
          11,
          12,
          13,
          14,
          15,
          16,
          17,
          18,
          19,
          20,
          21,
          22,
          23,
          24,
          25,
          26,
          27,
          28,
          29,
          30,
          31
         ],
         "xaxis": "x",
         "y": [
          8756,
          8756,
          8756,
          8756,
          8756,
          8756,
          8756,
          8756,
          8756,
          8756,
          8756,
          8756,
          8756,
          8756,
          8756,
          8756,
          8756,
          8756,
          8756,
          8756,
          8756,
          8756,
          8756,
          8756,
          1549,
          1494,
          1434,
          1431,
          1430,
          1409,
          1384,
          1275
         ],
         "yaxis": "y"
        },
        {
         "hovertemplate": "CUSTOMER_FIRST_ACTIVE_MONTH=2022-01-01 00:00:00<br>MONTH_DIFFERENCE=%{x}<br>CUSTOMER_ID=%{y}<extra></extra>",
         "legendgroup": "2022-01-01 00:00:00",
         "line": {
          "color": "#FF6692",
          "dash": "solid"
         },
         "marker": {
          "symbol": "circle"
         },
         "mode": "lines",
         "name": "2022-01-01 00:00:00",
         "showlegend": true,
         "type": "scattergl",
         "x": [
          0,
          1,
          2,
          3,
          4,
          5,
          6,
          7,
          8,
          9,
          10,
          11,
          12,
          13,
          14,
          15,
          16,
          17,
          18,
          19,
          20,
          21,
          22,
          23,
          24,
          25,
          26,
          27,
          28,
          29,
          30
         ],
         "xaxis": "x",
         "y": [
          10366,
          10366,
          10366,
          10366,
          10366,
          10366,
          10366,
          10366,
          10366,
          10366,
          10366,
          10366,
          10366,
          10366,
          10366,
          10366,
          10366,
          10366,
          10366,
          10366,
          10366,
          10366,
          10366,
          2119,
          2100,
          2015,
          1970,
          1909,
          1881,
          1859,
          1735
         ],
         "yaxis": "y"
        },
        {
         "hovertemplate": "CUSTOMER_FIRST_ACTIVE_MONTH=2022-02-01 00:00:00<br>MONTH_DIFFERENCE=%{x}<br>CUSTOMER_ID=%{y}<extra></extra>",
         "legendgroup": "2022-02-01 00:00:00",
         "line": {
          "color": "#B6E880",
          "dash": "solid"
         },
         "marker": {
          "symbol": "circle"
         },
         "mode": "lines",
         "name": "2022-02-01 00:00:00",
         "showlegend": true,
         "type": "scattergl",
         "x": [
          0,
          1,
          2,
          3,
          4,
          5,
          6,
          7,
          8,
          9,
          10,
          11,
          12,
          13,
          14,
          15,
          16,
          17,
          18,
          19,
          20,
          21,
          22,
          23,
          24,
          25,
          26,
          27,
          28,
          29
         ],
         "xaxis": "x",
         "y": [
          8710,
          8710,
          8710,
          8710,
          8710,
          8710,
          8710,
          8710,
          8710,
          8710,
          8710,
          8710,
          8710,
          8710,
          8710,
          8710,
          8710,
          8710,
          8710,
          8710,
          8710,
          8710,
          1833,
          1810,
          1757,
          1692,
          1651,
          1637,
          1600,
          1482
         ],
         "yaxis": "y"
        },
        {
         "hovertemplate": "CUSTOMER_FIRST_ACTIVE_MONTH=2022-03-01 00:00:00<br>MONTH_DIFFERENCE=%{x}<br>CUSTOMER_ID=%{y}<extra></extra>",
         "legendgroup": "2022-03-01 00:00:00",
         "line": {
          "color": "#FF97FF",
          "dash": "solid"
         },
         "marker": {
          "symbol": "circle"
         },
         "mode": "lines",
         "name": "2022-03-01 00:00:00",
         "showlegend": true,
         "type": "scattergl",
         "x": [
          0,
          1,
          2,
          3,
          4,
          5,
          6,
          7,
          8,
          9,
          10,
          11,
          12,
          13,
          14,
          15,
          16,
          17,
          18,
          19,
          20,
          21,
          22,
          23,
          24,
          25,
          26,
          27,
          28
         ],
         "xaxis": "x",
         "y": [
          10510,
          10510,
          10510,
          10510,
          10510,
          10510,
          10510,
          10510,
          10510,
          10510,
          10510,
          10510,
          10510,
          10510,
          10510,
          10510,
          10510,
          10510,
          10510,
          10510,
          10510,
          2198,
          2173,
          2111,
          2068,
          1959,
          1934,
          1898,
          1746
         ],
         "yaxis": "y"
        },
        {
         "hovertemplate": "CUSTOMER_FIRST_ACTIVE_MONTH=2022-04-01 00:00:00<br>MONTH_DIFFERENCE=%{x}<br>CUSTOMER_ID=%{y}<extra></extra>",
         "legendgroup": "2022-04-01 00:00:00",
         "line": {
          "color": "#FECB52",
          "dash": "solid"
         },
         "marker": {
          "symbol": "circle"
         },
         "mode": "lines",
         "name": "2022-04-01 00:00:00",
         "showlegend": true,
         "type": "scattergl",
         "x": [
          0,
          1,
          2,
          3,
          4,
          5,
          6,
          7,
          8,
          9,
          10,
          11,
          12,
          13,
          14,
          15,
          16,
          17,
          18,
          19,
          20,
          21,
          22,
          23,
          24,
          25,
          26,
          27
         ],
         "xaxis": "x",
         "y": [
          10417,
          10417,
          10417,
          10417,
          10417,
          10417,
          10417,
          10417,
          10417,
          10417,
          10417,
          10417,
          10417,
          10417,
          10417,
          10417,
          10417,
          10417,
          10417,
          10417,
          2322,
          2263,
          2207,
          2169,
          2092,
          1984,
          1940,
          1808
         ],
         "yaxis": "y"
        },
        {
         "hovertemplate": "CUSTOMER_FIRST_ACTIVE_MONTH=2022-05-01 00:00:00<br>MONTH_DIFFERENCE=%{x}<br>CUSTOMER_ID=%{y}<extra></extra>",
         "legendgroup": "2022-05-01 00:00:00",
         "line": {
          "color": "#636efa",
          "dash": "solid"
         },
         "marker": {
          "symbol": "circle"
         },
         "mode": "lines",
         "name": "2022-05-01 00:00:00",
         "showlegend": true,
         "type": "scattergl",
         "x": [
          0,
          1,
          2,
          3,
          4,
          5,
          6,
          7,
          8,
          9,
          10,
          11,
          12,
          13,
          14,
          15,
          16,
          17,
          18,
          19,
          20,
          21,
          22,
          23,
          24,
          25,
          26
         ],
         "xaxis": "x",
         "y": [
          10933,
          10933,
          10933,
          10933,
          10933,
          10933,
          10933,
          10933,
          10933,
          10933,
          10933,
          10933,
          10933,
          10933,
          10933,
          10933,
          10933,
          10933,
          10933,
          2476,
          2424,
          2338,
          2269,
          2260,
          2198,
          2107,
          1941
         ],
         "yaxis": "y"
        },
        {
         "hovertemplate": "CUSTOMER_FIRST_ACTIVE_MONTH=2022-06-01 00:00:00<br>MONTH_DIFFERENCE=%{x}<br>CUSTOMER_ID=%{y}<extra></extra>",
         "legendgroup": "2022-06-01 00:00:00",
         "line": {
          "color": "#EF553B",
          "dash": "solid"
         },
         "marker": {
          "symbol": "circle"
         },
         "mode": "lines",
         "name": "2022-06-01 00:00:00",
         "showlegend": true,
         "type": "scattergl",
         "x": [
          0,
          1,
          2,
          3,
          4,
          5,
          6,
          7,
          8,
          9,
          10,
          11,
          12,
          13,
          14,
          15,
          16,
          17,
          18,
          19,
          20,
          21,
          22,
          23,
          24,
          25
         ],
         "xaxis": "x",
         "y": [
          10611,
          10611,
          10611,
          10611,
          10611,
          10611,
          10611,
          10611,
          10611,
          10611,
          10611,
          10611,
          10611,
          10611,
          10611,
          10611,
          10611,
          10611,
          2641,
          2552,
          2432,
          2368,
          2304,
          2262,
          2210,
          1985
         ],
         "yaxis": "y"
        },
        {
         "hovertemplate": "CUSTOMER_FIRST_ACTIVE_MONTH=2022-07-01 00:00:00<br>MONTH_DIFFERENCE=%{x}<br>CUSTOMER_ID=%{y}<extra></extra>",
         "legendgroup": "2022-07-01 00:00:00",
         "line": {
          "color": "#00cc96",
          "dash": "solid"
         },
         "marker": {
          "symbol": "circle"
         },
         "mode": "lines",
         "name": "2022-07-01 00:00:00",
         "showlegend": true,
         "type": "scattergl",
         "x": [
          0,
          1,
          2,
          3,
          4,
          5,
          6,
          7,
          8,
          9,
          10,
          11,
          12,
          13,
          14,
          15,
          16,
          17,
          18,
          19,
          20,
          21,
          22,
          23,
          24
         ],
         "xaxis": "x",
         "y": [
          11073,
          11073,
          11073,
          11073,
          11073,
          11073,
          11073,
          11073,
          11073,
          11073,
          11073,
          11073,
          11073,
          11073,
          11073,
          11073,
          11073,
          2937,
          2873,
          2740,
          2658,
          2591,
          2537,
          2501,
          2318
         ],
         "yaxis": "y"
        },
        {
         "hovertemplate": "CUSTOMER_FIRST_ACTIVE_MONTH=2022-08-01 00:00:00<br>MONTH_DIFFERENCE=%{x}<br>CUSTOMER_ID=%{y}<extra></extra>",
         "legendgroup": "2022-08-01 00:00:00",
         "line": {
          "color": "#ab63fa",
          "dash": "solid"
         },
         "marker": {
          "symbol": "circle"
         },
         "mode": "lines",
         "name": "2022-08-01 00:00:00",
         "showlegend": true,
         "type": "scattergl",
         "x": [
          0,
          1,
          2,
          3,
          4,
          5,
          6,
          7,
          8,
          9,
          10,
          11,
          12,
          13,
          14,
          15,
          16,
          17,
          18,
          19,
          20,
          21,
          22,
          23
         ],
         "xaxis": "x",
         "y": [
          13532,
          13532,
          13532,
          13532,
          13532,
          13532,
          13532,
          13532,
          13532,
          13532,
          13532,
          13532,
          13532,
          13532,
          13532,
          13532,
          3959,
          3826,
          3683,
          3567,
          3472,
          3376,
          3287,
          3102
         ],
         "yaxis": "y"
        },
        {
         "hovertemplate": "CUSTOMER_FIRST_ACTIVE_MONTH=2022-09-01 00:00:00<br>MONTH_DIFFERENCE=%{x}<br>CUSTOMER_ID=%{y}<extra></extra>",
         "legendgroup": "2022-09-01 00:00:00",
         "line": {
          "color": "#FFA15A",
          "dash": "solid"
         },
         "marker": {
          "symbol": "circle"
         },
         "mode": "lines",
         "name": "2022-09-01 00:00:00",
         "showlegend": true,
         "type": "scattergl",
         "x": [
          0,
          1,
          2,
          3,
          4,
          5,
          6,
          7,
          8,
          9,
          10,
          11,
          12,
          13,
          14,
          15,
          16,
          17,
          18,
          19,
          20,
          21,
          22
         ],
         "xaxis": "x",
         "y": [
          13735,
          13735,
          13735,
          13735,
          13735,
          13735,
          13735,
          13735,
          13735,
          13735,
          13735,
          13735,
          13735,
          13735,
          13735,
          4161,
          3995,
          3804,
          3737,
          3570,
          3458,
          3361,
          3129
         ],
         "yaxis": "y"
        },
        {
         "hovertemplate": "CUSTOMER_FIRST_ACTIVE_MONTH=2022-10-01 00:00:00<br>MONTH_DIFFERENCE=%{x}<br>CUSTOMER_ID=%{y}<extra></extra>",
         "legendgroup": "2022-10-01 00:00:00",
         "line": {
          "color": "#19d3f3",
          "dash": "solid"
         },
         "marker": {
          "symbol": "circle"
         },
         "mode": "lines",
         "name": "2022-10-01 00:00:00",
         "showlegend": true,
         "type": "scattergl",
         "x": [
          0,
          1,
          2,
          3,
          4,
          5,
          6,
          7,
          8,
          9,
          10,
          11,
          12,
          13,
          14,
          15,
          16,
          17,
          18,
          19,
          20,
          21
         ],
         "xaxis": "x",
         "y": [
          13363,
          13363,
          13363,
          13363,
          13363,
          13363,
          13363,
          13363,
          13363,
          13363,
          13363,
          13363,
          13363,
          13363,
          4103,
          3977,
          3730,
          3564,
          3451,
          3344,
          3205,
          2975
         ],
         "yaxis": "y"
        },
        {
         "hovertemplate": "CUSTOMER_FIRST_ACTIVE_MONTH=2022-11-01 00:00:00<br>MONTH_DIFFERENCE=%{x}<br>CUSTOMER_ID=%{y}<extra></extra>",
         "legendgroup": "2022-11-01 00:00:00",
         "line": {
          "color": "#FF6692",
          "dash": "solid"
         },
         "marker": {
          "symbol": "circle"
         },
         "mode": "lines",
         "name": "2022-11-01 00:00:00",
         "showlegend": true,
         "type": "scattergl",
         "x": [
          0,
          1,
          2,
          3,
          4,
          5,
          6,
          7,
          8,
          9,
          10,
          11,
          12,
          13,
          14,
          15,
          16,
          17,
          18,
          19,
          20
         ],
         "xaxis": "x",
         "y": [
          12702,
          12702,
          12702,
          12702,
          12702,
          12702,
          12702,
          12702,
          12702,
          12702,
          12702,
          12702,
          12702,
          4444,
          3951,
          3755,
          3551,
          3395,
          3334,
          3205,
          2986
         ],
         "yaxis": "y"
        },
        {
         "hovertemplate": "CUSTOMER_FIRST_ACTIVE_MONTH=2022-12-01 00:00:00<br>MONTH_DIFFERENCE=%{x}<br>CUSTOMER_ID=%{y}<extra></extra>",
         "legendgroup": "2022-12-01 00:00:00",
         "line": {
          "color": "#B6E880",
          "dash": "solid"
         },
         "marker": {
          "symbol": "circle"
         },
         "mode": "lines",
         "name": "2022-12-01 00:00:00",
         "showlegend": true,
         "type": "scattergl",
         "x": [
          0,
          1,
          2,
          3,
          4,
          5,
          6,
          7,
          8,
          9,
          10,
          11,
          12,
          13,
          14,
          15,
          16,
          17,
          18,
          19
         ],
         "xaxis": "x",
         "y": [
          11611,
          11611,
          11611,
          11611,
          11611,
          11611,
          11611,
          11611,
          11611,
          11611,
          11611,
          11611,
          4221,
          3860,
          3390,
          3277,
          3124,
          2991,
          2924,
          2705
         ],
         "yaxis": "y"
        },
        {
         "hovertemplate": "CUSTOMER_FIRST_ACTIVE_MONTH=2023-01-01 00:00:00<br>MONTH_DIFFERENCE=%{x}<br>CUSTOMER_ID=%{y}<extra></extra>",
         "legendgroup": "2023-01-01 00:00:00",
         "line": {
          "color": "#FF97FF",
          "dash": "solid"
         },
         "marker": {
          "symbol": "circle"
         },
         "mode": "lines",
         "name": "2023-01-01 00:00:00",
         "showlegend": true,
         "type": "scattergl",
         "x": [
          0,
          1,
          2,
          3,
          4,
          5,
          6,
          7,
          8,
          9,
          10,
          11,
          12,
          13,
          14,
          15,
          16,
          17,
          18
         ],
         "xaxis": "x",
         "y": [
          14216,
          14216,
          14216,
          14216,
          14216,
          14216,
          14216,
          14216,
          14216,
          14216,
          14216,
          5134,
          4959,
          4596,
          4117,
          3966,
          3813,
          3653,
          3372
         ],
         "yaxis": "y"
        },
        {
         "hovertemplate": "CUSTOMER_FIRST_ACTIVE_MONTH=2023-02-01 00:00:00<br>MONTH_DIFFERENCE=%{x}<br>CUSTOMER_ID=%{y}<extra></extra>",
         "legendgroup": "2023-02-01 00:00:00",
         "line": {
          "color": "#FECB52",
          "dash": "solid"
         },
         "marker": {
          "symbol": "circle"
         },
         "mode": "lines",
         "name": "2023-02-01 00:00:00",
         "showlegend": true,
         "type": "scattergl",
         "x": [
          0,
          1,
          2,
          3,
          4,
          5,
          6,
          7,
          8,
          9,
          10,
          11,
          12,
          13,
          14,
          15,
          16,
          17
         ],
         "xaxis": "x",
         "y": [
          12473,
          12473,
          12473,
          12473,
          12473,
          12473,
          12473,
          12473,
          12473,
          12473,
          4620,
          4472,
          4257,
          3952,
          3518,
          3370,
          3200,
          2941
         ],
         "yaxis": "y"
        },
        {
         "hovertemplate": "CUSTOMER_FIRST_ACTIVE_MONTH=2023-03-01 00:00:00<br>MONTH_DIFFERENCE=%{x}<br>CUSTOMER_ID=%{y}<extra></extra>",
         "legendgroup": "2023-03-01 00:00:00",
         "line": {
          "color": "#636efa",
          "dash": "solid"
         },
         "marker": {
          "symbol": "circle"
         },
         "mode": "lines",
         "name": "2023-03-01 00:00:00",
         "showlegend": true,
         "type": "scattergl",
         "x": [
          0,
          1,
          2,
          3,
          4,
          5,
          6,
          7,
          8,
          9,
          10,
          11,
          12,
          13,
          14,
          15,
          16
         ],
         "xaxis": "x",
         "y": [
          15451,
          15451,
          15451,
          15451,
          15451,
          15451,
          15451,
          15451,
          15451,
          6060,
          5652,
          5461,
          5292,
          4883,
          4400,
          4229,
          3862
         ],
         "yaxis": "y"
        },
        {
         "hovertemplate": "CUSTOMER_FIRST_ACTIVE_MONTH=2023-04-01 00:00:00<br>MONTH_DIFFERENCE=%{x}<br>CUSTOMER_ID=%{y}<extra></extra>",
         "legendgroup": "2023-04-01 00:00:00",
         "line": {
          "color": "#EF553B",
          "dash": "solid"
         },
         "marker": {
          "symbol": "circle"
         },
         "mode": "lines",
         "name": "2023-04-01 00:00:00",
         "showlegend": true,
         "type": "scattergl",
         "x": [
          0,
          1,
          2,
          3,
          4,
          5,
          6,
          7,
          8,
          9,
          10,
          11,
          12,
          13,
          14,
          15
         ],
         "xaxis": "x",
         "y": [
          13426,
          13426,
          13426,
          13426,
          13426,
          13426,
          13426,
          13426,
          6048,
          5813,
          5438,
          5257,
          5004,
          4686,
          4213,
          3893
         ],
         "yaxis": "y"
        },
        {
         "hovertemplate": "CUSTOMER_FIRST_ACTIVE_MONTH=2023-05-01 00:00:00<br>MONTH_DIFFERENCE=%{x}<br>CUSTOMER_ID=%{y}<extra></extra>",
         "legendgroup": "2023-05-01 00:00:00",
         "line": {
          "color": "#00cc96",
          "dash": "solid"
         },
         "marker": {
          "symbol": "circle"
         },
         "mode": "lines",
         "name": "2023-05-01 00:00:00",
         "showlegend": true,
         "type": "scattergl",
         "x": [
          0,
          1,
          2,
          3,
          4,
          5,
          6,
          7,
          8,
          9,
          10,
          11,
          12,
          13,
          14
         ],
         "xaxis": "x",
         "y": [
          14318,
          14318,
          14318,
          14318,
          14318,
          14318,
          14318,
          7433,
          6507,
          6134,
          5758,
          5569,
          5366,
          4962,
          4301
         ],
         "yaxis": "y"
        },
        {
         "hovertemplate": "CUSTOMER_FIRST_ACTIVE_MONTH=2023-06-01 00:00:00<br>MONTH_DIFFERENCE=%{x}<br>CUSTOMER_ID=%{y}<extra></extra>",
         "legendgroup": "2023-06-01 00:00:00",
         "line": {
          "color": "#ab63fa",
          "dash": "solid"
         },
         "marker": {
          "symbol": "circle"
         },
         "mode": "lines",
         "name": "2023-06-01 00:00:00",
         "showlegend": true,
         "type": "scattergl",
         "x": [
          0,
          1,
          2,
          3,
          4,
          5,
          6,
          7,
          8,
          9,
          10,
          11,
          12,
          13
         ],
         "xaxis": "x",
         "y": [
          14236,
          14236,
          14236,
          14236,
          14236,
          14236,
          8451,
          7423,
          6267,
          5912,
          5514,
          5295,
          5084,
          4531
         ],
         "yaxis": "y"
        },
        {
         "hovertemplate": "CUSTOMER_FIRST_ACTIVE_MONTH=2023-07-01 00:00:00<br>MONTH_DIFFERENCE=%{x}<br>CUSTOMER_ID=%{y}<extra></extra>",
         "legendgroup": "2023-07-01 00:00:00",
         "line": {
          "color": "#FFA15A",
          "dash": "solid"
         },
         "marker": {
          "symbol": "circle"
         },
         "mode": "lines",
         "name": "2023-07-01 00:00:00",
         "showlegend": true,
         "type": "scattergl",
         "x": [
          0,
          1,
          2,
          3,
          4,
          5,
          6,
          7,
          8,
          9,
          10,
          11,
          12
         ],
         "xaxis": "x",
         "y": [
          18603,
          18603,
          18603,
          18603,
          18603,
          11539,
          10750,
          9172,
          7934,
          7541,
          7044,
          6804,
          6328
         ],
         "yaxis": "y"
        },
        {
         "hovertemplate": "CUSTOMER_FIRST_ACTIVE_MONTH=2023-08-01 00:00:00<br>MONTH_DIFFERENCE=%{x}<br>CUSTOMER_ID=%{y}<extra></extra>",
         "legendgroup": "2023-08-01 00:00:00",
         "line": {
          "color": "#19d3f3",
          "dash": "solid"
         },
         "marker": {
          "symbol": "circle"
         },
         "mode": "lines",
         "name": "2023-08-01 00:00:00",
         "showlegend": true,
         "type": "scattergl",
         "x": [
          0,
          1,
          2,
          3,
          4,
          5,
          6,
          7,
          8,
          9,
          10,
          11
         ],
         "xaxis": "x",
         "y": [
          16109,
          16109,
          16109,
          16109,
          11298,
          10706,
          9969,
          8782,
          7496,
          7082,
          6600,
          6212
         ],
         "yaxis": "y"
        },
        {
         "hovertemplate": "CUSTOMER_FIRST_ACTIVE_MONTH=2023-09-01 00:00:00<br>MONTH_DIFFERENCE=%{x}<br>CUSTOMER_ID=%{y}<extra></extra>",
         "legendgroup": "2023-09-01 00:00:00",
         "line": {
          "color": "#FF6692",
          "dash": "solid"
         },
         "marker": {
          "symbol": "circle"
         },
         "mode": "lines",
         "name": "2023-09-01 00:00:00",
         "showlegend": true,
         "type": "scattergl",
         "x": [
          0,
          1,
          2,
          3,
          4,
          5,
          6,
          7,
          8,
          9,
          10
         ],
         "xaxis": "x",
         "y": [
          16184,
          16184,
          16184,
          13088,
          10881,
          10216,
          9577,
          8392,
          7268,
          6856,
          6176
         ],
         "yaxis": "y"
        },
        {
         "hovertemplate": "CUSTOMER_FIRST_ACTIVE_MONTH=2023-10-01 00:00:00<br>MONTH_DIFFERENCE=%{x}<br>CUSTOMER_ID=%{y}<extra></extra>",
         "legendgroup": "2023-10-01 00:00:00",
         "line": {
          "color": "#B6E880",
          "dash": "solid"
         },
         "marker": {
          "symbol": "circle"
         },
         "mode": "lines",
         "name": "2023-10-01 00:00:00",
         "showlegend": true,
         "type": "scattergl",
         "x": [
          0,
          1,
          2,
          3,
          4,
          5,
          6,
          7,
          8,
          9
         ],
         "xaxis": "x",
         "y": [
          16981,
          16981,
          15275,
          14285,
          11734,
          11140,
          10411,
          9190,
          7873,
          7298
         ],
         "yaxis": "y"
        },
        {
         "hovertemplate": "CUSTOMER_FIRST_ACTIVE_MONTH=2023-11-01 00:00:00<br>MONTH_DIFFERENCE=%{x}<br>CUSTOMER_ID=%{y}<extra></extra>",
         "legendgroup": "2023-11-01 00:00:00",
         "line": {
          "color": "#FF97FF",
          "dash": "solid"
         },
         "marker": {
          "symbol": "circle"
         },
         "mode": "lines",
         "name": "2023-11-01 00:00:00",
         "showlegend": true,
         "type": "scattergl",
         "x": [
          0,
          1,
          2,
          3,
          4,
          5,
          6,
          7,
          8
         ],
         "xaxis": "x",
         "y": [
          18329,
          18016,
          17194,
          15980,
          13454,
          12779,
          12081,
          10563,
          8839
         ],
         "yaxis": "y"
        },
        {
         "hovertemplate": "CUSTOMER_FIRST_ACTIVE_MONTH=2023-12-01 00:00:00<br>MONTH_DIFFERENCE=%{x}<br>CUSTOMER_ID=%{y}<extra></extra>",
         "legendgroup": "2023-12-01 00:00:00",
         "line": {
          "color": "#FECB52",
          "dash": "solid"
         },
         "marker": {
          "symbol": "circle"
         },
         "mode": "lines",
         "name": "2023-12-01 00:00:00",
         "showlegend": true,
         "type": "scattergl",
         "x": [
          0,
          1,
          2,
          3,
          4,
          5,
          6,
          7
         ],
         "xaxis": "x",
         "y": [
          16035,
          16152,
          15261,
          14323,
          11936,
          11286,
          10562,
          9196
         ],
         "yaxis": "y"
        },
        {
         "hovertemplate": "CUSTOMER_FIRST_ACTIVE_MONTH=2024-01-01 00:00:00<br>MONTH_DIFFERENCE=%{x}<br>CUSTOMER_ID=%{y}<extra></extra>",
         "legendgroup": "2024-01-01 00:00:00",
         "line": {
          "color": "#636efa",
          "dash": "solid"
         },
         "marker": {
          "symbol": "circle"
         },
         "mode": "lines",
         "name": "2024-01-01 00:00:00",
         "showlegend": true,
         "type": "scattergl",
         "x": [
          0,
          1,
          2,
          3,
          4,
          5,
          6
         ],
         "xaxis": "x",
         "y": [
          20986,
          20664,
          19416,
          18062,
          15166,
          14342,
          13253
         ],
         "yaxis": "y"
        },
        {
         "hovertemplate": "CUSTOMER_FIRST_ACTIVE_MONTH=2024-02-01 00:00:00<br>MONTH_DIFFERENCE=%{x}<br>CUSTOMER_ID=%{y}<extra></extra>",
         "legendgroup": "2024-02-01 00:00:00",
         "line": {
          "color": "#EF553B",
          "dash": "solid"
         },
         "marker": {
          "symbol": "circle"
         },
         "mode": "lines",
         "name": "2024-02-01 00:00:00",
         "showlegend": true,
         "type": "scattergl",
         "x": [
          0,
          1,
          2,
          3,
          4,
          5
         ],
         "xaxis": "x",
         "y": [
          18369,
          18322,
          16798,
          15444,
          12871,
          11944
         ],
         "yaxis": "y"
        },
        {
         "hovertemplate": "CUSTOMER_FIRST_ACTIVE_MONTH=2024-03-01 00:00:00<br>MONTH_DIFFERENCE=%{x}<br>CUSTOMER_ID=%{y}<extra></extra>",
         "legendgroup": "2024-03-01 00:00:00",
         "line": {
          "color": "#00cc96",
          "dash": "solid"
         },
         "marker": {
          "symbol": "circle"
         },
         "mode": "lines",
         "name": "2024-03-01 00:00:00",
         "showlegend": true,
         "type": "scattergl",
         "x": [
          0,
          1,
          2,
          3,
          4
         ],
         "xaxis": "x",
         "y": [
          20142,
          20196,
          18517,
          16914,
          14099
         ],
         "yaxis": "y"
        },
        {
         "hovertemplate": "CUSTOMER_FIRST_ACTIVE_MONTH=2024-04-01 00:00:00<br>MONTH_DIFFERENCE=%{x}<br>CUSTOMER_ID=%{y}<extra></extra>",
         "legendgroup": "2024-04-01 00:00:00",
         "line": {
          "color": "#ab63fa",
          "dash": "solid"
         },
         "marker": {
          "symbol": "circle"
         },
         "mode": "lines",
         "name": "2024-04-01 00:00:00",
         "showlegend": true,
         "type": "scattergl",
         "x": [
          0,
          1,
          2,
          3
         ],
         "xaxis": "x",
         "y": [
          19695,
          19398,
          17642,
          15887
         ],
         "yaxis": "y"
        },
        {
         "hovertemplate": "CUSTOMER_FIRST_ACTIVE_MONTH=2024-05-01 00:00:00<br>MONTH_DIFFERENCE=%{x}<br>CUSTOMER_ID=%{y}<extra></extra>",
         "legendgroup": "2024-05-01 00:00:00",
         "line": {
          "color": "#FFA15A",
          "dash": "solid"
         },
         "marker": {
          "symbol": "circle"
         },
         "mode": "lines",
         "name": "2024-05-01 00:00:00",
         "showlegend": true,
         "type": "scattergl",
         "x": [
          0,
          1,
          2
         ],
         "xaxis": "x",
         "y": [
          21463,
          20859,
          19194
         ],
         "yaxis": "y"
        },
        {
         "hovertemplate": "CUSTOMER_FIRST_ACTIVE_MONTH=2024-06-01 00:00:00<br>MONTH_DIFFERENCE=%{x}<br>CUSTOMER_ID=%{y}<extra></extra>",
         "legendgroup": "2024-06-01 00:00:00",
         "line": {
          "color": "#19d3f3",
          "dash": "solid"
         },
         "marker": {
          "symbol": "circle"
         },
         "mode": "lines",
         "name": "2024-06-01 00:00:00",
         "showlegend": true,
         "type": "scattergl",
         "x": [
          0,
          1
         ],
         "xaxis": "x",
         "y": [
          21867,
          20812
         ],
         "yaxis": "y"
        },
        {
         "hovertemplate": "CUSTOMER_FIRST_ACTIVE_MONTH=2024-07-01 00:00:00<br>MONTH_DIFFERENCE=%{x}<br>CUSTOMER_ID=%{y}<extra></extra>",
         "legendgroup": "2024-07-01 00:00:00",
         "line": {
          "color": "#FF6692",
          "dash": "solid"
         },
         "marker": {
          "symbol": "circle"
         },
         "mode": "lines",
         "name": "2024-07-01 00:00:00",
         "showlegend": true,
         "type": "scattergl",
         "x": [
          0
         ],
         "xaxis": "x",
         "y": [
          1
         ],
         "yaxis": "y"
        }
       ],
       "layout": {
        "autosize": true,
        "legend": {
         "title": {
          "text": "CUSTOMER_FIRST_ACTIVE_MONTH"
         },
         "tracegroupgap": 0
        },
        "margin": {
         "t": 60
        },
        "template": {
         "data": {
          "bar": [
           {
            "error_x": {
             "color": "#2a3f5f"
            },
            "error_y": {
             "color": "#2a3f5f"
            },
            "marker": {
             "line": {
              "color": "#E5ECF6",
              "width": 0.5
             },
             "pattern": {
              "fillmode": "overlay",
              "size": 10,
              "solidity": 0.2
             }
            },
            "type": "bar"
           }
          ],
          "barpolar": [
           {
            "marker": {
             "line": {
              "color": "#E5ECF6",
              "width": 0.5
             },
             "pattern": {
              "fillmode": "overlay",
              "size": 10,
              "solidity": 0.2
             }
            },
            "type": "barpolar"
           }
          ],
          "carpet": [
           {
            "aaxis": {
             "endlinecolor": "#2a3f5f",
             "gridcolor": "white",
             "linecolor": "white",
             "minorgridcolor": "white",
             "startlinecolor": "#2a3f5f"
            },
            "baxis": {
             "endlinecolor": "#2a3f5f",
             "gridcolor": "white",
             "linecolor": "white",
             "minorgridcolor": "white",
             "startlinecolor": "#2a3f5f"
            },
            "type": "carpet"
           }
          ],
          "choropleth": [
           {
            "colorbar": {
             "outlinewidth": 0,
             "ticks": ""
            },
            "type": "choropleth"
           }
          ],
          "contour": [
           {
            "colorbar": {
             "outlinewidth": 0,
             "ticks": ""
            },
            "colorscale": [
             [
              0,
              "#0d0887"
             ],
             [
              0.1111111111111111,
              "#46039f"
             ],
             [
              0.2222222222222222,
              "#7201a8"
             ],
             [
              0.3333333333333333,
              "#9c179e"
             ],
             [
              0.4444444444444444,
              "#bd3786"
             ],
             [
              0.5555555555555556,
              "#d8576b"
             ],
             [
              0.6666666666666666,
              "#ed7953"
             ],
             [
              0.7777777777777778,
              "#fb9f3a"
             ],
             [
              0.8888888888888888,
              "#fdca26"
             ],
             [
              1,
              "#f0f921"
             ]
            ],
            "type": "contour"
           }
          ],
          "contourcarpet": [
           {
            "colorbar": {
             "outlinewidth": 0,
             "ticks": ""
            },
            "type": "contourcarpet"
           }
          ],
          "heatmap": [
           {
            "colorbar": {
             "outlinewidth": 0,
             "ticks": ""
            },
            "colorscale": [
             [
              0,
              "#0d0887"
             ],
             [
              0.1111111111111111,
              "#46039f"
             ],
             [
              0.2222222222222222,
              "#7201a8"
             ],
             [
              0.3333333333333333,
              "#9c179e"
             ],
             [
              0.4444444444444444,
              "#bd3786"
             ],
             [
              0.5555555555555556,
              "#d8576b"
             ],
             [
              0.6666666666666666,
              "#ed7953"
             ],
             [
              0.7777777777777778,
              "#fb9f3a"
             ],
             [
              0.8888888888888888,
              "#fdca26"
             ],
             [
              1,
              "#f0f921"
             ]
            ],
            "type": "heatmap"
           }
          ],
          "heatmapgl": [
           {
            "colorbar": {
             "outlinewidth": 0,
             "ticks": ""
            },
            "colorscale": [
             [
              0,
              "#0d0887"
             ],
             [
              0.1111111111111111,
              "#46039f"
             ],
             [
              0.2222222222222222,
              "#7201a8"
             ],
             [
              0.3333333333333333,
              "#9c179e"
             ],
             [
              0.4444444444444444,
              "#bd3786"
             ],
             [
              0.5555555555555556,
              "#d8576b"
             ],
             [
              0.6666666666666666,
              "#ed7953"
             ],
             [
              0.7777777777777778,
              "#fb9f3a"
             ],
             [
              0.8888888888888888,
              "#fdca26"
             ],
             [
              1,
              "#f0f921"
             ]
            ],
            "type": "heatmapgl"
           }
          ],
          "histogram": [
           {
            "marker": {
             "pattern": {
              "fillmode": "overlay",
              "size": 10,
              "solidity": 0.2
             }
            },
            "type": "histogram"
           }
          ],
          "histogram2d": [
           {
            "colorbar": {
             "outlinewidth": 0,
             "ticks": ""
            },
            "colorscale": [
             [
              0,
              "#0d0887"
             ],
             [
              0.1111111111111111,
              "#46039f"
             ],
             [
              0.2222222222222222,
              "#7201a8"
             ],
             [
              0.3333333333333333,
              "#9c179e"
             ],
             [
              0.4444444444444444,
              "#bd3786"
             ],
             [
              0.5555555555555556,
              "#d8576b"
             ],
             [
              0.6666666666666666,
              "#ed7953"
             ],
             [
              0.7777777777777778,
              "#fb9f3a"
             ],
             [
              0.8888888888888888,
              "#fdca26"
             ],
             [
              1,
              "#f0f921"
             ]
            ],
            "type": "histogram2d"
           }
          ],
          "histogram2dcontour": [
           {
            "colorbar": {
             "outlinewidth": 0,
             "ticks": ""
            },
            "colorscale": [
             [
              0,
              "#0d0887"
             ],
             [
              0.1111111111111111,
              "#46039f"
             ],
             [
              0.2222222222222222,
              "#7201a8"
             ],
             [
              0.3333333333333333,
              "#9c179e"
             ],
             [
              0.4444444444444444,
              "#bd3786"
             ],
             [
              0.5555555555555556,
              "#d8576b"
             ],
             [
              0.6666666666666666,
              "#ed7953"
             ],
             [
              0.7777777777777778,
              "#fb9f3a"
             ],
             [
              0.8888888888888888,
              "#fdca26"
             ],
             [
              1,
              "#f0f921"
             ]
            ],
            "type": "histogram2dcontour"
           }
          ],
          "mesh3d": [
           {
            "colorbar": {
             "outlinewidth": 0,
             "ticks": ""
            },
            "type": "mesh3d"
           }
          ],
          "parcoords": [
           {
            "line": {
             "colorbar": {
              "outlinewidth": 0,
              "ticks": ""
             }
            },
            "type": "parcoords"
           }
          ],
          "pie": [
           {
            "automargin": true,
            "type": "pie"
           }
          ],
          "scatter": [
           {
            "fillpattern": {
             "fillmode": "overlay",
             "size": 10,
             "solidity": 0.2
            },
            "type": "scatter"
           }
          ],
          "scatter3d": [
           {
            "line": {
             "colorbar": {
              "outlinewidth": 0,
              "ticks": ""
             }
            },
            "marker": {
             "colorbar": {
              "outlinewidth": 0,
              "ticks": ""
             }
            },
            "type": "scatter3d"
           }
          ],
          "scattercarpet": [
           {
            "marker": {
             "colorbar": {
              "outlinewidth": 0,
              "ticks": ""
             }
            },
            "type": "scattercarpet"
           }
          ],
          "scattergeo": [
           {
            "marker": {
             "colorbar": {
              "outlinewidth": 0,
              "ticks": ""
             }
            },
            "type": "scattergeo"
           }
          ],
          "scattergl": [
           {
            "marker": {
             "colorbar": {
              "outlinewidth": 0,
              "ticks": ""
             }
            },
            "type": "scattergl"
           }
          ],
          "scattermapbox": [
           {
            "marker": {
             "colorbar": {
              "outlinewidth": 0,
              "ticks": ""
             }
            },
            "type": "scattermapbox"
           }
          ],
          "scatterpolar": [
           {
            "marker": {
             "colorbar": {
              "outlinewidth": 0,
              "ticks": ""
             }
            },
            "type": "scatterpolar"
           }
          ],
          "scatterpolargl": [
           {
            "marker": {
             "colorbar": {
              "outlinewidth": 0,
              "ticks": ""
             }
            },
            "type": "scatterpolargl"
           }
          ],
          "scatterternary": [
           {
            "marker": {
             "colorbar": {
              "outlinewidth": 0,
              "ticks": ""
             }
            },
            "type": "scatterternary"
           }
          ],
          "surface": [
           {
            "colorbar": {
             "outlinewidth": 0,
             "ticks": ""
            },
            "colorscale": [
             [
              0,
              "#0d0887"
             ],
             [
              0.1111111111111111,
              "#46039f"
             ],
             [
              0.2222222222222222,
              "#7201a8"
             ],
             [
              0.3333333333333333,
              "#9c179e"
             ],
             [
              0.4444444444444444,
              "#bd3786"
             ],
             [
              0.5555555555555556,
              "#d8576b"
             ],
             [
              0.6666666666666666,
              "#ed7953"
             ],
             [
              0.7777777777777778,
              "#fb9f3a"
             ],
             [
              0.8888888888888888,
              "#fdca26"
             ],
             [
              1,
              "#f0f921"
             ]
            ],
            "type": "surface"
           }
          ],
          "table": [
           {
            "cells": {
             "fill": {
              "color": "#EBF0F8"
             },
             "line": {
              "color": "white"
             }
            },
            "header": {
             "fill": {
              "color": "#C8D4E3"
             },
             "line": {
              "color": "white"
             }
            },
            "type": "table"
           }
          ]
         },
         "layout": {
          "annotationdefaults": {
           "arrowcolor": "#2a3f5f",
           "arrowhead": 0,
           "arrowwidth": 1
          },
          "autotypenumbers": "strict",
          "coloraxis": {
           "colorbar": {
            "outlinewidth": 0,
            "ticks": ""
           }
          },
          "colorscale": {
           "diverging": [
            [
             0,
             "#8e0152"
            ],
            [
             0.1,
             "#c51b7d"
            ],
            [
             0.2,
             "#de77ae"
            ],
            [
             0.3,
             "#f1b6da"
            ],
            [
             0.4,
             "#fde0ef"
            ],
            [
             0.5,
             "#f7f7f7"
            ],
            [
             0.6,
             "#e6f5d0"
            ],
            [
             0.7,
             "#b8e186"
            ],
            [
             0.8,
             "#7fbc41"
            ],
            [
             0.9,
             "#4d9221"
            ],
            [
             1,
             "#276419"
            ]
           ],
           "sequential": [
            [
             0,
             "#0d0887"
            ],
            [
             0.1111111111111111,
             "#46039f"
            ],
            [
             0.2222222222222222,
             "#7201a8"
            ],
            [
             0.3333333333333333,
             "#9c179e"
            ],
            [
             0.4444444444444444,
             "#bd3786"
            ],
            [
             0.5555555555555556,
             "#d8576b"
            ],
            [
             0.6666666666666666,
             "#ed7953"
            ],
            [
             0.7777777777777778,
             "#fb9f3a"
            ],
            [
             0.8888888888888888,
             "#fdca26"
            ],
            [
             1,
             "#f0f921"
            ]
           ],
           "sequentialminus": [
            [
             0,
             "#0d0887"
            ],
            [
             0.1111111111111111,
             "#46039f"
            ],
            [
             0.2222222222222222,
             "#7201a8"
            ],
            [
             0.3333333333333333,
             "#9c179e"
            ],
            [
             0.4444444444444444,
             "#bd3786"
            ],
            [
             0.5555555555555556,
             "#d8576b"
            ],
            [
             0.6666666666666666,
             "#ed7953"
            ],
            [
             0.7777777777777778,
             "#fb9f3a"
            ],
            [
             0.8888888888888888,
             "#fdca26"
            ],
            [
             1,
             "#f0f921"
            ]
           ]
          },
          "colorway": [
           "#636efa",
           "#EF553B",
           "#00cc96",
           "#ab63fa",
           "#FFA15A",
           "#19d3f3",
           "#FF6692",
           "#B6E880",
           "#FF97FF",
           "#FECB52"
          ],
          "font": {
           "color": "#2a3f5f"
          },
          "geo": {
           "bgcolor": "white",
           "lakecolor": "white",
           "landcolor": "#E5ECF6",
           "showlakes": true,
           "showland": true,
           "subunitcolor": "white"
          },
          "hoverlabel": {
           "align": "left"
          },
          "hovermode": "closest",
          "mapbox": {
           "style": "light"
          },
          "paper_bgcolor": "white",
          "plot_bgcolor": "#E5ECF6",
          "polar": {
           "angularaxis": {
            "gridcolor": "white",
            "linecolor": "white",
            "ticks": ""
           },
           "bgcolor": "#E5ECF6",
           "radialaxis": {
            "gridcolor": "white",
            "linecolor": "white",
            "ticks": ""
           }
          },
          "scene": {
           "xaxis": {
            "backgroundcolor": "#E5ECF6",
            "gridcolor": "white",
            "gridwidth": 2,
            "linecolor": "white",
            "showbackground": true,
            "ticks": "",
            "zerolinecolor": "white"
           },
           "yaxis": {
            "backgroundcolor": "#E5ECF6",
            "gridcolor": "white",
            "gridwidth": 2,
            "linecolor": "white",
            "showbackground": true,
            "ticks": "",
            "zerolinecolor": "white"
           },
           "zaxis": {
            "backgroundcolor": "#E5ECF6",
            "gridcolor": "white",
            "gridwidth": 2,
            "linecolor": "white",
            "showbackground": true,
            "ticks": "",
            "zerolinecolor": "white"
           }
          },
          "shapedefaults": {
           "line": {
            "color": "#2a3f5f"
           }
          },
          "ternary": {
           "aaxis": {
            "gridcolor": "white",
            "linecolor": "white",
            "ticks": ""
           },
           "baxis": {
            "gridcolor": "white",
            "linecolor": "white",
            "ticks": ""
           },
           "bgcolor": "#E5ECF6",
           "caxis": {
            "gridcolor": "white",
            "linecolor": "white",
            "ticks": ""
           }
          },
          "title": {
           "x": 0.05
          },
          "xaxis": {
           "automargin": true,
           "gridcolor": "white",
           "linecolor": "white",
           "ticks": "",
           "title": {
            "standoff": 15
           },
           "zerolinecolor": "white",
           "zerolinewidth": 2
          },
          "yaxis": {
           "automargin": true,
           "gridcolor": "white",
           "linecolor": "white",
           "ticks": "",
           "title": {
            "standoff": 15
           },
           "zerolinecolor": "white",
           "zerolinewidth": 2
          }
         }
        },
        "xaxis": {
         "anchor": "y",
         "autorange": true,
         "domain": [
          0,
          1
         ],
         "range": [
          0,
          67
         ],
         "title": {
          "text": "MONTH_DIFFERENCE"
         },
         "type": "linear"
        },
        "yaxis": {
         "anchor": "x",
         "autorange": true,
         "domain": [
          0,
          1
         ],
         "range": [
          -1213.7777777777778,
          23081.777777777777
         ],
         "title": {
          "text": "CUSTOMER_ID"
         },
         "type": "linear"
        }
       }
      },
      "image/png": "[encoded data removed]",
      "text/html": [
       "<div>                            <div id=\"0a43df88-97f2-4c2f-b28b-1c28ddd71c12\" class=\"plotly-graph-div\" style=\"height:525px; width:100%;\"></div>            <script type=\"text/javascript\">                require([\"plotly\"], function(Plotly) {                    window.PLOTLYENV=window.PLOTLYENV || {};                                    if (document.getElementById(\"0a43df88-97f2-4c2f-b28b-1c28ddd71c12\")) {                    Plotly.newPlot(                        \"0a43df88-97f2-4c2f-b28b-1c28ddd71c12\",                        [{\"hovertemplate\":\"CUSTOMER_FIRST_ACTIVE_MONTH=2019-01-01 00:00:00\\u003cbr\\u003eMONTH_DIFFERENCE=%{x}\\u003cbr\\u003eCUSTOMER_ID=%{y}\\u003cextra\\u003e\\u003c\\u002fextra\\u003e\",\"legendgroup\":\"2019-01-01 00:00:00\",\"line\":{\"color\":\"#636efa\",\"dash\":\"solid\"},\"marker\":{\"symbol\":\"circle\"},\"mode\":\"lines\",\"name\":\"2019-01-01 00:00:00\",\"showlegend\":true,\"x\":[1.0,2.0,3.0,4.0,5.0,6.0,7.0,8.0,9.0,10.0,11.0,12.0,13.0,14.0,15.0,16.0,17.0,18.0,19.0,20.0,21.0,22.0,23.0,24.0,25.0,26.0,27.0,28.0,29.0,30.0,31.0,32.0,33.0,34.0,36.0,37.0,38.0,40.0,41.0,42.0,43.0,44.0,45.0,46.0,47.0,48.0,49.0,50.0,51.0,52.0,53.0,54.0,55.0,56.0,57.0,58.0,59.0,60.0,61.0,62.0,63.0,64.0,65.0,66.0,67.0],\"xaxis\":\"x\",\"y\":[206,206,206,206,206,206,206,206,206,206,206,206,206,206,206,206,206,206,206,206,206,206,206,206,206,206,206,206,206,206,206,206,206,206,206,206,206,206,206,206,206,206,206,206,206,206,206,206,206,206,206,206,206,206,206,206,206,13,12,10,9,11,11,12,10],\"yaxis\":\"y\",\"type\":\"scattergl\"},{\"hovertemplate\":\"CUSTOMER_FIRST_ACTIVE_MONTH=2019-02-01 00:00:00\\u003cbr\\u003eMONTH_DIFFERENCE=%{x}\\u003cbr\\u003eCUSTOMER_ID=%{y}\\u003cextra\\u003e\\u003c\\u002fextra\\u003e\",\"legendgroup\":\"2019-02-01 00:00:00\",\"line\":{\"color\":\"#EF553B\",\"dash\":\"solid\"},\"marker\":{\"symbol\":\"circle\"},\"mode\":\"lines\",\"name\":\"2019-02-01 00:00:00\",\"showlegend\":true,\"x\":[0.0,1.0,2.0,3.0,4.0,5.0,6.0,7.0,8.0,9.0,10.0,11.0,12.0,13.0,14.0,15.0,16.0,17.0,18.0,19.0,20.0,21.0,22.0,23.0,24.0,25.0,26.0,27.0,28.0,29.0,30.0,31.0,32.0,33.0,34.0,36.0,37.0,38.0,40.0,41.0,42.0,43.0,44.0,45.0,46.0,47.0,48.0,49.0,50.0,51.0,52.0,53.0,54.0,55.0,56.0,57.0,58.0,59.0,60.0,61.0,62.0,63.0,64.0,65.0,66.0],\"xaxis\":\"x\",\"y\":[838,838,838,838,838,838,838,838,838,838,838,838,838,838,838,838,838,838,838,838,838,838,838,838,838,838,838,838,838,838,838,838,838,838,838,838,838,838,838,838,838,838,838,838,838,838,838,838,838,838,838,838,838,838,838,838,838,60,59,59,56,56,55,56,50],\"yaxis\":\"y\",\"type\":\"scattergl\"},{\"hovertemplate\":\"CUSTOMER_FIRST_ACTIVE_MONTH=2019-03-01 00:00:00\\u003cbr\\u003eMONTH_DIFFERENCE=%{x}\\u003cbr\\u003eCUSTOMER_ID=%{y}\\u003cextra\\u003e\\u003c\\u002fextra\\u003e\",\"legendgroup\":\"2019-03-01 00:00:00\",\"line\":{\"color\":\"#00cc96\",\"dash\":\"solid\"},\"marker\":{\"symbol\":\"circle\"},\"mode\":\"lines\",\"name\":\"2019-03-01 00:00:00\",\"showlegend\":true,\"x\":[0.0,1.0,2.0,3.0,4.0,5.0,6.0,7.0,8.0,9.0,10.0,11.0,12.0,13.0,14.0,15.0,16.0,17.0,18.0,19.0,20.0,21.0,22.0,23.0,24.0,25.0,26.0,27.0,28.0,29.0,30.0,32.0,33.0,34.0,35.0,36.0,37.0,38.0,39.0,40.0,41.0,42.0,43.0,44.0,45.0,46.0,47.0,48.0,49.0,50.0,51.0,52.0,53.0,54.0,55.0,56.0,57.0,58.0,59.0,60.0,61.0,62.0,63.0,64.0,65.0],\"xaxis\":\"x\",\"y\":[2572,2572,2572,2572,2572,2572,2572,2572,2572,2572,2572,2572,2572,2572,2572,2572,2572,2572,2572,2572,2572,2572,2572,2572,2572,2572,2572,2572,2572,2572,2572,2572,2572,2572,2572,2572,2572,2572,2572,2572,2572,2572,2572,2572,2572,2572,2572,2572,2572,2572,2572,2572,2572,2572,2572,2572,2572,159,158,142,144,141,135,126,111],\"yaxis\":\"y\",\"type\":\"scattergl\"},{\"hovertemplate\":\"CUSTOMER_FIRST_ACTIVE_MONTH=2019-04-01 00:00:00\\u003cbr\\u003eMONTH_DIFFERENCE=%{x}\\u003cbr\\u003eCUSTOMER_ID=%{y}\\u003cextra\\u003e\\u003c\\u002fextra\\u003e\",\"legendgroup\":\"2019-04-01 00:00:00\",\"line\":{\"color\":\"#ab63fa\",\"dash\":\"solid\"},\"marker\":{\"symbol\":\"circle\"},\"mode\":\"lines\",\"name\":\"2019-04-01 00:00:00\",\"showlegend\":true,\"x\":[0.0,1.0,2.0,3.0,4.0,5.0,6.0,7.0,8.0,9.0,10.0,11.0,12.0,13.0,14.0,15.0,16.0,17.0,18.0,19.0,20.0,21.0,22.0,23.0,24.0,25.0,26.0,27.0,28.0,29.0,30.0,32.0,34.0,35.0,36.0,37.0,38.0,39.0,40.0,41.0,42.0,43.0,44.0,45.0,46.0,47.0,48.0,49.0,50.0,51.0,52.0,53.0,54.0,55.0,56.0,57.0,58.0,59.0,60.0,61.0,62.0,63.0,64.0],\"xaxis\":\"x\",\"y\":[3000,3000,3000,3000,3000,3000,3000,3000,3000,3000,3000,3000,3000,3000,3000,3000,3000,3000,3000,3000,3000,3000,3000,3000,3000,3000,3000,3000,3000,3000,3000,3000,3000,3000,3000,3000,3000,3000,3000,3000,3000,3000,3000,3000,3000,3000,3000,3000,3000,3000,3000,3000,3000,3000,3000,145,138,142,154,144,137,145,119],\"yaxis\":\"y\",\"type\":\"scattergl\"},{\"hovertemplate\":\"CUSTOMER_FIRST_ACTIVE_MONTH=2019-05-01 00:00:00\\u003cbr\\u003eMONTH_DIFFERENCE=%{x}\\u003cbr\\u003eCUSTOMER_ID=%{y}\\u003cextra\\u003e\\u003c\\u002fextra\\u003e\",\"legendgroup\":\"2019-05-01 00:00:00\",\"line\":{\"color\":\"#FFA15A\",\"dash\":\"solid\"},\"marker\":{\"symbol\":\"circle\"},\"mode\":\"lines\",\"name\":\"2019-05-01 00:00:00\",\"showlegend\":true,\"x\":[0.0,1.0,2.0,3.0,4.0,5.0,6.0,7.0,8.0,9.0,10.0,11.0,12.0,13.0,14.0,15.0,16.0,17.0,18.0,19.0,20.0,21.0,22.0,23.0,24.0,25.0,26.0,27.0,28.0,29.0,30.0,32.0,33.0,34.0,36.0,37.0,38.0,39.0,40.0,41.0,42.0,43.0,44.0,45.0,46.0,47.0,48.0,49.0,50.0,51.0,52.0,53.0,54.0,55.0,56.0,57.0,58.0,59.0,60.0,61.0,62.0,63.0],\"xaxis\":\"x\",\"y\":[3301,3301,3301,3301,3301,3301,3301,3301,3301,3301,3301,3301,3301,3301,3301,3301,3301,3301,3301,3301,3301,3301,3301,3301,3301,3301,3301,3301,3301,3301,3301,3301,3301,3301,3301,3301,3301,3301,3301,3301,3301,3301,3301,3301,3301,3301,3301,3301,3301,3301,3301,3301,3301,3301,165,169,170,166,156,161,157,132],\"yaxis\":\"y\",\"type\":\"scattergl\"},{\"hovertemplate\":\"CUSTOMER_FIRST_ACTIVE_MONTH=2019-06-01 00:00:00\\u003cbr\\u003eMONTH_DIFFERENCE=%{x}\\u003cbr\\u003eCUSTOMER_ID=%{y}\\u003cextra\\u003e\\u003c\\u002fextra\\u003e\",\"legendgroup\":\"2019-06-01 00:00:00\",\"line\":{\"color\":\"#19d3f3\",\"dash\":\"solid\"},\"marker\":{\"symbol\":\"circle\"},\"mode\":\"lines\",\"name\":\"2019-06-01 00:00:00\",\"showlegend\":true,\"x\":[0.0,1.0,2.0,3.0,4.0,5.0,6.0,7.0,8.0,9.0,10.0,11.0,12.0,13.0,14.0,15.0,16.0,17.0,18.0,19.0,20.0,21.0,22.0,23.0,24.0,25.0,26.0,27.0,28.0,29.0,30.0,32.0,33.0,34.0,36.0,37.0,38.0,39.0,40.0,41.0,42.0,43.0,44.0,45.0,46.0,47.0,48.0,49.0,50.0,51.0,52.0,53.0,54.0,55.0,56.0,57.0,58.0,59.0,60.0,61.0,62.0],\"xaxis\":\"x\",\"y\":[3754,3754,3754,3754,3754,3754,3754,3754,3754,3754,3754,3754,3754,3754,3754,3754,3754,3754,3754,3754,3754,3754,3754,3754,3754,3754,3754,3754,3754,3754,3754,3754,3754,3754,3754,3754,3754,3754,3754,3754,3754,3754,3754,3754,3754,3754,3754,3754,3754,3754,3754,3754,3754,219,222,221,215,198,198,196,176],\"yaxis\":\"y\",\"type\":\"scattergl\"},{\"hovertemplate\":\"CUSTOMER_FIRST_ACTIVE_MONTH=2019-07-01 00:00:00\\u003cbr\\u003eMONTH_DIFFERENCE=%{x}\\u003cbr\\u003eCUSTOMER_ID=%{y}\\u003cextra\\u003e\\u003c\\u002fextra\\u003e\",\"legendgroup\":\"2019-07-01 00:00:00\",\"line\":{\"color\":\"#FF6692\",\"dash\":\"solid\"},\"marker\":{\"symbol\":\"circle\"},\"mode\":\"lines\",\"name\":\"2019-07-01 00:00:00\",\"showlegend\":true,\"x\":[0.0,1.0,2.0,3.0,4.0,5.0,6.0,7.0,8.0,9.0,10.0,11.0,12.0,13.0,14.0,15.0,16.0,17.0,18.0,19.0,20.0,21.0,22.0,23.0,24.0,25.0,26.0,27.0,28.0,29.0,30.0,32.0,34.0,36.0,37.0,38.0,39.0,40.0,41.0,42.0,43.0,44.0,45.0,46.0,47.0,48.0,49.0,50.0,51.0,52.0,53.0,54.0,55.0,56.0,57.0,58.0,59.0,60.0,61.0],\"xaxis\":\"x\",\"y\":[2157,2157,2157,2157,2157,2157,2157,2157,2157,2157,2157,2157,2157,2157,2157,2157,2157,2157,2157,2157,2157,2157,2157,2157,2157,2157,2157,2157,2157,2157,2157,2157,2157,2157,2157,2157,2157,2157,2157,2157,2157,2157,2157,2157,2157,2157,2157,2157,2157,2157,2157,155,163,151,146,145,135,140,127],\"yaxis\":\"y\",\"type\":\"scattergl\"},{\"hovertemplate\":\"CUSTOMER_FIRST_ACTIVE_MONTH=2019-08-01 00:00:00\\u003cbr\\u003eMONTH_DIFFERENCE=%{x}\\u003cbr\\u003eCUSTOMER_ID=%{y}\\u003cextra\\u003e\\u003c\\u002fextra\\u003e\",\"legendgroup\":\"2019-08-01 00:00:00\",\"line\":{\"color\":\"#B6E880\",\"dash\":\"solid\"},\"marker\":{\"symbol\":\"circle\"},\"mode\":\"lines\",\"name\":\"2019-08-01 00:00:00\",\"showlegend\":true,\"x\":[0.0,1.0,2.0,3.0,4.0,5.0,6.0,7.0,8.0,9.0,10.0,11.0,12.0,13.0,14.0,15.0,16.0,17.0,18.0,19.0,20.0,21.0,22.0,23.0,24.0,25.0,26.0,27.0,28.0,29.0,30.0,31.0,32.0,33.0,34.0,36.0,37.0,38.0,39.0,40.0,41.0,42.0,43.0,44.0,45.0,46.0,47.0,48.0,49.0,50.0,51.0,52.0,53.0,54.0,55.0,56.0,57.0,58.0,59.0,60.0],\"xaxis\":\"x\",\"y\":[1433,1433,1433,1433,1433,1433,1433,1433,1433,1433,1433,1433,1433,1433,1433,1433,1433,1433,1433,1433,1433,1433,1433,1433,1433,1433,1433,1433,1433,1433,1433,1433,1433,1433,1433,1433,1433,1433,1433,1433,1433,1433,1433,1433,1433,1433,1433,1433,1433,1433,1433,1433,102,96,95,93,88,92,94,80],\"yaxis\":\"y\",\"type\":\"scattergl\"},{\"hovertemplate\":\"CUSTOMER_FIRST_ACTIVE_MONTH=2019-09-01 00:00:00\\u003cbr\\u003eMONTH_DIFFERENCE=%{x}\\u003cbr\\u003eCUSTOMER_ID=%{y}\\u003cextra\\u003e\\u003c\\u002fextra\\u003e\",\"legendgroup\":\"2019-09-01 00:00:00\",\"line\":{\"color\":\"#FF97FF\",\"dash\":\"solid\"},\"marker\":{\"symbol\":\"circle\"},\"mode\":\"lines\",\"name\":\"2019-09-01 00:00:00\",\"showlegend\":true,\"x\":[0.0,1.0,2.0,3.0,4.0,5.0,6.0,7.0,8.0,9.0,10.0,11.0,12.0,13.0,14.0,15.0,16.0,17.0,18.0,19.0,20.0,21.0,22.0,23.0,24.0,25.0,26.0,27.0,28.0,29.0,30.0,31.0,32.0,33.0,34.0,36.0,37.0,38.0,39.0,40.0,41.0,42.0,43.0,44.0,45.0,46.0,47.0,48.0,49.0,50.0,51.0,52.0,53.0,54.0,55.0,56.0,57.0,58.0,59.0],\"xaxis\":\"x\",\"y\":[1439,1439,1439,1439,1439,1439,1439,1439,1439,1439,1439,1439,1439,1439,1439,1439,1439,1439,1439,1439,1439,1439,1439,1439,1439,1439,1439,1439,1439,1439,1439,1439,1439,1439,1439,1439,1439,1439,1439,1439,1439,1439,1439,1439,1439,1439,1439,1439,1439,1439,1439,126,123,113,114,109,114,121,103],\"yaxis\":\"y\",\"type\":\"scattergl\"},{\"hovertemplate\":\"CUSTOMER_FIRST_ACTIVE_MONTH=2019-10-01 00:00:00\\u003cbr\\u003eMONTH_DIFFERENCE=%{x}\\u003cbr\\u003eCUSTOMER_ID=%{y}\\u003cextra\\u003e\\u003c\\u002fextra\\u003e\",\"legendgroup\":\"2019-10-01 00:00:00\",\"line\":{\"color\":\"#FECB52\",\"dash\":\"solid\"},\"marker\":{\"symbol\":\"circle\"},\"mode\":\"lines\",\"name\":\"2019-10-01 00:00:00\",\"showlegend\":true,\"x\":[0.0,1.0,2.0,3.0,4.0,5.0,6.0,7.0,8.0,9.0,10.0,11.0,12.0,13.0,14.0,15.0,16.0,17.0,18.0,19.0,20.0,21.0,22.0,23.0,24.0,25.0,26.0,27.0,28.0,29.0,30.0,31.0,32.0,33.0,34.0,36.0,37.0,38.0,39.0,40.0,41.0,42.0,43.0,44.0,45.0,46.0,47.0,48.0,49.0,50.0,51.0,52.0,53.0,54.0,55.0,56.0,57.0,58.0],\"xaxis\":\"x\",\"y\":[1562,1562,1562,1562,1562,1562,1562,1562,1562,1562,1562,1562,1562,1562,1562,1562,1562,1562,1562,1562,1562,1562,1562,1562,1562,1562,1562,1562,1562,1562,1562,1562,1562,1562,1562,1562,1562,1562,1562,1562,1562,1562,1562,1562,1562,1562,1562,1562,1562,1562,135,143,141,133,122,120,123,110],\"yaxis\":\"y\",\"type\":\"scattergl\"},{\"hovertemplate\":\"CUSTOMER_FIRST_ACTIVE_MONTH=2019-11-01 00:00:00\\u003cbr\\u003eMONTH_DIFFERENCE=%{x}\\u003cbr\\u003eCUSTOMER_ID=%{y}\\u003cextra\\u003e\\u003c\\u002fextra\\u003e\",\"legendgroup\":\"2019-11-01 00:00:00\",\"line\":{\"color\":\"#636efa\",\"dash\":\"solid\"},\"marker\":{\"symbol\":\"circle\"},\"mode\":\"lines\",\"name\":\"2019-11-01 00:00:00\",\"showlegend\":true,\"x\":[0.0,1.0,2.0,3.0,4.0,5.0,6.0,7.0,8.0,9.0,10.0,11.0,12.0,13.0,14.0,15.0,16.0,17.0,18.0,19.0,20.0,21.0,22.0,23.0,24.0,25.0,26.0,27.0,28.0,29.0,30.0,31.0,32.0,33.0,34.0,36.0,37.0,38.0,39.0,40.0,41.0,42.0,43.0,44.0,45.0,46.0,47.0,48.0,49.0,50.0,51.0,52.0,53.0,54.0,55.0,56.0,57.0],\"xaxis\":\"x\",\"y\":[789,789,789,789,789,789,789,789,789,789,789,789,789,789,789,789,789,789,789,789,789,789,789,789,789,789,789,789,789,789,789,789,789,789,789,789,789,789,789,789,789,789,789,789,789,789,789,789,789,80,80,79,81,79,76,77,67],\"yaxis\":\"y\",\"type\":\"scattergl\"},{\"hovertemplate\":\"CUSTOMER_FIRST_ACTIVE_MONTH=2019-12-01 00:00:00\\u003cbr\\u003eMONTH_DIFFERENCE=%{x}\\u003cbr\\u003eCUSTOMER_ID=%{y}\\u003cextra\\u003e\\u003c\\u002fextra\\u003e\",\"legendgroup\":\"2019-12-01 00:00:00\",\"line\":{\"color\":\"#EF553B\",\"dash\":\"solid\"},\"marker\":{\"symbol\":\"circle\"},\"mode\":\"lines\",\"name\":\"2019-12-01 00:00:00\",\"showlegend\":true,\"x\":[0.0,1.0,2.0,3.0,4.0,5.0,6.0,7.0,8.0,9.0,10.0,11.0,12.0,13.0,14.0,15.0,16.0,17.0,18.0,19.0,20.0,21.0,22.0,23.0,24.0,25.0,26.0,27.0,28.0,29.0,30.0,31.0,32.0,34.0,36.0,37.0,38.0,39.0,40.0,41.0,42.0,43.0,44.0,45.0,46.0,47.0,48.0,49.0,50.0,51.0,52.0,53.0,54.0,55.0,56.0],\"xaxis\":\"x\",\"y\":[1231,1231,1231,1231,1231,1231,1231,1231,1231,1231,1231,1231,1231,1231,1231,1231,1231,1231,1231,1231,1231,1231,1231,1231,1231,1231,1231,1231,1231,1231,1231,1231,1231,1231,1231,1231,1231,1231,1231,1231,1231,1231,1231,1231,1231,1231,1231,98,96,85,88,86,84,83,72],\"yaxis\":\"y\",\"type\":\"scattergl\"},{\"hovertemplate\":\"CUSTOMER_FIRST_ACTIVE_MONTH=2020-01-01 00:00:00\\u003cbr\\u003eMONTH_DIFFERENCE=%{x}\\u003cbr\\u003eCUSTOMER_ID=%{y}\\u003cextra\\u003e\\u003c\\u002fextra\\u003e\",\"legendgroup\":\"2020-01-01 00:00:00\",\"line\":{\"color\":\"#00cc96\",\"dash\":\"solid\"},\"marker\":{\"symbol\":\"circle\"},\"mode\":\"lines\",\"name\":\"2020-01-01 00:00:00\",\"showlegend\":true,\"x\":[0.0,1.0,2.0,3.0,4.0,5.0,6.0,7.0,8.0,9.0,10.0,11.0,12.0,13.0,14.0,15.0,16.0,17.0,18.0,19.0,20.0,21.0,22.0,23.0,24.0,25.0,26.0,27.0,28.0,29.0,30.0,31.0,32.0,33.0,34.0,36.0,37.0,38.0,40.0,41.0,42.0,43.0,44.0,45.0,46.0,47.0,48.0,49.0,50.0,51.0,52.0,53.0,54.0,55.0],\"xaxis\":\"x\",\"y\":[1390,1390,1390,1390,1390,1390,1390,1390,1390,1390,1390,1390,1390,1390,1390,1390,1390,1390,1390,1390,1390,1390,1390,1390,1390,1390,1390,1390,1390,1390,1390,1390,1390,1390,1390,1390,1390,1390,1390,1390,1390,1390,1390,1390,1390,1390,122,120,117,118,116,116,114,104],\"yaxis\":\"y\",\"type\":\"scattergl\"},{\"hovertemplate\":\"CUSTOMER_FIRST_ACTIVE_MONTH=2020-02-01 00:00:00\\u003cbr\\u003eMONTH_DIFFERENCE=%{x}\\u003cbr\\u003eCUSTOMER_ID=%{y}\\u003cextra\\u003e\\u003c\\u002fextra\\u003e\",\"legendgroup\":\"2020-02-01 00:00:00\",\"line\":{\"color\":\"#ab63fa\",\"dash\":\"solid\"},\"marker\":{\"symbol\":\"circle\"},\"mode\":\"lines\",\"name\":\"2020-02-01 00:00:00\",\"showlegend\":true,\"x\":[0.0,1.0,2.0,3.0,4.0,5.0,6.0,7.0,8.0,9.0,10.0,11.0,12.0,13.0,14.0,15.0,16.0,17.0,18.0,19.0,20.0,21.0,22.0,23.0,24.0,25.0,26.0,27.0,28.0,29.0,30.0,31.0,32.0,33.0,34.0,36.0,37.0,38.0,40.0,41.0,42.0,43.0,44.0,45.0,46.0,47.0,48.0,49.0,50.0,51.0,52.0,53.0,54.0],\"xaxis\":\"x\",\"y\":[1070,1070,1070,1070,1070,1070,1070,1070,1070,1070,1070,1070,1070,1070,1070,1070,1070,1070,1070,1070,1070,1070,1070,1070,1070,1070,1070,1070,1070,1070,1070,1070,1070,1070,1070,1070,1070,1070,1070,1070,1070,1070,1070,1070,1070,113,108,105,108,95,98,99,89],\"yaxis\":\"y\",\"type\":\"scattergl\"},{\"hovertemplate\":\"CUSTOMER_FIRST_ACTIVE_MONTH=2020-03-01 00:00:00\\u003cbr\\u003eMONTH_DIFFERENCE=%{x}\\u003cbr\\u003eCUSTOMER_ID=%{y}\\u003cextra\\u003e\\u003c\\u002fextra\\u003e\",\"legendgroup\":\"2020-03-01 00:00:00\",\"line\":{\"color\":\"#FFA15A\",\"dash\":\"solid\"},\"marker\":{\"symbol\":\"circle\"},\"mode\":\"lines\",\"name\":\"2020-03-01 00:00:00\",\"showlegend\":true,\"x\":[0.0,1.0,2.0,3.0,4.0,5.0,6.0,7.0,8.0,9.0,10.0,11.0,12.0,13.0,14.0,15.0,16.0,17.0,18.0,19.0,20.0,21.0,22.0,23.0,24.0,25.0,26.0,27.0,28.0,29.0,30.0,31.0,32.0,34.0,35.0,36.0,38.0,39.0,40.0,41.0,42.0,43.0,44.0,45.0,46.0,47.0,48.0,49.0,50.0,51.0,52.0,53.0],\"xaxis\":\"x\",\"y\":[1079,1079,1079,1079,1079,1079,1079,1079,1079,1079,1079,1079,1079,1079,1079,1079,1079,1079,1079,1079,1079,1079,1079,1079,1079,1079,1079,1079,1079,1079,1079,1079,1079,1079,1079,1079,1079,1079,1079,1079,1079,1079,1079,1079,134,131,130,128,127,125,115,102],\"yaxis\":\"y\",\"type\":\"scattergl\"},{\"hovertemplate\":\"CUSTOMER_FIRST_ACTIVE_MONTH=2020-04-01 00:00:00\\u003cbr\\u003eMONTH_DIFFERENCE=%{x}\\u003cbr\\u003eCUSTOMER_ID=%{y}\\u003cextra\\u003e\\u003c\\u002fextra\\u003e\",\"legendgroup\":\"2020-04-01 00:00:00\",\"line\":{\"color\":\"#19d3f3\",\"dash\":\"solid\"},\"marker\":{\"symbol\":\"circle\"},\"mode\":\"lines\",\"name\":\"2020-04-01 00:00:00\",\"showlegend\":true,\"x\":[0.0,1.0,2.0,3.0,4.0,5.0,6.0,7.0,8.0,9.0,10.0,11.0,12.0,13.0,14.0,15.0,16.0,17.0,18.0,19.0,20.0,21.0,22.0,23.0,24.0,25.0,26.0,27.0,28.0,29.0,30.0,31.0,32.0,34.0,35.0,36.0,38.0,39.0,40.0,41.0,42.0,43.0,44.0,45.0,46.0,47.0,48.0,49.0,50.0,51.0,52.0],\"xaxis\":\"x\",\"y\":[1507,1507,1507,1507,1507,1507,1507,1507,1507,1507,1507,1507,1507,1507,1507,1507,1507,1507,1507,1507,1507,1507,1507,1507,1507,1507,1507,1507,1507,1507,1507,1507,1507,1507,1507,1507,1507,1507,1507,1507,1507,1507,1507,188,175,185,184,182,184,173,161],\"yaxis\":\"y\",\"type\":\"scattergl\"},{\"hovertemplate\":\"CUSTOMER_FIRST_ACTIVE_MONTH=2020-05-01 00:00:00\\u003cbr\\u003eMONTH_DIFFERENCE=%{x}\\u003cbr\\u003eCUSTOMER_ID=%{y}\\u003cextra\\u003e\\u003c\\u002fextra\\u003e\",\"legendgroup\":\"2020-05-01 00:00:00\",\"line\":{\"color\":\"#FF6692\",\"dash\":\"solid\"},\"marker\":{\"symbol\":\"circle\"},\"mode\":\"lines\",\"name\":\"2020-05-01 00:00:00\",\"showlegend\":true,\"x\":[0.0,1.0,2.0,3.0,4.0,5.0,6.0,7.0,8.0,9.0,10.0,11.0,12.0,13.0,14.0,15.0,16.0,17.0,18.0,19.0,20.0,21.0,22.0,23.0,24.0,25.0,26.0,27.0,28.0,29.0,30.0,31.0,32.0,34.0,36.0,38.0,39.0,40.0,41.0,42.0,43.0,44.0,45.0,46.0,47.0,48.0,49.0,50.0,51.0],\"xaxis\":\"x\",\"y\":[1681,1681,1681,1681,1681,1681,1681,1681,1681,1681,1681,1681,1681,1681,1681,1681,1681,1681,1681,1681,1681,1681,1681,1681,1681,1681,1681,1681,1681,1681,1681,1681,1681,1681,1681,1681,1681,1681,1681,1681,1681,198,202,190,192,179,172,168,159],\"yaxis\":\"y\",\"type\":\"scattergl\"},{\"hovertemplate\":\"CUSTOMER_FIRST_ACTIVE_MONTH=2020-06-01 00:00:00\\u003cbr\\u003eMONTH_DIFFERENCE=%{x}\\u003cbr\\u003eCUSTOMER_ID=%{y}\\u003cextra\\u003e\\u003c\\u002fextra\\u003e\",\"legendgroup\":\"2020-06-01 00:00:00\",\"line\":{\"color\":\"#B6E880\",\"dash\":\"solid\"},\"marker\":{\"symbol\":\"circle\"},\"mode\":\"lines\",\"name\":\"2020-06-01 00:00:00\",\"showlegend\":true,\"x\":[0.0,1.0,2.0,3.0,4.0,5.0,6.0,7.0,8.0,9.0,10.0,11.0,12.0,13.0,14.0,15.0,16.0,17.0,18.0,19.0,20.0,21.0,22.0,23.0,24.0,25.0,26.0,27.0,28.0,29.0,30.0,31.0,32.0,33.0,34.0,35.0,36.0,38.0,39.0,40.0,41.0,42.0,43.0,44.0,45.0,46.0,47.0,48.0,49.0,50.0],\"xaxis\":\"x\",\"y\":[1446,1446,1446,1446,1446,1446,1446,1446,1446,1446,1446,1446,1446,1446,1446,1446,1446,1446,1446,1446,1446,1446,1446,1446,1446,1446,1446,1446,1446,1446,1446,1446,1446,1446,1446,1446,1446,1446,1446,1446,1446,1446,169,170,167,157,159,155,147,133],\"yaxis\":\"y\",\"type\":\"scattergl\"},{\"hovertemplate\":\"CUSTOMER_FIRST_ACTIVE_MONTH=2020-07-01 00:00:00\\u003cbr\\u003eMONTH_DIFFERENCE=%{x}\\u003cbr\\u003eCUSTOMER_ID=%{y}\\u003cextra\\u003e\\u003c\\u002fextra\\u003e\",\"legendgroup\":\"2020-07-01 00:00:00\",\"line\":{\"color\":\"#FF97FF\",\"dash\":\"solid\"},\"marker\":{\"symbol\":\"circle\"},\"mode\":\"lines\",\"name\":\"2020-07-01 00:00:00\",\"showlegend\":true,\"x\":[0.0,1.0,2.0,3.0,4.0,5.0,6.0,7.0,8.0,9.0,10.0,11.0,12.0,13.0,14.0,15.0,16.0,17.0,18.0,19.0,20.0,21.0,22.0,23.0,24.0,25.0,26.0,27.0,28.0,29.0,30.0,32.0,33.0,34.0,36.0,38.0,39.0,40.0,41.0,42.0,43.0,44.0,45.0,46.0,47.0,48.0,49.0],\"xaxis\":\"x\",\"y\":[1673,1673,1673,1673,1673,1673,1673,1673,1673,1673,1673,1673,1673,1673,1673,1673,1673,1673,1673,1673,1673,1673,1673,1673,1673,1673,1673,1673,1673,1673,1673,1673,1673,1673,1673,1673,1673,1673,1673,202,198,189,186,182,178,168,149],\"yaxis\":\"y\",\"type\":\"scattergl\"},{\"hovertemplate\":\"CUSTOMER_FIRST_ACTIVE_MONTH=2020-08-01 00:00:00\\u003cbr\\u003eMONTH_DIFFERENCE=%{x}\\u003cbr\\u003eCUSTOMER_ID=%{y}\\u003cextra\\u003e\\u003c\\u002fextra\\u003e\",\"legendgroup\":\"2020-08-01 00:00:00\",\"line\":{\"color\":\"#FECB52\",\"dash\":\"solid\"},\"marker\":{\"symbol\":\"circle\"},\"mode\":\"lines\",\"name\":\"2020-08-01 00:00:00\",\"showlegend\":true,\"x\":[0.0,1.0,2.0,3.0,4.0,5.0,6.0,7.0,8.0,9.0,10.0,11.0,12.0,13.0,14.0,15.0,16.0,17.0,18.0,19.0,20.0,21.0,22.0,23.0,24.0,25.0,26.0,27.0,28.0,29.0,30.0,31.0,32.0,33.0,34.0,35.0,36.0,38.0,39.0,40.0,41.0,42.0,43.0,44.0,45.0,46.0,47.0,48.0],\"xaxis\":\"x\",\"y\":[2040,2040,2040,2040,2040,2040,2040,2040,2040,2040,2040,2040,2040,2040,2040,2040,2040,2040,2040,2040,2040,2040,2040,2040,2040,2040,2040,2040,2040,2040,2040,2040,2040,2040,2040,2040,2040,2040,2040,2040,225,226,222,216,203,207,198,184],\"yaxis\":\"y\",\"type\":\"scattergl\"},{\"hovertemplate\":\"CUSTOMER_FIRST_ACTIVE_MONTH=2020-09-01 00:00:00\\u003cbr\\u003eMONTH_DIFFERENCE=%{x}\\u003cbr\\u003eCUSTOMER_ID=%{y}\\u003cextra\\u003e\\u003c\\u002fextra\\u003e\",\"legendgroup\":\"2020-09-01 00:00:00\",\"line\":{\"color\":\"#636efa\",\"dash\":\"solid\"},\"marker\":{\"symbol\":\"circle\"},\"mode\":\"lines\",\"name\":\"2020-09-01 00:00:00\",\"showlegend\":true,\"x\":[0.0,1.0,2.0,3.0,4.0,5.0,6.0,7.0,8.0,9.0,10.0,11.0,12.0,13.0,14.0,15.0,16.0,17.0,18.0,19.0,20.0,21.0,22.0,23.0,24.0,25.0,26.0,27.0,28.0,29.0,30.0,31.0,32.0,33.0,34.0,35.0,36.0,38.0,39.0,40.0,41.0,42.0,43.0,44.0,45.0,46.0,47.0],\"xaxis\":\"x\",\"y\":[2319,2319,2319,2319,2319,2319,2319,2319,2319,2319,2319,2319,2319,2319,2319,2319,2319,2319,2319,2319,2319,2319,2319,2319,2319,2319,2319,2319,2319,2319,2319,2319,2319,2319,2319,2319,2319,2319,2319,263,272,266,260,258,245,242,222],\"yaxis\":\"y\",\"type\":\"scattergl\"},{\"hovertemplate\":\"CUSTOMER_FIRST_ACTIVE_MONTH=2020-10-01 00:00:00\\u003cbr\\u003eMONTH_DIFFERENCE=%{x}\\u003cbr\\u003eCUSTOMER_ID=%{y}\\u003cextra\\u003e\\u003c\\u002fextra\\u003e\",\"legendgroup\":\"2020-10-01 00:00:00\",\"line\":{\"color\":\"#EF553B\",\"dash\":\"solid\"},\"marker\":{\"symbol\":\"circle\"},\"mode\":\"lines\",\"name\":\"2020-10-01 00:00:00\",\"showlegend\":true,\"x\":[0.0,1.0,2.0,3.0,4.0,5.0,6.0,7.0,8.0,9.0,10.0,11.0,12.0,13.0,14.0,15.0,16.0,17.0,18.0,19.0,20.0,21.0,22.0,23.0,24.0,25.0,26.0,27.0,28.0,29.0,30.0,31.0,32.0,33.0,34.0,36.0,38.0,39.0,40.0,41.0,42.0,43.0,44.0,45.0,46.0],\"xaxis\":\"x\",\"y\":[2230,2230,2230,2230,2230,2230,2230,2230,2230,2230,2230,2230,2230,2230,2230,2230,2230,2230,2230,2230,2230,2230,2230,2230,2230,2230,2230,2230,2230,2230,2230,2230,2230,2230,2230,2230,2230,269,254,248,247,227,221,222,198],\"yaxis\":\"y\",\"type\":\"scattergl\"},{\"hovertemplate\":\"CUSTOMER_FIRST_ACTIVE_MONTH=2020-11-01 00:00:00\\u003cbr\\u003eMONTH_DIFFERENCE=%{x}\\u003cbr\\u003eCUSTOMER_ID=%{y}\\u003cextra\\u003e\\u003c\\u002fextra\\u003e\",\"legendgroup\":\"2020-11-01 00:00:00\",\"line\":{\"color\":\"#00cc96\",\"dash\":\"solid\"},\"marker\":{\"symbol\":\"circle\"},\"mode\":\"lines\",\"name\":\"2020-11-01 00:00:00\",\"showlegend\":true,\"x\":[0.0,1.0,2.0,3.0,4.0,5.0,6.0,7.0,8.0,9.0,10.0,11.0,12.0,13.0,14.0,15.0,16.0,17.0,18.0,19.0,20.0,21.0,22.0,23.0,24.0,25.0,26.0,27.0,28.0,29.0,30.0,31.0,32.0,33.0,34.0,35.0,36.0,38.0,39.0,40.0,41.0,42.0,43.0,44.0,45.0],\"xaxis\":\"x\",\"y\":[2729,2729,2729,2729,2729,2729,2729,2729,2729,2729,2729,2729,2729,2729,2729,2729,2729,2729,2729,2729,2729,2729,2729,2729,2729,2729,2729,2729,2729,2729,2729,2729,2729,2729,2729,2729,2729,329,320,304,293,288,282,275,262],\"yaxis\":\"y\",\"type\":\"scattergl\"},{\"hovertemplate\":\"CUSTOMER_FIRST_ACTIVE_MONTH=2020-12-01 00:00:00\\u003cbr\\u003eMONTH_DIFFERENCE=%{x}\\u003cbr\\u003eCUSTOMER_ID=%{y}\\u003cextra\\u003e\\u003c\\u002fextra\\u003e\",\"legendgroup\":\"2020-12-01 00:00:00\",\"line\":{\"color\":\"#ab63fa\",\"dash\":\"solid\"},\"marker\":{\"symbol\":\"circle\"},\"mode\":\"lines\",\"name\":\"2020-12-01 00:00:00\",\"showlegend\":true,\"x\":[0.0,1.0,2.0,3.0,4.0,5.0,6.0,7.0,8.0,9.0,10.0,11.0,12.0,13.0,14.0,15.0,16.0,17.0,18.0,19.0,20.0,21.0,22.0,23.0,24.0,25.0,26.0,27.0,28.0,29.0,30.0,31.0,32.0,33.0,34.0,36.0,38.0,39.0,40.0,41.0,42.0,43.0,44.0],\"xaxis\":\"x\",\"y\":[3321,3321,3321,3321,3321,3321,3321,3321,3321,3321,3321,3321,3321,3321,3321,3321,3321,3321,3321,3321,3321,3321,3321,3321,3321,3321,3321,3321,3321,3321,3321,3321,3321,3321,3321,3321,388,379,366,357,352,346,327],\"yaxis\":\"y\",\"type\":\"scattergl\"},{\"hovertemplate\":\"CUSTOMER_FIRST_ACTIVE_MONTH=2021-01-01 00:00:00\\u003cbr\\u003eMONTH_DIFFERENCE=%{x}\\u003cbr\\u003eCUSTOMER_ID=%{y}\\u003cextra\\u003e\\u003c\\u002fextra\\u003e\",\"legendgroup\":\"2021-01-01 00:00:00\",\"line\":{\"color\":\"#FFA15A\",\"dash\":\"solid\"},\"marker\":{\"symbol\":\"circle\"},\"mode\":\"lines\",\"name\":\"2021-01-01 00:00:00\",\"showlegend\":true,\"x\":[0.0,1.0,2.0,3.0,4.0,5.0,6.0,7.0,8.0,9.0,10.0,11.0,12.0,13.0,14.0,15.0,16.0,17.0,18.0,19.0,20.0,21.0,22.0,23.0,24.0,25.0,26.0,27.0,28.0,29.0,30.0,31.0,32.0,33.0,34.0,35.0,36.0,38.0,40.0,41.0,42.0,43.0],\"xaxis\":\"x\",\"y\":[4442,4442,4442,4442,4442,4442,4442,4442,4442,4442,4442,4442,4442,4442,4442,4442,4442,4442,4442,4442,4442,4442,4442,4442,4442,4442,4442,4442,4442,4442,4442,4442,4442,4442,4442,595,574,599,542,540,533,495],\"yaxis\":\"y\",\"type\":\"scattergl\"},{\"hovertemplate\":\"CUSTOMER_FIRST_ACTIVE_MONTH=2021-02-01 00:00:00\\u003cbr\\u003eMONTH_DIFFERENCE=%{x}\\u003cbr\\u003eCUSTOMER_ID=%{y}\\u003cextra\\u003e\\u003c\\u002fextra\\u003e\",\"legendgroup\":\"2021-02-01 00:00:00\",\"line\":{\"color\":\"#19d3f3\",\"dash\":\"solid\"},\"marker\":{\"symbol\":\"circle\"},\"mode\":\"lines\",\"name\":\"2021-02-01 00:00:00\",\"showlegend\":true,\"x\":[0.0,1.0,2.0,3.0,4.0,5.0,6.0,7.0,8.0,9.0,10.0,11.0,12.0,13.0,14.0,15.0,16.0,17.0,18.0,19.0,20.0,21.0,22.0,23.0,24.0,25.0,26.0,27.0,28.0,29.0,30.0,31.0,32.0,33.0,34.0,35.0,36.0,37.0,38.0,40.0,41.0,42.0],\"xaxis\":\"x\",\"y\":[4543,4543,4543,4543,4543,4543,4543,4543,4543,4543,4543,4543,4543,4543,4543,4543,4543,4543,4543,4543,4543,4543,4543,4543,4543,4543,4543,4543,4543,4543,4543,4543,4543,4543,571,562,540,534,526,533,533,495],\"yaxis\":\"y\",\"type\":\"scattergl\"},{\"hovertemplate\":\"CUSTOMER_FIRST_ACTIVE_MONTH=2021-03-01 00:00:00\\u003cbr\\u003eMONTH_DIFFERENCE=%{x}\\u003cbr\\u003eCUSTOMER_ID=%{y}\\u003cextra\\u003e\\u003c\\u002fextra\\u003e\",\"legendgroup\":\"2021-03-01 00:00:00\",\"line\":{\"color\":\"#FF6692\",\"dash\":\"solid\"},\"marker\":{\"symbol\":\"circle\"},\"mode\":\"lines\",\"name\":\"2021-03-01 00:00:00\",\"showlegend\":true,\"x\":[0.0,1.0,2.0,3.0,4.0,5.0,6.0,7.0,8.0,9.0,10.0,11.0,12.0,13.0,14.0,15.0,16.0,17.0,18.0,19.0,20.0,21.0,22.0,23.0,24.0,25.0,26.0,27.0,28.0,29.0,30.0,31.0,32.0,34.0,35.0,36.0,37.0,38.0,39.0,40.0,41.0],\"xaxis\":\"x\",\"y\":[5466,5466,5466,5466,5466,5466,5466,5466,5466,5466,5466,5466,5466,5466,5466,5466,5466,5466,5466,5466,5466,5466,5466,5466,5466,5466,5466,5466,5466,5466,5466,5466,5466,702,704,678,677,654,634,626,585],\"yaxis\":\"y\",\"type\":\"scattergl\"},{\"hovertemplate\":\"CUSTOMER_FIRST_ACTIVE_MONTH=2021-04-01 00:00:00\\u003cbr\\u003eMONTH_DIFFERENCE=%{x}\\u003cbr\\u003eCUSTOMER_ID=%{y}\\u003cextra\\u003e\\u003c\\u002fextra\\u003e\",\"legendgroup\":\"2021-04-01 00:00:00\",\"line\":{\"color\":\"#B6E880\",\"dash\":\"solid\"},\"marker\":{\"symbol\":\"circle\"},\"mode\":\"lines\",\"name\":\"2021-04-01 00:00:00\",\"showlegend\":true,\"x\":[0.0,1.0,2.0,3.0,4.0,5.0,6.0,7.0,8.0,9.0,10.0,11.0,12.0,13.0,14.0,15.0,16.0,17.0,18.0,19.0,20.0,21.0,22.0,23.0,24.0,25.0,26.0,27.0,28.0,29.0,30.0,31.0,32.0,34.0,35.0,36.0,37.0,38.0,39.0,40.0],\"xaxis\":\"x\",\"y\":[6316,6316,6316,6316,6316,6316,6316,6316,6316,6316,6316,6316,6316,6316,6316,6316,6316,6316,6316,6316,6316,6316,6316,6316,6316,6316,6316,6316,6316,6316,6316,6316,908,892,866,871,850,829,813,754],\"yaxis\":\"y\",\"type\":\"scattergl\"},{\"hovertemplate\":\"CUSTOMER_FIRST_ACTIVE_MONTH=2021-05-01 00:00:00\\u003cbr\\u003eMONTH_DIFFERENCE=%{x}\\u003cbr\\u003eCUSTOMER_ID=%{y}\\u003cextra\\u003e\\u003c\\u002fextra\\u003e\",\"legendgroup\":\"2021-05-01 00:00:00\",\"line\":{\"color\":\"#FF97FF\",\"dash\":\"solid\"},\"marker\":{\"symbol\":\"circle\"},\"mode\":\"lines\",\"name\":\"2021-05-01 00:00:00\",\"showlegend\":true,\"x\":[0.0,1.0,2.0,3.0,4.0,5.0,6.0,7.0,8.0,9.0,10.0,11.0,12.0,13.0,14.0,15.0,16.0,17.0,18.0,19.0,20.0,21.0,22.0,23.0,24.0,25.0,26.0,27.0,28.0,29.0,30.0,31.0,32.0,34.0,36.0,37.0,38.0,39.0],\"xaxis\":\"x\",\"y\":[6868,6868,6868,6868,6868,6868,6868,6868,6868,6868,6868,6868,6868,6868,6868,6868,6868,6868,6868,6868,6868,6868,6868,6868,6868,6868,6868,6868,6868,6868,6868,951,941,960,883,874,860,816],\"yaxis\":\"y\",\"type\":\"scattergl\"},{\"hovertemplate\":\"CUSTOMER_FIRST_ACTIVE_MONTH=2021-06-01 00:00:00\\u003cbr\\u003eMONTH_DIFFERENCE=%{x}\\u003cbr\\u003eCUSTOMER_ID=%{y}\\u003cextra\\u003e\\u003c\\u002fextra\\u003e\",\"legendgroup\":\"2021-06-01 00:00:00\",\"line\":{\"color\":\"#FECB52\",\"dash\":\"solid\"},\"marker\":{\"symbol\":\"circle\"},\"mode\":\"lines\",\"name\":\"2021-06-01 00:00:00\",\"showlegend\":true,\"x\":[0.0,1.0,2.0,3.0,4.0,5.0,6.0,7.0,8.0,9.0,10.0,11.0,12.0,13.0,14.0,15.0,16.0,17.0,18.0,19.0,20.0,21.0,22.0,23.0,24.0,25.0,26.0,27.0,28.0,29.0,30.0,31.0,32.0,33.0,34.0,36.0,37.0,38.0],\"xaxis\":\"x\",\"y\":[7047,7047,7047,7047,7047,7047,7047,7047,7047,7047,7047,7047,7047,7047,7047,7047,7047,7047,7047,7047,7047,7047,7047,7047,7047,7047,7047,7047,7047,7047,995,991,958,943,914,915,916,843],\"yaxis\":\"y\",\"type\":\"scattergl\"},{\"hovertemplate\":\"CUSTOMER_FIRST_ACTIVE_MONTH=2021-07-01 00:00:00\\u003cbr\\u003eMONTH_DIFFERENCE=%{x}\\u003cbr\\u003eCUSTOMER_ID=%{y}\\u003cextra\\u003e\\u003c\\u002fextra\\u003e\",\"legendgroup\":\"2021-07-01 00:00:00\",\"line\":{\"color\":\"#636efa\",\"dash\":\"solid\"},\"marker\":{\"symbol\":\"circle\"},\"mode\":\"lines\",\"name\":\"2021-07-01 00:00:00\",\"showlegend\":true,\"x\":[0.0,1.0,2.0,3.0,4.0,5.0,6.0,7.0,8.0,9.0,10.0,11.0,12.0,13.0,14.0,15.0,16.0,17.0,18.0,19.0,20.0,21.0,22.0,23.0,24.0,25.0,26.0,27.0,28.0,29.0,30.0,32.0,34.0,36.0,37.0],\"xaxis\":\"x\",\"y\":[7125,7125,7125,7125,7125,7125,7125,7125,7125,7125,7125,7125,7125,7125,7125,7125,7125,7125,7125,7125,7125,7125,7125,7125,7125,7125,7125,7125,7125,1026,1005,1048,1017,932,860],\"yaxis\":\"y\",\"type\":\"scattergl\"},{\"hovertemplate\":\"CUSTOMER_FIRST_ACTIVE_MONTH=2021-08-01 00:00:00\\u003cbr\\u003eMONTH_DIFFERENCE=%{x}\\u003cbr\\u003eCUSTOMER_ID=%{y}\\u003cextra\\u003e\\u003c\\u002fextra\\u003e\",\"legendgroup\":\"2021-08-01 00:00:00\",\"line\":{\"color\":\"#EF553B\",\"dash\":\"solid\"},\"marker\":{\"symbol\":\"circle\"},\"mode\":\"lines\",\"name\":\"2021-08-01 00:00:00\",\"showlegend\":true,\"x\":[0.0,1.0,2.0,3.0,4.0,5.0,6.0,7.0,8.0,9.0,10.0,11.0,12.0,13.0,14.0,15.0,16.0,17.0,18.0,19.0,20.0,21.0,22.0,23.0,24.0,25.0,26.0,27.0,28.0,29.0,30.0,31.0,32.0,33.0,34.0,36.0],\"xaxis\":\"x\",\"y\":[8428,8428,8428,8428,8428,8428,8428,8428,8428,8428,8428,8428,8428,8428,8428,8428,8428,8428,8428,8428,8428,8428,8428,8428,8428,8428,8428,8428,1264,1260,1216,1201,1174,1151,1129,1037],\"yaxis\":\"y\",\"type\":\"scattergl\"},{\"hovertemplate\":\"CUSTOMER_FIRST_ACTIVE_MONTH=2021-09-01 00:00:00\\u003cbr\\u003eMONTH_DIFFERENCE=%{x}\\u003cbr\\u003eCUSTOMER_ID=%{y}\\u003cextra\\u003e\\u003c\\u002fextra\\u003e\",\"legendgroup\":\"2021-09-01 00:00:00\",\"line\":{\"color\":\"#00cc96\",\"dash\":\"solid\"},\"marker\":{\"symbol\":\"circle\"},\"mode\":\"lines\",\"name\":\"2021-09-01 00:00:00\",\"showlegend\":true,\"x\":[0.0,1.0,2.0,3.0,4.0,5.0,6.0,7.0,8.0,9.0,10.0,11.0,12.0,13.0,14.0,15.0,16.0,17.0,18.0,19.0,20.0,21.0,22.0,23.0,24.0,25.0,26.0,27.0,28.0,29.0,30.0,31.0,32.0,33.0,34.0],\"xaxis\":\"x\",\"y\":[6827,6827,6827,6827,6827,6827,6827,6827,6827,6827,6827,6827,6827,6827,6827,6827,6827,6827,6827,6827,6827,6827,6827,6827,6827,6827,6827,1057,1050,1023,1031,987,971,959,892],\"yaxis\":\"y\",\"type\":\"scattergl\"},{\"hovertemplate\":\"CUSTOMER_FIRST_ACTIVE_MONTH=2021-10-01 00:00:00\\u003cbr\\u003eMONTH_DIFFERENCE=%{x}\\u003cbr\\u003eCUSTOMER_ID=%{y}\\u003cextra\\u003e\\u003c\\u002fextra\\u003e\",\"legendgroup\":\"2021-10-01 00:00:00\",\"line\":{\"color\":\"#ab63fa\",\"dash\":\"solid\"},\"marker\":{\"symbol\":\"circle\"},\"mode\":\"lines\",\"name\":\"2021-10-01 00:00:00\",\"showlegend\":true,\"x\":[0.0,1.0,2.0,3.0,4.0,5.0,6.0,7.0,8.0,9.0,10.0,11.0,12.0,13.0,14.0,15.0,16.0,17.0,18.0,19.0,20.0,21.0,22.0,23.0,24.0,25.0,26.0,27.0,28.0,29.0,30.0,31.0,32.0,33.0],\"xaxis\":\"x\",\"y\":[7861,7861,7861,7861,7861,7861,7861,7861,7861,7861,7861,7861,7861,7861,7861,7861,7861,7861,7861,7861,7861,7861,7861,7861,7861,7861,1293,1275,1228,1224,1197,1169,1168,1064],\"yaxis\":\"y\",\"type\":\"scattergl\"},{\"hovertemplate\":\"CUSTOMER_FIRST_ACTIVE_MONTH=2021-11-01 00:00:00\\u003cbr\\u003eMONTH_DIFFERENCE=%{x}\\u003cbr\\u003eCUSTOMER_ID=%{y}\\u003cextra\\u003e\\u003c\\u002fextra\\u003e\",\"legendgroup\":\"2021-11-01 00:00:00\",\"line\":{\"color\":\"#FFA15A\",\"dash\":\"solid\"},\"marker\":{\"symbol\":\"circle\"},\"mode\":\"lines\",\"name\":\"2021-11-01 00:00:00\",\"showlegend\":true,\"x\":[0.0,1.0,2.0,3.0,4.0,5.0,6.0,7.0,8.0,9.0,10.0,11.0,12.0,13.0,14.0,15.0,16.0,17.0,18.0,19.0,20.0,21.0,22.0,23.0,24.0,25.0,26.0,27.0,28.0,29.0,30.0,31.0,32.0],\"xaxis\":\"x\",\"y\":[8206,8206,8206,8206,8206,8206,8206,8206,8206,8206,8206,8206,8206,8206,8206,8206,8206,8206,8206,8206,8206,8206,8206,8206,8206,1495,1471,1410,1381,1325,1296,1276,1177],\"yaxis\":\"y\",\"type\":\"scattergl\"},{\"hovertemplate\":\"CUSTOMER_FIRST_ACTIVE_MONTH=2021-12-01 00:00:00\\u003cbr\\u003eMONTH_DIFFERENCE=%{x}\\u003cbr\\u003eCUSTOMER_ID=%{y}\\u003cextra\\u003e\\u003c\\u002fextra\\u003e\",\"legendgroup\":\"2021-12-01 00:00:00\",\"line\":{\"color\":\"#19d3f3\",\"dash\":\"solid\"},\"marker\":{\"symbol\":\"circle\"},\"mode\":\"lines\",\"name\":\"2021-12-01 00:00:00\",\"showlegend\":true,\"x\":[0.0,1.0,2.0,3.0,4.0,5.0,6.0,7.0,8.0,9.0,10.0,11.0,12.0,13.0,14.0,15.0,16.0,17.0,18.0,19.0,20.0,21.0,22.0,23.0,24.0,25.0,26.0,27.0,28.0,29.0,30.0,31.0],\"xaxis\":\"x\",\"y\":[8756,8756,8756,8756,8756,8756,8756,8756,8756,8756,8756,8756,8756,8756,8756,8756,8756,8756,8756,8756,8756,8756,8756,8756,1549,1494,1434,1431,1430,1409,1384,1275],\"yaxis\":\"y\",\"type\":\"scattergl\"},{\"hovertemplate\":\"CUSTOMER_FIRST_ACTIVE_MONTH=2022-01-01 00:00:00\\u003cbr\\u003eMONTH_DIFFERENCE=%{x}\\u003cbr\\u003eCUSTOMER_ID=%{y}\\u003cextra\\u003e\\u003c\\u002fextra\\u003e\",\"legendgroup\":\"2022-01-01 00:00:00\",\"line\":{\"color\":\"#FF6692\",\"dash\":\"solid\"},\"marker\":{\"symbol\":\"circle\"},\"mode\":\"lines\",\"name\":\"2022-01-01 00:00:00\",\"showlegend\":true,\"x\":[0.0,1.0,2.0,3.0,4.0,5.0,6.0,7.0,8.0,9.0,10.0,11.0,12.0,13.0,14.0,15.0,16.0,17.0,18.0,19.0,20.0,21.0,22.0,23.0,24.0,25.0,26.0,27.0,28.0,29.0,30.0],\"xaxis\":\"x\",\"y\":[10366,10366,10366,10366,10366,10366,10366,10366,10366,10366,10366,10366,10366,10366,10366,10366,10366,10366,10366,10366,10366,10366,10366,2119,2100,2015,1970,1909,1881,1859,1735],\"yaxis\":\"y\",\"type\":\"scattergl\"},{\"hovertemplate\":\"CUSTOMER_FIRST_ACTIVE_MONTH=2022-02-01 00:00:00\\u003cbr\\u003eMONTH_DIFFERENCE=%{x}\\u003cbr\\u003eCUSTOMER_ID=%{y}\\u003cextra\\u003e\\u003c\\u002fextra\\u003e\",\"legendgroup\":\"2022-02-01 00:00:00\",\"line\":{\"color\":\"#B6E880\",\"dash\":\"solid\"},\"marker\":{\"symbol\":\"circle\"},\"mode\":\"lines\",\"name\":\"2022-02-01 00:00:00\",\"showlegend\":true,\"x\":[0.0,1.0,2.0,3.0,4.0,5.0,6.0,7.0,8.0,9.0,10.0,11.0,12.0,13.0,14.0,15.0,16.0,17.0,18.0,19.0,20.0,21.0,22.0,23.0,24.0,25.0,26.0,27.0,28.0,29.0],\"xaxis\":\"x\",\"y\":[8710,8710,8710,8710,8710,8710,8710,8710,8710,8710,8710,8710,8710,8710,8710,8710,8710,8710,8710,8710,8710,8710,1833,1810,1757,1692,1651,1637,1600,1482],\"yaxis\":\"y\",\"type\":\"scattergl\"},{\"hovertemplate\":\"CUSTOMER_FIRST_ACTIVE_MONTH=2022-03-01 00:00:00\\u003cbr\\u003eMONTH_DIFFERENCE=%{x}\\u003cbr\\u003eCUSTOMER_ID=%{y}\\u003cextra\\u003e\\u003c\\u002fextra\\u003e\",\"legendgroup\":\"2022-03-01 00:00:00\",\"line\":{\"color\":\"#FF97FF\",\"dash\":\"solid\"},\"marker\":{\"symbol\":\"circle\"},\"mode\":\"lines\",\"name\":\"2022-03-01 00:00:00\",\"showlegend\":true,\"x\":[0.0,1.0,2.0,3.0,4.0,5.0,6.0,7.0,8.0,9.0,10.0,11.0,12.0,13.0,14.0,15.0,16.0,17.0,18.0,19.0,20.0,21.0,22.0,23.0,24.0,25.0,26.0,27.0,28.0],\"xaxis\":\"x\",\"y\":[10510,10510,10510,10510,10510,10510,10510,10510,10510,10510,10510,10510,10510,10510,10510,10510,10510,10510,10510,10510,10510,2198,2173,2111,2068,1959,1934,1898,1746],\"yaxis\":\"y\",\"type\":\"scattergl\"},{\"hovertemplate\":\"CUSTOMER_FIRST_ACTIVE_MONTH=2022-04-01 00:00:00\\u003cbr\\u003eMONTH_DIFFERENCE=%{x}\\u003cbr\\u003eCUSTOMER_ID=%{y}\\u003cextra\\u003e\\u003c\\u002fextra\\u003e\",\"legendgroup\":\"2022-04-01 00:00:00\",\"line\":{\"color\":\"#FECB52\",\"dash\":\"solid\"},\"marker\":{\"symbol\":\"circle\"},\"mode\":\"lines\",\"name\":\"2022-04-01 00:00:00\",\"showlegend\":true,\"x\":[0.0,1.0,2.0,3.0,4.0,5.0,6.0,7.0,8.0,9.0,10.0,11.0,12.0,13.0,14.0,15.0,16.0,17.0,18.0,19.0,20.0,21.0,22.0,23.0,24.0,25.0,26.0,27.0],\"xaxis\":\"x\",\"y\":[10417,10417,10417,10417,10417,10417,10417,10417,10417,10417,10417,10417,10417,10417,10417,10417,10417,10417,10417,10417,2322,2263,2207,2169,2092,1984,1940,1808],\"yaxis\":\"y\",\"type\":\"scattergl\"},{\"hovertemplate\":\"CUSTOMER_FIRST_ACTIVE_MONTH=2022-05-01 00:00:00\\u003cbr\\u003eMONTH_DIFFERENCE=%{x}\\u003cbr\\u003eCUSTOMER_ID=%{y}\\u003cextra\\u003e\\u003c\\u002fextra\\u003e\",\"legendgroup\":\"2022-05-01 00:00:00\",\"line\":{\"color\":\"#636efa\",\"dash\":\"solid\"},\"marker\":{\"symbol\":\"circle\"},\"mode\":\"lines\",\"name\":\"2022-05-01 00:00:00\",\"showlegend\":true,\"x\":[0.0,1.0,2.0,3.0,4.0,5.0,6.0,7.0,8.0,9.0,10.0,11.0,12.0,13.0,14.0,15.0,16.0,17.0,18.0,19.0,20.0,21.0,22.0,23.0,24.0,25.0,26.0],\"xaxis\":\"x\",\"y\":[10933,10933,10933,10933,10933,10933,10933,10933,10933,10933,10933,10933,10933,10933,10933,10933,10933,10933,10933,2476,2424,2338,2269,2260,2198,2107,1941],\"yaxis\":\"y\",\"type\":\"scattergl\"},{\"hovertemplate\":\"CUSTOMER_FIRST_ACTIVE_MONTH=2022-06-01 00:00:00\\u003cbr\\u003eMONTH_DIFFERENCE=%{x}\\u003cbr\\u003eCUSTOMER_ID=%{y}\\u003cextra\\u003e\\u003c\\u002fextra\\u003e\",\"legendgroup\":\"2022-06-01 00:00:00\",\"line\":{\"color\":\"#EF553B\",\"dash\":\"solid\"},\"marker\":{\"symbol\":\"circle\"},\"mode\":\"lines\",\"name\":\"2022-06-01 00:00:00\",\"showlegend\":true,\"x\":[0.0,1.0,2.0,3.0,4.0,5.0,6.0,7.0,8.0,9.0,10.0,11.0,12.0,13.0,14.0,15.0,16.0,17.0,18.0,19.0,20.0,21.0,22.0,23.0,24.0,25.0],\"xaxis\":\"x\",\"y\":[10611,10611,10611,10611,10611,10611,10611,10611,10611,10611,10611,10611,10611,10611,10611,10611,10611,10611,2641,2552,2432,2368,2304,2262,2210,1985],\"yaxis\":\"y\",\"type\":\"scattergl\"},{\"hovertemplate\":\"CUSTOMER_FIRST_ACTIVE_MONTH=2022-07-01 00:00:00\\u003cbr\\u003eMONTH_DIFFERENCE=%{x}\\u003cbr\\u003eCUSTOMER_ID=%{y}\\u003cextra\\u003e\\u003c\\u002fextra\\u003e\",\"legendgroup\":\"2022-07-01 00:00:00\",\"line\":{\"color\":\"#00cc96\",\"dash\":\"solid\"},\"marker\":{\"symbol\":\"circle\"},\"mode\":\"lines\",\"name\":\"2022-07-01 00:00:00\",\"showlegend\":true,\"x\":[0.0,1.0,2.0,3.0,4.0,5.0,6.0,7.0,8.0,9.0,10.0,11.0,12.0,13.0,14.0,15.0,16.0,17.0,18.0,19.0,20.0,21.0,22.0,23.0,24.0],\"xaxis\":\"x\",\"y\":[11073,11073,11073,11073,11073,11073,11073,11073,11073,11073,11073,11073,11073,11073,11073,11073,11073,2937,2873,2740,2658,2591,2537,2501,2318],\"yaxis\":\"y\",\"type\":\"scattergl\"},{\"hovertemplate\":\"CUSTOMER_FIRST_ACTIVE_MONTH=2022-08-01 00:00:00\\u003cbr\\u003eMONTH_DIFFERENCE=%{x}\\u003cbr\\u003eCUSTOMER_ID=%{y}\\u003cextra\\u003e\\u003c\\u002fextra\\u003e\",\"legendgroup\":\"2022-08-01 00:00:00\",\"line\":{\"color\":\"#ab63fa\",\"dash\":\"solid\"},\"marker\":{\"symbol\":\"circle\"},\"mode\":\"lines\",\"name\":\"2022-08-01 00:00:00\",\"showlegend\":true,\"x\":[0.0,1.0,2.0,3.0,4.0,5.0,6.0,7.0,8.0,9.0,10.0,11.0,12.0,13.0,14.0,15.0,16.0,17.0,18.0,19.0,20.0,21.0,22.0,23.0],\"xaxis\":\"x\",\"y\":[13532,13532,13532,13532,13532,13532,13532,13532,13532,13532,13532,13532,13532,13532,13532,13532,3959,3826,3683,3567,3472,3376,3287,3102],\"yaxis\":\"y\",\"type\":\"scattergl\"},{\"hovertemplate\":\"CUSTOMER_FIRST_ACTIVE_MONTH=2022-09-01 00:00:00\\u003cbr\\u003eMONTH_DIFFERENCE=%{x}\\u003cbr\\u003eCUSTOMER_ID=%{y}\\u003cextra\\u003e\\u003c\\u002fextra\\u003e\",\"legendgroup\":\"2022-09-01 00:00:00\",\"line\":{\"color\":\"#FFA15A\",\"dash\":\"solid\"},\"marker\":{\"symbol\":\"circle\"},\"mode\":\"lines\",\"name\":\"2022-09-01 00:00:00\",\"showlegend\":true,\"x\":[0.0,1.0,2.0,3.0,4.0,5.0,6.0,7.0,8.0,9.0,10.0,11.0,12.0,13.0,14.0,15.0,16.0,17.0,18.0,19.0,20.0,21.0,22.0],\"xaxis\":\"x\",\"y\":[13735,13735,13735,13735,13735,13735,13735,13735,13735,13735,13735,13735,13735,13735,13735,4161,3995,3804,3737,3570,3458,3361,3129],\"yaxis\":\"y\",\"type\":\"scattergl\"},{\"hovertemplate\":\"CUSTOMER_FIRST_ACTIVE_MONTH=2022-10-01 00:00:00\\u003cbr\\u003eMONTH_DIFFERENCE=%{x}\\u003cbr\\u003eCUSTOMER_ID=%{y}\\u003cextra\\u003e\\u003c\\u002fextra\\u003e\",\"legendgroup\":\"2022-10-01 00:00:00\",\"line\":{\"color\":\"#19d3f3\",\"dash\":\"solid\"},\"marker\":{\"symbol\":\"circle\"},\"mode\":\"lines\",\"name\":\"2022-10-01 00:00:00\",\"showlegend\":true,\"x\":[0.0,1.0,2.0,3.0,4.0,5.0,6.0,7.0,8.0,9.0,10.0,11.0,12.0,13.0,14.0,15.0,16.0,17.0,18.0,19.0,20.0,21.0],\"xaxis\":\"x\",\"y\":[13363,13363,13363,13363,13363,13363,13363,13363,13363,13363,13363,13363,13363,13363,4103,3977,3730,3564,3451,3344,3205,2975],\"yaxis\":\"y\",\"type\":\"scattergl\"},{\"hovertemplate\":\"CUSTOMER_FIRST_ACTIVE_MONTH=2022-11-01 00:00:00\\u003cbr\\u003eMONTH_DIFFERENCE=%{x}\\u003cbr\\u003eCUSTOMER_ID=%{y}\\u003cextra\\u003e\\u003c\\u002fextra\\u003e\",\"legendgroup\":\"2022-11-01 00:00:00\",\"line\":{\"color\":\"#FF6692\",\"dash\":\"solid\"},\"marker\":{\"symbol\":\"circle\"},\"mode\":\"lines\",\"name\":\"2022-11-01 00:00:00\",\"showlegend\":true,\"x\":[0.0,1.0,2.0,3.0,4.0,5.0,6.0,7.0,8.0,9.0,10.0,11.0,12.0,13.0,14.0,15.0,16.0,17.0,18.0,19.0,20.0],\"xaxis\":\"x\",\"y\":[12702,12702,12702,12702,12702,12702,12702,12702,12702,12702,12702,12702,12702,4444,3951,3755,3551,3395,3334,3205,2986],\"yaxis\":\"y\",\"type\":\"scattergl\"},{\"hovertemplate\":\"CUSTOMER_FIRST_ACTIVE_MONTH=2022-12-01 00:00:00\\u003cbr\\u003eMONTH_DIFFERENCE=%{x}\\u003cbr\\u003eCUSTOMER_ID=%{y}\\u003cextra\\u003e\\u003c\\u002fextra\\u003e\",\"legendgroup\":\"2022-12-01 00:00:00\",\"line\":{\"color\":\"#B6E880\",\"dash\":\"solid\"},\"marker\":{\"symbol\":\"circle\"},\"mode\":\"lines\",\"name\":\"2022-12-01 00:00:00\",\"showlegend\":true,\"x\":[0.0,1.0,2.0,3.0,4.0,5.0,6.0,7.0,8.0,9.0,10.0,11.0,12.0,13.0,14.0,15.0,16.0,17.0,18.0,19.0],\"xaxis\":\"x\",\"y\":[11611,11611,11611,11611,11611,11611,11611,11611,11611,11611,11611,11611,4221,3860,3390,3277,3124,2991,2924,2705],\"yaxis\":\"y\",\"type\":\"scattergl\"},{\"hovertemplate\":\"CUSTOMER_FIRST_ACTIVE_MONTH=2023-01-01 00:00:00\\u003cbr\\u003eMONTH_DIFFERENCE=%{x}\\u003cbr\\u003eCUSTOMER_ID=%{y}\\u003cextra\\u003e\\u003c\\u002fextra\\u003e\",\"legendgroup\":\"2023-01-01 00:00:00\",\"line\":{\"color\":\"#FF97FF\",\"dash\":\"solid\"},\"marker\":{\"symbol\":\"circle\"},\"mode\":\"lines\",\"name\":\"2023-01-01 00:00:00\",\"showlegend\":true,\"x\":[0.0,1.0,2.0,3.0,4.0,5.0,6.0,7.0,8.0,9.0,10.0,11.0,12.0,13.0,14.0,15.0,16.0,17.0,18.0],\"xaxis\":\"x\",\"y\":[14216,14216,14216,14216,14216,14216,14216,14216,14216,14216,14216,5134,4959,4596,4117,3966,3813,3653,3372],\"yaxis\":\"y\",\"type\":\"scattergl\"},{\"hovertemplate\":\"CUSTOMER_FIRST_ACTIVE_MONTH=2023-02-01 00:00:00\\u003cbr\\u003eMONTH_DIFFERENCE=%{x}\\u003cbr\\u003eCUSTOMER_ID=%{y}\\u003cextra\\u003e\\u003c\\u002fextra\\u003e\",\"legendgroup\":\"2023-02-01 00:00:00\",\"line\":{\"color\":\"#FECB52\",\"dash\":\"solid\"},\"marker\":{\"symbol\":\"circle\"},\"mode\":\"lines\",\"name\":\"2023-02-01 00:00:00\",\"showlegend\":true,\"x\":[0.0,1.0,2.0,3.0,4.0,5.0,6.0,7.0,8.0,9.0,10.0,11.0,12.0,13.0,14.0,15.0,16.0,17.0],\"xaxis\":\"x\",\"y\":[12473,12473,12473,12473,12473,12473,12473,12473,12473,12473,4620,4472,4257,3952,3518,3370,3200,2941],\"yaxis\":\"y\",\"type\":\"scattergl\"},{\"hovertemplate\":\"CUSTOMER_FIRST_ACTIVE_MONTH=2023-03-01 00:00:00\\u003cbr\\u003eMONTH_DIFFERENCE=%{x}\\u003cbr\\u003eCUSTOMER_ID=%{y}\\u003cextra\\u003e\\u003c\\u002fextra\\u003e\",\"legendgroup\":\"2023-03-01 00:00:00\",\"line\":{\"color\":\"#636efa\",\"dash\":\"solid\"},\"marker\":{\"symbol\":\"circle\"},\"mode\":\"lines\",\"name\":\"2023-03-01 00:00:00\",\"showlegend\":true,\"x\":[0.0,1.0,2.0,3.0,4.0,5.0,6.0,7.0,8.0,9.0,10.0,11.0,12.0,13.0,14.0,15.0,16.0],\"xaxis\":\"x\",\"y\":[15451,15451,15451,15451,15451,15451,15451,15451,15451,6060,5652,5461,5292,4883,4400,4229,3862],\"yaxis\":\"y\",\"type\":\"scattergl\"},{\"hovertemplate\":\"CUSTOMER_FIRST_ACTIVE_MONTH=2023-04-01 00:00:00\\u003cbr\\u003eMONTH_DIFFERENCE=%{x}\\u003cbr\\u003eCUSTOMER_ID=%{y}\\u003cextra\\u003e\\u003c\\u002fextra\\u003e\",\"legendgroup\":\"2023-04-01 00:00:00\",\"line\":{\"color\":\"#EF553B\",\"dash\":\"solid\"},\"marker\":{\"symbol\":\"circle\"},\"mode\":\"lines\",\"name\":\"2023-04-01 00:00:00\",\"showlegend\":true,\"x\":[0.0,1.0,2.0,3.0,4.0,5.0,6.0,7.0,8.0,9.0,10.0,11.0,12.0,13.0,14.0,15.0],\"xaxis\":\"x\",\"y\":[13426,13426,13426,13426,13426,13426,13426,13426,6048,5813,5438,5257,5004,4686,4213,3893],\"yaxis\":\"y\",\"type\":\"scattergl\"},{\"hovertemplate\":\"CUSTOMER_FIRST_ACTIVE_MONTH=2023-05-01 00:00:00\\u003cbr\\u003eMONTH_DIFFERENCE=%{x}\\u003cbr\\u003eCUSTOMER_ID=%{y}\\u003cextra\\u003e\\u003c\\u002fextra\\u003e\",\"legendgroup\":\"2023-05-01 00:00:00\",\"line\":{\"color\":\"#00cc96\",\"dash\":\"solid\"},\"marker\":{\"symbol\":\"circle\"},\"mode\":\"lines\",\"name\":\"2023-05-01 00:00:00\",\"showlegend\":true,\"x\":[0.0,1.0,2.0,3.0,4.0,5.0,6.0,7.0,8.0,9.0,10.0,11.0,12.0,13.0,14.0],\"xaxis\":\"x\",\"y\":[14318,14318,14318,14318,14318,14318,14318,7433,6507,6134,5758,5569,5366,4962,4301],\"yaxis\":\"y\",\"type\":\"scattergl\"},{\"hovertemplate\":\"CUSTOMER_FIRST_ACTIVE_MONTH=2023-06-01 00:00:00\\u003cbr\\u003eMONTH_DIFFERENCE=%{x}\\u003cbr\\u003eCUSTOMER_ID=%{y}\\u003cextra\\u003e\\u003c\\u002fextra\\u003e\",\"legendgroup\":\"2023-06-01 00:00:00\",\"line\":{\"color\":\"#ab63fa\",\"dash\":\"solid\"},\"marker\":{\"symbol\":\"circle\"},\"mode\":\"lines\",\"name\":\"2023-06-01 00:00:00\",\"showlegend\":true,\"x\":[0.0,1.0,2.0,3.0,4.0,5.0,6.0,7.0,8.0,9.0,10.0,11.0,12.0,13.0],\"xaxis\":\"x\",\"y\":[14236,14236,14236,14236,14236,14236,8451,7423,6267,5912,5514,5295,5084,4531],\"yaxis\":\"y\",\"type\":\"scattergl\"},{\"hovertemplate\":\"CUSTOMER_FIRST_ACTIVE_MONTH=2023-07-01 00:00:00\\u003cbr\\u003eMONTH_DIFFERENCE=%{x}\\u003cbr\\u003eCUSTOMER_ID=%{y}\\u003cextra\\u003e\\u003c\\u002fextra\\u003e\",\"legendgroup\":\"2023-07-01 00:00:00\",\"line\":{\"color\":\"#FFA15A\",\"dash\":\"solid\"},\"marker\":{\"symbol\":\"circle\"},\"mode\":\"lines\",\"name\":\"2023-07-01 00:00:00\",\"showlegend\":true,\"x\":[0.0,1.0,2.0,3.0,4.0,5.0,6.0,7.0,8.0,9.0,10.0,11.0,12.0],\"xaxis\":\"x\",\"y\":[18603,18603,18603,18603,18603,11539,10750,9172,7934,7541,7044,6804,6328],\"yaxis\":\"y\",\"type\":\"scattergl\"},{\"hovertemplate\":\"CUSTOMER_FIRST_ACTIVE_MONTH=2023-08-01 00:00:00\\u003cbr\\u003eMONTH_DIFFERENCE=%{x}\\u003cbr\\u003eCUSTOMER_ID=%{y}\\u003cextra\\u003e\\u003c\\u002fextra\\u003e\",\"legendgroup\":\"2023-08-01 00:00:00\",\"line\":{\"color\":\"#19d3f3\",\"dash\":\"solid\"},\"marker\":{\"symbol\":\"circle\"},\"mode\":\"lines\",\"name\":\"2023-08-01 00:00:00\",\"showlegend\":true,\"x\":[0.0,1.0,2.0,3.0,4.0,5.0,6.0,7.0,8.0,9.0,10.0,11.0],\"xaxis\":\"x\",\"y\":[16109,16109,16109,16109,11298,10706,9969,8782,7496,7082,6600,6212],\"yaxis\":\"y\",\"type\":\"scattergl\"},{\"hovertemplate\":\"CUSTOMER_FIRST_ACTIVE_MONTH=2023-09-01 00:00:00\\u003cbr\\u003eMONTH_DIFFERENCE=%{x}\\u003cbr\\u003eCUSTOMER_ID=%{y}\\u003cextra\\u003e\\u003c\\u002fextra\\u003e\",\"legendgroup\":\"2023-09-01 00:00:00\",\"line\":{\"color\":\"#FF6692\",\"dash\":\"solid\"},\"marker\":{\"symbol\":\"circle\"},\"mode\":\"lines\",\"name\":\"2023-09-01 00:00:00\",\"showlegend\":true,\"x\":[0.0,1.0,2.0,3.0,4.0,5.0,6.0,7.0,8.0,9.0,10.0],\"xaxis\":\"x\",\"y\":[16184,16184,16184,13088,10881,10216,9577,8392,7268,6856,6176],\"yaxis\":\"y\",\"type\":\"scattergl\"},{\"hovertemplate\":\"CUSTOMER_FIRST_ACTIVE_MONTH=2023-10-01 00:00:00\\u003cbr\\u003eMONTH_DIFFERENCE=%{x}\\u003cbr\\u003eCUSTOMER_ID=%{y}\\u003cextra\\u003e\\u003c\\u002fextra\\u003e\",\"legendgroup\":\"2023-10-01 00:00:00\",\"line\":{\"color\":\"#B6E880\",\"dash\":\"solid\"},\"marker\":{\"symbol\":\"circle\"},\"mode\":\"lines\",\"name\":\"2023-10-01 00:00:00\",\"showlegend\":true,\"x\":[0.0,1.0,2.0,3.0,4.0,5.0,6.0,7.0,8.0,9.0],\"xaxis\":\"x\",\"y\":[16981,16981,15275,14285,11734,11140,10411,9190,7873,7298],\"yaxis\":\"y\",\"type\":\"scattergl\"},{\"hovertemplate\":\"CUSTOMER_FIRST_ACTIVE_MONTH=2023-11-01 00:00:00\\u003cbr\\u003eMONTH_DIFFERENCE=%{x}\\u003cbr\\u003eCUSTOMER_ID=%{y}\\u003cextra\\u003e\\u003c\\u002fextra\\u003e\",\"legendgroup\":\"2023-11-01 00:00:00\",\"line\":{\"color\":\"#FF97FF\",\"dash\":\"solid\"},\"marker\":{\"symbol\":\"circle\"},\"mode\":\"lines\",\"name\":\"2023-11-01 00:00:00\",\"showlegend\":true,\"x\":[0.0,1.0,2.0,3.0,4.0,5.0,6.0,7.0,8.0],\"xaxis\":\"x\",\"y\":[18329,18016,17194,15980,13454,12779,12081,10563,8839],\"yaxis\":\"y\",\"type\":\"scattergl\"},{\"hovertemplate\":\"CUSTOMER_FIRST_ACTIVE_MONTH=2023-12-01 00:00:00\\u003cbr\\u003eMONTH_DIFFERENCE=%{x}\\u003cbr\\u003eCUSTOMER_ID=%{y}\\u003cextra\\u003e\\u003c\\u002fextra\\u003e\",\"legendgroup\":\"2023-12-01 00:00:00\",\"line\":{\"color\":\"#FECB52\",\"dash\":\"solid\"},\"marker\":{\"symbol\":\"circle\"},\"mode\":\"lines\",\"name\":\"2023-12-01 00:00:00\",\"showlegend\":true,\"x\":[0.0,1.0,2.0,3.0,4.0,5.0,6.0,7.0],\"xaxis\":\"x\",\"y\":[16035,16152,15261,14323,11936,11286,10562,9196],\"yaxis\":\"y\",\"type\":\"scattergl\"},{\"hovertemplate\":\"CUSTOMER_FIRST_ACTIVE_MONTH=2024-01-01 00:00:00\\u003cbr\\u003eMONTH_DIFFERENCE=%{x}\\u003cbr\\u003eCUSTOMER_ID=%{y}\\u003cextra\\u003e\\u003c\\u002fextra\\u003e\",\"legendgroup\":\"2024-01-01 00:00:00\",\"line\":{\"color\":\"#636efa\",\"dash\":\"solid\"},\"marker\":{\"symbol\":\"circle\"},\"mode\":\"lines\",\"name\":\"2024-01-01 00:00:00\",\"showlegend\":true,\"x\":[0.0,1.0,2.0,3.0,4.0,5.0,6.0],\"xaxis\":\"x\",\"y\":[20986,20664,19416,18062,15166,14342,13253],\"yaxis\":\"y\",\"type\":\"scattergl\"},{\"hovertemplate\":\"CUSTOMER_FIRST_ACTIVE_MONTH=2024-02-01 00:00:00\\u003cbr\\u003eMONTH_DIFFERENCE=%{x}\\u003cbr\\u003eCUSTOMER_ID=%{y}\\u003cextra\\u003e\\u003c\\u002fextra\\u003e\",\"legendgroup\":\"2024-02-01 00:00:00\",\"line\":{\"color\":\"#EF553B\",\"dash\":\"solid\"},\"marker\":{\"symbol\":\"circle\"},\"mode\":\"lines\",\"name\":\"2024-02-01 00:00:00\",\"showlegend\":true,\"x\":[0.0,1.0,2.0,3.0,4.0,5.0],\"xaxis\":\"x\",\"y\":[18369,18322,16798,15444,12871,11944],\"yaxis\":\"y\",\"type\":\"scattergl\"},{\"hovertemplate\":\"CUSTOMER_FIRST_ACTIVE_MONTH=2024-03-01 00:00:00\\u003cbr\\u003eMONTH_DIFFERENCE=%{x}\\u003cbr\\u003eCUSTOMER_ID=%{y}\\u003cextra\\u003e\\u003c\\u002fextra\\u003e\",\"legendgroup\":\"2024-03-01 00:00:00\",\"line\":{\"color\":\"#00cc96\",\"dash\":\"solid\"},\"marker\":{\"symbol\":\"circle\"},\"mode\":\"lines\",\"name\":\"2024-03-01 00:00:00\",\"showlegend\":true,\"x\":[0.0,1.0,2.0,3.0,4.0],\"xaxis\":\"x\",\"y\":[20142,20196,18517,16914,14099],\"yaxis\":\"y\",\"type\":\"scattergl\"},{\"hovertemplate\":\"CUSTOMER_FIRST_ACTIVE_MONTH=2024-04-01 00:00:00\\u003cbr\\u003eMONTH_DIFFERENCE=%{x}\\u003cbr\\u003eCUSTOMER_ID=%{y}\\u003cextra\\u003e\\u003c\\u002fextra\\u003e\",\"legendgroup\":\"2024-04-01 00:00:00\",\"line\":{\"color\":\"#ab63fa\",\"dash\":\"solid\"},\"marker\":{\"symbol\":\"circle\"},\"mode\":\"lines\",\"name\":\"2024-04-01 00:00:00\",\"showlegend\":true,\"x\":[0.0,1.0,2.0,3.0],\"xaxis\":\"x\",\"y\":[19695,19398,17642,15887],\"yaxis\":\"y\",\"type\":\"scattergl\"},{\"hovertemplate\":\"CUSTOMER_FIRST_ACTIVE_MONTH=2024-05-01 00:00:00\\u003cbr\\u003eMONTH_DIFFERENCE=%{x}\\u003cbr\\u003eCUSTOMER_ID=%{y}\\u003cextra\\u003e\\u003c\\u002fextra\\u003e\",\"legendgroup\":\"2024-05-01 00:00:00\",\"line\":{\"color\":\"#FFA15A\",\"dash\":\"solid\"},\"marker\":{\"symbol\":\"circle\"},\"mode\":\"lines\",\"name\":\"2024-05-01 00:00:00\",\"showlegend\":true,\"x\":[0.0,1.0,2.0],\"xaxis\":\"x\",\"y\":[21463,20859,19194],\"yaxis\":\"y\",\"type\":\"scattergl\"},{\"hovertemplate\":\"CUSTOMER_FIRST_ACTIVE_MONTH=2024-06-01 00:00:00\\u003cbr\\u003eMONTH_DIFFERENCE=%{x}\\u003cbr\\u003eCUSTOMER_ID=%{y}\\u003cextra\\u003e\\u003c\\u002fextra\\u003e\",\"legendgroup\":\"2024-06-01 00:00:00\",\"line\":{\"color\":\"#19d3f3\",\"dash\":\"solid\"},\"marker\":{\"symbol\":\"circle\"},\"mode\":\"lines\",\"name\":\"2024-06-01 00:00:00\",\"showlegend\":true,\"x\":[0.0,1.0],\"xaxis\":\"x\",\"y\":[21867,20812],\"yaxis\":\"y\",\"type\":\"scattergl\"},{\"hovertemplate\":\"CUSTOMER_FIRST_ACTIVE_MONTH=2024-07-01 00:00:00\\u003cbr\\u003eMONTH_DIFFERENCE=%{x}\\u003cbr\\u003eCUSTOMER_ID=%{y}\\u003cextra\\u003e\\u003c\\u002fextra\\u003e\",\"legendgroup\":\"2024-07-01 00:00:00\",\"line\":{\"color\":\"#FF6692\",\"dash\":\"solid\"},\"marker\":{\"symbol\":\"circle\"},\"mode\":\"lines\",\"name\":\"2024-07-01 00:00:00\",\"showlegend\":true,\"x\":[0.0],\"xaxis\":\"x\",\"y\":[1],\"yaxis\":\"y\",\"type\":\"scattergl\"}],                        {\"template\":{\"data\":{\"histogram2dcontour\":[{\"type\":\"histogram2dcontour\",\"colorbar\":{\"outlinewidth\":0,\"ticks\":\"\"},\"colorscale\":[[0.0,\"#0d0887\"],[0.1111111111111111,\"#46039f\"],[0.2222222222222222,\"#7201a8\"],[0.3333333333333333,\"#9c179e\"],[0.4444444444444444,\"#bd3786\"],[0.5555555555555556,\"#d8576b\"],[0.6666666666666666,\"#ed7953\"],[0.7777777777777778,\"#fb9f3a\"],[0.8888888888888888,\"#fdca26\"],[1.0,\"#f0f921\"]]}],\"choropleth\":[{\"type\":\"choropleth\",\"colorbar\":{\"outlinewidth\":0,\"ticks\":\"\"}}],\"histogram2d\":[{\"type\":\"histogram2d\",\"colorbar\":{\"outlinewidth\":0,\"ticks\":\"\"},\"colorscale\":[[0.0,\"#0d0887\"],[0.1111111111111111,\"#46039f\"],[0.2222222222222222,\"#7201a8\"],[0.3333333333333333,\"#9c179e\"],[0.4444444444444444,\"#bd3786\"],[0.5555555555555556,\"#d8576b\"],[0.6666666666666666,\"#ed7953\"],[0.7777777777777778,\"#fb9f3a\"],[0.8888888888888888,\"#fdca26\"],[1.0,\"#f0f921\"]]}],\"heatmap\":[{\"type\":\"heatmap\",\"colorbar\":{\"outlinewidth\":0,\"ticks\":\"\"},\"colorscale\":[[0.0,\"#0d0887\"],[0.1111111111111111,\"#46039f\"],[0.2222222222222222,\"#7201a8\"],[0.3333333333333333,\"#9c179e\"],[0.4444444444444444,\"#bd3786\"],[0.5555555555555556,\"#d8576b\"],[0.6666666666666666,\"#ed7953\"],[0.7777777777777778,\"#fb9f3a\"],[0.8888888888888888,\"#fdca26\"],[1.0,\"#f0f921\"]]}],\"heatmapgl\":[{\"type\":\"heatmapgl\",\"colorbar\":{\"outlinewidth\":0,\"ticks\":\"\"},\"colorscale\":[[0.0,\"#0d0887\"],[0.1111111111111111,\"#46039f\"],[0.2222222222222222,\"#7201a8\"],[0.3333333333333333,\"#9c179e\"],[0.4444444444444444,\"#bd3786\"],[0.5555555555555556,\"#d8576b\"],[0.6666666666666666,\"#ed7953\"],[0.7777777777777778,\"#fb9f3a\"],[0.8888888888888888,\"#fdca26\"],[1.0,\"#f0f921\"]]}],\"contourcarpet\":[{\"type\":\"contourcarpet\",\"colorbar\":{\"outlinewidth\":0,\"ticks\":\"\"}}],\"contour\":[{\"type\":\"contour\",\"colorbar\":{\"outlinewidth\":0,\"ticks\":\"\"},\"colorscale\":[[0.0,\"#0d0887\"],[0.1111111111111111,\"#46039f\"],[0.2222222222222222,\"#7201a8\"],[0.3333333333333333,\"#9c179e\"],[0.4444444444444444,\"#bd3786\"],[0.5555555555555556,\"#d8576b\"],[0.6666666666666666,\"#ed7953\"],[0.7777777777777778,\"#fb9f3a\"],[0.8888888888888888,\"#fdca26\"],[1.0,\"#f0f921\"]]}],\"surface\":[{\"type\":\"surface\",\"colorbar\":{\"outlinewidth\":0,\"ticks\":\"\"},\"colorscale\":[[0.0,\"#0d0887\"],[0.1111111111111111,\"#46039f\"],[0.2222222222222222,\"#7201a8\"],[0.3333333333333333,\"#9c179e\"],[0.4444444444444444,\"#bd3786\"],[0.5555555555555556,\"#d8576b\"],[0.6666666666666666,\"#ed7953\"],[0.7777777777777778,\"#fb9f3a\"],[0.8888888888888888,\"#fdca26\"],[1.0,\"#f0f921\"]]}],\"mesh3d\":[{\"type\":\"mesh3d\",\"colorbar\":{\"outlinewidth\":0,\"ticks\":\"\"}}],\"scatter\":[{\"fillpattern\":{\"fillmode\":\"overlay\",\"size\":10,\"solidity\":0.2},\"type\":\"scatter\"}],\"parcoords\":[{\"type\":\"parcoords\",\"line\":{\"colorbar\":{\"outlinewidth\":0,\"ticks\":\"\"}}}],\"scatterpolargl\":[{\"type\":\"scatterpolargl\",\"marker\":{\"colorbar\":{\"outlinewidth\":0,\"ticks\":\"\"}}}],\"bar\":[{\"error_x\":{\"color\":\"#2a3f5f\"},\"error_y\":{\"color\":\"#2a3f5f\"},\"marker\":{\"line\":{\"color\":\"#E5ECF6\",\"width\":0.5},\"pattern\":{\"fillmode\":\"overlay\",\"size\":10,\"solidity\":0.2}},\"type\":\"bar\"}],\"scattergeo\":[{\"type\":\"scattergeo\",\"marker\":{\"colorbar\":{\"outlinewidth\":0,\"ticks\":\"\"}}}],\"scatterpolar\":[{\"type\":\"scatterpolar\",\"marker\":{\"colorbar\":{\"outlinewidth\":0,\"ticks\":\"\"}}}],\"histogram\":[{\"marker\":{\"pattern\":{\"fillmode\":\"overlay\",\"size\":10,\"solidity\":0.2}},\"type\":\"histogram\"}],\"scattergl\":[{\"type\":\"scattergl\",\"marker\":{\"colorbar\":{\"outlinewidth\":0,\"ticks\":\"\"}}}],\"scatter3d\":[{\"type\":\"scatter3d\",\"line\":{\"colorbar\":{\"outlinewidth\":0,\"ticks\":\"\"}},\"marker\":{\"colorbar\":{\"outlinewidth\":0,\"ticks\":\"\"}}}],\"scattermapbox\":[{\"type\":\"scattermapbox\",\"marker\":{\"colorbar\":{\"outlinewidth\":0,\"ticks\":\"\"}}}],\"scatterternary\":[{\"type\":\"scatterternary\",\"marker\":{\"colorbar\":{\"outlinewidth\":0,\"ticks\":\"\"}}}],\"scattercarpet\":[{\"type\":\"scattercarpet\",\"marker\":{\"colorbar\":{\"outlinewidth\":0,\"ticks\":\"\"}}}],\"carpet\":[{\"aaxis\":{\"endlinecolor\":\"#2a3f5f\",\"gridcolor\":\"white\",\"linecolor\":\"white\",\"minorgridcolor\":\"white\",\"startlinecolor\":\"#2a3f5f\"},\"baxis\":{\"endlinecolor\":\"#2a3f5f\",\"gridcolor\":\"white\",\"linecolor\":\"white\",\"minorgridcolor\":\"white\",\"startlinecolor\":\"#2a3f5f\"},\"type\":\"carpet\"}],\"table\":[{\"cells\":{\"fill\":{\"color\":\"#EBF0F8\"},\"line\":{\"color\":\"white\"}},\"header\":{\"fill\":{\"color\":\"#C8D4E3\"},\"line\":{\"color\":\"white\"}},\"type\":\"table\"}],\"barpolar\":[{\"marker\":{\"line\":{\"color\":\"#E5ECF6\",\"width\":0.5},\"pattern\":{\"fillmode\":\"overlay\",\"size\":10,\"solidity\":0.2}},\"type\":\"barpolar\"}],\"pie\":[{\"automargin\":true,\"type\":\"pie\"}]},\"layout\":{\"autotypenumbers\":\"strict\",\"colorway\":[\"#636efa\",\"#EF553B\",\"#00cc96\",\"#ab63fa\",\"#FFA15A\",\"#19d3f3\",\"#FF6692\",\"#B6E880\",\"#FF97FF\",\"#FECB52\"],\"font\":{\"color\":\"#2a3f5f\"},\"hovermode\":\"closest\",\"hoverlabel\":{\"align\":\"left\"},\"paper_bgcolor\":\"white\",\"plot_bgcolor\":\"#E5ECF6\",\"polar\":{\"bgcolor\":\"#E5ECF6\",\"angularaxis\":{\"gridcolor\":\"white\",\"linecolor\":\"white\",\"ticks\":\"\"},\"radialaxis\":{\"gridcolor\":\"white\",\"linecolor\":\"white\",\"ticks\":\"\"}},\"ternary\":{\"bgcolor\":\"#E5ECF6\",\"aaxis\":{\"gridcolor\":\"white\",\"linecolor\":\"white\",\"ticks\":\"\"},\"baxis\":{\"gridcolor\":\"white\",\"linecolor\":\"white\",\"ticks\":\"\"},\"caxis\":{\"gridcolor\":\"white\",\"linecolor\":\"white\",\"ticks\":\"\"}},\"coloraxis\":{\"colorbar\":{\"outlinewidth\":0,\"ticks\":\"\"}},\"colorscale\":{\"sequential\":[[0.0,\"#0d0887\"],[0.1111111111111111,\"#46039f\"],[0.2222222222222222,\"#7201a8\"],[0.3333333333333333,\"#9c179e\"],[0.4444444444444444,\"#bd3786\"],[0.5555555555555556,\"#d8576b\"],[0.6666666666666666,\"#ed7953\"],[0.7777777777777778,\"#fb9f3a\"],[0.8888888888888888,\"#fdca26\"],[1.0,\"#f0f921\"]],\"sequentialminus\":[[0.0,\"#0d0887\"],[0.1111111111111111,\"#46039f\"],[0.2222222222222222,\"#7201a8\"],[0.3333333333333333,\"#9c179e\"],[0.4444444444444444,\"#bd3786\"],[0.5555555555555556,\"#d8576b\"],[0.6666666666666666,\"#ed7953\"],[0.7777777777777778,\"#fb9f3a\"],[0.8888888888888888,\"#fdca26\"],[1.0,\"#f0f921\"]],\"diverging\":[[0,\"#8e0152\"],[0.1,\"#c51b7d\"],[0.2,\"#de77ae\"],[0.3,\"#f1b6da\"],[0.4,\"#fde0ef\"],[0.5,\"#f7f7f7\"],[0.6,\"#e6f5d0\"],[0.7,\"#b8e186\"],[0.8,\"#7fbc41\"],[0.9,\"#4d9221\"],[1,\"#276419\"]]},\"xaxis\":{\"gridcolor\":\"white\",\"linecolor\":\"white\",\"ticks\":\"\",\"title\":{\"standoff\":15},\"zerolinecolor\":\"white\",\"automargin\":true,\"zerolinewidth\":2},\"yaxis\":{\"gridcolor\":\"white\",\"linecolor\":\"white\",\"ticks\":\"\",\"title\":{\"standoff\":15},\"zerolinecolor\":\"white\",\"automargin\":true,\"zerolinewidth\":2},\"scene\":{\"xaxis\":{\"backgroundcolor\":\"#E5ECF6\",\"gridcolor\":\"white\",\"linecolor\":\"white\",\"showbackground\":true,\"ticks\":\"\",\"zerolinecolor\":\"white\",\"gridwidth\":2},\"yaxis\":{\"backgroundcolor\":\"#E5ECF6\",\"gridcolor\":\"white\",\"linecolor\":\"white\",\"showbackground\":true,\"ticks\":\"\",\"zerolinecolor\":\"white\",\"gridwidth\":2},\"zaxis\":{\"backgroundcolor\":\"#E5ECF6\",\"gridcolor\":\"white\",\"linecolor\":\"white\",\"showbackground\":true,\"ticks\":\"\",\"zerolinecolor\":\"white\",\"gridwidth\":2}},\"shapedefaults\":{\"line\":{\"color\":\"#2a3f5f\"}},\"annotationdefaults\":{\"arrowcolor\":\"#2a3f5f\",\"arrowhead\":0,\"arrowwidth\":1},\"geo\":{\"bgcolor\":\"white\",\"landcolor\":\"#E5ECF6\",\"subunitcolor\":\"white\",\"showland\":true,\"showlakes\":true,\"lakecolor\":\"white\"},\"title\":{\"x\":0.05},\"mapbox\":{\"style\":\"light\"}}},\"xaxis\":{\"anchor\":\"y\",\"domain\":[0.0,1.0],\"title\":{\"text\":\"MONTH_DIFFERENCE\"}},\"yaxis\":{\"anchor\":\"x\",\"domain\":[0.0,1.0],\"title\":{\"text\":\"CUSTOMER_ID\"}},\"legend\":{\"title\":{\"text\":\"CUSTOMER_FIRST_ACTIVE_MONTH\"},\"tracegroupgap\":0},\"margin\":{\"t\":60}},                        {\"responsive\": true}                    ).then(function(){\n",
       "                            \n",
       "var gd = document.getElementById('0a43df88-97f2-4c2f-b28b-1c28ddd71c12');\n",
       "var x = new MutationObserver(function (mutations, observer) {{\n",
       "        var display = window.getComputedStyle(gd).display;\n",
       "        if (!display || display === 'none') {{\n",
       "            console.log([gd, 'removed!']);\n",
       "            Plotly.purge(gd);\n",
       "            observer.disconnect();\n",
       "        }}\n",
       "}});\n",
       "\n",
       "// Listen for the removal of the full notebook cells\n",
       "var notebookContainer = gd.closest('#notebook-container');\n",
       "if (notebookContainer) {{\n",
       "    x.observe(notebookContainer, {childList: true});\n",
       "}}\n",
       "\n",
       "// Listen for the clearing of the current output cell\n",
       "var outputEl = gd.closest('.output');\n",
       "if (outputEl) {{\n",
       "    x.observe(outputEl, {childList: true});\n",
       "}}\n",
       "\n",
       "                        })                };                });            </script>        </div>"
      ]
     },
     "metadata": {},
     "output_type": "display_data"
    }
   ],
   "source": [
    "month_grouping = final_table.groupby(by=[\"CUSTOMER_FIRST_ACTIVE_MONTH\", \"MONTH_DIFFERENCE\"], dropna=False).CUSTOMER_ID.nunique()\n",
    "month_grouping = month_grouping.reset_index()\n",
    "fig = px.line(month_grouping, x=\"MONTH_DIFFERENCE\", y=\"CUSTOMER_ID\", color='CUSTOMER_FIRST_ACTIVE_MONTH')\n",
    "fig.show()\n"
   ]
  },
  {
   "cell_type": "code",
   "execution_count": 128,
   "id": "2bf9a02a-0920-42f7-84c2-71bd7382c0f4",
   "metadata": {},
   "outputs": [
    {
     "name": "stderr",
     "output_type": "stream",
     "text": [
      "/Users/josh/.local/share/virtualenvs/Python_Projects-sX2dV-qo/lib/python3.12/site-packages/plotly/express/_core.py:2065: FutureWarning:\n",
      "\n",
      "When grouping with a length-1 list-like, you will need to pass a length-1 tuple to get_group in a future version of pandas. Pass `(name,)` instead of `name` to silence this warning.\n",
      "\n"
     ]
    },
    {
     "data": {
      "application/vnd.plotly.v1+json": {
       "config": {
        "plotlyServerURL": "https://plot.ly"
       },
       "data": [
        {
         "hovertemplate": "CUSTOMER_FIRST_ACTIVE_MONTH=2023-08-01 00:00:00<br>MONTH_DIFFERENCE=%{x}<br>CUSTOMER_ID=%{y}<extra></extra>",
         "legendgroup": "2023-08-01 00:00:00",
         "line": {
          "color": "#636efa",
          "dash": "solid"
         },
         "marker": {
          "symbol": "circle"
         },
         "mode": "lines",
         "name": "2023-08-01 00:00:00",
         "orientation": "v",
         "showlegend": true,
         "type": "scatter",
         "x": [
          0,
          1,
          2,
          3,
          4,
          5,
          6,
          7,
          8,
          9,
          10,
          11
         ],
         "xaxis": "x",
         "y": [
          16109,
          16109,
          16109,
          16109,
          11298,
          10706,
          9969,
          8782,
          7496,
          7082,
          6600,
          6212
         ],
         "yaxis": "y"
        },
        {
         "hovertemplate": "CUSTOMER_FIRST_ACTIVE_MONTH=2023-09-01 00:00:00<br>MONTH_DIFFERENCE=%{x}<br>CUSTOMER_ID=%{y}<extra></extra>",
         "legendgroup": "2023-09-01 00:00:00",
         "line": {
          "color": "#EF553B",
          "dash": "solid"
         },
         "marker": {
          "symbol": "circle"
         },
         "mode": "lines",
         "name": "2023-09-01 00:00:00",
         "orientation": "v",
         "showlegend": true,
         "type": "scatter",
         "x": [
          0,
          1,
          2,
          3,
          4,
          5,
          6,
          7,
          8,
          9,
          10
         ],
         "xaxis": "x",
         "y": [
          16184,
          16184,
          16184,
          13088,
          10881,
          10216,
          9577,
          8392,
          7268,
          6856,
          6176
         ],
         "yaxis": "y"
        },
        {
         "hovertemplate": "CUSTOMER_FIRST_ACTIVE_MONTH=2023-10-01 00:00:00<br>MONTH_DIFFERENCE=%{x}<br>CUSTOMER_ID=%{y}<extra></extra>",
         "legendgroup": "2023-10-01 00:00:00",
         "line": {
          "color": "#00cc96",
          "dash": "solid"
         },
         "marker": {
          "symbol": "circle"
         },
         "mode": "lines",
         "name": "2023-10-01 00:00:00",
         "orientation": "v",
         "showlegend": true,
         "type": "scatter",
         "x": [
          0,
          1,
          2,
          3,
          4,
          5,
          6,
          7,
          8,
          9
         ],
         "xaxis": "x",
         "y": [
          16981,
          16981,
          15275,
          14285,
          11734,
          11140,
          10411,
          9190,
          7873,
          7298
         ],
         "yaxis": "y"
        },
        {
         "hovertemplate": "CUSTOMER_FIRST_ACTIVE_MONTH=2023-11-01 00:00:00<br>MONTH_DIFFERENCE=%{x}<br>CUSTOMER_ID=%{y}<extra></extra>",
         "legendgroup": "2023-11-01 00:00:00",
         "line": {
          "color": "#ab63fa",
          "dash": "solid"
         },
         "marker": {
          "symbol": "circle"
         },
         "mode": "lines",
         "name": "2023-11-01 00:00:00",
         "orientation": "v",
         "showlegend": true,
         "type": "scatter",
         "x": [
          0,
          1,
          2,
          3,
          4,
          5,
          6,
          7,
          8
         ],
         "xaxis": "x",
         "y": [
          18329,
          18016,
          17194,
          15980,
          13454,
          12779,
          12081,
          10563,
          8839
         ],
         "yaxis": "y"
        },
        {
         "hovertemplate": "CUSTOMER_FIRST_ACTIVE_MONTH=2023-12-01 00:00:00<br>MONTH_DIFFERENCE=%{x}<br>CUSTOMER_ID=%{y}<extra></extra>",
         "legendgroup": "2023-12-01 00:00:00",
         "line": {
          "color": "#FFA15A",
          "dash": "solid"
         },
         "marker": {
          "symbol": "circle"
         },
         "mode": "lines",
         "name": "2023-12-01 00:00:00",
         "orientation": "v",
         "showlegend": true,
         "type": "scatter",
         "x": [
          0,
          1,
          2,
          3,
          4,
          5,
          6,
          7
         ],
         "xaxis": "x",
         "y": [
          16035,
          16152,
          15261,
          14323,
          11936,
          11286,
          10562,
          9196
         ],
         "yaxis": "y"
        },
        {
         "hovertemplate": "CUSTOMER_FIRST_ACTIVE_MONTH=2024-01-01 00:00:00<br>MONTH_DIFFERENCE=%{x}<br>CUSTOMER_ID=%{y}<extra></extra>",
         "legendgroup": "2024-01-01 00:00:00",
         "line": {
          "color": "#19d3f3",
          "dash": "solid"
         },
         "marker": {
          "symbol": "circle"
         },
         "mode": "lines",
         "name": "2024-01-01 00:00:00",
         "orientation": "v",
         "showlegend": true,
         "type": "scatter",
         "x": [
          0,
          1,
          2,
          3,
          4,
          5,
          6
         ],
         "xaxis": "x",
         "y": [
          20986,
          20664,
          19416,
          18062,
          15166,
          14342,
          13253
         ],
         "yaxis": "y"
        },
        {
         "hovertemplate": "CUSTOMER_FIRST_ACTIVE_MONTH=2024-02-01 00:00:00<br>MONTH_DIFFERENCE=%{x}<br>CUSTOMER_ID=%{y}<extra></extra>",
         "legendgroup": "2024-02-01 00:00:00",
         "line": {
          "color": "#FF6692",
          "dash": "solid"
         },
         "marker": {
          "symbol": "circle"
         },
         "mode": "lines",
         "name": "2024-02-01 00:00:00",
         "orientation": "v",
         "showlegend": true,
         "type": "scatter",
         "x": [
          0,
          1,
          2,
          3,
          4,
          5
         ],
         "xaxis": "x",
         "y": [
          18369,
          18322,
          16798,
          15444,
          12871,
          11944
         ],
         "yaxis": "y"
        },
        {
         "hovertemplate": "CUSTOMER_FIRST_ACTIVE_MONTH=2024-03-01 00:00:00<br>MONTH_DIFFERENCE=%{x}<br>CUSTOMER_ID=%{y}<extra></extra>",
         "legendgroup": "2024-03-01 00:00:00",
         "line": {
          "color": "#B6E880",
          "dash": "solid"
         },
         "marker": {
          "symbol": "circle"
         },
         "mode": "lines",
         "name": "2024-03-01 00:00:00",
         "orientation": "v",
         "showlegend": true,
         "type": "scatter",
         "x": [
          0,
          1,
          2,
          3,
          4
         ],
         "xaxis": "x",
         "y": [
          20142,
          20196,
          18517,
          16914,
          14099
         ],
         "yaxis": "y"
        },
        {
         "hovertemplate": "CUSTOMER_FIRST_ACTIVE_MONTH=2024-04-01 00:00:00<br>MONTH_DIFFERENCE=%{x}<br>CUSTOMER_ID=%{y}<extra></extra>",
         "legendgroup": "2024-04-01 00:00:00",
         "line": {
          "color": "#FF97FF",
          "dash": "solid"
         },
         "marker": {
          "symbol": "circle"
         },
         "mode": "lines",
         "name": "2024-04-01 00:00:00",
         "orientation": "v",
         "showlegend": true,
         "type": "scatter",
         "x": [
          0,
          1,
          2,
          3
         ],
         "xaxis": "x",
         "y": [
          19695,
          19398,
          17642,
          15887
         ],
         "yaxis": "y"
        },
        {
         "hovertemplate": "CUSTOMER_FIRST_ACTIVE_MONTH=2024-05-01 00:00:00<br>MONTH_DIFFERENCE=%{x}<br>CUSTOMER_ID=%{y}<extra></extra>",
         "legendgroup": "2024-05-01 00:00:00",
         "line": {
          "color": "#FECB52",
          "dash": "solid"
         },
         "marker": {
          "symbol": "circle"
         },
         "mode": "lines",
         "name": "2024-05-01 00:00:00",
         "orientation": "v",
         "showlegend": true,
         "type": "scatter",
         "x": [
          0,
          1,
          2
         ],
         "xaxis": "x",
         "y": [
          21463,
          20859,
          19194
         ],
         "yaxis": "y"
        },
        {
         "hovertemplate": "CUSTOMER_FIRST_ACTIVE_MONTH=2024-06-01 00:00:00<br>MONTH_DIFFERENCE=%{x}<br>CUSTOMER_ID=%{y}<extra></extra>",
         "legendgroup": "2024-06-01 00:00:00",
         "line": {
          "color": "#636efa",
          "dash": "solid"
         },
         "marker": {
          "symbol": "circle"
         },
         "mode": "lines",
         "name": "2024-06-01 00:00:00",
         "orientation": "v",
         "showlegend": true,
         "type": "scatter",
         "x": [
          0,
          1
         ],
         "xaxis": "x",
         "y": [
          21867,
          20812
         ],
         "yaxis": "y"
        },
        {
         "hovertemplate": "CUSTOMER_FIRST_ACTIVE_MONTH=2024-07-01 00:00:00<br>MONTH_DIFFERENCE=%{x}<br>CUSTOMER_ID=%{y}<extra></extra>",
         "legendgroup": "2024-07-01 00:00:00",
         "line": {
          "color": "#EF553B",
          "dash": "solid"
         },
         "marker": {
          "symbol": "circle"
         },
         "mode": "lines",
         "name": "2024-07-01 00:00:00",
         "orientation": "v",
         "showlegend": true,
         "type": "scatter",
         "x": [
          0
         ],
         "xaxis": "x",
         "y": [
          1
         ],
         "yaxis": "y"
        }
       ],
       "layout": {
        "autosize": true,
        "legend": {
         "title": {
          "text": "CUSTOMER_FIRST_ACTIVE_MONTH"
         },
         "tracegroupgap": 0
        },
        "margin": {
         "t": 60
        },
        "template": {
         "data": {
          "bar": [
           {
            "error_x": {
             "color": "#2a3f5f"
            },
            "error_y": {
             "color": "#2a3f5f"
            },
            "marker": {
             "line": {
              "color": "#E5ECF6",
              "width": 0.5
             },
             "pattern": {
              "fillmode": "overlay",
              "size": 10,
              "solidity": 0.2
             }
            },
            "type": "bar"
           }
          ],
          "barpolar": [
           {
            "marker": {
             "line": {
              "color": "#E5ECF6",
              "width": 0.5
             },
             "pattern": {
              "fillmode": "overlay",
              "size": 10,
              "solidity": 0.2
             }
            },
            "type": "barpolar"
           }
          ],
          "carpet": [
           {
            "aaxis": {
             "endlinecolor": "#2a3f5f",
             "gridcolor": "white",
             "linecolor": "white",
             "minorgridcolor": "white",
             "startlinecolor": "#2a3f5f"
            },
            "baxis": {
             "endlinecolor": "#2a3f5f",
             "gridcolor": "white",
             "linecolor": "white",
             "minorgridcolor": "white",
             "startlinecolor": "#2a3f5f"
            },
            "type": "carpet"
           }
          ],
          "choropleth": [
           {
            "colorbar": {
             "outlinewidth": 0,
             "ticks": ""
            },
            "type": "choropleth"
           }
          ],
          "contour": [
           {
            "colorbar": {
             "outlinewidth": 0,
             "ticks": ""
            },
            "colorscale": [
             [
              0,
              "#0d0887"
             ],
             [
              0.1111111111111111,
              "#46039f"
             ],
             [
              0.2222222222222222,
              "#7201a8"
             ],
             [
              0.3333333333333333,
              "#9c179e"
             ],
             [
              0.4444444444444444,
              "#bd3786"
             ],
             [
              0.5555555555555556,
              "#d8576b"
             ],
             [
              0.6666666666666666,
              "#ed7953"
             ],
             [
              0.7777777777777778,
              "#fb9f3a"
             ],
             [
              0.8888888888888888,
              "#fdca26"
             ],
             [
              1,
              "#f0f921"
             ]
            ],
            "type": "contour"
           }
          ],
          "contourcarpet": [
           {
            "colorbar": {
             "outlinewidth": 0,
             "ticks": ""
            },
            "type": "contourcarpet"
           }
          ],
          "heatmap": [
           {
            "colorbar": {
             "outlinewidth": 0,
             "ticks": ""
            },
            "colorscale": [
             [
              0,
              "#0d0887"
             ],
             [
              0.1111111111111111,
              "#46039f"
             ],
             [
              0.2222222222222222,
              "#7201a8"
             ],
             [
              0.3333333333333333,
              "#9c179e"
             ],
             [
              0.4444444444444444,
              "#bd3786"
             ],
             [
              0.5555555555555556,
              "#d8576b"
             ],
             [
              0.6666666666666666,
              "#ed7953"
             ],
             [
              0.7777777777777778,
              "#fb9f3a"
             ],
             [
              0.8888888888888888,
              "#fdca26"
             ],
             [
              1,
              "#f0f921"
             ]
            ],
            "type": "heatmap"
           }
          ],
          "heatmapgl": [
           {
            "colorbar": {
             "outlinewidth": 0,
             "ticks": ""
            },
            "colorscale": [
             [
              0,
              "#0d0887"
             ],
             [
              0.1111111111111111,
              "#46039f"
             ],
             [
              0.2222222222222222,
              "#7201a8"
             ],
             [
              0.3333333333333333,
              "#9c179e"
             ],
             [
              0.4444444444444444,
              "#bd3786"
             ],
             [
              0.5555555555555556,
              "#d8576b"
             ],
             [
              0.6666666666666666,
              "#ed7953"
             ],
             [
              0.7777777777777778,
              "#fb9f3a"
             ],
             [
              0.8888888888888888,
              "#fdca26"
             ],
             [
              1,
              "#f0f921"
             ]
            ],
            "type": "heatmapgl"
           }
          ],
          "histogram": [
           {
            "marker": {
             "pattern": {
              "fillmode": "overlay",
              "size": 10,
              "solidity": 0.2
             }
            },
            "type": "histogram"
           }
          ],
          "histogram2d": [
           {
            "colorbar": {
             "outlinewidth": 0,
             "ticks": ""
            },
            "colorscale": [
             [
              0,
              "#0d0887"
             ],
             [
              0.1111111111111111,
              "#46039f"
             ],
             [
              0.2222222222222222,
              "#7201a8"
             ],
             [
              0.3333333333333333,
              "#9c179e"
             ],
             [
              0.4444444444444444,
              "#bd3786"
             ],
             [
              0.5555555555555556,
              "#d8576b"
             ],
             [
              0.6666666666666666,
              "#ed7953"
             ],
             [
              0.7777777777777778,
              "#fb9f3a"
             ],
             [
              0.8888888888888888,
              "#fdca26"
             ],
             [
              1,
              "#f0f921"
             ]
            ],
            "type": "histogram2d"
           }
          ],
          "histogram2dcontour": [
           {
            "colorbar": {
             "outlinewidth": 0,
             "ticks": ""
            },
            "colorscale": [
             [
              0,
              "#0d0887"
             ],
             [
              0.1111111111111111,
              "#46039f"
             ],
             [
              0.2222222222222222,
              "#7201a8"
             ],
             [
              0.3333333333333333,
              "#9c179e"
             ],
             [
              0.4444444444444444,
              "#bd3786"
             ],
             [
              0.5555555555555556,
              "#d8576b"
             ],
             [
              0.6666666666666666,
              "#ed7953"
             ],
             [
              0.7777777777777778,
              "#fb9f3a"
             ],
             [
              0.8888888888888888,
              "#fdca26"
             ],
             [
              1,
              "#f0f921"
             ]
            ],
            "type": "histogram2dcontour"
           }
          ],
          "mesh3d": [
           {
            "colorbar": {
             "outlinewidth": 0,
             "ticks": ""
            },
            "type": "mesh3d"
           }
          ],
          "parcoords": [
           {
            "line": {
             "colorbar": {
              "outlinewidth": 0,
              "ticks": ""
             }
            },
            "type": "parcoords"
           }
          ],
          "pie": [
           {
            "automargin": true,
            "type": "pie"
           }
          ],
          "scatter": [
           {
            "fillpattern": {
             "fillmode": "overlay",
             "size": 10,
             "solidity": 0.2
            },
            "type": "scatter"
           }
          ],
          "scatter3d": [
           {
            "line": {
             "colorbar": {
              "outlinewidth": 0,
              "ticks": ""
             }
            },
            "marker": {
             "colorbar": {
              "outlinewidth": 0,
              "ticks": ""
             }
            },
            "type": "scatter3d"
           }
          ],
          "scattercarpet": [
           {
            "marker": {
             "colorbar": {
              "outlinewidth": 0,
              "ticks": ""
             }
            },
            "type": "scattercarpet"
           }
          ],
          "scattergeo": [
           {
            "marker": {
             "colorbar": {
              "outlinewidth": 0,
              "ticks": ""
             }
            },
            "type": "scattergeo"
           }
          ],
          "scattergl": [
           {
            "marker": {
             "colorbar": {
              "outlinewidth": 0,
              "ticks": ""
             }
            },
            "type": "scattergl"
           }
          ],
          "scattermapbox": [
           {
            "marker": {
             "colorbar": {
              "outlinewidth": 0,
              "ticks": ""
             }
            },
            "type": "scattermapbox"
           }
          ],
          "scatterpolar": [
           {
            "marker": {
             "colorbar": {
              "outlinewidth": 0,
              "ticks": ""
             }
            },
            "type": "scatterpolar"
           }
          ],
          "scatterpolargl": [
           {
            "marker": {
             "colorbar": {
              "outlinewidth": 0,
              "ticks": ""
             }
            },
            "type": "scatterpolargl"
           }
          ],
          "scatterternary": [
           {
            "marker": {
             "colorbar": {
              "outlinewidth": 0,
              "ticks": ""
             }
            },
            "type": "scatterternary"
           }
          ],
          "surface": [
           {
            "colorbar": {
             "outlinewidth": 0,
             "ticks": ""
            },
            "colorscale": [
             [
              0,
              "#0d0887"
             ],
             [
              0.1111111111111111,
              "#46039f"
             ],
             [
              0.2222222222222222,
              "#7201a8"
             ],
             [
              0.3333333333333333,
              "#9c179e"
             ],
             [
              0.4444444444444444,
              "#bd3786"
             ],
             [
              0.5555555555555556,
              "#d8576b"
             ],
             [
              0.6666666666666666,
              "#ed7953"
             ],
             [
              0.7777777777777778,
              "#fb9f3a"
             ],
             [
              0.8888888888888888,
              "#fdca26"
             ],
             [
              1,
              "#f0f921"
             ]
            ],
            "type": "surface"
           }
          ],
          "table": [
           {
            "cells": {
             "fill": {
              "color": "#EBF0F8"
             },
             "line": {
              "color": "white"
             }
            },
            "header": {
             "fill": {
              "color": "#C8D4E3"
             },
             "line": {
              "color": "white"
             }
            },
            "type": "table"
           }
          ]
         },
         "layout": {
          "annotationdefaults": {
           "arrowcolor": "#2a3f5f",
           "arrowhead": 0,
           "arrowwidth": 1
          },
          "autotypenumbers": "strict",
          "coloraxis": {
           "colorbar": {
            "outlinewidth": 0,
            "ticks": ""
           }
          },
          "colorscale": {
           "diverging": [
            [
             0,
             "#8e0152"
            ],
            [
             0.1,
             "#c51b7d"
            ],
            [
             0.2,
             "#de77ae"
            ],
            [
             0.3,
             "#f1b6da"
            ],
            [
             0.4,
             "#fde0ef"
            ],
            [
             0.5,
             "#f7f7f7"
            ],
            [
             0.6,
             "#e6f5d0"
            ],
            [
             0.7,
             "#b8e186"
            ],
            [
             0.8,
             "#7fbc41"
            ],
            [
             0.9,
             "#4d9221"
            ],
            [
             1,
             "#276419"
            ]
           ],
           "sequential": [
            [
             0,
             "#0d0887"
            ],
            [
             0.1111111111111111,
             "#46039f"
            ],
            [
             0.2222222222222222,
             "#7201a8"
            ],
            [
             0.3333333333333333,
             "#9c179e"
            ],
            [
             0.4444444444444444,
             "#bd3786"
            ],
            [
             0.5555555555555556,
             "#d8576b"
            ],
            [
             0.6666666666666666,
             "#ed7953"
            ],
            [
             0.7777777777777778,
             "#fb9f3a"
            ],
            [
             0.8888888888888888,
             "#fdca26"
            ],
            [
             1,
             "#f0f921"
            ]
           ],
           "sequentialminus": [
            [
             0,
             "#0d0887"
            ],
            [
             0.1111111111111111,
             "#46039f"
            ],
            [
             0.2222222222222222,
             "#7201a8"
            ],
            [
             0.3333333333333333,
             "#9c179e"
            ],
            [
             0.4444444444444444,
             "#bd3786"
            ],
            [
             0.5555555555555556,
             "#d8576b"
            ],
            [
             0.6666666666666666,
             "#ed7953"
            ],
            [
             0.7777777777777778,
             "#fb9f3a"
            ],
            [
             0.8888888888888888,
             "#fdca26"
            ],
            [
             1,
             "#f0f921"
            ]
           ]
          },
          "colorway": [
           "#636efa",
           "#EF553B",
           "#00cc96",
           "#ab63fa",
           "#FFA15A",
           "#19d3f3",
           "#FF6692",
           "#B6E880",
           "#FF97FF",
           "#FECB52"
          ],
          "font": {
           "color": "#2a3f5f"
          },
          "geo": {
           "bgcolor": "white",
           "lakecolor": "white",
           "landcolor": "#E5ECF6",
           "showlakes": true,
           "showland": true,
           "subunitcolor": "white"
          },
          "hoverlabel": {
           "align": "left"
          },
          "hovermode": "closest",
          "mapbox": {
           "style": "light"
          },
          "paper_bgcolor": "white",
          "plot_bgcolor": "#E5ECF6",
          "polar": {
           "angularaxis": {
            "gridcolor": "white",
            "linecolor": "white",
            "ticks": ""
           },
           "bgcolor": "#E5ECF6",
           "radialaxis": {
            "gridcolor": "white",
            "linecolor": "white",
            "ticks": ""
           }
          },
          "scene": {
           "xaxis": {
            "backgroundcolor": "#E5ECF6",
            "gridcolor": "white",
            "gridwidth": 2,
            "linecolor": "white",
            "showbackground": true,
            "ticks": "",
            "zerolinecolor": "white"
           },
           "yaxis": {
            "backgroundcolor": "#E5ECF6",
            "gridcolor": "white",
            "gridwidth": 2,
            "linecolor": "white",
            "showbackground": true,
            "ticks": "",
            "zerolinecolor": "white"
           },
           "zaxis": {
            "backgroundcolor": "#E5ECF6",
            "gridcolor": "white",
            "gridwidth": 2,
            "linecolor": "white",
            "showbackground": true,
            "ticks": "",
            "zerolinecolor": "white"
           }
          },
          "shapedefaults": {
           "line": {
            "color": "#2a3f5f"
           }
          },
          "ternary": {
           "aaxis": {
            "gridcolor": "white",
            "linecolor": "white",
            "ticks": ""
           },
           "baxis": {
            "gridcolor": "white",
            "linecolor": "white",
            "ticks": ""
           },
           "bgcolor": "#E5ECF6",
           "caxis": {
            "gridcolor": "white",
            "linecolor": "white",
            "ticks": ""
           }
          },
          "title": {
           "x": 0.05
          },
          "xaxis": {
           "automargin": true,
           "gridcolor": "white",
           "linecolor": "white",
           "ticks": "",
           "title": {
            "standoff": 15
           },
           "zerolinecolor": "white",
           "zerolinewidth": 2
          },
          "yaxis": {
           "automargin": true,
           "gridcolor": "white",
           "linecolor": "white",
           "ticks": "",
           "title": {
            "standoff": 15
           },
           "zerolinecolor": "white",
           "zerolinewidth": 2
          }
         }
        },
        "xaxis": {
         "anchor": "y",
         "autorange": true,
         "domain": [
          0,
          1
         ],
         "range": [
          0,
          11
         ],
         "title": {
          "text": "MONTH_DIFFERENCE"
         },
         "type": "linear"
        },
        "yaxis": {
         "anchor": "x",
         "autorange": true,
         "domain": [
          0,
          1
         ],
         "range": [
          -1213.7777777777778,
          23081.777777777777
         ],
         "title": {
          "text": "CUSTOMER_ID"
         },
         "type": "linear"
        }
       }
      },
      "image/png": "[encoded data removed]",
      "text/html": [
       "<div>                            <div id=\"b1427afb-f1a2-4d14-9396-c6e4a566e4aa\" class=\"plotly-graph-div\" style=\"height:525px; width:100%;\"></div>            <script type=\"text/javascript\">                require([\"plotly\"], function(Plotly) {                    window.PLOTLYENV=window.PLOTLYENV || {};                                    if (document.getElementById(\"b1427afb-f1a2-4d14-9396-c6e4a566e4aa\")) {                    Plotly.newPlot(                        \"b1427afb-f1a2-4d14-9396-c6e4a566e4aa\",                        [{\"hovertemplate\":\"CUSTOMER_FIRST_ACTIVE_MONTH=2023-08-01 00:00:00\\u003cbr\\u003eMONTH_DIFFERENCE=%{x}\\u003cbr\\u003eCUSTOMER_ID=%{y}\\u003cextra\\u003e\\u003c\\u002fextra\\u003e\",\"legendgroup\":\"2023-08-01 00:00:00\",\"line\":{\"color\":\"#636efa\",\"dash\":\"solid\"},\"marker\":{\"symbol\":\"circle\"},\"mode\":\"lines\",\"name\":\"2023-08-01 00:00:00\",\"orientation\":\"v\",\"showlegend\":true,\"x\":[0.0,1.0,2.0,3.0,4.0,5.0,6.0,7.0,8.0,9.0,10.0,11.0],\"xaxis\":\"x\",\"y\":[16109,16109,16109,16109,11298,10706,9969,8782,7496,7082,6600,6212],\"yaxis\":\"y\",\"type\":\"scatter\"},{\"hovertemplate\":\"CUSTOMER_FIRST_ACTIVE_MONTH=2023-09-01 00:00:00\\u003cbr\\u003eMONTH_DIFFERENCE=%{x}\\u003cbr\\u003eCUSTOMER_ID=%{y}\\u003cextra\\u003e\\u003c\\u002fextra\\u003e\",\"legendgroup\":\"2023-09-01 00:00:00\",\"line\":{\"color\":\"#EF553B\",\"dash\":\"solid\"},\"marker\":{\"symbol\":\"circle\"},\"mode\":\"lines\",\"name\":\"2023-09-01 00:00:00\",\"orientation\":\"v\",\"showlegend\":true,\"x\":[0.0,1.0,2.0,3.0,4.0,5.0,6.0,7.0,8.0,9.0,10.0],\"xaxis\":\"x\",\"y\":[16184,16184,16184,13088,10881,10216,9577,8392,7268,6856,6176],\"yaxis\":\"y\",\"type\":\"scatter\"},{\"hovertemplate\":\"CUSTOMER_FIRST_ACTIVE_MONTH=2023-10-01 00:00:00\\u003cbr\\u003eMONTH_DIFFERENCE=%{x}\\u003cbr\\u003eCUSTOMER_ID=%{y}\\u003cextra\\u003e\\u003c\\u002fextra\\u003e\",\"legendgroup\":\"2023-10-01 00:00:00\",\"line\":{\"color\":\"#00cc96\",\"dash\":\"solid\"},\"marker\":{\"symbol\":\"circle\"},\"mode\":\"lines\",\"name\":\"2023-10-01 00:00:00\",\"orientation\":\"v\",\"showlegend\":true,\"x\":[0.0,1.0,2.0,3.0,4.0,5.0,6.0,7.0,8.0,9.0],\"xaxis\":\"x\",\"y\":[16981,16981,15275,14285,11734,11140,10411,9190,7873,7298],\"yaxis\":\"y\",\"type\":\"scatter\"},{\"hovertemplate\":\"CUSTOMER_FIRST_ACTIVE_MONTH=2023-11-01 00:00:00\\u003cbr\\u003eMONTH_DIFFERENCE=%{x}\\u003cbr\\u003eCUSTOMER_ID=%{y}\\u003cextra\\u003e\\u003c\\u002fextra\\u003e\",\"legendgroup\":\"2023-11-01 00:00:00\",\"line\":{\"color\":\"#ab63fa\",\"dash\":\"solid\"},\"marker\":{\"symbol\":\"circle\"},\"mode\":\"lines\",\"name\":\"2023-11-01 00:00:00\",\"orientation\":\"v\",\"showlegend\":true,\"x\":[0.0,1.0,2.0,3.0,4.0,5.0,6.0,7.0,8.0],\"xaxis\":\"x\",\"y\":[18329,18016,17194,15980,13454,12779,12081,10563,8839],\"yaxis\":\"y\",\"type\":\"scatter\"},{\"hovertemplate\":\"CUSTOMER_FIRST_ACTIVE_MONTH=2023-12-01 00:00:00\\u003cbr\\u003eMONTH_DIFFERENCE=%{x}\\u003cbr\\u003eCUSTOMER_ID=%{y}\\u003cextra\\u003e\\u003c\\u002fextra\\u003e\",\"legendgroup\":\"2023-12-01 00:00:00\",\"line\":{\"color\":\"#FFA15A\",\"dash\":\"solid\"},\"marker\":{\"symbol\":\"circle\"},\"mode\":\"lines\",\"name\":\"2023-12-01 00:00:00\",\"orientation\":\"v\",\"showlegend\":true,\"x\":[0.0,1.0,2.0,3.0,4.0,5.0,6.0,7.0],\"xaxis\":\"x\",\"y\":[16035,16152,15261,14323,11936,11286,10562,9196],\"yaxis\":\"y\",\"type\":\"scatter\"},{\"hovertemplate\":\"CUSTOMER_FIRST_ACTIVE_MONTH=2024-01-01 00:00:00\\u003cbr\\u003eMONTH_DIFFERENCE=%{x}\\u003cbr\\u003eCUSTOMER_ID=%{y}\\u003cextra\\u003e\\u003c\\u002fextra\\u003e\",\"legendgroup\":\"2024-01-01 00:00:00\",\"line\":{\"color\":\"#19d3f3\",\"dash\":\"solid\"},\"marker\":{\"symbol\":\"circle\"},\"mode\":\"lines\",\"name\":\"2024-01-01 00:00:00\",\"orientation\":\"v\",\"showlegend\":true,\"x\":[0.0,1.0,2.0,3.0,4.0,5.0,6.0],\"xaxis\":\"x\",\"y\":[20986,20664,19416,18062,15166,14342,13253],\"yaxis\":\"y\",\"type\":\"scatter\"},{\"hovertemplate\":\"CUSTOMER_FIRST_ACTIVE_MONTH=2024-02-01 00:00:00\\u003cbr\\u003eMONTH_DIFFERENCE=%{x}\\u003cbr\\u003eCUSTOMER_ID=%{y}\\u003cextra\\u003e\\u003c\\u002fextra\\u003e\",\"legendgroup\":\"2024-02-01 00:00:00\",\"line\":{\"color\":\"#FF6692\",\"dash\":\"solid\"},\"marker\":{\"symbol\":\"circle\"},\"mode\":\"lines\",\"name\":\"2024-02-01 00:00:00\",\"orientation\":\"v\",\"showlegend\":true,\"x\":[0.0,1.0,2.0,3.0,4.0,5.0],\"xaxis\":\"x\",\"y\":[18369,18322,16798,15444,12871,11944],\"yaxis\":\"y\",\"type\":\"scatter\"},{\"hovertemplate\":\"CUSTOMER_FIRST_ACTIVE_MONTH=2024-03-01 00:00:00\\u003cbr\\u003eMONTH_DIFFERENCE=%{x}\\u003cbr\\u003eCUSTOMER_ID=%{y}\\u003cextra\\u003e\\u003c\\u002fextra\\u003e\",\"legendgroup\":\"2024-03-01 00:00:00\",\"line\":{\"color\":\"#B6E880\",\"dash\":\"solid\"},\"marker\":{\"symbol\":\"circle\"},\"mode\":\"lines\",\"name\":\"2024-03-01 00:00:00\",\"orientation\":\"v\",\"showlegend\":true,\"x\":[0.0,1.0,2.0,3.0,4.0],\"xaxis\":\"x\",\"y\":[20142,20196,18517,16914,14099],\"yaxis\":\"y\",\"type\":\"scatter\"},{\"hovertemplate\":\"CUSTOMER_FIRST_ACTIVE_MONTH=2024-04-01 00:00:00\\u003cbr\\u003eMONTH_DIFFERENCE=%{x}\\u003cbr\\u003eCUSTOMER_ID=%{y}\\u003cextra\\u003e\\u003c\\u002fextra\\u003e\",\"legendgroup\":\"2024-04-01 00:00:00\",\"line\":{\"color\":\"#FF97FF\",\"dash\":\"solid\"},\"marker\":{\"symbol\":\"circle\"},\"mode\":\"lines\",\"name\":\"2024-04-01 00:00:00\",\"orientation\":\"v\",\"showlegend\":true,\"x\":[0.0,1.0,2.0,3.0],\"xaxis\":\"x\",\"y\":[19695,19398,17642,15887],\"yaxis\":\"y\",\"type\":\"scatter\"},{\"hovertemplate\":\"CUSTOMER_FIRST_ACTIVE_MONTH=2024-05-01 00:00:00\\u003cbr\\u003eMONTH_DIFFERENCE=%{x}\\u003cbr\\u003eCUSTOMER_ID=%{y}\\u003cextra\\u003e\\u003c\\u002fextra\\u003e\",\"legendgroup\":\"2024-05-01 00:00:00\",\"line\":{\"color\":\"#FECB52\",\"dash\":\"solid\"},\"marker\":{\"symbol\":\"circle\"},\"mode\":\"lines\",\"name\":\"2024-05-01 00:00:00\",\"orientation\":\"v\",\"showlegend\":true,\"x\":[0.0,1.0,2.0],\"xaxis\":\"x\",\"y\":[21463,20859,19194],\"yaxis\":\"y\",\"type\":\"scatter\"},{\"hovertemplate\":\"CUSTOMER_FIRST_ACTIVE_MONTH=2024-06-01 00:00:00\\u003cbr\\u003eMONTH_DIFFERENCE=%{x}\\u003cbr\\u003eCUSTOMER_ID=%{y}\\u003cextra\\u003e\\u003c\\u002fextra\\u003e\",\"legendgroup\":\"2024-06-01 00:00:00\",\"line\":{\"color\":\"#636efa\",\"dash\":\"solid\"},\"marker\":{\"symbol\":\"circle\"},\"mode\":\"lines\",\"name\":\"2024-06-01 00:00:00\",\"orientation\":\"v\",\"showlegend\":true,\"x\":[0.0,1.0],\"xaxis\":\"x\",\"y\":[21867,20812],\"yaxis\":\"y\",\"type\":\"scatter\"},{\"hovertemplate\":\"CUSTOMER_FIRST_ACTIVE_MONTH=2024-07-01 00:00:00\\u003cbr\\u003eMONTH_DIFFERENCE=%{x}\\u003cbr\\u003eCUSTOMER_ID=%{y}\\u003cextra\\u003e\\u003c\\u002fextra\\u003e\",\"legendgroup\":\"2024-07-01 00:00:00\",\"line\":{\"color\":\"#EF553B\",\"dash\":\"solid\"},\"marker\":{\"symbol\":\"circle\"},\"mode\":\"lines\",\"name\":\"2024-07-01 00:00:00\",\"orientation\":\"v\",\"showlegend\":true,\"x\":[0.0],\"xaxis\":\"x\",\"y\":[1],\"yaxis\":\"y\",\"type\":\"scatter\"}],                        {\"template\":{\"data\":{\"histogram2dcontour\":[{\"type\":\"histogram2dcontour\",\"colorbar\":{\"outlinewidth\":0,\"ticks\":\"\"},\"colorscale\":[[0.0,\"#0d0887\"],[0.1111111111111111,\"#46039f\"],[0.2222222222222222,\"#7201a8\"],[0.3333333333333333,\"#9c179e\"],[0.4444444444444444,\"#bd3786\"],[0.5555555555555556,\"#d8576b\"],[0.6666666666666666,\"#ed7953\"],[0.7777777777777778,\"#fb9f3a\"],[0.8888888888888888,\"#fdca26\"],[1.0,\"#f0f921\"]]}],\"choropleth\":[{\"type\":\"choropleth\",\"colorbar\":{\"outlinewidth\":0,\"ticks\":\"\"}}],\"histogram2d\":[{\"type\":\"histogram2d\",\"colorbar\":{\"outlinewidth\":0,\"ticks\":\"\"},\"colorscale\":[[0.0,\"#0d0887\"],[0.1111111111111111,\"#46039f\"],[0.2222222222222222,\"#7201a8\"],[0.3333333333333333,\"#9c179e\"],[0.4444444444444444,\"#bd3786\"],[0.5555555555555556,\"#d8576b\"],[0.6666666666666666,\"#ed7953\"],[0.7777777777777778,\"#fb9f3a\"],[0.8888888888888888,\"#fdca26\"],[1.0,\"#f0f921\"]]}],\"heatmap\":[{\"type\":\"heatmap\",\"colorbar\":{\"outlinewidth\":0,\"ticks\":\"\"},\"colorscale\":[[0.0,\"#0d0887\"],[0.1111111111111111,\"#46039f\"],[0.2222222222222222,\"#7201a8\"],[0.3333333333333333,\"#9c179e\"],[0.4444444444444444,\"#bd3786\"],[0.5555555555555556,\"#d8576b\"],[0.6666666666666666,\"#ed7953\"],[0.7777777777777778,\"#fb9f3a\"],[0.8888888888888888,\"#fdca26\"],[1.0,\"#f0f921\"]]}],\"heatmapgl\":[{\"type\":\"heatmapgl\",\"colorbar\":{\"outlinewidth\":0,\"ticks\":\"\"},\"colorscale\":[[0.0,\"#0d0887\"],[0.1111111111111111,\"#46039f\"],[0.2222222222222222,\"#7201a8\"],[0.3333333333333333,\"#9c179e\"],[0.4444444444444444,\"#bd3786\"],[0.5555555555555556,\"#d8576b\"],[0.6666666666666666,\"#ed7953\"],[0.7777777777777778,\"#fb9f3a\"],[0.8888888888888888,\"#fdca26\"],[1.0,\"#f0f921\"]]}],\"contourcarpet\":[{\"type\":\"contourcarpet\",\"colorbar\":{\"outlinewidth\":0,\"ticks\":\"\"}}],\"contour\":[{\"type\":\"contour\",\"colorbar\":{\"outlinewidth\":0,\"ticks\":\"\"},\"colorscale\":[[0.0,\"#0d0887\"],[0.1111111111111111,\"#46039f\"],[0.2222222222222222,\"#7201a8\"],[0.3333333333333333,\"#9c179e\"],[0.4444444444444444,\"#bd3786\"],[0.5555555555555556,\"#d8576b\"],[0.6666666666666666,\"#ed7953\"],[0.7777777777777778,\"#fb9f3a\"],[0.8888888888888888,\"#fdca26\"],[1.0,\"#f0f921\"]]}],\"surface\":[{\"type\":\"surface\",\"colorbar\":{\"outlinewidth\":0,\"ticks\":\"\"},\"colorscale\":[[0.0,\"#0d0887\"],[0.1111111111111111,\"#46039f\"],[0.2222222222222222,\"#7201a8\"],[0.3333333333333333,\"#9c179e\"],[0.4444444444444444,\"#bd3786\"],[0.5555555555555556,\"#d8576b\"],[0.6666666666666666,\"#ed7953\"],[0.7777777777777778,\"#fb9f3a\"],[0.8888888888888888,\"#fdca26\"],[1.0,\"#f0f921\"]]}],\"mesh3d\":[{\"type\":\"mesh3d\",\"colorbar\":{\"outlinewidth\":0,\"ticks\":\"\"}}],\"scatter\":[{\"fillpattern\":{\"fillmode\":\"overlay\",\"size\":10,\"solidity\":0.2},\"type\":\"scatter\"}],\"parcoords\":[{\"type\":\"parcoords\",\"line\":{\"colorbar\":{\"outlinewidth\":0,\"ticks\":\"\"}}}],\"scatterpolargl\":[{\"type\":\"scatterpolargl\",\"marker\":{\"colorbar\":{\"outlinewidth\":0,\"ticks\":\"\"}}}],\"bar\":[{\"error_x\":{\"color\":\"#2a3f5f\"},\"error_y\":{\"color\":\"#2a3f5f\"},\"marker\":{\"line\":{\"color\":\"#E5ECF6\",\"width\":0.5},\"pattern\":{\"fillmode\":\"overlay\",\"size\":10,\"solidity\":0.2}},\"type\":\"bar\"}],\"scattergeo\":[{\"type\":\"scattergeo\",\"marker\":{\"colorbar\":{\"outlinewidth\":0,\"ticks\":\"\"}}}],\"scatterpolar\":[{\"type\":\"scatterpolar\",\"marker\":{\"colorbar\":{\"outlinewidth\":0,\"ticks\":\"\"}}}],\"histogram\":[{\"marker\":{\"pattern\":{\"fillmode\":\"overlay\",\"size\":10,\"solidity\":0.2}},\"type\":\"histogram\"}],\"scattergl\":[{\"type\":\"scattergl\",\"marker\":{\"colorbar\":{\"outlinewidth\":0,\"ticks\":\"\"}}}],\"scatter3d\":[{\"type\":\"scatter3d\",\"line\":{\"colorbar\":{\"outlinewidth\":0,\"ticks\":\"\"}},\"marker\":{\"colorbar\":{\"outlinewidth\":0,\"ticks\":\"\"}}}],\"scattermapbox\":[{\"type\":\"scattermapbox\",\"marker\":{\"colorbar\":{\"outlinewidth\":0,\"ticks\":\"\"}}}],\"scatterternary\":[{\"type\":\"scatterternary\",\"marker\":{\"colorbar\":{\"outlinewidth\":0,\"ticks\":\"\"}}}],\"scattercarpet\":[{\"type\":\"scattercarpet\",\"marker\":{\"colorbar\":{\"outlinewidth\":0,\"ticks\":\"\"}}}],\"carpet\":[{\"aaxis\":{\"endlinecolor\":\"#2a3f5f\",\"gridcolor\":\"white\",\"linecolor\":\"white\",\"minorgridcolor\":\"white\",\"startlinecolor\":\"#2a3f5f\"},\"baxis\":{\"endlinecolor\":\"#2a3f5f\",\"gridcolor\":\"white\",\"linecolor\":\"white\",\"minorgridcolor\":\"white\",\"startlinecolor\":\"#2a3f5f\"},\"type\":\"carpet\"}],\"table\":[{\"cells\":{\"fill\":{\"color\":\"#EBF0F8\"},\"line\":{\"color\":\"white\"}},\"header\":{\"fill\":{\"color\":\"#C8D4E3\"},\"line\":{\"color\":\"white\"}},\"type\":\"table\"}],\"barpolar\":[{\"marker\":{\"line\":{\"color\":\"#E5ECF6\",\"width\":0.5},\"pattern\":{\"fillmode\":\"overlay\",\"size\":10,\"solidity\":0.2}},\"type\":\"barpolar\"}],\"pie\":[{\"automargin\":true,\"type\":\"pie\"}]},\"layout\":{\"autotypenumbers\":\"strict\",\"colorway\":[\"#636efa\",\"#EF553B\",\"#00cc96\",\"#ab63fa\",\"#FFA15A\",\"#19d3f3\",\"#FF6692\",\"#B6E880\",\"#FF97FF\",\"#FECB52\"],\"font\":{\"color\":\"#2a3f5f\"},\"hovermode\":\"closest\",\"hoverlabel\":{\"align\":\"left\"},\"paper_bgcolor\":\"white\",\"plot_bgcolor\":\"#E5ECF6\",\"polar\":{\"bgcolor\":\"#E5ECF6\",\"angularaxis\":{\"gridcolor\":\"white\",\"linecolor\":\"white\",\"ticks\":\"\"},\"radialaxis\":{\"gridcolor\":\"white\",\"linecolor\":\"white\",\"ticks\":\"\"}},\"ternary\":{\"bgcolor\":\"#E5ECF6\",\"aaxis\":{\"gridcolor\":\"white\",\"linecolor\":\"white\",\"ticks\":\"\"},\"baxis\":{\"gridcolor\":\"white\",\"linecolor\":\"white\",\"ticks\":\"\"},\"caxis\":{\"gridcolor\":\"white\",\"linecolor\":\"white\",\"ticks\":\"\"}},\"coloraxis\":{\"colorbar\":{\"outlinewidth\":0,\"ticks\":\"\"}},\"colorscale\":{\"sequential\":[[0.0,\"#0d0887\"],[0.1111111111111111,\"#46039f\"],[0.2222222222222222,\"#7201a8\"],[0.3333333333333333,\"#9c179e\"],[0.4444444444444444,\"#bd3786\"],[0.5555555555555556,\"#d8576b\"],[0.6666666666666666,\"#ed7953\"],[0.7777777777777778,\"#fb9f3a\"],[0.8888888888888888,\"#fdca26\"],[1.0,\"#f0f921\"]],\"sequentialminus\":[[0.0,\"#0d0887\"],[0.1111111111111111,\"#46039f\"],[0.2222222222222222,\"#7201a8\"],[0.3333333333333333,\"#9c179e\"],[0.4444444444444444,\"#bd3786\"],[0.5555555555555556,\"#d8576b\"],[0.6666666666666666,\"#ed7953\"],[0.7777777777777778,\"#fb9f3a\"],[0.8888888888888888,\"#fdca26\"],[1.0,\"#f0f921\"]],\"diverging\":[[0,\"#8e0152\"],[0.1,\"#c51b7d\"],[0.2,\"#de77ae\"],[0.3,\"#f1b6da\"],[0.4,\"#fde0ef\"],[0.5,\"#f7f7f7\"],[0.6,\"#e6f5d0\"],[0.7,\"#b8e186\"],[0.8,\"#7fbc41\"],[0.9,\"#4d9221\"],[1,\"#276419\"]]},\"xaxis\":{\"gridcolor\":\"white\",\"linecolor\":\"white\",\"ticks\":\"\",\"title\":{\"standoff\":15},\"zerolinecolor\":\"white\",\"automargin\":true,\"zerolinewidth\":2},\"yaxis\":{\"gridcolor\":\"white\",\"linecolor\":\"white\",\"ticks\":\"\",\"title\":{\"standoff\":15},\"zerolinecolor\":\"white\",\"automargin\":true,\"zerolinewidth\":2},\"scene\":{\"xaxis\":{\"backgroundcolor\":\"#E5ECF6\",\"gridcolor\":\"white\",\"linecolor\":\"white\",\"showbackground\":true,\"ticks\":\"\",\"zerolinecolor\":\"white\",\"gridwidth\":2},\"yaxis\":{\"backgroundcolor\":\"#E5ECF6\",\"gridcolor\":\"white\",\"linecolor\":\"white\",\"showbackground\":true,\"ticks\":\"\",\"zerolinecolor\":\"white\",\"gridwidth\":2},\"zaxis\":{\"backgroundcolor\":\"#E5ECF6\",\"gridcolor\":\"white\",\"linecolor\":\"white\",\"showbackground\":true,\"ticks\":\"\",\"zerolinecolor\":\"white\",\"gridwidth\":2}},\"shapedefaults\":{\"line\":{\"color\":\"#2a3f5f\"}},\"annotationdefaults\":{\"arrowcolor\":\"#2a3f5f\",\"arrowhead\":0,\"arrowwidth\":1},\"geo\":{\"bgcolor\":\"white\",\"landcolor\":\"#E5ECF6\",\"subunitcolor\":\"white\",\"showland\":true,\"showlakes\":true,\"lakecolor\":\"white\"},\"title\":{\"x\":0.05},\"mapbox\":{\"style\":\"light\"}}},\"xaxis\":{\"anchor\":\"y\",\"domain\":[0.0,1.0],\"title\":{\"text\":\"MONTH_DIFFERENCE\"}},\"yaxis\":{\"anchor\":\"x\",\"domain\":[0.0,1.0],\"title\":{\"text\":\"CUSTOMER_ID\"}},\"legend\":{\"title\":{\"text\":\"CUSTOMER_FIRST_ACTIVE_MONTH\"},\"tracegroupgap\":0},\"margin\":{\"t\":60}},                        {\"responsive\": true}                    ).then(function(){\n",
       "                            \n",
       "var gd = document.getElementById('b1427afb-f1a2-4d14-9396-c6e4a566e4aa');\n",
       "var x = new MutationObserver(function (mutations, observer) {{\n",
       "        var display = window.getComputedStyle(gd).display;\n",
       "        if (!display || display === 'none') {{\n",
       "            console.log([gd, 'removed!']);\n",
       "            Plotly.purge(gd);\n",
       "            observer.disconnect();\n",
       "        }}\n",
       "}});\n",
       "\n",
       "// Listen for the removal of the full notebook cells\n",
       "var notebookContainer = gd.closest('#notebook-container');\n",
       "if (notebookContainer) {{\n",
       "    x.observe(notebookContainer, {childList: true});\n",
       "}}\n",
       "\n",
       "// Listen for the clearing of the current output cell\n",
       "var outputEl = gd.closest('.output');\n",
       "if (outputEl) {{\n",
       "    x.observe(outputEl, {childList: true});\n",
       "}}\n",
       "\n",
       "                        })                };                });            </script>        </div>"
      ]
     },
     "metadata": {},
     "output_type": "display_data"
    },
    {
     "name": "stderr",
     "output_type": "stream",
     "text": [
      "/Users/josh/.local/share/virtualenvs/Python_Projects-sX2dV-qo/lib/python3.12/site-packages/plotly/express/_core.py:2065: FutureWarning:\n",
      "\n",
      "When grouping with a length-1 list-like, you will need to pass a length-1 tuple to get_group in a future version of pandas. Pass `(name,)` instead of `name` to silence this warning.\n",
      "\n"
     ]
    },
    {
     "data": {
      "application/vnd.plotly.v1+json": {
       "config": {
        "plotlyServerURL": "https://plot.ly"
       },
       "data": [
        {
         "hovertemplate": "CUSTOMER_FIRST_ACTIVE_MONTH=2023-08-01 00:00:00<br>MONTH_DIFFERENCE=%{x}<br>PERCENTAGE_OF_TOTAL=%{y}<extra></extra>",
         "legendgroup": "2023-08-01 00:00:00",
         "line": {
          "color": "#636efa",
          "dash": "solid"
         },
         "marker": {
          "symbol": "circle"
         },
         "mode": "lines",
         "name": "2023-08-01 00:00:00",
         "orientation": "v",
         "showlegend": true,
         "type": "scatter",
         "x": [
          0,
          1,
          2,
          3,
          4,
          5,
          6,
          7,
          8,
          9,
          10,
          11
         ],
         "xaxis": "x",
         "y": [
          1,
          1,
          1,
          1,
          0.7013470730647464,
          0.66459743000807,
          0.6188466074864982,
          0.5451610900738717,
          0.46532993978521325,
          0.4396300204854429,
          0.40970885840213545,
          0.38562294369607053
         ],
         "yaxis": "y"
        },
        {
         "hovertemplate": "CUSTOMER_FIRST_ACTIVE_MONTH=2023-09-01 00:00:00<br>MONTH_DIFFERENCE=%{x}<br>PERCENTAGE_OF_TOTAL=%{y}<extra></extra>",
         "legendgroup": "2023-09-01 00:00:00",
         "line": {
          "color": "#EF553B",
          "dash": "solid"
         },
         "marker": {
          "symbol": "circle"
         },
         "mode": "lines",
         "name": "2023-09-01 00:00:00",
         "orientation": "v",
         "showlegend": true,
         "type": "scatter",
         "x": [
          0,
          1,
          2,
          3,
          4,
          5,
          6,
          7,
          8,
          9,
          10
         ],
         "xaxis": "x",
         "y": [
          1,
          1,
          1,
          0.8086999505684627,
          0.6723306969846762,
          0.6312407315867523,
          0.5917572911517548,
          0.518536826495304,
          0.449085516559565,
          0.4236282748393475,
          0.3816114681166584
         ],
         "yaxis": "y"
        },
        {
         "hovertemplate": "CUSTOMER_FIRST_ACTIVE_MONTH=2023-10-01 00:00:00<br>MONTH_DIFFERENCE=%{x}<br>PERCENTAGE_OF_TOTAL=%{y}<extra></extra>",
         "legendgroup": "2023-10-01 00:00:00",
         "line": {
          "color": "#00cc96",
          "dash": "solid"
         },
         "marker": {
          "symbol": "circle"
         },
         "mode": "lines",
         "name": "2023-10-01 00:00:00",
         "orientation": "v",
         "showlegend": true,
         "type": "scatter",
         "x": [
          0,
          1,
          2,
          3,
          4,
          5,
          6,
          7,
          8,
          9
         ],
         "xaxis": "x",
         "y": [
          1,
          1,
          0.8995347741593546,
          0.8412343207113833,
          0.6910075967257523,
          0.6560273246569696,
          0.6130969907543725,
          0.5411930981685413,
          0.4636358282786644,
          0.42977445380130735
         ],
         "yaxis": "y"
        },
        {
         "hovertemplate": "CUSTOMER_FIRST_ACTIVE_MONTH=2023-11-01 00:00:00<br>MONTH_DIFFERENCE=%{x}<br>PERCENTAGE_OF_TOTAL=%{y}<extra></extra>",
         "legendgroup": "2023-11-01 00:00:00",
         "line": {
          "color": "#ab63fa",
          "dash": "solid"
         },
         "marker": {
          "symbol": "circle"
         },
         "mode": "lines",
         "name": "2023-11-01 00:00:00",
         "orientation": "v",
         "showlegend": true,
         "type": "scatter",
         "x": [
          0,
          1,
          2,
          3,
          4,
          5,
          6,
          7,
          8
         ],
         "xaxis": "x",
         "y": [
          1,
          0.9829232364013312,
          0.9380762725735173,
          0.8718424354847509,
          0.7340280429919799,
          0.6972011566370233,
          0.6591194282284903,
          0.5762998526924545,
          0.4822412570243876
         ],
         "yaxis": "y"
        },
        {
         "hovertemplate": "CUSTOMER_FIRST_ACTIVE_MONTH=2023-12-01 00:00:00<br>MONTH_DIFFERENCE=%{x}<br>PERCENTAGE_OF_TOTAL=%{y}<extra></extra>",
         "legendgroup": "2023-12-01 00:00:00",
         "line": {
          "color": "#FFA15A",
          "dash": "solid"
         },
         "marker": {
          "symbol": "circle"
         },
         "mode": "lines",
         "name": "2023-12-01 00:00:00",
         "orientation": "v",
         "showlegend": true,
         "type": "scatter",
         "x": [
          0,
          1,
          2,
          3,
          4,
          5,
          6,
          7
         ],
         "xaxis": "x",
         "y": [
          0.9927563150074294,
          1,
          0.9448365527488856,
          0.8867632491332342,
          0.7389796929172858,
          0.6987369985141159,
          0.653912828132739,
          0.5693412580485389
         ],
         "yaxis": "y"
        },
        {
         "hovertemplate": "CUSTOMER_FIRST_ACTIVE_MONTH=2024-01-01 00:00:00<br>MONTH_DIFFERENCE=%{x}<br>PERCENTAGE_OF_TOTAL=%{y}<extra></extra>",
         "legendgroup": "2024-01-01 00:00:00",
         "line": {
          "color": "#19d3f3",
          "dash": "solid"
         },
         "marker": {
          "symbol": "circle"
         },
         "mode": "lines",
         "name": "2024-01-01 00:00:00",
         "orientation": "v",
         "showlegend": true,
         "type": "scatter",
         "x": [
          0,
          1,
          2,
          3,
          4,
          5,
          6
         ],
         "xaxis": "x",
         "y": [
          1,
          0.9846564376250834,
          0.9251882207185743,
          0.8606690174401982,
          0.7226722576956066,
          0.6834079862765653,
          0.6315162489278566
         ],
         "yaxis": "y"
        },
        {
         "hovertemplate": "CUSTOMER_FIRST_ACTIVE_MONTH=2024-02-01 00:00:00<br>MONTH_DIFFERENCE=%{x}<br>PERCENTAGE_OF_TOTAL=%{y}<extra></extra>",
         "legendgroup": "2024-02-01 00:00:00",
         "line": {
          "color": "#FF6692",
          "dash": "solid"
         },
         "marker": {
          "symbol": "circle"
         },
         "mode": "lines",
         "name": "2024-02-01 00:00:00",
         "orientation": "v",
         "showlegend": true,
         "type": "scatter",
         "x": [
          0,
          1,
          2,
          3,
          4,
          5
         ],
         "xaxis": "x",
         "y": [
          1,
          0.997441341390386,
          0.9144754749850291,
          0.8407643312101911,
          0.7006913822200447,
          0.6502259241112744
         ],
         "yaxis": "y"
        },
        {
         "hovertemplate": "CUSTOMER_FIRST_ACTIVE_MONTH=2024-03-01 00:00:00<br>MONTH_DIFFERENCE=%{x}<br>PERCENTAGE_OF_TOTAL=%{y}<extra></extra>",
         "legendgroup": "2024-03-01 00:00:00",
         "line": {
          "color": "#B6E880",
          "dash": "solid"
         },
         "marker": {
          "symbol": "circle"
         },
         "mode": "lines",
         "name": "2024-03-01 00:00:00",
         "orientation": "v",
         "showlegend": true,
         "type": "scatter",
         "x": [
          0,
          1,
          2,
          3,
          4
         ],
         "xaxis": "x",
         "y": [
          0.9973262032085561,
          1,
          0.9168647256882551,
          0.8374925727866904,
          0.6981085363438304
         ],
         "yaxis": "y"
        },
        {
         "hovertemplate": "CUSTOMER_FIRST_ACTIVE_MONTH=2024-04-01 00:00:00<br>MONTH_DIFFERENCE=%{x}<br>PERCENTAGE_OF_TOTAL=%{y}<extra></extra>",
         "legendgroup": "2024-04-01 00:00:00",
         "line": {
          "color": "#FF97FF",
          "dash": "solid"
         },
         "marker": {
          "symbol": "circle"
         },
         "mode": "lines",
         "name": "2024-04-01 00:00:00",
         "orientation": "v",
         "showlegend": true,
         "type": "scatter",
         "x": [
          0,
          1,
          2,
          3
         ],
         "xaxis": "x",
         "y": [
          1,
          0.9849200304645849,
          0.8957603452652958,
          0.8066514343742066
         ],
         "yaxis": "y"
        },
        {
         "hovertemplate": "CUSTOMER_FIRST_ACTIVE_MONTH=2024-05-01 00:00:00<br>MONTH_DIFFERENCE=%{x}<br>PERCENTAGE_OF_TOTAL=%{y}<extra></extra>",
         "legendgroup": "2024-05-01 00:00:00",
         "line": {
          "color": "#FECB52",
          "dash": "solid"
         },
         "marker": {
          "symbol": "circle"
         },
         "mode": "lines",
         "name": "2024-05-01 00:00:00",
         "orientation": "v",
         "showlegend": true,
         "type": "scatter",
         "x": [
          0,
          1,
          2
         ],
         "xaxis": "x",
         "y": [
          1,
          0.9718585472673904,
          0.8942831850160742
         ],
         "yaxis": "y"
        },
        {
         "hovertemplate": "CUSTOMER_FIRST_ACTIVE_MONTH=2024-06-01 00:00:00<br>MONTH_DIFFERENCE=%{x}<br>PERCENTAGE_OF_TOTAL=%{y}<extra></extra>",
         "legendgroup": "2024-06-01 00:00:00",
         "line": {
          "color": "#636efa",
          "dash": "solid"
         },
         "marker": {
          "symbol": "circle"
         },
         "mode": "lines",
         "name": "2024-06-01 00:00:00",
         "orientation": "v",
         "showlegend": true,
         "type": "scatter",
         "x": [
          0,
          1
         ],
         "xaxis": "x",
         "y": [
          1,
          0.9517537842410939
         ],
         "yaxis": "y"
        },
        {
         "hovertemplate": "CUSTOMER_FIRST_ACTIVE_MONTH=2024-07-01 00:00:00<br>MONTH_DIFFERENCE=%{x}<br>PERCENTAGE_OF_TOTAL=%{y}<extra></extra>",
         "legendgroup": "2024-07-01 00:00:00",
         "line": {
          "color": "#EF553B",
          "dash": "solid"
         },
         "marker": {
          "symbol": "circle"
         },
         "mode": "lines",
         "name": "2024-07-01 00:00:00",
         "orientation": "v",
         "showlegend": true,
         "type": "scatter",
         "x": [
          0
         ],
         "xaxis": "x",
         "y": [
          1
         ],
         "yaxis": "y"
        }
       ],
       "layout": {
        "autosize": true,
        "legend": {
         "title": {
          "text": "CUSTOMER_FIRST_ACTIVE_MONTH"
         },
         "tracegroupgap": 0
        },
        "margin": {
         "t": 60
        },
        "template": {
         "data": {
          "bar": [
           {
            "error_x": {
             "color": "#2a3f5f"
            },
            "error_y": {
             "color": "#2a3f5f"
            },
            "marker": {
             "line": {
              "color": "#E5ECF6",
              "width": 0.5
             },
             "pattern": {
              "fillmode": "overlay",
              "size": 10,
              "solidity": 0.2
             }
            },
            "type": "bar"
           }
          ],
          "barpolar": [
           {
            "marker": {
             "line": {
              "color": "#E5ECF6",
              "width": 0.5
             },
             "pattern": {
              "fillmode": "overlay",
              "size": 10,
              "solidity": 0.2
             }
            },
            "type": "barpolar"
           }
          ],
          "carpet": [
           {
            "aaxis": {
             "endlinecolor": "#2a3f5f",
             "gridcolor": "white",
             "linecolor": "white",
             "minorgridcolor": "white",
             "startlinecolor": "#2a3f5f"
            },
            "baxis": {
             "endlinecolor": "#2a3f5f",
             "gridcolor": "white",
             "linecolor": "white",
             "minorgridcolor": "white",
             "startlinecolor": "#2a3f5f"
            },
            "type": "carpet"
           }
          ],
          "choropleth": [
           {
            "colorbar": {
             "outlinewidth": 0,
             "ticks": ""
            },
            "type": "choropleth"
           }
          ],
          "contour": [
           {
            "colorbar": {
             "outlinewidth": 0,
             "ticks": ""
            },
            "colorscale": [
             [
              0,
              "#0d0887"
             ],
             [
              0.1111111111111111,
              "#46039f"
             ],
             [
              0.2222222222222222,
              "#7201a8"
             ],
             [
              0.3333333333333333,
              "#9c179e"
             ],
             [
              0.4444444444444444,
              "#bd3786"
             ],
             [
              0.5555555555555556,
              "#d8576b"
             ],
             [
              0.6666666666666666,
              "#ed7953"
             ],
             [
              0.7777777777777778,
              "#fb9f3a"
             ],
             [
              0.8888888888888888,
              "#fdca26"
             ],
             [
              1,
              "#f0f921"
             ]
            ],
            "type": "contour"
           }
          ],
          "contourcarpet": [
           {
            "colorbar": {
             "outlinewidth": 0,
             "ticks": ""
            },
            "type": "contourcarpet"
           }
          ],
          "heatmap": [
           {
            "colorbar": {
             "outlinewidth": 0,
             "ticks": ""
            },
            "colorscale": [
             [
              0,
              "#0d0887"
             ],
             [
              0.1111111111111111,
              "#46039f"
             ],
             [
              0.2222222222222222,
              "#7201a8"
             ],
             [
              0.3333333333333333,
              "#9c179e"
             ],
             [
              0.4444444444444444,
              "#bd3786"
             ],
             [
              0.5555555555555556,
              "#d8576b"
             ],
             [
              0.6666666666666666,
              "#ed7953"
             ],
             [
              0.7777777777777778,
              "#fb9f3a"
             ],
             [
              0.8888888888888888,
              "#fdca26"
             ],
             [
              1,
              "#f0f921"
             ]
            ],
            "type": "heatmap"
           }
          ],
          "heatmapgl": [
           {
            "colorbar": {
             "outlinewidth": 0,
             "ticks": ""
            },
            "colorscale": [
             [
              0,
              "#0d0887"
             ],
             [
              0.1111111111111111,
              "#46039f"
             ],
             [
              0.2222222222222222,
              "#7201a8"
             ],
             [
              0.3333333333333333,
              "#9c179e"
             ],
             [
              0.4444444444444444,
              "#bd3786"
             ],
             [
              0.5555555555555556,
              "#d8576b"
             ],
             [
              0.6666666666666666,
              "#ed7953"
             ],
             [
              0.7777777777777778,
              "#fb9f3a"
             ],
             [
              0.8888888888888888,
              "#fdca26"
             ],
             [
              1,
              "#f0f921"
             ]
            ],
            "type": "heatmapgl"
           }
          ],
          "histogram": [
           {
            "marker": {
             "pattern": {
              "fillmode": "overlay",
              "size": 10,
              "solidity": 0.2
             }
            },
            "type": "histogram"
           }
          ],
          "histogram2d": [
           {
            "colorbar": {
             "outlinewidth": 0,
             "ticks": ""
            },
            "colorscale": [
             [
              0,
              "#0d0887"
             ],
             [
              0.1111111111111111,
              "#46039f"
             ],
             [
              0.2222222222222222,
              "#7201a8"
             ],
             [
              0.3333333333333333,
              "#9c179e"
             ],
             [
              0.4444444444444444,
              "#bd3786"
             ],
             [
              0.5555555555555556,
              "#d8576b"
             ],
             [
              0.6666666666666666,
              "#ed7953"
             ],
             [
              0.7777777777777778,
              "#fb9f3a"
             ],
             [
              0.8888888888888888,
              "#fdca26"
             ],
             [
              1,
              "#f0f921"
             ]
            ],
            "type": "histogram2d"
           }
          ],
          "histogram2dcontour": [
           {
            "colorbar": {
             "outlinewidth": 0,
             "ticks": ""
            },
            "colorscale": [
             [
              0,
              "#0d0887"
             ],
             [
              0.1111111111111111,
              "#46039f"
             ],
             [
              0.2222222222222222,
              "#7201a8"
             ],
             [
              0.3333333333333333,
              "#9c179e"
             ],
             [
              0.4444444444444444,
              "#bd3786"
             ],
             [
              0.5555555555555556,
              "#d8576b"
             ],
             [
              0.6666666666666666,
              "#ed7953"
             ],
             [
              0.7777777777777778,
              "#fb9f3a"
             ],
             [
              0.8888888888888888,
              "#fdca26"
             ],
             [
              1,
              "#f0f921"
             ]
            ],
            "type": "histogram2dcontour"
           }
          ],
          "mesh3d": [
           {
            "colorbar": {
             "outlinewidth": 0,
             "ticks": ""
            },
            "type": "mesh3d"
           }
          ],
          "parcoords": [
           {
            "line": {
             "colorbar": {
              "outlinewidth": 0,
              "ticks": ""
             }
            },
            "type": "parcoords"
           }
          ],
          "pie": [
           {
            "automargin": true,
            "type": "pie"
           }
          ],
          "scatter": [
           {
            "fillpattern": {
             "fillmode": "overlay",
             "size": 10,
             "solidity": 0.2
            },
            "type": "scatter"
           }
          ],
          "scatter3d": [
           {
            "line": {
             "colorbar": {
              "outlinewidth": 0,
              "ticks": ""
             }
            },
            "marker": {
             "colorbar": {
              "outlinewidth": 0,
              "ticks": ""
             }
            },
            "type": "scatter3d"
           }
          ],
          "scattercarpet": [
           {
            "marker": {
             "colorbar": {
              "outlinewidth": 0,
              "ticks": ""
             }
            },
            "type": "scattercarpet"
           }
          ],
          "scattergeo": [
           {
            "marker": {
             "colorbar": {
              "outlinewidth": 0,
              "ticks": ""
             }
            },
            "type": "scattergeo"
           }
          ],
          "scattergl": [
           {
            "marker": {
             "colorbar": {
              "outlinewidth": 0,
              "ticks": ""
             }
            },
            "type": "scattergl"
           }
          ],
          "scattermapbox": [
           {
            "marker": {
             "colorbar": {
              "outlinewidth": 0,
              "ticks": ""
             }
            },
            "type": "scattermapbox"
           }
          ],
          "scatterpolar": [
           {
            "marker": {
             "colorbar": {
              "outlinewidth": 0,
              "ticks": ""
             }
            },
            "type": "scatterpolar"
           }
          ],
          "scatterpolargl": [
           {
            "marker": {
             "colorbar": {
              "outlinewidth": 0,
              "ticks": ""
             }
            },
            "type": "scatterpolargl"
           }
          ],
          "scatterternary": [
           {
            "marker": {
             "colorbar": {
              "outlinewidth": 0,
              "ticks": ""
             }
            },
            "type": "scatterternary"
           }
          ],
          "surface": [
           {
            "colorbar": {
             "outlinewidth": 0,
             "ticks": ""
            },
            "colorscale": [
             [
              0,
              "#0d0887"
             ],
             [
              0.1111111111111111,
              "#46039f"
             ],
             [
              0.2222222222222222,
              "#7201a8"
             ],
             [
              0.3333333333333333,
              "#9c179e"
             ],
             [
              0.4444444444444444,
              "#bd3786"
             ],
             [
              0.5555555555555556,
              "#d8576b"
             ],
             [
              0.6666666666666666,
              "#ed7953"
             ],
             [
              0.7777777777777778,
              "#fb9f3a"
             ],
             [
              0.8888888888888888,
              "#fdca26"
             ],
             [
              1,
              "#f0f921"
             ]
            ],
            "type": "surface"
           }
          ],
          "table": [
           {
            "cells": {
             "fill": {
              "color": "#EBF0F8"
             },
             "line": {
              "color": "white"
             }
            },
            "header": {
             "fill": {
              "color": "#C8D4E3"
             },
             "line": {
              "color": "white"
             }
            },
            "type": "table"
           }
          ]
         },
         "layout": {
          "annotationdefaults": {
           "arrowcolor": "#2a3f5f",
           "arrowhead": 0,
           "arrowwidth": 1
          },
          "autotypenumbers": "strict",
          "coloraxis": {
           "colorbar": {
            "outlinewidth": 0,
            "ticks": ""
           }
          },
          "colorscale": {
           "diverging": [
            [
             0,
             "#8e0152"
            ],
            [
             0.1,
             "#c51b7d"
            ],
            [
             0.2,
             "#de77ae"
            ],
            [
             0.3,
             "#f1b6da"
            ],
            [
             0.4,
             "#fde0ef"
            ],
            [
             0.5,
             "#f7f7f7"
            ],
            [
             0.6,
             "#e6f5d0"
            ],
            [
             0.7,
             "#b8e186"
            ],
            [
             0.8,
             "#7fbc41"
            ],
            [
             0.9,
             "#4d9221"
            ],
            [
             1,
             "#276419"
            ]
           ],
           "sequential": [
            [
             0,
             "#0d0887"
            ],
            [
             0.1111111111111111,
             "#46039f"
            ],
            [
             0.2222222222222222,
             "#7201a8"
            ],
            [
             0.3333333333333333,
             "#9c179e"
            ],
            [
             0.4444444444444444,
             "#bd3786"
            ],
            [
             0.5555555555555556,
             "#d8576b"
            ],
            [
             0.6666666666666666,
             "#ed7953"
            ],
            [
             0.7777777777777778,
             "#fb9f3a"
            ],
            [
             0.8888888888888888,
             "#fdca26"
            ],
            [
             1,
             "#f0f921"
            ]
           ],
           "sequentialminus": [
            [
             0,
             "#0d0887"
            ],
            [
             0.1111111111111111,
             "#46039f"
            ],
            [
             0.2222222222222222,
             "#7201a8"
            ],
            [
             0.3333333333333333,
             "#9c179e"
            ],
            [
             0.4444444444444444,
             "#bd3786"
            ],
            [
             0.5555555555555556,
             "#d8576b"
            ],
            [
             0.6666666666666666,
             "#ed7953"
            ],
            [
             0.7777777777777778,
             "#fb9f3a"
            ],
            [
             0.8888888888888888,
             "#fdca26"
            ],
            [
             1,
             "#f0f921"
            ]
           ]
          },
          "colorway": [
           "#636efa",
           "#EF553B",
           "#00cc96",
           "#ab63fa",
           "#FFA15A",
           "#19d3f3",
           "#FF6692",
           "#B6E880",
           "#FF97FF",
           "#FECB52"
          ],
          "font": {
           "color": "#2a3f5f"
          },
          "geo": {
           "bgcolor": "white",
           "lakecolor": "white",
           "landcolor": "#E5ECF6",
           "showlakes": true,
           "showland": true,
           "subunitcolor": "white"
          },
          "hoverlabel": {
           "align": "left"
          },
          "hovermode": "closest",
          "mapbox": {
           "style": "light"
          },
          "paper_bgcolor": "white",
          "plot_bgcolor": "#E5ECF6",
          "polar": {
           "angularaxis": {
            "gridcolor": "white",
            "linecolor": "white",
            "ticks": ""
           },
           "bgcolor": "#E5ECF6",
           "radialaxis": {
            "gridcolor": "white",
            "linecolor": "white",
            "ticks": ""
           }
          },
          "scene": {
           "xaxis": {
            "backgroundcolor": "#E5ECF6",
            "gridcolor": "white",
            "gridwidth": 2,
            "linecolor": "white",
            "showbackground": true,
            "ticks": "",
            "zerolinecolor": "white"
           },
           "yaxis": {
            "backgroundcolor": "#E5ECF6",
            "gridcolor": "white",
            "gridwidth": 2,
            "linecolor": "white",
            "showbackground": true,
            "ticks": "",
            "zerolinecolor": "white"
           },
           "zaxis": {
            "backgroundcolor": "#E5ECF6",
            "gridcolor": "white",
            "gridwidth": 2,
            "linecolor": "white",
            "showbackground": true,
            "ticks": "",
            "zerolinecolor": "white"
           }
          },
          "shapedefaults": {
           "line": {
            "color": "#2a3f5f"
           }
          },
          "ternary": {
           "aaxis": {
            "gridcolor": "white",
            "linecolor": "white",
            "ticks": ""
           },
           "baxis": {
            "gridcolor": "white",
            "linecolor": "white",
            "ticks": ""
           },
           "bgcolor": "#E5ECF6",
           "caxis": {
            "gridcolor": "white",
            "linecolor": "white",
            "ticks": ""
           }
          },
          "title": {
           "x": 0.05
          },
          "xaxis": {
           "automargin": true,
           "gridcolor": "white",
           "linecolor": "white",
           "ticks": "",
           "title": {
            "standoff": 15
           },
           "zerolinecolor": "white",
           "zerolinewidth": 2
          },
          "yaxis": {
           "automargin": true,
           "gridcolor": "white",
           "linecolor": "white",
           "ticks": "",
           "title": {
            "standoff": 15
           },
           "zerolinecolor": "white",
           "zerolinewidth": 2
          }
         }
        },
        "xaxis": {
         "anchor": "y",
         "autorange": true,
         "domain": [
          0,
          1
         ],
         "range": [
          0,
          11
         ],
         "title": {
          "text": "MONTH_DIFFERENCE"
         },
         "type": "linear"
        },
        "yaxis": {
         "anchor": "x",
         "autorange": true,
         "domain": [
          0,
          1
         ],
         "range": [
          0.347256549678695,
          1.0343549184379635
         ],
         "title": {
          "text": "PERCENTAGE_OF_TOTAL"
         },
         "type": "linear"
        }
       }
      },
      "image/png": "[encoded data removed]",
      "text/html": [
       "<div>                            <div id=\"3b13b9de-24eb-4bfc-bb7e-906330961137\" class=\"plotly-graph-div\" style=\"height:525px; width:100%;\"></div>            <script type=\"text/javascript\">                require([\"plotly\"], function(Plotly) {                    window.PLOTLYENV=window.PLOTLYENV || {};                                    if (document.getElementById(\"3b13b9de-24eb-4bfc-bb7e-906330961137\")) {                    Plotly.newPlot(                        \"3b13b9de-24eb-4bfc-bb7e-906330961137\",                        [{\"hovertemplate\":\"CUSTOMER_FIRST_ACTIVE_MONTH=2023-08-01 00:00:00\\u003cbr\\u003eMONTH_DIFFERENCE=%{x}\\u003cbr\\u003ePERCENTAGE_OF_TOTAL=%{y}\\u003cextra\\u003e\\u003c\\u002fextra\\u003e\",\"legendgroup\":\"2023-08-01 00:00:00\",\"line\":{\"color\":\"#636efa\",\"dash\":\"solid\"},\"marker\":{\"symbol\":\"circle\"},\"mode\":\"lines\",\"name\":\"2023-08-01 00:00:00\",\"orientation\":\"v\",\"showlegend\":true,\"x\":[0.0,1.0,2.0,3.0,4.0,5.0,6.0,7.0,8.0,9.0,10.0,11.0],\"xaxis\":\"x\",\"y\":[1.0,1.0,1.0,1.0,0.7013470730647464,0.66459743000807,0.6188466074864982,0.5451610900738717,0.46532993978521325,0.4396300204854429,0.40970885840213545,0.38562294369607053],\"yaxis\":\"y\",\"type\":\"scatter\"},{\"hovertemplate\":\"CUSTOMER_FIRST_ACTIVE_MONTH=2023-09-01 00:00:00\\u003cbr\\u003eMONTH_DIFFERENCE=%{x}\\u003cbr\\u003ePERCENTAGE_OF_TOTAL=%{y}\\u003cextra\\u003e\\u003c\\u002fextra\\u003e\",\"legendgroup\":\"2023-09-01 00:00:00\",\"line\":{\"color\":\"#EF553B\",\"dash\":\"solid\"},\"marker\":{\"symbol\":\"circle\"},\"mode\":\"lines\",\"name\":\"2023-09-01 00:00:00\",\"orientation\":\"v\",\"showlegend\":true,\"x\":[0.0,1.0,2.0,3.0,4.0,5.0,6.0,7.0,8.0,9.0,10.0],\"xaxis\":\"x\",\"y\":[1.0,1.0,1.0,0.8086999505684627,0.6723306969846762,0.6312407315867523,0.5917572911517548,0.518536826495304,0.449085516559565,0.4236282748393475,0.3816114681166584],\"yaxis\":\"y\",\"type\":\"scatter\"},{\"hovertemplate\":\"CUSTOMER_FIRST_ACTIVE_MONTH=2023-10-01 00:00:00\\u003cbr\\u003eMONTH_DIFFERENCE=%{x}\\u003cbr\\u003ePERCENTAGE_OF_TOTAL=%{y}\\u003cextra\\u003e\\u003c\\u002fextra\\u003e\",\"legendgroup\":\"2023-10-01 00:00:00\",\"line\":{\"color\":\"#00cc96\",\"dash\":\"solid\"},\"marker\":{\"symbol\":\"circle\"},\"mode\":\"lines\",\"name\":\"2023-10-01 00:00:00\",\"orientation\":\"v\",\"showlegend\":true,\"x\":[0.0,1.0,2.0,3.0,4.0,5.0,6.0,7.0,8.0,9.0],\"xaxis\":\"x\",\"y\":[1.0,1.0,0.8995347741593546,0.8412343207113833,0.6910075967257523,0.6560273246569696,0.6130969907543725,0.5411930981685413,0.4636358282786644,0.42977445380130735],\"yaxis\":\"y\",\"type\":\"scatter\"},{\"hovertemplate\":\"CUSTOMER_FIRST_ACTIVE_MONTH=2023-11-01 00:00:00\\u003cbr\\u003eMONTH_DIFFERENCE=%{x}\\u003cbr\\u003ePERCENTAGE_OF_TOTAL=%{y}\\u003cextra\\u003e\\u003c\\u002fextra\\u003e\",\"legendgroup\":\"2023-11-01 00:00:00\",\"line\":{\"color\":\"#ab63fa\",\"dash\":\"solid\"},\"marker\":{\"symbol\":\"circle\"},\"mode\":\"lines\",\"name\":\"2023-11-01 00:00:00\",\"orientation\":\"v\",\"showlegend\":true,\"x\":[0.0,1.0,2.0,3.0,4.0,5.0,6.0,7.0,8.0],\"xaxis\":\"x\",\"y\":[1.0,0.9829232364013312,0.9380762725735173,0.8718424354847509,0.7340280429919799,0.6972011566370233,0.6591194282284903,0.5762998526924545,0.4822412570243876],\"yaxis\":\"y\",\"type\":\"scatter\"},{\"hovertemplate\":\"CUSTOMER_FIRST_ACTIVE_MONTH=2023-12-01 00:00:00\\u003cbr\\u003eMONTH_DIFFERENCE=%{x}\\u003cbr\\u003ePERCENTAGE_OF_TOTAL=%{y}\\u003cextra\\u003e\\u003c\\u002fextra\\u003e\",\"legendgroup\":\"2023-12-01 00:00:00\",\"line\":{\"color\":\"#FFA15A\",\"dash\":\"solid\"},\"marker\":{\"symbol\":\"circle\"},\"mode\":\"lines\",\"name\":\"2023-12-01 00:00:00\",\"orientation\":\"v\",\"showlegend\":true,\"x\":[0.0,1.0,2.0,3.0,4.0,5.0,6.0,7.0],\"xaxis\":\"x\",\"y\":[0.9927563150074294,1.0,0.9448365527488856,0.8867632491332342,0.7389796929172858,0.6987369985141159,0.653912828132739,0.5693412580485389],\"yaxis\":\"y\",\"type\":\"scatter\"},{\"hovertemplate\":\"CUSTOMER_FIRST_ACTIVE_MONTH=2024-01-01 00:00:00\\u003cbr\\u003eMONTH_DIFFERENCE=%{x}\\u003cbr\\u003ePERCENTAGE_OF_TOTAL=%{y}\\u003cextra\\u003e\\u003c\\u002fextra\\u003e\",\"legendgroup\":\"2024-01-01 00:00:00\",\"line\":{\"color\":\"#19d3f3\",\"dash\":\"solid\"},\"marker\":{\"symbol\":\"circle\"},\"mode\":\"lines\",\"name\":\"2024-01-01 00:00:00\",\"orientation\":\"v\",\"showlegend\":true,\"x\":[0.0,1.0,2.0,3.0,4.0,5.0,6.0],\"xaxis\":\"x\",\"y\":[1.0,0.9846564376250834,0.9251882207185743,0.8606690174401982,0.7226722576956066,0.6834079862765653,0.6315162489278566],\"yaxis\":\"y\",\"type\":\"scatter\"},{\"hovertemplate\":\"CUSTOMER_FIRST_ACTIVE_MONTH=2024-02-01 00:00:00\\u003cbr\\u003eMONTH_DIFFERENCE=%{x}\\u003cbr\\u003ePERCENTAGE_OF_TOTAL=%{y}\\u003cextra\\u003e\\u003c\\u002fextra\\u003e\",\"legendgroup\":\"2024-02-01 00:00:00\",\"line\":{\"color\":\"#FF6692\",\"dash\":\"solid\"},\"marker\":{\"symbol\":\"circle\"},\"mode\":\"lines\",\"name\":\"2024-02-01 00:00:00\",\"orientation\":\"v\",\"showlegend\":true,\"x\":[0.0,1.0,2.0,3.0,4.0,5.0],\"xaxis\":\"x\",\"y\":[1.0,0.997441341390386,0.9144754749850291,0.8407643312101911,0.7006913822200447,0.6502259241112744],\"yaxis\":\"y\",\"type\":\"scatter\"},{\"hovertemplate\":\"CUSTOMER_FIRST_ACTIVE_MONTH=2024-03-01 00:00:00\\u003cbr\\u003eMONTH_DIFFERENCE=%{x}\\u003cbr\\u003ePERCENTAGE_OF_TOTAL=%{y}\\u003cextra\\u003e\\u003c\\u002fextra\\u003e\",\"legendgroup\":\"2024-03-01 00:00:00\",\"line\":{\"color\":\"#B6E880\",\"dash\":\"solid\"},\"marker\":{\"symbol\":\"circle\"},\"mode\":\"lines\",\"name\":\"2024-03-01 00:00:00\",\"orientation\":\"v\",\"showlegend\":true,\"x\":[0.0,1.0,2.0,3.0,4.0],\"xaxis\":\"x\",\"y\":[0.9973262032085561,1.0,0.9168647256882551,0.8374925727866904,0.6981085363438304],\"yaxis\":\"y\",\"type\":\"scatter\"},{\"hovertemplate\":\"CUSTOMER_FIRST_ACTIVE_MONTH=2024-04-01 00:00:00\\u003cbr\\u003eMONTH_DIFFERENCE=%{x}\\u003cbr\\u003ePERCENTAGE_OF_TOTAL=%{y}\\u003cextra\\u003e\\u003c\\u002fextra\\u003e\",\"legendgroup\":\"2024-04-01 00:00:00\",\"line\":{\"color\":\"#FF97FF\",\"dash\":\"solid\"},\"marker\":{\"symbol\":\"circle\"},\"mode\":\"lines\",\"name\":\"2024-04-01 00:00:00\",\"orientation\":\"v\",\"showlegend\":true,\"x\":[0.0,1.0,2.0,3.0],\"xaxis\":\"x\",\"y\":[1.0,0.9849200304645849,0.8957603452652958,0.8066514343742066],\"yaxis\":\"y\",\"type\":\"scatter\"},{\"hovertemplate\":\"CUSTOMER_FIRST_ACTIVE_MONTH=2024-05-01 00:00:00\\u003cbr\\u003eMONTH_DIFFERENCE=%{x}\\u003cbr\\u003ePERCENTAGE_OF_TOTAL=%{y}\\u003cextra\\u003e\\u003c\\u002fextra\\u003e\",\"legendgroup\":\"2024-05-01 00:00:00\",\"line\":{\"color\":\"#FECB52\",\"dash\":\"solid\"},\"marker\":{\"symbol\":\"circle\"},\"mode\":\"lines\",\"name\":\"2024-05-01 00:00:00\",\"orientation\":\"v\",\"showlegend\":true,\"x\":[0.0,1.0,2.0],\"xaxis\":\"x\",\"y\":[1.0,0.9718585472673904,0.8942831850160742],\"yaxis\":\"y\",\"type\":\"scatter\"},{\"hovertemplate\":\"CUSTOMER_FIRST_ACTIVE_MONTH=2024-06-01 00:00:00\\u003cbr\\u003eMONTH_DIFFERENCE=%{x}\\u003cbr\\u003ePERCENTAGE_OF_TOTAL=%{y}\\u003cextra\\u003e\\u003c\\u002fextra\\u003e\",\"legendgroup\":\"2024-06-01 00:00:00\",\"line\":{\"color\":\"#636efa\",\"dash\":\"solid\"},\"marker\":{\"symbol\":\"circle\"},\"mode\":\"lines\",\"name\":\"2024-06-01 00:00:00\",\"orientation\":\"v\",\"showlegend\":true,\"x\":[0.0,1.0],\"xaxis\":\"x\",\"y\":[1.0,0.9517537842410939],\"yaxis\":\"y\",\"type\":\"scatter\"},{\"hovertemplate\":\"CUSTOMER_FIRST_ACTIVE_MONTH=2024-07-01 00:00:00\\u003cbr\\u003eMONTH_DIFFERENCE=%{x}\\u003cbr\\u003ePERCENTAGE_OF_TOTAL=%{y}\\u003cextra\\u003e\\u003c\\u002fextra\\u003e\",\"legendgroup\":\"2024-07-01 00:00:00\",\"line\":{\"color\":\"#EF553B\",\"dash\":\"solid\"},\"marker\":{\"symbol\":\"circle\"},\"mode\":\"lines\",\"name\":\"2024-07-01 00:00:00\",\"orientation\":\"v\",\"showlegend\":true,\"x\":[0.0],\"xaxis\":\"x\",\"y\":[1.0],\"yaxis\":\"y\",\"type\":\"scatter\"}],                        {\"template\":{\"data\":{\"histogram2dcontour\":[{\"type\":\"histogram2dcontour\",\"colorbar\":{\"outlinewidth\":0,\"ticks\":\"\"},\"colorscale\":[[0.0,\"#0d0887\"],[0.1111111111111111,\"#46039f\"],[0.2222222222222222,\"#7201a8\"],[0.3333333333333333,\"#9c179e\"],[0.4444444444444444,\"#bd3786\"],[0.5555555555555556,\"#d8576b\"],[0.6666666666666666,\"#ed7953\"],[0.7777777777777778,\"#fb9f3a\"],[0.8888888888888888,\"#fdca26\"],[1.0,\"#f0f921\"]]}],\"choropleth\":[{\"type\":\"choropleth\",\"colorbar\":{\"outlinewidth\":0,\"ticks\":\"\"}}],\"histogram2d\":[{\"type\":\"histogram2d\",\"colorbar\":{\"outlinewidth\":0,\"ticks\":\"\"},\"colorscale\":[[0.0,\"#0d0887\"],[0.1111111111111111,\"#46039f\"],[0.2222222222222222,\"#7201a8\"],[0.3333333333333333,\"#9c179e\"],[0.4444444444444444,\"#bd3786\"],[0.5555555555555556,\"#d8576b\"],[0.6666666666666666,\"#ed7953\"],[0.7777777777777778,\"#fb9f3a\"],[0.8888888888888888,\"#fdca26\"],[1.0,\"#f0f921\"]]}],\"heatmap\":[{\"type\":\"heatmap\",\"colorbar\":{\"outlinewidth\":0,\"ticks\":\"\"},\"colorscale\":[[0.0,\"#0d0887\"],[0.1111111111111111,\"#46039f\"],[0.2222222222222222,\"#7201a8\"],[0.3333333333333333,\"#9c179e\"],[0.4444444444444444,\"#bd3786\"],[0.5555555555555556,\"#d8576b\"],[0.6666666666666666,\"#ed7953\"],[0.7777777777777778,\"#fb9f3a\"],[0.8888888888888888,\"#fdca26\"],[1.0,\"#f0f921\"]]}],\"heatmapgl\":[{\"type\":\"heatmapgl\",\"colorbar\":{\"outlinewidth\":0,\"ticks\":\"\"},\"colorscale\":[[0.0,\"#0d0887\"],[0.1111111111111111,\"#46039f\"],[0.2222222222222222,\"#7201a8\"],[0.3333333333333333,\"#9c179e\"],[0.4444444444444444,\"#bd3786\"],[0.5555555555555556,\"#d8576b\"],[0.6666666666666666,\"#ed7953\"],[0.7777777777777778,\"#fb9f3a\"],[0.8888888888888888,\"#fdca26\"],[1.0,\"#f0f921\"]]}],\"contourcarpet\":[{\"type\":\"contourcarpet\",\"colorbar\":{\"outlinewidth\":0,\"ticks\":\"\"}}],\"contour\":[{\"type\":\"contour\",\"colorbar\":{\"outlinewidth\":0,\"ticks\":\"\"},\"colorscale\":[[0.0,\"#0d0887\"],[0.1111111111111111,\"#46039f\"],[0.2222222222222222,\"#7201a8\"],[0.3333333333333333,\"#9c179e\"],[0.4444444444444444,\"#bd3786\"],[0.5555555555555556,\"#d8576b\"],[0.6666666666666666,\"#ed7953\"],[0.7777777777777778,\"#fb9f3a\"],[0.8888888888888888,\"#fdca26\"],[1.0,\"#f0f921\"]]}],\"surface\":[{\"type\":\"surface\",\"colorbar\":{\"outlinewidth\":0,\"ticks\":\"\"},\"colorscale\":[[0.0,\"#0d0887\"],[0.1111111111111111,\"#46039f\"],[0.2222222222222222,\"#7201a8\"],[0.3333333333333333,\"#9c179e\"],[0.4444444444444444,\"#bd3786\"],[0.5555555555555556,\"#d8576b\"],[0.6666666666666666,\"#ed7953\"],[0.7777777777777778,\"#fb9f3a\"],[0.8888888888888888,\"#fdca26\"],[1.0,\"#f0f921\"]]}],\"mesh3d\":[{\"type\":\"mesh3d\",\"colorbar\":{\"outlinewidth\":0,\"ticks\":\"\"}}],\"scatter\":[{\"fillpattern\":{\"fillmode\":\"overlay\",\"size\":10,\"solidity\":0.2},\"type\":\"scatter\"}],\"parcoords\":[{\"type\":\"parcoords\",\"line\":{\"colorbar\":{\"outlinewidth\":0,\"ticks\":\"\"}}}],\"scatterpolargl\":[{\"type\":\"scatterpolargl\",\"marker\":{\"colorbar\":{\"outlinewidth\":0,\"ticks\":\"\"}}}],\"bar\":[{\"error_x\":{\"color\":\"#2a3f5f\"},\"error_y\":{\"color\":\"#2a3f5f\"},\"marker\":{\"line\":{\"color\":\"#E5ECF6\",\"width\":0.5},\"pattern\":{\"fillmode\":\"overlay\",\"size\":10,\"solidity\":0.2}},\"type\":\"bar\"}],\"scattergeo\":[{\"type\":\"scattergeo\",\"marker\":{\"colorbar\":{\"outlinewidth\":0,\"ticks\":\"\"}}}],\"scatterpolar\":[{\"type\":\"scatterpolar\",\"marker\":{\"colorbar\":{\"outlinewidth\":0,\"ticks\":\"\"}}}],\"histogram\":[{\"marker\":{\"pattern\":{\"fillmode\":\"overlay\",\"size\":10,\"solidity\":0.2}},\"type\":\"histogram\"}],\"scattergl\":[{\"type\":\"scattergl\",\"marker\":{\"colorbar\":{\"outlinewidth\":0,\"ticks\":\"\"}}}],\"scatter3d\":[{\"type\":\"scatter3d\",\"line\":{\"colorbar\":{\"outlinewidth\":0,\"ticks\":\"\"}},\"marker\":{\"colorbar\":{\"outlinewidth\":0,\"ticks\":\"\"}}}],\"scattermapbox\":[{\"type\":\"scattermapbox\",\"marker\":{\"colorbar\":{\"outlinewidth\":0,\"ticks\":\"\"}}}],\"scatterternary\":[{\"type\":\"scatterternary\",\"marker\":{\"colorbar\":{\"outlinewidth\":0,\"ticks\":\"\"}}}],\"scattercarpet\":[{\"type\":\"scattercarpet\",\"marker\":{\"colorbar\":{\"outlinewidth\":0,\"ticks\":\"\"}}}],\"carpet\":[{\"aaxis\":{\"endlinecolor\":\"#2a3f5f\",\"gridcolor\":\"white\",\"linecolor\":\"white\",\"minorgridcolor\":\"white\",\"startlinecolor\":\"#2a3f5f\"},\"baxis\":{\"endlinecolor\":\"#2a3f5f\",\"gridcolor\":\"white\",\"linecolor\":\"white\",\"minorgridcolor\":\"white\",\"startlinecolor\":\"#2a3f5f\"},\"type\":\"carpet\"}],\"table\":[{\"cells\":{\"fill\":{\"color\":\"#EBF0F8\"},\"line\":{\"color\":\"white\"}},\"header\":{\"fill\":{\"color\":\"#C8D4E3\"},\"line\":{\"color\":\"white\"}},\"type\":\"table\"}],\"barpolar\":[{\"marker\":{\"line\":{\"color\":\"#E5ECF6\",\"width\":0.5},\"pattern\":{\"fillmode\":\"overlay\",\"size\":10,\"solidity\":0.2}},\"type\":\"barpolar\"}],\"pie\":[{\"automargin\":true,\"type\":\"pie\"}]},\"layout\":{\"autotypenumbers\":\"strict\",\"colorway\":[\"#636efa\",\"#EF553B\",\"#00cc96\",\"#ab63fa\",\"#FFA15A\",\"#19d3f3\",\"#FF6692\",\"#B6E880\",\"#FF97FF\",\"#FECB52\"],\"font\":{\"color\":\"#2a3f5f\"},\"hovermode\":\"closest\",\"hoverlabel\":{\"align\":\"left\"},\"paper_bgcolor\":\"white\",\"plot_bgcolor\":\"#E5ECF6\",\"polar\":{\"bgcolor\":\"#E5ECF6\",\"angularaxis\":{\"gridcolor\":\"white\",\"linecolor\":\"white\",\"ticks\":\"\"},\"radialaxis\":{\"gridcolor\":\"white\",\"linecolor\":\"white\",\"ticks\":\"\"}},\"ternary\":{\"bgcolor\":\"#E5ECF6\",\"aaxis\":{\"gridcolor\":\"white\",\"linecolor\":\"white\",\"ticks\":\"\"},\"baxis\":{\"gridcolor\":\"white\",\"linecolor\":\"white\",\"ticks\":\"\"},\"caxis\":{\"gridcolor\":\"white\",\"linecolor\":\"white\",\"ticks\":\"\"}},\"coloraxis\":{\"colorbar\":{\"outlinewidth\":0,\"ticks\":\"\"}},\"colorscale\":{\"sequential\":[[0.0,\"#0d0887\"],[0.1111111111111111,\"#46039f\"],[0.2222222222222222,\"#7201a8\"],[0.3333333333333333,\"#9c179e\"],[0.4444444444444444,\"#bd3786\"],[0.5555555555555556,\"#d8576b\"],[0.6666666666666666,\"#ed7953\"],[0.7777777777777778,\"#fb9f3a\"],[0.8888888888888888,\"#fdca26\"],[1.0,\"#f0f921\"]],\"sequentialminus\":[[0.0,\"#0d0887\"],[0.1111111111111111,\"#46039f\"],[0.2222222222222222,\"#7201a8\"],[0.3333333333333333,\"#9c179e\"],[0.4444444444444444,\"#bd3786\"],[0.5555555555555556,\"#d8576b\"],[0.6666666666666666,\"#ed7953\"],[0.7777777777777778,\"#fb9f3a\"],[0.8888888888888888,\"#fdca26\"],[1.0,\"#f0f921\"]],\"diverging\":[[0,\"#8e0152\"],[0.1,\"#c51b7d\"],[0.2,\"#de77ae\"],[0.3,\"#f1b6da\"],[0.4,\"#fde0ef\"],[0.5,\"#f7f7f7\"],[0.6,\"#e6f5d0\"],[0.7,\"#b8e186\"],[0.8,\"#7fbc41\"],[0.9,\"#4d9221\"],[1,\"#276419\"]]},\"xaxis\":{\"gridcolor\":\"white\",\"linecolor\":\"white\",\"ticks\":\"\",\"title\":{\"standoff\":15},\"zerolinecolor\":\"white\",\"automargin\":true,\"zerolinewidth\":2},\"yaxis\":{\"gridcolor\":\"white\",\"linecolor\":\"white\",\"ticks\":\"\",\"title\":{\"standoff\":15},\"zerolinecolor\":\"white\",\"automargin\":true,\"zerolinewidth\":2},\"scene\":{\"xaxis\":{\"backgroundcolor\":\"#E5ECF6\",\"gridcolor\":\"white\",\"linecolor\":\"white\",\"showbackground\":true,\"ticks\":\"\",\"zerolinecolor\":\"white\",\"gridwidth\":2},\"yaxis\":{\"backgroundcolor\":\"#E5ECF6\",\"gridcolor\":\"white\",\"linecolor\":\"white\",\"showbackground\":true,\"ticks\":\"\",\"zerolinecolor\":\"white\",\"gridwidth\":2},\"zaxis\":{\"backgroundcolor\":\"#E5ECF6\",\"gridcolor\":\"white\",\"linecolor\":\"white\",\"showbackground\":true,\"ticks\":\"\",\"zerolinecolor\":\"white\",\"gridwidth\":2}},\"shapedefaults\":{\"line\":{\"color\":\"#2a3f5f\"}},\"annotationdefaults\":{\"arrowcolor\":\"#2a3f5f\",\"arrowhead\":0,\"arrowwidth\":1},\"geo\":{\"bgcolor\":\"white\",\"landcolor\":\"#E5ECF6\",\"subunitcolor\":\"white\",\"showland\":true,\"showlakes\":true,\"lakecolor\":\"white\"},\"title\":{\"x\":0.05},\"mapbox\":{\"style\":\"light\"}}},\"xaxis\":{\"anchor\":\"y\",\"domain\":[0.0,1.0],\"title\":{\"text\":\"MONTH_DIFFERENCE\"}},\"yaxis\":{\"anchor\":\"x\",\"domain\":[0.0,1.0],\"title\":{\"text\":\"PERCENTAGE_OF_TOTAL\"}},\"legend\":{\"title\":{\"text\":\"CUSTOMER_FIRST_ACTIVE_MONTH\"},\"tracegroupgap\":0},\"margin\":{\"t\":60}},                        {\"responsive\": true}                    ).then(function(){\n",
       "                            \n",
       "var gd = document.getElementById('3b13b9de-24eb-4bfc-bb7e-906330961137');\n",
       "var x = new MutationObserver(function (mutations, observer) {{\n",
       "        var display = window.getComputedStyle(gd).display;\n",
       "        if (!display || display === 'none') {{\n",
       "            console.log([gd, 'removed!']);\n",
       "            Plotly.purge(gd);\n",
       "            observer.disconnect();\n",
       "        }}\n",
       "}});\n",
       "\n",
       "// Listen for the removal of the full notebook cells\n",
       "var notebookContainer = gd.closest('#notebook-container');\n",
       "if (notebookContainer) {{\n",
       "    x.observe(notebookContainer, {childList: true});\n",
       "}}\n",
       "\n",
       "// Listen for the clearing of the current output cell\n",
       "var outputEl = gd.closest('.output');\n",
       "if (outputEl) {{\n",
       "    x.observe(outputEl, {childList: true});\n",
       "}}\n",
       "\n",
       "                        })                };                });            </script>        </div>"
      ]
     },
     "metadata": {},
     "output_type": "display_data"
    }
   ],
   "source": [
    "\n",
    "##Draw some retention curves for easy analysis across cohorts\n",
    "\n",
    "## Just show last year for cleaner retention curves \n",
    "month_grouping = month_grouping[month_grouping['CUSTOMER_FIRST_ACTIVE_MONTH'] >= '2023-08-01 00:00:00']\n",
    "fig = px.line(month_grouping, x=\"MONTH_DIFFERENCE\", y=\"CUSTOMER_ID\", color='CUSTOMER_FIRST_ACTIVE_MONTH')\n",
    "fig.show()\n",
    "\n",
    "\n",
    "month_grouping['PERCENTAGE_OF_TOTAL'] = month_grouping['CUSTOMER_ID'] / month_grouping.groupby('CUSTOMER_FIRST_ACTIVE_MONTH')['CUSTOMER_ID'].transform('max')\n",
    "fig = px.line(month_grouping, x=\"MONTH_DIFFERENCE\", y=\"PERCENTAGE_OF_TOTAL\", color='CUSTOMER_FIRST_ACTIVE_MONTH')\n",
    "fig.show()\n"
   ]
  },
  {
   "cell_type": "code",
   "execution_count": null,
   "id": "40ec03ed-05b6-40dc-a286-13b44b50939c",
   "metadata": {},
   "outputs": [],
   "source": []
  }
 ],
 "metadata": {
  "kernelspec": {
   "display_name": "Python 3 (ipykernel)",
   "language": "python",
   "name": "python3"
  },
  "language_info": {
   "codemirror_mode": {
    "name": "ipython",
    "version": 3
   },
   "file_extension": ".py",
   "mimetype": "text/x-python",
   "name": "python",
   "nbconvert_exporter": "python",
   "pygments_lexer": "ipython3",
   "version": "3.12.1"
  }
 },
 "nbformat": 4,
 "nbformat_minor": 5
}
